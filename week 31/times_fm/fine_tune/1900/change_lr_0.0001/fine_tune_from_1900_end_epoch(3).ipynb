{
  "cells": [
    {
      "cell_type": "code",
      "execution_count": 1,
      "metadata": {
        "colab": {
          "base_uri": "https://localhost:8080/",
          "height": 1000
        },
        "id": "Q9eCwB8v-hsQ",
        "outputId": "d7d8e1a3-2637-48e4-c353-027250e9ea58"
      },
      "outputs": [
        {
          "output_type": "stream",
          "name": "stdout",
          "text": [
            "Collecting git+https://github.com/google-research/timesfm\n",
            "  Cloning https://github.com/google-research/timesfm to /tmp/pip-req-build-4jqu4r_4\n",
            "  Running command git clone --filter=blob:none --quiet https://github.com/google-research/timesfm /tmp/pip-req-build-4jqu4r_4\n",
            "  Resolved https://github.com/google-research/timesfm to commit 16d84e9c43f7af0f8b26c8a17a99518e39050f01\n",
            "  Installing build dependencies ... \u001b[?25l\u001b[?25hdone\n",
            "  Getting requirements to build wheel ... \u001b[?25l\u001b[?25hdone\n",
            "  Preparing metadata (pyproject.toml) ... \u001b[?25l\u001b[?25hdone\n",
            "Collecting einshape>=1.0.0 (from timesfm==1.0.1)\n",
            "  Downloading einshape-1.0-py3-none-any.whl.metadata (706 bytes)\n",
            "Requirement already satisfied: huggingface_hub>=0.23.0 in /usr/local/lib/python3.10/dist-packages (from huggingface_hub[cli]>=0.23.0->timesfm==1.0.1) (0.24.6)\n",
            "Requirement already satisfied: jax>=0.4.26 in /usr/local/lib/python3.10/dist-packages (from jax[cuda12]>=0.4.26->timesfm==1.0.1) (0.4.26)\n",
            "Requirement already satisfied: jaxlib>=0.4.26 in /usr/local/lib/python3.10/dist-packages (from timesfm==1.0.1) (0.4.26+cuda12.cudnn89)\n",
            "Requirement already satisfied: numpy>=1.26.4 in /usr/local/lib/python3.10/dist-packages (from timesfm==1.0.1) (1.26.4)\n",
            "Requirement already satisfied: pandas>=2.1.4 in /usr/local/lib/python3.10/dist-packages (from timesfm==1.0.1) (2.1.4)\n",
            "Collecting paxml>=1.4.0 (from timesfm==1.0.1)\n",
            "  Downloading paxml-1.4.0-py3-none-any.whl.metadata (1.3 kB)\n",
            "Requirement already satisfied: scikit-learn>=1.2.2 in /usr/local/lib/python3.10/dist-packages (from timesfm==1.0.1) (1.3.2)\n",
            "Requirement already satisfied: typer>=0.12.3 in /usr/local/lib/python3.10/dist-packages (from timesfm==1.0.1) (0.12.5)\n",
            "Collecting utilsforecast>=0.1.10 (from timesfm==1.0.1)\n",
            "  Downloading utilsforecast-0.2.4-py3-none-any.whl.metadata (7.4 kB)\n",
            "Collecting wandb>=0.17.5 (from timesfm==1.0.1)\n",
            "  Downloading wandb-0.17.9-py3-none-manylinux_2_17_x86_64.manylinux2014_x86_64.whl.metadata (9.6 kB)\n",
            "Requirement already satisfied: absl-py in /usr/local/lib/python3.10/dist-packages (from einshape>=1.0.0->timesfm==1.0.1) (1.4.0)\n",
            "Requirement already satisfied: filelock in /usr/local/lib/python3.10/dist-packages (from huggingface_hub>=0.23.0->huggingface_hub[cli]>=0.23.0->timesfm==1.0.1) (3.15.4)\n",
            "Requirement already satisfied: fsspec>=2023.5.0 in /usr/local/lib/python3.10/dist-packages (from huggingface_hub>=0.23.0->huggingface_hub[cli]>=0.23.0->timesfm==1.0.1) (2024.6.1)\n",
            "Requirement already satisfied: packaging>=20.9 in /usr/local/lib/python3.10/dist-packages (from huggingface_hub>=0.23.0->huggingface_hub[cli]>=0.23.0->timesfm==1.0.1) (24.1)\n",
            "Requirement already satisfied: pyyaml>=5.1 in /usr/local/lib/python3.10/dist-packages (from huggingface_hub>=0.23.0->huggingface_hub[cli]>=0.23.0->timesfm==1.0.1) (6.0.2)\n",
            "Requirement already satisfied: requests in /usr/local/lib/python3.10/dist-packages (from huggingface_hub>=0.23.0->huggingface_hub[cli]>=0.23.0->timesfm==1.0.1) (2.32.3)\n",
            "Requirement already satisfied: tqdm>=4.42.1 in /usr/local/lib/python3.10/dist-packages (from huggingface_hub>=0.23.0->huggingface_hub[cli]>=0.23.0->timesfm==1.0.1) (4.66.5)\n",
            "Requirement already satisfied: typing-extensions>=3.7.4.3 in /usr/local/lib/python3.10/dist-packages (from huggingface_hub>=0.23.0->huggingface_hub[cli]>=0.23.0->timesfm==1.0.1) (4.12.2)\n",
            "Collecting InquirerPy==0.3.4 (from huggingface_hub[cli]>=0.23.0->timesfm==1.0.1)\n",
            "  Downloading InquirerPy-0.3.4-py3-none-any.whl.metadata (8.1 kB)\n",
            "Collecting pfzy<0.4.0,>=0.3.1 (from InquirerPy==0.3.4->huggingface_hub[cli]>=0.23.0->timesfm==1.0.1)\n",
            "  Downloading pfzy-0.3.4-py3-none-any.whl.metadata (4.9 kB)\n",
            "Requirement already satisfied: prompt-toolkit<4.0.0,>=3.0.1 in /usr/local/lib/python3.10/dist-packages (from InquirerPy==0.3.4->huggingface_hub[cli]>=0.23.0->timesfm==1.0.1) (3.0.47)\n",
            "Requirement already satisfied: ml-dtypes>=0.2.0 in /usr/local/lib/python3.10/dist-packages (from jax>=0.4.26->jax[cuda12]>=0.4.26->timesfm==1.0.1) (0.4.0)\n",
            "Requirement already satisfied: opt-einsum in /usr/local/lib/python3.10/dist-packages (from jax>=0.4.26->jax[cuda12]>=0.4.26->timesfm==1.0.1) (3.3.0)\n",
            "Requirement already satisfied: scipy>=1.9 in /usr/local/lib/python3.10/dist-packages (from jax>=0.4.26->jax[cuda12]>=0.4.26->timesfm==1.0.1) (1.13.1)\n",
            "Collecting jax-cuda12-plugin==0.4.26 (from jax[cuda12]>=0.4.26->timesfm==1.0.1)\n",
            "  Downloading jax_cuda12_plugin-0.4.26-cp310-cp310-manylinux2014_x86_64.whl.metadata (560 bytes)\n",
            "Collecting nvidia-cublas-cu12>=12.1.3.1 (from jax[cuda12]>=0.4.26->timesfm==1.0.1)\n",
            "  Downloading nvidia_cublas_cu12-12.6.1.4-py3-none-manylinux2014_x86_64.whl.metadata (1.5 kB)\n",
            "Collecting nvidia-cuda-cupti-cu12>=12.1.105 (from jax[cuda12]>=0.4.26->timesfm==1.0.1)\n",
            "  Downloading nvidia_cuda_cupti_cu12-12.6.68-py3-none-manylinux2014_x86_64.whl.metadata (1.6 kB)\n",
            "Collecting nvidia-cuda-nvcc-cu12>=12.1.105 (from jax[cuda12]>=0.4.26->timesfm==1.0.1)\n",
            "  Downloading nvidia_cuda_nvcc_cu12-12.6.68-py3-none-manylinux2014_x86_64.whl.metadata (1.5 kB)\n",
            "Collecting nvidia-cuda-runtime-cu12>=12.1.105 (from jax[cuda12]>=0.4.26->timesfm==1.0.1)\n",
            "  Downloading nvidia_cuda_runtime_cu12-12.6.68-py3-none-manylinux2014_x86_64.whl.metadata (1.5 kB)\n",
            "Collecting nvidia-cudnn-cu12<9.0,>=8.9.2.26 (from jax[cuda12]>=0.4.26->timesfm==1.0.1)\n",
            "  Downloading nvidia_cudnn_cu12-8.9.7.29-py3-none-manylinux1_x86_64.whl.metadata (1.6 kB)\n",
            "Collecting nvidia-cufft-cu12>=11.0.2.54 (from jax[cuda12]>=0.4.26->timesfm==1.0.1)\n",
            "  Downloading nvidia_cufft_cu12-11.2.6.59-py3-none-manylinux2014_x86_64.whl.metadata (1.5 kB)\n",
            "Collecting nvidia-cusolver-cu12>=11.4.5.107 (from jax[cuda12]>=0.4.26->timesfm==1.0.1)\n",
            "  Downloading nvidia_cusolver_cu12-11.6.4.69-py3-none-manylinux2014_x86_64.whl.metadata (1.6 kB)\n",
            "Collecting nvidia-cusparse-cu12>=12.1.0.106 (from jax[cuda12]>=0.4.26->timesfm==1.0.1)\n",
            "  Downloading nvidia_cusparse_cu12-12.5.3.3-py3-none-manylinux2014_x86_64.whl.metadata (1.6 kB)\n",
            "Requirement already satisfied: nvidia-nccl-cu12>=2.18.1 in /usr/local/lib/python3.10/dist-packages (from jax[cuda12]>=0.4.26->timesfm==1.0.1) (2.22.3)\n",
            "Collecting nvidia-nvjitlink-cu12>=12.1.105 (from jax[cuda12]>=0.4.26->timesfm==1.0.1)\n",
            "  Downloading nvidia_nvjitlink_cu12-12.6.68-py3-none-manylinux2014_x86_64.whl.metadata (1.5 kB)\n",
            "Collecting jax-cuda12-pjrt==0.4.26 (from jax-cuda12-plugin==0.4.26->jax[cuda12]>=0.4.26->timesfm==1.0.1)\n",
            "  Downloading jax_cuda12_pjrt-0.4.26-py3-none-manylinux2014_x86_64.whl.metadata (349 bytes)\n",
            "Requirement already satisfied: python-dateutil>=2.8.2 in /usr/local/lib/python3.10/dist-packages (from pandas>=2.1.4->timesfm==1.0.1) (2.8.2)\n",
            "Requirement already satisfied: pytz>=2020.1 in /usr/local/lib/python3.10/dist-packages (from pandas>=2.1.4->timesfm==1.0.1) (2024.1)\n",
            "Requirement already satisfied: tzdata>=2022.1 in /usr/local/lib/python3.10/dist-packages (from pandas>=2.1.4->timesfm==1.0.1) (2024.1)\n",
            "Collecting clu==0.0.11 (from paxml>=1.4.0->timesfm==1.0.1)\n",
            "  Downloading clu-0.0.11-py3-none-any.whl.metadata (1.9 kB)\n",
            "Requirement already satisfied: etils==1.7.0 in /usr/local/lib/python3.10/dist-packages (from paxml>=1.4.0->timesfm==1.0.1) (1.7.0)\n",
            "Collecting flax==0.8.2 (from paxml>=1.4.0->timesfm==1.0.1)\n",
            "  Downloading flax-0.8.2-py3-none-any.whl.metadata (10 kB)\n",
            "Collecting graphviz==0.20.1 (from paxml>=1.4.0->timesfm==1.0.1)\n",
            "  Downloading graphviz-0.20.1-py3-none-any.whl.metadata (12 kB)\n",
            "Collecting lingvo==0.12.7 (from paxml>=1.4.0->timesfm==1.0.1)\n",
            "  Downloading lingvo-0.12.7-cp310-cp310-manylinux_2_17_x86_64.manylinux2014_x86_64.whl.metadata (1.5 kB)\n",
            "Collecting orbax-checkpoint==0.5.9 (from paxml>=1.4.0->timesfm==1.0.1)\n",
            "  Downloading orbax_checkpoint-0.5.9-py3-none-any.whl.metadata (1.7 kB)\n",
            "Collecting praxis==1.4.0 (from paxml>=1.4.0->timesfm==1.0.1)\n",
            "  Downloading praxis-1.4.0-py3-none-any.whl.metadata (1.2 kB)\n",
            "Collecting protobuf==3.19.6 (from paxml>=1.4.0->timesfm==1.0.1)\n",
            "  Downloading protobuf-3.19.6-cp310-cp310-manylinux_2_17_x86_64.manylinux2014_x86_64.whl.metadata (787 bytes)\n",
            "Collecting pyglove==0.4.4 (from paxml>=1.4.0->timesfm==1.0.1)\n",
            "  Downloading pyglove-0.4.4-py3-none-any.whl.metadata (6.7 kB)\n",
            "Collecting seqio-nightly==0.0.17.dev20231010 (from paxml>=1.4.0->timesfm==1.0.1)\n",
            "  Downloading seqio_nightly-0.0.17.dev20231010-py3-none-any.whl.metadata (51 kB)\n",
            "\u001b[2K     \u001b[90m━━━━━━━━━━━━━━━━━━━━━━━━━━━━━━━━━━━━━━━━\u001b[0m \u001b[32m51.9/51.9 kB\u001b[0m \u001b[31m1.9 MB/s\u001b[0m eta \u001b[36m0:00:00\u001b[0m\n",
            "\u001b[?25hCollecting t5==0.9.4 (from paxml>=1.4.0->timesfm==1.0.1)\n",
            "  Downloading t5-0.9.4-py2.py3-none-any.whl.metadata (25 kB)\n",
            "Collecting tensorflow-datasets==4.8.3 (from paxml>=1.4.0->timesfm==1.0.1)\n",
            "  Downloading tensorflow_datasets-4.8.3-py3-none-any.whl.metadata (8.9 kB)\n",
            "Collecting tensorflow-metadata==1.12.0 (from paxml>=1.4.0->timesfm==1.0.1)\n",
            "  Downloading tensorflow_metadata-1.12.0-py3-none-any.whl.metadata (2.2 kB)\n",
            "Collecting tensorflow-text~=2.9.0 (from paxml>=1.4.0->timesfm==1.0.1)\n",
            "  Downloading tensorflow_text-2.9.0-cp310-cp310-manylinux_2_17_x86_64.manylinux2014_x86_64.whl.metadata (2.0 kB)\n",
            "Collecting tensorflow~=2.9.2 (from paxml>=1.4.0->timesfm==1.0.1)\n",
            "  Downloading tensorflow-2.9.3-cp310-cp310-manylinux_2_17_x86_64.manylinux2014_x86_64.whl.metadata (3.0 kB)\n",
            "Collecting tensorstore==0.1.55 (from paxml>=1.4.0->timesfm==1.0.1)\n",
            "  Downloading tensorstore-0.1.55-cp310-cp310-manylinux_2_17_x86_64.manylinux2014_x86_64.whl.metadata (3.0 kB)\n",
            "Collecting tfds-nightly==4.8.3.dev202303280045 (from paxml>=1.4.0->timesfm==1.0.1)\n",
            "  Downloading tfds_nightly-4.8.3.dev202303280045-py3-none-any.whl.metadata (9.0 kB)\n",
            "Collecting ml-collections (from clu==0.0.11->paxml>=1.4.0->timesfm==1.0.1)\n",
            "  Downloading ml_collections-0.1.1.tar.gz (77 kB)\n",
            "\u001b[2K     \u001b[90m━━━━━━━━━━━━━━━━━━━━━━━━━━━━━━━━━━━━━━━━\u001b[0m \u001b[32m77.9/77.9 kB\u001b[0m \u001b[31m6.3 MB/s\u001b[0m eta \u001b[36m0:00:00\u001b[0m\n",
            "\u001b[?25h  Preparing metadata (setup.py) ... \u001b[?25l\u001b[?25hdone\n",
            "Requirement already satisfied: wrapt in /usr/local/lib/python3.10/dist-packages (from clu==0.0.11->paxml>=1.4.0->timesfm==1.0.1) (1.16.0)\n",
            "Requirement already satisfied: msgpack in /usr/local/lib/python3.10/dist-packages (from flax==0.8.2->paxml>=1.4.0->timesfm==1.0.1) (1.0.8)\n",
            "Requirement already satisfied: optax in /usr/local/lib/python3.10/dist-packages (from flax==0.8.2->paxml>=1.4.0->timesfm==1.0.1) (0.2.2)\n",
            "Requirement already satisfied: rich>=11.1 in /usr/local/lib/python3.10/dist-packages (from flax==0.8.2->paxml>=1.4.0->timesfm==1.0.1) (13.8.0)\n",
            "Requirement already satisfied: attrs in /usr/local/lib/python3.10/dist-packages (from lingvo==0.12.7->paxml>=1.4.0->timesfm==1.0.1) (24.2.0)\n",
            "Collecting graph-compression-google-research (from lingvo==0.12.7->paxml>=1.4.0->timesfm==1.0.1)\n",
            "  Downloading graph_compression_google_research-0.0.4-py3-none-any.whl.metadata (8.5 kB)\n",
            "Requirement already satisfied: ipykernel in /usr/local/lib/python3.10/dist-packages (from lingvo==0.12.7->paxml>=1.4.0->timesfm==1.0.1) (5.5.6)\n",
            "Collecting jupyter-http-over-ws (from lingvo==0.12.7->paxml>=1.4.0->timesfm==1.0.1)\n",
            "  Downloading jupyter_http_over_ws-0.0.8-py2.py3-none-any.whl.metadata (1.1 kB)\n",
            "Collecting jupyter (from lingvo==0.12.7->paxml>=1.4.0->timesfm==1.0.1)\n",
            "  Downloading jupyter-1.1.1-py2.py3-none-any.whl.metadata (2.0 kB)\n",
            "Requirement already satisfied: matplotlib in /usr/local/lib/python3.10/dist-packages (from lingvo==0.12.7->paxml>=1.4.0->timesfm==1.0.1) (3.7.1)\n",
            "Collecting model-pruning-google-research (from lingvo==0.12.7->paxml>=1.4.0->timesfm==1.0.1)\n",
            "  Downloading model_pruning_google_research-0.0.5-py3-none-any.whl.metadata (627 bytes)\n",
            "Requirement already satisfied: Pillow in /usr/local/lib/python3.10/dist-packages (from lingvo==0.12.7->paxml>=1.4.0->timesfm==1.0.1) (9.4.0)\n",
            "Requirement already satisfied: sentencepiece in /usr/local/lib/python3.10/dist-packages (from lingvo==0.12.7->paxml>=1.4.0->timesfm==1.0.1) (0.1.99)\n",
            "Requirement already satisfied: sympy in /usr/local/lib/python3.10/dist-packages (from lingvo==0.12.7->paxml>=1.4.0->timesfm==1.0.1) (1.13.2)\n",
            "Requirement already satisfied: tensorflow-hub in /usr/local/lib/python3.10/dist-packages (from lingvo==0.12.7->paxml>=1.4.0->timesfm==1.0.1) (0.16.1)\n",
            "Requirement already satisfied: nest_asyncio in /usr/local/lib/python3.10/dist-packages (from orbax-checkpoint==0.5.9->paxml>=1.4.0->timesfm==1.0.1) (1.6.0)\n",
            "Requirement already satisfied: chex>=0.1.85 in /usr/local/lib/python3.10/dist-packages (from praxis==1.4.0->paxml>=1.4.0->timesfm==1.0.1) (0.1.86)\n",
            "Collecting einops==0.7.0 (from praxis==1.4.0->paxml>=1.4.0->timesfm==1.0.1)\n",
            "  Downloading einops-0.7.0-py3-none-any.whl.metadata (13 kB)\n",
            "Collecting fiddle==0.3.0 (from praxis==1.4.0->paxml>=1.4.0->timesfm==1.0.1)\n",
            "  Downloading fiddle-0.3.0-py3-none-any.whl.metadata (2.3 kB)\n",
            "Collecting jax-bitempered-loss==0.0.2 (from praxis==1.4.0->paxml>=1.4.0->timesfm==1.0.1)\n",
            "  Downloading jax_bitempered_loss-0.0.2-py3-none-any.whl.metadata (4.0 kB)\n",
            "Collecting jaxtyping==0.2.28 (from praxis==1.4.0->paxml>=1.4.0->timesfm==1.0.1)\n",
            "  Downloading jaxtyping-0.2.28-py3-none-any.whl.metadata (6.4 kB)\n",
            "Collecting optax-shampoo==0.0.6 (from praxis==1.4.0->paxml>=1.4.0->timesfm==1.0.1)\n",
            "  Downloading optax_shampoo-0.0.6-py3-none-any.whl.metadata (1.4 kB)\n",
            "Collecting typeguard==2.13.3 (from praxis==1.4.0->paxml>=1.4.0->timesfm==1.0.1)\n",
            "  Downloading typeguard-2.13.3-py3-none-any.whl.metadata (3.6 kB)\n",
            "Requirement already satisfied: docstring-parser>=0.12 in /usr/local/lib/python3.10/dist-packages (from pyglove==0.4.4->paxml>=1.4.0->timesfm==1.0.1) (0.16)\n",
            "Requirement already satisfied: editdistance in /usr/local/lib/python3.10/dist-packages (from seqio-nightly==0.0.17.dev20231010->paxml>=1.4.0->timesfm==1.0.1) (0.8.1)\n",
            "Requirement already satisfied: babel in /usr/local/lib/python3.10/dist-packages (from t5==0.9.4->paxml>=1.4.0->timesfm==1.0.1) (2.16.0)\n",
            "Requirement already satisfied: immutabledict in /usr/local/lib/python3.10/dist-packages (from t5==0.9.4->paxml>=1.4.0->timesfm==1.0.1) (4.2.0)\n",
            "Requirement already satisfied: gin-config in /usr/local/lib/python3.10/dist-packages (from t5==0.9.4->paxml>=1.4.0->timesfm==1.0.1) (0.5.0)\n",
            "Collecting mesh-tensorflow>=0.1.13 (from mesh-tensorflow[transformer]>=0.1.13->t5==0.9.4->paxml>=1.4.0->timesfm==1.0.1)\n",
            "  Downloading mesh_tensorflow-0.1.21-py3-none-any.whl.metadata (1.0 kB)\n",
            "Requirement already satisfied: nltk in /usr/local/lib/python3.10/dist-packages (from t5==0.9.4->paxml>=1.4.0->timesfm==1.0.1) (3.8.1)\n",
            "Collecting rouge-score>=0.1.2 (from t5==0.9.4->paxml>=1.4.0->timesfm==1.0.1)\n",
            "  Downloading rouge_score-0.1.2.tar.gz (17 kB)\n",
            "  Preparing metadata (setup.py) ... \u001b[?25l\u001b[?25hdone\n",
            "Collecting sacrebleu (from t5==0.9.4->paxml>=1.4.0->timesfm==1.0.1)\n",
            "  Downloading sacrebleu-2.4.3-py3-none-any.whl.metadata (51 kB)\n",
            "\u001b[2K     \u001b[90m━━━━━━━━━━━━━━━━━━━━━━━━━━━━━━━━━━━━━━━━\u001b[0m \u001b[32m51.8/51.8 kB\u001b[0m \u001b[31m4.4 MB/s\u001b[0m eta \u001b[36m0:00:00\u001b[0m\n",
            "\u001b[?25hRequirement already satisfied: six>=1.14 in /usr/local/lib/python3.10/dist-packages (from t5==0.9.4->paxml>=1.4.0->timesfm==1.0.1) (1.16.0)\n",
            "Requirement already satisfied: transformers>=2.7.0 in /usr/local/lib/python3.10/dist-packages (from t5==0.9.4->paxml>=1.4.0->timesfm==1.0.1) (4.44.2)\n",
            "Requirement already satisfied: click in /usr/local/lib/python3.10/dist-packages (from tensorflow-datasets==4.8.3->paxml>=1.4.0->timesfm==1.0.1) (8.1.7)\n",
            "Requirement already satisfied: dm-tree in /usr/local/lib/python3.10/dist-packages (from tensorflow-datasets==4.8.3->paxml>=1.4.0->timesfm==1.0.1) (0.1.8)\n",
            "Requirement already satisfied: promise in /usr/local/lib/python3.10/dist-packages (from tensorflow-datasets==4.8.3->paxml>=1.4.0->timesfm==1.0.1) (2.3)\n",
            "Requirement already satisfied: psutil in /usr/local/lib/python3.10/dist-packages (from tensorflow-datasets==4.8.3->paxml>=1.4.0->timesfm==1.0.1) (5.9.5)\n",
            "Requirement already satisfied: termcolor in /usr/local/lib/python3.10/dist-packages (from tensorflow-datasets==4.8.3->paxml>=1.4.0->timesfm==1.0.1) (2.4.0)\n",
            "Requirement already satisfied: toml in /usr/local/lib/python3.10/dist-packages (from tensorflow-datasets==4.8.3->paxml>=1.4.0->timesfm==1.0.1) (0.10.2)\n",
            "Requirement already satisfied: googleapis-common-protos<2,>=1.52.0 in /usr/local/lib/python3.10/dist-packages (from tensorflow-metadata==1.12.0->paxml>=1.4.0->timesfm==1.0.1) (1.65.0)\n",
            "Requirement already satisfied: array-record in /usr/local/lib/python3.10/dist-packages (from tfds-nightly==4.8.3.dev202303280045->paxml>=1.4.0->timesfm==1.0.1) (0.5.1)\n",
            "Collecting libcst (from fiddle==0.3.0->praxis==1.4.0->paxml>=1.4.0->timesfm==1.0.1)\n",
            "  Downloading libcst-1.4.0-cp310-cp310-manylinux_2_17_x86_64.manylinux2014_x86_64.whl.metadata (17 kB)\n",
            "Requirement already satisfied: joblib>=1.1.1 in /usr/local/lib/python3.10/dist-packages (from scikit-learn>=1.2.2->timesfm==1.0.1) (1.4.2)\n",
            "Requirement already satisfied: threadpoolctl>=2.0.0 in /usr/local/lib/python3.10/dist-packages (from scikit-learn>=1.2.2->timesfm==1.0.1) (3.5.0)\n",
            "Requirement already satisfied: shellingham>=1.3.0 in /usr/local/lib/python3.10/dist-packages (from typer>=0.12.3->timesfm==1.0.1) (1.5.4)\n",
            "Collecting docker-pycreds>=0.4.0 (from wandb>=0.17.5->timesfm==1.0.1)\n",
            "  Downloading docker_pycreds-0.4.0-py2.py3-none-any.whl.metadata (1.8 kB)\n",
            "Collecting gitpython!=3.1.29,>=1.0.0 (from wandb>=0.17.5->timesfm==1.0.1)\n",
            "  Downloading GitPython-3.1.43-py3-none-any.whl.metadata (13 kB)\n",
            "Requirement already satisfied: platformdirs in /usr/local/lib/python3.10/dist-packages (from wandb>=0.17.5->timesfm==1.0.1) (4.2.2)\n",
            "Collecting sentry-sdk>=1.0.0 (from wandb>=0.17.5->timesfm==1.0.1)\n",
            "  Downloading sentry_sdk-2.13.0-py2.py3-none-any.whl.metadata (9.7 kB)\n",
            "Collecting setproctitle (from wandb>=0.17.5->timesfm==1.0.1)\n",
            "  Downloading setproctitle-1.3.3-cp310-cp310-manylinux_2_5_x86_64.manylinux1_x86_64.manylinux_2_17_x86_64.manylinux2014_x86_64.whl.metadata (9.9 kB)\n",
            "Requirement already satisfied: setuptools in /usr/local/lib/python3.10/dist-packages (from wandb>=0.17.5->timesfm==1.0.1) (71.0.4)\n",
            "Collecting gitdb<5,>=4.0.1 (from gitpython!=3.1.29,>=1.0.0->wandb>=0.17.5->timesfm==1.0.1)\n",
            "  Downloading gitdb-4.0.11-py3-none-any.whl.metadata (1.2 kB)\n",
            "Collecting nvidia-cuda-nvrtc-cu12 (from nvidia-cudnn-cu12<9.0,>=8.9.2.26->jax[cuda12]>=0.4.26->timesfm==1.0.1)\n",
            "  Downloading nvidia_cuda_nvrtc_cu12-12.6.68-py3-none-manylinux2014_x86_64.whl.metadata (1.5 kB)\n",
            "Requirement already satisfied: charset-normalizer<4,>=2 in /usr/local/lib/python3.10/dist-packages (from requests->huggingface_hub>=0.23.0->huggingface_hub[cli]>=0.23.0->timesfm==1.0.1) (3.3.2)\n",
            "Requirement already satisfied: idna<4,>=2.5 in /usr/local/lib/python3.10/dist-packages (from requests->huggingface_hub>=0.23.0->huggingface_hub[cli]>=0.23.0->timesfm==1.0.1) (3.8)\n",
            "Requirement already satisfied: urllib3<3,>=1.21.1 in /usr/local/lib/python3.10/dist-packages (from requests->huggingface_hub>=0.23.0->huggingface_hub[cli]>=0.23.0->timesfm==1.0.1) (2.0.7)\n",
            "Requirement already satisfied: certifi>=2017.4.17 in /usr/local/lib/python3.10/dist-packages (from requests->huggingface_hub>=0.23.0->huggingface_hub[cli]>=0.23.0->timesfm==1.0.1) (2024.8.30)\n",
            "Requirement already satisfied: markdown-it-py>=2.2.0 in /usr/local/lib/python3.10/dist-packages (from rich>=11.1->flax==0.8.2->paxml>=1.4.0->timesfm==1.0.1) (3.0.0)\n",
            "Requirement already satisfied: pygments<3.0.0,>=2.13.0 in /usr/local/lib/python3.10/dist-packages (from rich>=11.1->flax==0.8.2->paxml>=1.4.0->timesfm==1.0.1) (2.16.1)\n",
            "Requirement already satisfied: astunparse>=1.6.0 in /usr/local/lib/python3.10/dist-packages (from tensorflow~=2.9.2->paxml>=1.4.0->timesfm==1.0.1) (1.6.3)\n",
            "Collecting flatbuffers<2,>=1.12 (from tensorflow~=2.9.2->paxml>=1.4.0->timesfm==1.0.1)\n",
            "  Downloading flatbuffers-1.12-py2.py3-none-any.whl.metadata (872 bytes)\n",
            "Collecting gast<=0.4.0,>=0.2.1 (from tensorflow~=2.9.2->paxml>=1.4.0->timesfm==1.0.1)\n",
            "  Downloading gast-0.4.0-py3-none-any.whl.metadata (1.1 kB)\n",
            "Requirement already satisfied: google-pasta>=0.1.1 in /usr/local/lib/python3.10/dist-packages (from tensorflow~=2.9.2->paxml>=1.4.0->timesfm==1.0.1) (0.2.0)\n",
            "Requirement already satisfied: grpcio<2.0,>=1.24.3 in /usr/local/lib/python3.10/dist-packages (from tensorflow~=2.9.2->paxml>=1.4.0->timesfm==1.0.1) (1.64.1)\n",
            "Requirement already satisfied: h5py>=2.9.0 in /usr/local/lib/python3.10/dist-packages (from tensorflow~=2.9.2->paxml>=1.4.0->timesfm==1.0.1) (3.11.0)\n",
            "Collecting keras<2.10.0,>=2.9.0rc0 (from tensorflow~=2.9.2->paxml>=1.4.0->timesfm==1.0.1)\n",
            "  Downloading keras-2.9.0-py2.py3-none-any.whl.metadata (1.3 kB)\n",
            "Collecting keras-preprocessing>=1.1.1 (from tensorflow~=2.9.2->paxml>=1.4.0->timesfm==1.0.1)\n",
            "  Downloading Keras_Preprocessing-1.1.2-py2.py3-none-any.whl.metadata (1.9 kB)\n",
            "Requirement already satisfied: libclang>=13.0.0 in /usr/local/lib/python3.10/dist-packages (from tensorflow~=2.9.2->paxml>=1.4.0->timesfm==1.0.1) (18.1.1)\n",
            "Collecting tensorboard<2.10,>=2.9 (from tensorflow~=2.9.2->paxml>=1.4.0->timesfm==1.0.1)\n",
            "  Downloading tensorboard-2.9.1-py3-none-any.whl.metadata (1.9 kB)\n",
            "Requirement already satisfied: tensorflow-io-gcs-filesystem>=0.23.1 in /usr/local/lib/python3.10/dist-packages (from tensorflow~=2.9.2->paxml>=1.4.0->timesfm==1.0.1) (0.37.1)\n",
            "Collecting tensorflow-estimator<2.10.0,>=2.9.0rc0 (from tensorflow~=2.9.2->paxml>=1.4.0->timesfm==1.0.1)\n",
            "  Downloading tensorflow_estimator-2.9.0-py2.py3-none-any.whl.metadata (1.3 kB)\n",
            "Requirement already satisfied: wheel<1.0,>=0.23.0 in /usr/local/lib/python3.10/dist-packages (from astunparse>=1.6.0->tensorflow~=2.9.2->paxml>=1.4.0->timesfm==1.0.1) (0.44.0)\n",
            "Requirement already satisfied: toolz>=0.9.0 in /usr/local/lib/python3.10/dist-packages (from chex>=0.1.85->praxis==1.4.0->paxml>=1.4.0->timesfm==1.0.1) (0.12.1)\n",
            "Requirement already satisfied: importlib_resources in /usr/local/lib/python3.10/dist-packages (from etils[enp,epath]>=0.9.0->tensorflow-datasets==4.8.3->paxml>=1.4.0->timesfm==1.0.1) (6.4.4)\n",
            "Requirement already satisfied: zipp in /usr/local/lib/python3.10/dist-packages (from etils[enp,epath]>=0.9.0->tensorflow-datasets==4.8.3->paxml>=1.4.0->timesfm==1.0.1) (3.20.1)\n",
            "Collecting smmap<6,>=3.0.1 (from gitdb<5,>=4.0.1->gitpython!=3.1.29,>=1.0.0->wandb>=0.17.5->timesfm==1.0.1)\n",
            "  Downloading smmap-5.0.1-py3-none-any.whl.metadata (4.3 kB)\n",
            "INFO: pip is looking at multiple versions of googleapis-common-protos to determine which version is compatible with other requirements. This could take a while.\n",
            "Collecting googleapis-common-protos<2,>=1.52.0 (from tensorflow-metadata==1.12.0->paxml>=1.4.0->timesfm==1.0.1)\n",
            "  Downloading googleapis_common_protos-1.64.0-py2.py3-none-any.whl.metadata (1.5 kB)\n",
            "  Downloading googleapis_common_protos-1.63.2-py2.py3-none-any.whl.metadata (1.5 kB)\n",
            "  Downloading googleapis_common_protos-1.63.1-py2.py3-none-any.whl.metadata (1.5 kB)\n",
            "Requirement already satisfied: mdurl~=0.1 in /usr/local/lib/python3.10/dist-packages (from markdown-it-py>=2.2.0->rich>=11.1->flax==0.8.2->paxml>=1.4.0->timesfm==1.0.1) (0.1.2)\n",
            "Requirement already satisfied: future in /usr/local/lib/python3.10/dist-packages (from mesh-tensorflow>=0.1.13->mesh-tensorflow[transformer]>=0.1.13->t5==0.9.4->paxml>=1.4.0->timesfm==1.0.1) (1.0.0)\n",
            "Requirement already satisfied: wcwidth in /usr/local/lib/python3.10/dist-packages (from prompt-toolkit<4.0.0,>=3.0.1->InquirerPy==0.3.4->huggingface_hub[cli]>=0.23.0->timesfm==1.0.1) (0.2.13)\n",
            "Requirement already satisfied: google-auth<3,>=1.6.3 in /usr/local/lib/python3.10/dist-packages (from tensorboard<2.10,>=2.9->tensorflow~=2.9.2->paxml>=1.4.0->timesfm==1.0.1) (2.27.0)\n",
            "Collecting google-auth-oauthlib<0.5,>=0.4.1 (from tensorboard<2.10,>=2.9->tensorflow~=2.9.2->paxml>=1.4.0->timesfm==1.0.1)\n",
            "  Downloading google_auth_oauthlib-0.4.6-py2.py3-none-any.whl.metadata (2.7 kB)\n",
            "Requirement already satisfied: markdown>=2.6.8 in /usr/local/lib/python3.10/dist-packages (from tensorboard<2.10,>=2.9->tensorflow~=2.9.2->paxml>=1.4.0->timesfm==1.0.1) (3.7)\n",
            "Collecting tensorboard-data-server<0.7.0,>=0.6.0 (from tensorboard<2.10,>=2.9->tensorflow~=2.9.2->paxml>=1.4.0->timesfm==1.0.1)\n",
            "  Downloading tensorboard_data_server-0.6.1-py3-none-manylinux2010_x86_64.whl.metadata (1.1 kB)\n",
            "Collecting tensorboard-plugin-wit>=1.6.0 (from tensorboard<2.10,>=2.9->tensorflow~=2.9.2->paxml>=1.4.0->timesfm==1.0.1)\n",
            "  Downloading tensorboard_plugin_wit-1.8.1-py3-none-any.whl.metadata (873 bytes)\n",
            "Requirement already satisfied: werkzeug>=1.0.1 in /usr/local/lib/python3.10/dist-packages (from tensorboard<2.10,>=2.9->tensorflow~=2.9.2->paxml>=1.4.0->timesfm==1.0.1) (3.0.4)\n",
            "Requirement already satisfied: tf-keras>=2.14.1 in /usr/local/lib/python3.10/dist-packages (from tensorflow-hub->lingvo==0.12.7->paxml>=1.4.0->timesfm==1.0.1) (2.17.0)\n",
            "Requirement already satisfied: regex!=2019.12.17 in /usr/local/lib/python3.10/dist-packages (from transformers>=2.7.0->t5==0.9.4->paxml>=1.4.0->timesfm==1.0.1) (2024.5.15)\n",
            "Requirement already satisfied: safetensors>=0.4.1 in /usr/local/lib/python3.10/dist-packages (from transformers>=2.7.0->t5==0.9.4->paxml>=1.4.0->timesfm==1.0.1) (0.4.4)\n",
            "Requirement already satisfied: tokenizers<0.20,>=0.19 in /usr/local/lib/python3.10/dist-packages (from transformers>=2.7.0->t5==0.9.4->paxml>=1.4.0->timesfm==1.0.1) (0.19.1)\n",
            "Requirement already satisfied: ipython-genutils in /usr/local/lib/python3.10/dist-packages (from ipykernel->lingvo==0.12.7->paxml>=1.4.0->timesfm==1.0.1) (0.2.0)\n",
            "Requirement already satisfied: ipython>=5.0.0 in /usr/local/lib/python3.10/dist-packages (from ipykernel->lingvo==0.12.7->paxml>=1.4.0->timesfm==1.0.1) (7.34.0)\n",
            "Requirement already satisfied: traitlets>=4.1.0 in /usr/local/lib/python3.10/dist-packages (from ipykernel->lingvo==0.12.7->paxml>=1.4.0->timesfm==1.0.1) (5.7.1)\n",
            "Requirement already satisfied: jupyter-client in /usr/local/lib/python3.10/dist-packages (from ipykernel->lingvo==0.12.7->paxml>=1.4.0->timesfm==1.0.1) (6.1.12)\n",
            "Requirement already satisfied: tornado>=4.2 in /usr/local/lib/python3.10/dist-packages (from ipykernel->lingvo==0.12.7->paxml>=1.4.0->timesfm==1.0.1) (6.3.3)\n",
            "Requirement already satisfied: notebook in /usr/local/lib/python3.10/dist-packages (from jupyter->lingvo==0.12.7->paxml>=1.4.0->timesfm==1.0.1) (6.5.5)\n",
            "Requirement already satisfied: jupyter-console in /usr/local/lib/python3.10/dist-packages (from jupyter->lingvo==0.12.7->paxml>=1.4.0->timesfm==1.0.1) (6.1.0)\n",
            "Requirement already satisfied: nbconvert in /usr/local/lib/python3.10/dist-packages (from jupyter->lingvo==0.12.7->paxml>=1.4.0->timesfm==1.0.1) (6.5.4)\n",
            "Requirement already satisfied: ipywidgets in /usr/local/lib/python3.10/dist-packages (from jupyter->lingvo==0.12.7->paxml>=1.4.0->timesfm==1.0.1) (7.7.1)\n",
            "Collecting jupyterlab (from jupyter->lingvo==0.12.7->paxml>=1.4.0->timesfm==1.0.1)\n",
            "  Downloading jupyterlab-4.2.5-py3-none-any.whl.metadata (16 kB)\n",
            "Requirement already satisfied: contourpy>=1.0.1 in /usr/local/lib/python3.10/dist-packages (from matplotlib->lingvo==0.12.7->paxml>=1.4.0->timesfm==1.0.1) (1.3.0)\n",
            "Requirement already satisfied: cycler>=0.10 in /usr/local/lib/python3.10/dist-packages (from matplotlib->lingvo==0.12.7->paxml>=1.4.0->timesfm==1.0.1) (0.12.1)\n",
            "Requirement already satisfied: fonttools>=4.22.0 in /usr/local/lib/python3.10/dist-packages (from matplotlib->lingvo==0.12.7->paxml>=1.4.0->timesfm==1.0.1) (4.53.1)\n",
            "Requirement already satisfied: kiwisolver>=1.0.1 in /usr/local/lib/python3.10/dist-packages (from matplotlib->lingvo==0.12.7->paxml>=1.4.0->timesfm==1.0.1) (1.4.5)\n",
            "Requirement already satisfied: pyparsing>=2.3.1 in /usr/local/lib/python3.10/dist-packages (from matplotlib->lingvo==0.12.7->paxml>=1.4.0->timesfm==1.0.1) (3.1.4)\n",
            "Requirement already satisfied: contextlib2 in /usr/local/lib/python3.10/dist-packages (from ml-collections->clu==0.0.11->paxml>=1.4.0->timesfm==1.0.1) (21.6.0)\n",
            "Collecting portalocker (from sacrebleu->t5==0.9.4->paxml>=1.4.0->timesfm==1.0.1)\n",
            "  Downloading portalocker-2.10.1-py3-none-any.whl.metadata (8.5 kB)\n",
            "Requirement already satisfied: tabulate>=0.8.9 in /usr/local/lib/python3.10/dist-packages (from sacrebleu->t5==0.9.4->paxml>=1.4.0->timesfm==1.0.1) (0.9.0)\n",
            "Collecting colorama (from sacrebleu->t5==0.9.4->paxml>=1.4.0->timesfm==1.0.1)\n",
            "  Downloading colorama-0.4.6-py2.py3-none-any.whl.metadata (17 kB)\n",
            "Requirement already satisfied: lxml in /usr/local/lib/python3.10/dist-packages (from sacrebleu->t5==0.9.4->paxml>=1.4.0->timesfm==1.0.1) (4.9.4)\n",
            "Requirement already satisfied: mpmath<1.4,>=1.1.0 in /usr/local/lib/python3.10/dist-packages (from sympy->lingvo==0.12.7->paxml>=1.4.0->timesfm==1.0.1) (1.3.0)\n",
            "Requirement already satisfied: cachetools<6.0,>=2.0.0 in /usr/local/lib/python3.10/dist-packages (from google-auth<3,>=1.6.3->tensorboard<2.10,>=2.9->tensorflow~=2.9.2->paxml>=1.4.0->timesfm==1.0.1) (5.5.0)\n",
            "Requirement already satisfied: pyasn1-modules>=0.2.1 in /usr/local/lib/python3.10/dist-packages (from google-auth<3,>=1.6.3->tensorboard<2.10,>=2.9->tensorflow~=2.9.2->paxml>=1.4.0->timesfm==1.0.1) (0.4.0)\n",
            "Requirement already satisfied: rsa<5,>=3.1.4 in /usr/local/lib/python3.10/dist-packages (from google-auth<3,>=1.6.3->tensorboard<2.10,>=2.9->tensorflow~=2.9.2->paxml>=1.4.0->timesfm==1.0.1) (4.9)\n",
            "Requirement already satisfied: requests-oauthlib>=0.7.0 in /usr/local/lib/python3.10/dist-packages (from google-auth-oauthlib<0.5,>=0.4.1->tensorboard<2.10,>=2.9->tensorflow~=2.9.2->paxml>=1.4.0->timesfm==1.0.1) (1.3.1)\n",
            "Collecting jedi>=0.16 (from ipython>=5.0.0->ipykernel->lingvo==0.12.7->paxml>=1.4.0->timesfm==1.0.1)\n",
            "  Using cached jedi-0.19.1-py2.py3-none-any.whl.metadata (22 kB)\n",
            "Requirement already satisfied: decorator in /usr/local/lib/python3.10/dist-packages (from ipython>=5.0.0->ipykernel->lingvo==0.12.7->paxml>=1.4.0->timesfm==1.0.1) (4.4.2)\n",
            "Requirement already satisfied: pickleshare in /usr/local/lib/python3.10/dist-packages (from ipython>=5.0.0->ipykernel->lingvo==0.12.7->paxml>=1.4.0->timesfm==1.0.1) (0.7.5)\n",
            "Requirement already satisfied: backcall in /usr/local/lib/python3.10/dist-packages (from ipython>=5.0.0->ipykernel->lingvo==0.12.7->paxml>=1.4.0->timesfm==1.0.1) (0.2.0)\n",
            "Requirement already satisfied: matplotlib-inline in /usr/local/lib/python3.10/dist-packages (from ipython>=5.0.0->ipykernel->lingvo==0.12.7->paxml>=1.4.0->timesfm==1.0.1) (0.1.7)\n",
            "Requirement already satisfied: pexpect>4.3 in /usr/local/lib/python3.10/dist-packages (from ipython>=5.0.0->ipykernel->lingvo==0.12.7->paxml>=1.4.0->timesfm==1.0.1) (4.9.0)\n",
            "Requirement already satisfied: jinja2 in /usr/local/lib/python3.10/dist-packages (from notebook->jupyter->lingvo==0.12.7->paxml>=1.4.0->timesfm==1.0.1) (3.1.4)\n",
            "Requirement already satisfied: pyzmq<25,>=17 in /usr/local/lib/python3.10/dist-packages (from notebook->jupyter->lingvo==0.12.7->paxml>=1.4.0->timesfm==1.0.1) (24.0.1)\n",
            "Requirement already satisfied: argon2-cffi in /usr/local/lib/python3.10/dist-packages (from notebook->jupyter->lingvo==0.12.7->paxml>=1.4.0->timesfm==1.0.1) (23.1.0)\n",
            "Requirement already satisfied: jupyter-core>=4.6.1 in /usr/local/lib/python3.10/dist-packages (from notebook->jupyter->lingvo==0.12.7->paxml>=1.4.0->timesfm==1.0.1) (5.7.2)\n",
            "Requirement already satisfied: nbformat in /usr/local/lib/python3.10/dist-packages (from notebook->jupyter->lingvo==0.12.7->paxml>=1.4.0->timesfm==1.0.1) (5.10.4)\n",
            "Requirement already satisfied: Send2Trash>=1.8.0 in /usr/local/lib/python3.10/dist-packages (from notebook->jupyter->lingvo==0.12.7->paxml>=1.4.0->timesfm==1.0.1) (1.8.3)\n",
            "Requirement already satisfied: terminado>=0.8.3 in /usr/local/lib/python3.10/dist-packages (from notebook->jupyter->lingvo==0.12.7->paxml>=1.4.0->timesfm==1.0.1) (0.18.1)\n",
            "Requirement already satisfied: prometheus-client in /usr/local/lib/python3.10/dist-packages (from notebook->jupyter->lingvo==0.12.7->paxml>=1.4.0->timesfm==1.0.1) (0.20.0)\n",
            "Requirement already satisfied: nbclassic>=0.4.7 in /usr/local/lib/python3.10/dist-packages (from notebook->jupyter->lingvo==0.12.7->paxml>=1.4.0->timesfm==1.0.1) (1.1.0)\n",
            "Requirement already satisfied: beautifulsoup4 in /usr/local/lib/python3.10/dist-packages (from nbconvert->jupyter->lingvo==0.12.7->paxml>=1.4.0->timesfm==1.0.1) (4.12.3)\n",
            "Requirement already satisfied: bleach in /usr/local/lib/python3.10/dist-packages (from nbconvert->jupyter->lingvo==0.12.7->paxml>=1.4.0->timesfm==1.0.1) (6.1.0)\n",
            "Requirement already satisfied: defusedxml in /usr/local/lib/python3.10/dist-packages (from nbconvert->jupyter->lingvo==0.12.7->paxml>=1.4.0->timesfm==1.0.1) (0.7.1)\n",
            "Requirement already satisfied: entrypoints>=0.2.2 in /usr/local/lib/python3.10/dist-packages (from nbconvert->jupyter->lingvo==0.12.7->paxml>=1.4.0->timesfm==1.0.1) (0.4)\n",
            "Requirement already satisfied: jupyterlab-pygments in /usr/local/lib/python3.10/dist-packages (from nbconvert->jupyter->lingvo==0.12.7->paxml>=1.4.0->timesfm==1.0.1) (0.3.0)\n",
            "Requirement already satisfied: MarkupSafe>=2.0 in /usr/local/lib/python3.10/dist-packages (from nbconvert->jupyter->lingvo==0.12.7->paxml>=1.4.0->timesfm==1.0.1) (2.1.5)\n",
            "Requirement already satisfied: mistune<2,>=0.8.1 in /usr/local/lib/python3.10/dist-packages (from nbconvert->jupyter->lingvo==0.12.7->paxml>=1.4.0->timesfm==1.0.1) (0.8.4)\n",
            "Requirement already satisfied: nbclient>=0.5.0 in /usr/local/lib/python3.10/dist-packages (from nbconvert->jupyter->lingvo==0.12.7->paxml>=1.4.0->timesfm==1.0.1) (0.10.0)\n",
            "Requirement already satisfied: pandocfilters>=1.4.1 in /usr/local/lib/python3.10/dist-packages (from nbconvert->jupyter->lingvo==0.12.7->paxml>=1.4.0->timesfm==1.0.1) (1.5.1)\n",
            "Requirement already satisfied: tinycss2 in /usr/local/lib/python3.10/dist-packages (from nbconvert->jupyter->lingvo==0.12.7->paxml>=1.4.0->timesfm==1.0.1) (1.3.0)\n",
            "INFO: pip is looking at multiple versions of tf-keras to determine which version is compatible with other requirements. This could take a while.\n",
            "Collecting tf-keras>=2.14.1 (from tensorflow-hub->lingvo==0.12.7->paxml>=1.4.0->timesfm==1.0.1)\n",
            "  Downloading tf_keras-2.16.0-py3-none-any.whl.metadata (1.6 kB)\n",
            "  Downloading tf_keras-2.15.1-py3-none-any.whl.metadata (1.7 kB)\n",
            "  Downloading tf_keras-2.15.0-py3-none-any.whl.metadata (1.6 kB)\n",
            "Requirement already satisfied: widgetsnbextension~=3.6.0 in /usr/local/lib/python3.10/dist-packages (from ipywidgets->jupyter->lingvo==0.12.7->paxml>=1.4.0->timesfm==1.0.1) (3.6.8)\n",
            "Requirement already satisfied: jupyterlab-widgets>=1.0.0 in /usr/local/lib/python3.10/dist-packages (from ipywidgets->jupyter->lingvo==0.12.7->paxml>=1.4.0->timesfm==1.0.1) (3.0.13)\n",
            "Collecting async-lru>=1.0.0 (from jupyterlab->jupyter->lingvo==0.12.7->paxml>=1.4.0->timesfm==1.0.1)\n",
            "  Downloading async_lru-2.0.4-py3-none-any.whl.metadata (4.5 kB)\n",
            "Collecting httpx>=0.25.0 (from jupyterlab->jupyter->lingvo==0.12.7->paxml>=1.4.0->timesfm==1.0.1)\n",
            "  Downloading httpx-0.27.2-py3-none-any.whl.metadata (7.1 kB)\n",
            "Collecting ipykernel (from lingvo==0.12.7->paxml>=1.4.0->timesfm==1.0.1)\n",
            "  Downloading ipykernel-6.29.5-py3-none-any.whl.metadata (6.3 kB)\n",
            "Collecting jupyter-lsp>=2.0.0 (from jupyterlab->jupyter->lingvo==0.12.7->paxml>=1.4.0->timesfm==1.0.1)\n",
            "  Downloading jupyter_lsp-2.2.5-py3-none-any.whl.metadata (1.8 kB)\n",
            "Collecting jupyter-server<3,>=2.4.0 (from jupyterlab->jupyter->lingvo==0.12.7->paxml>=1.4.0->timesfm==1.0.1)\n",
            "  Downloading jupyter_server-2.14.2-py3-none-any.whl.metadata (8.4 kB)\n",
            "Collecting jupyterlab-server<3,>=2.27.1 (from jupyterlab->jupyter->lingvo==0.12.7->paxml>=1.4.0->timesfm==1.0.1)\n",
            "  Downloading jupyterlab_server-2.27.3-py3-none-any.whl.metadata (5.9 kB)\n",
            "Requirement already satisfied: notebook-shim>=0.2 in /usr/local/lib/python3.10/dist-packages (from jupyterlab->jupyter->lingvo==0.12.7->paxml>=1.4.0->timesfm==1.0.1) (0.2.4)\n",
            "Requirement already satisfied: tomli>=1.2.2 in /usr/local/lib/python3.10/dist-packages (from jupyterlab->jupyter->lingvo==0.12.7->paxml>=1.4.0->timesfm==1.0.1) (2.0.1)\n",
            "Collecting comm>=0.1.1 (from ipykernel->lingvo==0.12.7->paxml>=1.4.0->timesfm==1.0.1)\n",
            "  Downloading comm-0.2.2-py3-none-any.whl.metadata (3.7 kB)\n",
            "Requirement already satisfied: debugpy>=1.6.5 in /usr/local/lib/python3.10/dist-packages (from ipykernel->lingvo==0.12.7->paxml>=1.4.0->timesfm==1.0.1) (1.6.6)\n",
            "Requirement already satisfied: anyio in /usr/local/lib/python3.10/dist-packages (from httpx>=0.25.0->jupyterlab->jupyter->lingvo==0.12.7->paxml>=1.4.0->timesfm==1.0.1) (3.7.1)\n",
            "Collecting httpcore==1.* (from httpx>=0.25.0->jupyterlab->jupyter->lingvo==0.12.7->paxml>=1.4.0->timesfm==1.0.1)\n",
            "  Downloading httpcore-1.0.5-py3-none-any.whl.metadata (20 kB)\n",
            "Requirement already satisfied: sniffio in /usr/local/lib/python3.10/dist-packages (from httpx>=0.25.0->jupyterlab->jupyter->lingvo==0.12.7->paxml>=1.4.0->timesfm==1.0.1) (1.3.1)\n",
            "Collecting h11<0.15,>=0.13 (from httpcore==1.*->httpx>=0.25.0->jupyterlab->jupyter->lingvo==0.12.7->paxml>=1.4.0->timesfm==1.0.1)\n",
            "  Downloading h11-0.14.0-py3-none-any.whl.metadata (8.2 kB)\n",
            "Requirement already satisfied: parso<0.9.0,>=0.8.3 in /usr/local/lib/python3.10/dist-packages (from jedi>=0.16->ipython>=5.0.0->ipykernel->lingvo==0.12.7->paxml>=1.4.0->timesfm==1.0.1) (0.8.4)\n",
            "Collecting jupyter-client<8,>=5.3.4 (from notebook->jupyter->lingvo==0.12.7->paxml>=1.4.0->timesfm==1.0.1)\n",
            "  Downloading jupyter_client-7.4.9-py3-none-any.whl.metadata (8.5 kB)\n",
            "Collecting jupyter-events>=0.9.0 (from jupyter-server<3,>=2.4.0->jupyterlab->jupyter->lingvo==0.12.7->paxml>=1.4.0->timesfm==1.0.1)\n",
            "  Downloading jupyter_events-0.10.0-py3-none-any.whl.metadata (5.9 kB)\n",
            "Collecting jupyter-server-terminals>=0.4.4 (from jupyter-server<3,>=2.4.0->jupyterlab->jupyter->lingvo==0.12.7->paxml>=1.4.0->timesfm==1.0.1)\n",
            "  Downloading jupyter_server_terminals-0.5.3-py3-none-any.whl.metadata (5.6 kB)\n",
            "Collecting overrides>=5.0 (from jupyter-server<3,>=2.4.0->jupyterlab->jupyter->lingvo==0.12.7->paxml>=1.4.0->timesfm==1.0.1)\n",
            "  Downloading overrides-7.7.0-py3-none-any.whl.metadata (5.8 kB)\n",
            "Requirement already satisfied: websocket-client>=1.7 in /usr/local/lib/python3.10/dist-packages (from jupyter-server<3,>=2.4.0->jupyterlab->jupyter->lingvo==0.12.7->paxml>=1.4.0->timesfm==1.0.1) (1.8.0)\n",
            "Requirement already satisfied: argon2-cffi-bindings in /usr/local/lib/python3.10/dist-packages (from argon2-cffi->notebook->jupyter->lingvo==0.12.7->paxml>=1.4.0->timesfm==1.0.1) (21.2.0)\n",
            "Collecting json5>=0.9.0 (from jupyterlab-server<3,>=2.27.1->jupyterlab->jupyter->lingvo==0.12.7->paxml>=1.4.0->timesfm==1.0.1)\n",
            "  Downloading json5-0.9.25-py3-none-any.whl.metadata (30 kB)\n",
            "Requirement already satisfied: jsonschema>=4.18.0 in /usr/local/lib/python3.10/dist-packages (from jupyterlab-server<3,>=2.27.1->jupyterlab->jupyter->lingvo==0.12.7->paxml>=1.4.0->timesfm==1.0.1) (4.23.0)\n",
            "Requirement already satisfied: fastjsonschema>=2.15 in /usr/local/lib/python3.10/dist-packages (from nbformat->notebook->jupyter->lingvo==0.12.7->paxml>=1.4.0->timesfm==1.0.1) (2.20.0)\n",
            "Requirement already satisfied: ptyprocess>=0.5 in /usr/local/lib/python3.10/dist-packages (from pexpect>4.3->ipython>=5.0.0->ipykernel->lingvo==0.12.7->paxml>=1.4.0->timesfm==1.0.1) (0.7.0)\n",
            "Requirement already satisfied: pyasn1<0.7.0,>=0.4.6 in /usr/local/lib/python3.10/dist-packages (from pyasn1-modules>=0.2.1->google-auth<3,>=1.6.3->tensorboard<2.10,>=2.9->tensorflow~=2.9.2->paxml>=1.4.0->timesfm==1.0.1) (0.6.0)\n",
            "Requirement already satisfied: oauthlib>=3.0.0 in /usr/local/lib/python3.10/dist-packages (from requests-oauthlib>=0.7.0->google-auth-oauthlib<0.5,>=0.4.1->tensorboard<2.10,>=2.9->tensorflow~=2.9.2->paxml>=1.4.0->timesfm==1.0.1) (3.2.2)\n",
            "Requirement already satisfied: soupsieve>1.2 in /usr/local/lib/python3.10/dist-packages (from beautifulsoup4->nbconvert->jupyter->lingvo==0.12.7->paxml>=1.4.0->timesfm==1.0.1) (2.6)\n",
            "Requirement already satisfied: webencodings in /usr/local/lib/python3.10/dist-packages (from bleach->nbconvert->jupyter->lingvo==0.12.7->paxml>=1.4.0->timesfm==1.0.1) (0.5.1)\n",
            "Requirement already satisfied: exceptiongroup in /usr/local/lib/python3.10/dist-packages (from anyio->httpx>=0.25.0->jupyterlab->jupyter->lingvo==0.12.7->paxml>=1.4.0->timesfm==1.0.1) (1.2.2)\n",
            "Requirement already satisfied: jsonschema-specifications>=2023.03.6 in /usr/local/lib/python3.10/dist-packages (from jsonschema>=4.18.0->jupyterlab-server<3,>=2.27.1->jupyterlab->jupyter->lingvo==0.12.7->paxml>=1.4.0->timesfm==1.0.1) (2023.12.1)\n",
            "Requirement already satisfied: referencing>=0.28.4 in /usr/local/lib/python3.10/dist-packages (from jsonschema>=4.18.0->jupyterlab-server<3,>=2.27.1->jupyterlab->jupyter->lingvo==0.12.7->paxml>=1.4.0->timesfm==1.0.1) (0.35.1)\n",
            "Requirement already satisfied: rpds-py>=0.7.1 in /usr/local/lib/python3.10/dist-packages (from jsonschema>=4.18.0->jupyterlab-server<3,>=2.27.1->jupyterlab->jupyter->lingvo==0.12.7->paxml>=1.4.0->timesfm==1.0.1) (0.20.0)\n",
            "Collecting python-json-logger>=2.0.4 (from jupyter-events>=0.9.0->jupyter-server<3,>=2.4.0->jupyterlab->jupyter->lingvo==0.12.7->paxml>=1.4.0->timesfm==1.0.1)\n",
            "  Downloading python_json_logger-2.0.7-py3-none-any.whl.metadata (6.5 kB)\n",
            "Collecting rfc3339-validator (from jupyter-events>=0.9.0->jupyter-server<3,>=2.4.0->jupyterlab->jupyter->lingvo==0.12.7->paxml>=1.4.0->timesfm==1.0.1)\n",
            "  Downloading rfc3339_validator-0.1.4-py2.py3-none-any.whl.metadata (1.5 kB)\n",
            "Collecting rfc3986-validator>=0.1.1 (from jupyter-events>=0.9.0->jupyter-server<3,>=2.4.0->jupyterlab->jupyter->lingvo==0.12.7->paxml>=1.4.0->timesfm==1.0.1)\n",
            "  Downloading rfc3986_validator-0.1.1-py2.py3-none-any.whl.metadata (1.7 kB)\n",
            "Requirement already satisfied: cffi>=1.0.1 in /usr/local/lib/python3.10/dist-packages (from argon2-cffi-bindings->argon2-cffi->notebook->jupyter->lingvo==0.12.7->paxml>=1.4.0->timesfm==1.0.1) (1.17.0)\n",
            "Requirement already satisfied: pycparser in /usr/local/lib/python3.10/dist-packages (from cffi>=1.0.1->argon2-cffi-bindings->argon2-cffi->notebook->jupyter->lingvo==0.12.7->paxml>=1.4.0->timesfm==1.0.1) (2.22)\n",
            "Collecting fqdn (from jsonschema[format-nongpl]>=4.18.0->jupyter-events>=0.9.0->jupyter-server<3,>=2.4.0->jupyterlab->jupyter->lingvo==0.12.7->paxml>=1.4.0->timesfm==1.0.1)\n",
            "  Downloading fqdn-1.5.1-py3-none-any.whl.metadata (1.4 kB)\n",
            "Collecting isoduration (from jsonschema[format-nongpl]>=4.18.0->jupyter-events>=0.9.0->jupyter-server<3,>=2.4.0->jupyterlab->jupyter->lingvo==0.12.7->paxml>=1.4.0->timesfm==1.0.1)\n",
            "  Downloading isoduration-20.11.0-py3-none-any.whl.metadata (5.7 kB)\n",
            "Collecting jsonpointer>1.13 (from jsonschema[format-nongpl]>=4.18.0->jupyter-events>=0.9.0->jupyter-server<3,>=2.4.0->jupyterlab->jupyter->lingvo==0.12.7->paxml>=1.4.0->timesfm==1.0.1)\n",
            "  Downloading jsonpointer-3.0.0-py2.py3-none-any.whl.metadata (2.3 kB)\n",
            "Collecting uri-template (from jsonschema[format-nongpl]>=4.18.0->jupyter-events>=0.9.0->jupyter-server<3,>=2.4.0->jupyterlab->jupyter->lingvo==0.12.7->paxml>=1.4.0->timesfm==1.0.1)\n",
            "  Downloading uri_template-1.3.0-py3-none-any.whl.metadata (8.8 kB)\n",
            "Requirement already satisfied: webcolors>=24.6.0 in /usr/local/lib/python3.10/dist-packages (from jsonschema[format-nongpl]>=4.18.0->jupyter-events>=0.9.0->jupyter-server<3,>=2.4.0->jupyterlab->jupyter->lingvo==0.12.7->paxml>=1.4.0->timesfm==1.0.1) (24.8.0)\n",
            "Collecting arrow>=0.15.0 (from isoduration->jsonschema[format-nongpl]>=4.18.0->jupyter-events>=0.9.0->jupyter-server<3,>=2.4.0->jupyterlab->jupyter->lingvo==0.12.7->paxml>=1.4.0->timesfm==1.0.1)\n",
            "  Downloading arrow-1.3.0-py3-none-any.whl.metadata (7.5 kB)\n",
            "Collecting types-python-dateutil>=2.8.10 (from arrow>=0.15.0->isoduration->jsonschema[format-nongpl]>=4.18.0->jupyter-events>=0.9.0->jupyter-server<3,>=2.4.0->jupyterlab->jupyter->lingvo==0.12.7->paxml>=1.4.0->timesfm==1.0.1)\n",
            "  Downloading types_python_dateutil-2.9.0.20240906-py3-none-any.whl.metadata (1.9 kB)\n",
            "Downloading einshape-1.0-py3-none-any.whl (21 kB)\n",
            "Downloading InquirerPy-0.3.4-py3-none-any.whl (67 kB)\n",
            "\u001b[2K   \u001b[90m━━━━━━━━━━━━━━━━━━━━━━━━━━━━━━━━━━━━━━━━\u001b[0m \u001b[32m67.7/67.7 kB\u001b[0m \u001b[31m6.5 MB/s\u001b[0m eta \u001b[36m0:00:00\u001b[0m\n",
            "\u001b[?25hDownloading jax_cuda12_plugin-0.4.26-cp310-cp310-manylinux2014_x86_64.whl (12.4 MB)\n",
            "\u001b[2K   \u001b[90m━━━━━━━━━━━━━━━━━━━━━━━━━━━━━━━━━━━━━━━━\u001b[0m \u001b[32m12.4/12.4 MB\u001b[0m \u001b[31m92.6 MB/s\u001b[0m eta \u001b[36m0:00:00\u001b[0m\n",
            "\u001b[?25hDownloading jax_cuda12_pjrt-0.4.26-py3-none-manylinux2014_x86_64.whl (85.7 MB)\n",
            "\u001b[2K   \u001b[90m━━━━━━━━━━━━━━━━━━━━━━━━━━━━━━━━━━━━━━━━\u001b[0m \u001b[32m85.7/85.7 MB\u001b[0m \u001b[31m10.4 MB/s\u001b[0m eta \u001b[36m0:00:00\u001b[0m\n",
            "\u001b[?25hDownloading paxml-1.4.0-py3-none-any.whl (440 kB)\n",
            "\u001b[2K   \u001b[90m━━━━━━━━━━━━━━━━━━━━━━━━━━━━━━━━━━━━━━━━\u001b[0m \u001b[32m440.2/440.2 kB\u001b[0m \u001b[31m33.9 MB/s\u001b[0m eta \u001b[36m0:00:00\u001b[0m\n",
            "\u001b[?25hDownloading clu-0.0.11-py3-none-any.whl (101 kB)\n",
            "\u001b[2K   \u001b[90m━━━━━━━━━━━━━━━━━━━━━━━━━━━━━━━━━━━━━━━━\u001b[0m \u001b[32m101.4/101.4 kB\u001b[0m \u001b[31m9.6 MB/s\u001b[0m eta \u001b[36m0:00:00\u001b[0m\n",
            "\u001b[?25hDownloading flax-0.8.2-py3-none-any.whl (686 kB)\n",
            "\u001b[2K   \u001b[90m━━━━━━━━━━━━━━━━━━━━━━━━━━━━━━━━━━━━━━━━\u001b[0m \u001b[32m686.8/686.8 kB\u001b[0m \u001b[31m22.8 MB/s\u001b[0m eta \u001b[36m0:00:00\u001b[0m\n",
            "\u001b[?25hDownloading graphviz-0.20.1-py3-none-any.whl (47 kB)\n",
            "\u001b[2K   \u001b[90m━━━━━━━━━━━━━━━━━━━━━━━━━━━━━━━━━━━━━━━━\u001b[0m \u001b[32m47.0/47.0 kB\u001b[0m \u001b[31m3.0 MB/s\u001b[0m eta \u001b[36m0:00:00\u001b[0m\n",
            "\u001b[?25hDownloading lingvo-0.12.7-cp310-cp310-manylinux_2_17_x86_64.manylinux2014_x86_64.whl (18.0 MB)\n",
            "\u001b[2K   \u001b[90m━━━━━━━━━━━━━━━━━━━━━━━━━━━━━━━━━━━━━━━━\u001b[0m \u001b[32m18.0/18.0 MB\u001b[0m \u001b[31m88.9 MB/s\u001b[0m eta \u001b[36m0:00:00\u001b[0m\n",
            "\u001b[?25hDownloading orbax_checkpoint-0.5.9-py3-none-any.whl (168 kB)\n",
            "\u001b[2K   \u001b[90m━━━━━━━━━━━━━━━━━━━━━━━━━━━━━━━━━━━━━━━━\u001b[0m \u001b[32m168.0/168.0 kB\u001b[0m \u001b[31m15.9 MB/s\u001b[0m eta \u001b[36m0:00:00\u001b[0m\n",
            "\u001b[?25hDownloading praxis-1.4.0-py3-none-any.whl (772 kB)\n",
            "\u001b[2K   \u001b[90m━━━━━━━━━━━━━━━━━━━━━━━━━━━━━━━━━━━━━━━━\u001b[0m \u001b[32m772.5/772.5 kB\u001b[0m \u001b[31m50.6 MB/s\u001b[0m eta \u001b[36m0:00:00\u001b[0m\n",
            "\u001b[?25hDownloading protobuf-3.19.6-cp310-cp310-manylinux_2_17_x86_64.manylinux2014_x86_64.whl (1.1 MB)\n",
            "\u001b[2K   \u001b[90m━━━━━━━━━━━━━━━━━━━━━━━━━━━━━━━━━━━━━━━━\u001b[0m \u001b[32m1.1/1.1 MB\u001b[0m \u001b[31m57.1 MB/s\u001b[0m eta \u001b[36m0:00:00\u001b[0m\n",
            "\u001b[?25hDownloading pyglove-0.4.4-py3-none-any.whl (577 kB)\n",
            "\u001b[2K   \u001b[90m━━━━━━━━━━━━━━━━━━━━━━━━━━━━━━━━━━━━━━━━\u001b[0m \u001b[32m577.8/577.8 kB\u001b[0m \u001b[31m41.7 MB/s\u001b[0m eta \u001b[36m0:00:00\u001b[0m\n",
            "\u001b[?25hDownloading seqio_nightly-0.0.17.dev20231010-py3-none-any.whl (353 kB)\n",
            "\u001b[2K   \u001b[90m━━━━━━━━━━━━━━━━━━━━━━━━━━━━━━━━━━━━━━━━\u001b[0m \u001b[32m353.1/353.1 kB\u001b[0m \u001b[31m28.5 MB/s\u001b[0m eta \u001b[36m0:00:00\u001b[0m\n",
            "\u001b[?25hDownloading t5-0.9.4-py2.py3-none-any.whl (164 kB)\n",
            "\u001b[2K   \u001b[90m━━━━━━━━━━━━━━━━━━━━━━━━━━━━━━━━━━━━━━━━\u001b[0m \u001b[32m164.5/164.5 kB\u001b[0m \u001b[31m16.1 MB/s\u001b[0m eta \u001b[36m0:00:00\u001b[0m\n",
            "\u001b[?25hDownloading tensorflow_datasets-4.8.3-py3-none-any.whl (5.4 MB)\n",
            "\u001b[2K   \u001b[90m━━━━━━━━━━━━━━━━━━━━━━━━━━━━━━━━━━━━━━━━\u001b[0m \u001b[32m5.4/5.4 MB\u001b[0m \u001b[31m97.3 MB/s\u001b[0m eta \u001b[36m0:00:00\u001b[0m\n",
            "\u001b[?25hDownloading tensorflow_metadata-1.12.0-py3-none-any.whl (52 kB)\n",
            "\u001b[2K   \u001b[90m━━━━━━━━━━━━━━━━━━━━━━━━━━━━━━━━━━━━━━━━\u001b[0m \u001b[32m52.3/52.3 kB\u001b[0m \u001b[31m5.2 MB/s\u001b[0m eta \u001b[36m0:00:00\u001b[0m\n",
            "\u001b[?25hDownloading tensorstore-0.1.55-cp310-cp310-manylinux_2_17_x86_64.manylinux2014_x86_64.whl (14.3 MB)\n",
            "\u001b[2K   \u001b[90m━━━━━━━━━━━━━━━━━━━━━━━━━━━━━━━━━━━━━━━━\u001b[0m \u001b[32m14.3/14.3 MB\u001b[0m \u001b[31m59.7 MB/s\u001b[0m eta \u001b[36m0:00:00\u001b[0m\n",
            "\u001b[?25hDownloading tfds_nightly-4.8.3.dev202303280045-py3-none-any.whl (5.4 MB)\n",
            "\u001b[2K   \u001b[90m━━━━━━━━━━━━━━━━━━━━━━━━━━━━━━━━━━━━━━━━\u001b[0m \u001b[32m5.4/5.4 MB\u001b[0m \u001b[31m82.3 MB/s\u001b[0m eta \u001b[36m0:00:00\u001b[0m\n",
            "\u001b[?25hDownloading einops-0.7.0-py3-none-any.whl (44 kB)\n",
            "\u001b[2K   \u001b[90m━━━━━━━━━━━━━━━━━━━━━━━━━━━━━━━━━━━━━━━━\u001b[0m \u001b[32m44.6/44.6 kB\u001b[0m \u001b[31m3.9 MB/s\u001b[0m eta \u001b[36m0:00:00\u001b[0m\n",
            "\u001b[?25hDownloading fiddle-0.3.0-py3-none-any.whl (419 kB)\n",
            "\u001b[2K   \u001b[90m━━━━━━━━━━━━━━━━━━━━━━━━━━━━━━━━━━━━━━━━\u001b[0m \u001b[32m419.8/419.8 kB\u001b[0m \u001b[31m34.2 MB/s\u001b[0m eta \u001b[36m0:00:00\u001b[0m\n",
            "\u001b[?25hDownloading jax_bitempered_loss-0.0.2-py3-none-any.whl (12 kB)\n",
            "Downloading jaxtyping-0.2.28-py3-none-any.whl (40 kB)\n",
            "\u001b[2K   \u001b[90m━━━━━━━━━━━━━━━━━━━━━━━━━━━━━━━━━━━━━━━━\u001b[0m \u001b[32m40.7/40.7 kB\u001b[0m \u001b[31m1.5 MB/s\u001b[0m eta \u001b[36m0:00:00\u001b[0m\n",
            "\u001b[?25hDownloading optax_shampoo-0.0.6-py3-none-any.whl (32 kB)\n",
            "Downloading typeguard-2.13.3-py3-none-any.whl (17 kB)\n",
            "Downloading utilsforecast-0.2.4-py3-none-any.whl (40 kB)\n",
            "\u001b[2K   \u001b[90m━━━━━━━━━━━━━━━━━━━━━━━━━━━━━━━━━━━━━━━━\u001b[0m \u001b[32m40.3/40.3 kB\u001b[0m \u001b[31m3.6 MB/s\u001b[0m eta \u001b[36m0:00:00\u001b[0m\n",
            "\u001b[?25hDownloading wandb-0.17.9-py3-none-manylinux_2_17_x86_64.manylinux2014_x86_64.whl (9.4 MB)\n",
            "\u001b[2K   \u001b[90m━━━━━━━━━━━━━━━━━━━━━━━━━━━━━━━━━━━━━━━━\u001b[0m \u001b[32m9.4/9.4 MB\u001b[0m \u001b[31m116.3 MB/s\u001b[0m eta \u001b[36m0:00:00\u001b[0m\n",
            "\u001b[?25hDownloading docker_pycreds-0.4.0-py2.py3-none-any.whl (9.0 kB)\n",
            "Downloading GitPython-3.1.43-py3-none-any.whl (207 kB)\n",
            "\u001b[2K   \u001b[90m━━━━━━━━━━━━━━━━━━━━━━━━━━━━━━━━━━━━━━━━\u001b[0m \u001b[32m207.3/207.3 kB\u001b[0m \u001b[31m17.5 MB/s\u001b[0m eta \u001b[36m0:00:00\u001b[0m\n",
            "\u001b[?25hDownloading nvidia_cublas_cu12-12.6.1.4-py3-none-manylinux2014_x86_64.whl (378.9 MB)\n",
            "\u001b[2K   \u001b[90m━━━━━━━━━━━━━━━━━━━━━━━━━━━━━━━━━━━━━━━━\u001b[0m \u001b[32m378.9/378.9 MB\u001b[0m \u001b[31m3.7 MB/s\u001b[0m eta \u001b[36m0:00:00\u001b[0m\n",
            "\u001b[?25hDownloading nvidia_cuda_cupti_cu12-12.6.68-py3-none-manylinux2014_x86_64.whl (8.9 MB)\n",
            "\u001b[2K   \u001b[90m━━━━━━━━━━━━━━━━━━━━━━━━━━━━━━━━━━━━━━━━\u001b[0m \u001b[32m8.9/8.9 MB\u001b[0m \u001b[31m115.1 MB/s\u001b[0m eta \u001b[36m0:00:00\u001b[0m\n",
            "\u001b[?25hDownloading nvidia_cuda_nvcc_cu12-12.6.68-py3-none-manylinux2014_x86_64.whl (21.1 MB)\n",
            "\u001b[2K   \u001b[90m━━━━━━━━━━━━━━━━━━━━━━━━━━━━━━━━━━━━━━━━\u001b[0m \u001b[32m21.1/21.1 MB\u001b[0m \u001b[31m74.4 MB/s\u001b[0m eta \u001b[36m0:00:00\u001b[0m\n",
            "\u001b[?25hDownloading nvidia_cuda_runtime_cu12-12.6.68-py3-none-manylinux2014_x86_64.whl (897 kB)\n",
            "\u001b[2K   \u001b[90m━━━━━━━━━━━━━━━━━━━━━━━━━━━━━━━━━━━━━━━━\u001b[0m \u001b[32m897.7/897.7 kB\u001b[0m \u001b[31m58.4 MB/s\u001b[0m eta \u001b[36m0:00:00\u001b[0m\n",
            "\u001b[?25hDownloading nvidia_cudnn_cu12-8.9.7.29-py3-none-manylinux1_x86_64.whl (704.7 MB)\n",
            "\u001b[2K   \u001b[90m━━━━━━━━━━━━━━━━━━━━━━━━━━━━━━━━━━━━━━━━\u001b[0m \u001b[32m704.7/704.7 MB\u001b[0m \u001b[31m1.1 MB/s\u001b[0m eta \u001b[36m0:00:00\u001b[0m\n",
            "\u001b[?25hDownloading nvidia_cufft_cu12-11.2.6.59-py3-none-manylinux2014_x86_64.whl (192.5 MB)\n",
            "\u001b[2K   \u001b[90m━━━━━━━━━━━━━━━━━━━━━━━━━━━━━━━━━━━━━━━━\u001b[0m \u001b[32m192.5/192.5 MB\u001b[0m \u001b[31m6.0 MB/s\u001b[0m eta \u001b[36m0:00:00\u001b[0m\n",
            "\u001b[?25hDownloading nvidia_cusolver_cu12-11.6.4.69-py3-none-manylinux2014_x86_64.whl (130.5 MB)\n",
            "\u001b[2K   \u001b[90m━━━━━━━━━━━━━━━━━━━━━━━━━━━━━━━━━━━━━━━━\u001b[0m \u001b[32m130.5/130.5 MB\u001b[0m \u001b[31m11.8 MB/s\u001b[0m eta \u001b[36m0:00:00\u001b[0m\n",
            "\u001b[?25hDownloading nvidia_cusparse_cu12-12.5.3.3-py3-none-manylinux2014_x86_64.whl (216.5 MB)\n",
            "\u001b[2K   \u001b[90m━━━━━━━━━━━━━━━━━━━━━━━━━━━━━━━━━━━━━━━━\u001b[0m \u001b[32m216.5/216.5 MB\u001b[0m \u001b[31m5.9 MB/s\u001b[0m eta \u001b[36m0:00:00\u001b[0m\n",
            "\u001b[?25hDownloading nvidia_nvjitlink_cu12-12.6.68-py3-none-manylinux2014_x86_64.whl (19.7 MB)\n",
            "\u001b[2K   \u001b[90m━━━━━━━━━━━━━━━━━━━━━━━━━━━━━━━━━━━━━━━━\u001b[0m \u001b[32m19.7/19.7 MB\u001b[0m \u001b[31m83.0 MB/s\u001b[0m eta \u001b[36m0:00:00\u001b[0m\n",
            "\u001b[?25hDownloading sentry_sdk-2.13.0-py2.py3-none-any.whl (309 kB)\n",
            "\u001b[2K   \u001b[90m━━━━━━━━━━━━━━━━━━━━━━━━━━━━━━━━━━━━━━━━\u001b[0m \u001b[32m309.1/309.1 kB\u001b[0m \u001b[31m24.9 MB/s\u001b[0m eta \u001b[36m0:00:00\u001b[0m\n",
            "\u001b[?25hDownloading tensorflow-2.9.3-cp310-cp310-manylinux_2_17_x86_64.manylinux2014_x86_64.whl (511.8 MB)\n",
            "\u001b[2K   \u001b[90m━━━━━━━━━━━━━━━━━━━━━━━━━━━━━━━━━━━━━━━━\u001b[0m \u001b[32m511.8/511.8 MB\u001b[0m \u001b[31m2.3 MB/s\u001b[0m eta \u001b[36m0:00:00\u001b[0m\n",
            "\u001b[?25hDownloading tensorflow_text-2.9.0-cp310-cp310-manylinux_2_17_x86_64.manylinux2014_x86_64.whl (4.6 MB)\n",
            "\u001b[2K   \u001b[90m━━━━━━━━━━━━━━━━━━━━━━━━━━━━━━━━━━━━━━━━\u001b[0m \u001b[32m4.6/4.6 MB\u001b[0m \u001b[31m87.7 MB/s\u001b[0m eta \u001b[36m0:00:00\u001b[0m\n",
            "\u001b[?25hDownloading setproctitle-1.3.3-cp310-cp310-manylinux_2_5_x86_64.manylinux1_x86_64.manylinux_2_17_x86_64.manylinux2014_x86_64.whl (30 kB)\n",
            "Downloading flatbuffers-1.12-py2.py3-none-any.whl (15 kB)\n",
            "Downloading gast-0.4.0-py3-none-any.whl (9.8 kB)\n",
            "Downloading gitdb-4.0.11-py3-none-any.whl (62 kB)\n",
            "\u001b[2K   \u001b[90m━━━━━━━━━━━━━━━━━━━━━━━━━━━━━━━━━━━━━━━━\u001b[0m \u001b[32m62.7/62.7 kB\u001b[0m \u001b[31m5.6 MB/s\u001b[0m eta \u001b[36m0:00:00\u001b[0m\n",
            "\u001b[?25hDownloading googleapis_common_protos-1.63.1-py2.py3-none-any.whl (229 kB)\n",
            "\u001b[2K   \u001b[90m━━━━━━━━━━━━━━━━━━━━━━━━━━━━━━━━━━━━━━━━\u001b[0m \u001b[32m229.2/229.2 kB\u001b[0m \u001b[31m20.9 MB/s\u001b[0m eta \u001b[36m0:00:00\u001b[0m\n",
            "\u001b[?25hDownloading keras-2.9.0-py2.py3-none-any.whl (1.6 MB)\n",
            "\u001b[2K   \u001b[90m━━━━━━━━━━━━━━━━━━━━━━━━━━━━━━━━━━━━━━━━\u001b[0m \u001b[32m1.6/1.6 MB\u001b[0m \u001b[31m73.3 MB/s\u001b[0m eta \u001b[36m0:00:00\u001b[0m\n",
            "\u001b[?25hDownloading Keras_Preprocessing-1.1.2-py2.py3-none-any.whl (42 kB)\n",
            "\u001b[2K   \u001b[90m━━━━━━━━━━━━━━━━━━━━━━━━━━━━━━━━━━━━━━━━\u001b[0m \u001b[32m42.6/42.6 kB\u001b[0m \u001b[31m3.2 MB/s\u001b[0m eta \u001b[36m0:00:00\u001b[0m\n",
            "\u001b[?25hDownloading mesh_tensorflow-0.1.21-py3-none-any.whl (385 kB)\n",
            "\u001b[2K   \u001b[90m━━━━━━━━━━━━━━━━━━━━━━━━━━━━━━━━━━━━━━━━\u001b[0m \u001b[32m385.2/385.2 kB\u001b[0m \u001b[31m31.6 MB/s\u001b[0m eta \u001b[36m0:00:00\u001b[0m\n",
            "\u001b[?25hDownloading pfzy-0.3.4-py3-none-any.whl (8.5 kB)\n",
            "Downloading tensorboard-2.9.1-py3-none-any.whl (5.8 MB)\n",
            "\u001b[2K   \u001b[90m━━━━━━━━━━━━━━━━━━━━━━━━━━━━━━━━━━━━━━━━\u001b[0m \u001b[32m5.8/5.8 MB\u001b[0m \u001b[31m94.1 MB/s\u001b[0m eta \u001b[36m0:00:00\u001b[0m\n",
            "\u001b[?25hDownloading tensorflow_estimator-2.9.0-py2.py3-none-any.whl (438 kB)\n",
            "\u001b[2K   \u001b[90m━━━━━━━━━━━━━━━━━━━━━━━━━━━━━━━━━━━━━━━━\u001b[0m \u001b[32m438.7/438.7 kB\u001b[0m \u001b[31m34.7 MB/s\u001b[0m eta \u001b[36m0:00:00\u001b[0m\n",
            "\u001b[?25hDownloading graph_compression_google_research-0.0.4-py3-none-any.whl (90 kB)\n",
            "\u001b[2K   \u001b[90m━━━━━━━━━━━━━━━━━━━━━━━━━━━━━━━━━━━━━━━━\u001b[0m \u001b[32m90.0/90.0 kB\u001b[0m \u001b[31m8.3 MB/s\u001b[0m eta \u001b[36m0:00:00\u001b[0m\n",
            "\u001b[?25hDownloading jupyter-1.1.1-py2.py3-none-any.whl (2.7 kB)\n",
            "Downloading jupyter_http_over_ws-0.0.8-py2.py3-none-any.whl (18 kB)\n",
            "Downloading model_pruning_google_research-0.0.5-py3-none-any.whl (52 kB)\n",
            "\u001b[2K   \u001b[90m━━━━━━━━━━━━━━━━━━━━━━━━━━━━━━━━━━━━━━━━\u001b[0m \u001b[32m52.6/52.6 kB\u001b[0m \u001b[31m4.6 MB/s\u001b[0m eta \u001b[36m0:00:00\u001b[0m\n",
            "\u001b[?25hDownloading nvidia_cuda_nvrtc_cu12-12.6.68-py3-none-manylinux2014_x86_64.whl (23.6 MB)\n",
            "\u001b[2K   \u001b[90m━━━━━━━━━━━━━━━━━━━━━━━━━━━━━━━━━━━━━━━━\u001b[0m \u001b[32m23.6/23.6 MB\u001b[0m \u001b[31m45.3 MB/s\u001b[0m eta \u001b[36m0:00:00\u001b[0m\n",
            "\u001b[?25hDownloading sacrebleu-2.4.3-py3-none-any.whl (103 kB)\n",
            "\u001b[2K   \u001b[90m━━━━━━━━━━━━━━━━━━━━━━━━━━━━━━━━━━━━━━━━\u001b[0m \u001b[32m104.0/104.0 kB\u001b[0m \u001b[31m8.9 MB/s\u001b[0m eta \u001b[36m0:00:00\u001b[0m\n",
            "\u001b[?25hDownloading google_auth_oauthlib-0.4.6-py2.py3-none-any.whl (18 kB)\n",
            "Downloading smmap-5.0.1-py3-none-any.whl (24 kB)\n",
            "Downloading tensorboard_data_server-0.6.1-py3-none-manylinux2010_x86_64.whl (4.9 MB)\n",
            "\u001b[2K   \u001b[90m━━━━━━━━━━━━━━━━━━━━━━━━━━━━━━━━━━━━━━━━\u001b[0m \u001b[32m4.9/4.9 MB\u001b[0m \u001b[31m75.5 MB/s\u001b[0m eta \u001b[36m0:00:00\u001b[0m\n",
            "\u001b[?25hDownloading tensorboard_plugin_wit-1.8.1-py3-none-any.whl (781 kB)\n",
            "\u001b[2K   \u001b[90m━━━━━━━━━━━━━━━━━━━━━━━━━━━━━━━━━━━━━━━━\u001b[0m \u001b[32m781.3/781.3 kB\u001b[0m \u001b[31m43.3 MB/s\u001b[0m eta \u001b[36m0:00:00\u001b[0m\n",
            "\u001b[?25hDownloading tf_keras-2.15.0-py3-none-any.whl (1.7 MB)\n",
            "\u001b[2K   \u001b[90m━━━━━━━━━━━━━━━━━━━━━━━━━━━━━━━━━━━━━━━━\u001b[0m \u001b[32m1.7/1.7 MB\u001b[0m \u001b[31m62.7 MB/s\u001b[0m eta \u001b[36m0:00:00\u001b[0m\n",
            "\u001b[?25hDownloading colorama-0.4.6-py2.py3-none-any.whl (25 kB)\n",
            "Downloading jupyterlab-4.2.5-py3-none-any.whl (11.6 MB)\n",
            "\u001b[2K   \u001b[90m━━━━━━━━━━━━━━━━━━━━━━━━━━━━━━━━━━━━━━━━\u001b[0m \u001b[32m11.6/11.6 MB\u001b[0m \u001b[31m79.5 MB/s\u001b[0m eta \u001b[36m0:00:00\u001b[0m\n",
            "\u001b[?25hDownloading ipykernel-6.29.5-py3-none-any.whl (117 kB)\n",
            "\u001b[2K   \u001b[90m━━━━━━━━━━━━━━━━━━━━━━━━━━━━━━━━━━━━━━━━\u001b[0m \u001b[32m117.2/117.2 kB\u001b[0m \u001b[31m10.3 MB/s\u001b[0m eta \u001b[36m0:00:00\u001b[0m\n",
            "\u001b[?25hDownloading comm-0.2.2-py3-none-any.whl (7.2 kB)\n",
            "Downloading libcst-1.4.0-cp310-cp310-manylinux_2_17_x86_64.manylinux2014_x86_64.whl (2.3 MB)\n",
            "\u001b[2K   \u001b[90m━━━━━━━━━━━━━━━━━━━━━━━━━━━━━━━━━━━━━━━━\u001b[0m \u001b[32m2.3/2.3 MB\u001b[0m \u001b[31m69.4 MB/s\u001b[0m eta \u001b[36m0:00:00\u001b[0m\n",
            "\u001b[?25hDownloading portalocker-2.10.1-py3-none-any.whl (18 kB)\n",
            "Downloading async_lru-2.0.4-py3-none-any.whl (6.1 kB)\n",
            "Downloading httpx-0.27.2-py3-none-any.whl (76 kB)\n",
            "\u001b[2K   \u001b[90m━━━━━━━━━━━━━━━━━━━━━━━━━━━━━━━━━━━━━━━━\u001b[0m \u001b[32m76.4/76.4 kB\u001b[0m \u001b[31m7.1 MB/s\u001b[0m eta \u001b[36m0:00:00\u001b[0m\n",
            "\u001b[?25hDownloading httpcore-1.0.5-py3-none-any.whl (77 kB)\n",
            "\u001b[2K   \u001b[90m━━━━━━━━━━━━━━━━━━━━━━━━━━━━━━━━━━━━━━━━\u001b[0m \u001b[32m77.9/77.9 kB\u001b[0m \u001b[31m7.2 MB/s\u001b[0m eta \u001b[36m0:00:00\u001b[0m\n",
            "\u001b[?25hUsing cached jedi-0.19.1-py2.py3-none-any.whl (1.6 MB)\n",
            "Downloading jupyter_lsp-2.2.5-py3-none-any.whl (69 kB)\n",
            "\u001b[2K   \u001b[90m━━━━━━━━━━━━━━━━━━━━━━━━━━━━━━━━━━━━━━━━\u001b[0m \u001b[32m69.1/69.1 kB\u001b[0m \u001b[31m6.2 MB/s\u001b[0m eta \u001b[36m0:00:00\u001b[0m\n",
            "\u001b[?25hDownloading jupyter_server-2.14.2-py3-none-any.whl (383 kB)\n",
            "\u001b[2K   \u001b[90m━━━━━━━━━━━━━━━━━━━━━━━━━━━━━━━━━━━━━━━━\u001b[0m \u001b[32m383.6/383.6 kB\u001b[0m \u001b[31m27.7 MB/s\u001b[0m eta \u001b[36m0:00:00\u001b[0m\n",
            "\u001b[?25hDownloading jupyter_client-7.4.9-py3-none-any.whl (133 kB)\n",
            "\u001b[2K   \u001b[90m━━━━━━━━━━━━━━━━━━━━━━━━━━━━━━━━━━━━━━━━\u001b[0m \u001b[32m133.5/133.5 kB\u001b[0m \u001b[31m12.2 MB/s\u001b[0m eta \u001b[36m0:00:00\u001b[0m\n",
            "\u001b[?25hDownloading jupyterlab_server-2.27.3-py3-none-any.whl (59 kB)\n",
            "\u001b[2K   \u001b[90m━━━━━━━━━━━━━━━━━━━━━━━━━━━━━━━━━━━━━━━━\u001b[0m \u001b[32m59.7/59.7 kB\u001b[0m \u001b[31m5.8 MB/s\u001b[0m eta \u001b[36m0:00:00\u001b[0m\n",
            "\u001b[?25hDownloading json5-0.9.25-py3-none-any.whl (30 kB)\n",
            "Downloading jupyter_events-0.10.0-py3-none-any.whl (18 kB)\n",
            "Downloading jupyter_server_terminals-0.5.3-py3-none-any.whl (13 kB)\n",
            "Downloading overrides-7.7.0-py3-none-any.whl (17 kB)\n",
            "Downloading h11-0.14.0-py3-none-any.whl (58 kB)\n",
            "\u001b[2K   \u001b[90m━━━━━━━━━━━━━━━━━━━━━━━━━━━━━━━━━━━━━━━━\u001b[0m \u001b[32m58.3/58.3 kB\u001b[0m \u001b[31m5.2 MB/s\u001b[0m eta \u001b[36m0:00:00\u001b[0m\n",
            "\u001b[?25hDownloading python_json_logger-2.0.7-py3-none-any.whl (8.1 kB)\n",
            "Downloading rfc3986_validator-0.1.1-py2.py3-none-any.whl (4.2 kB)\n",
            "Downloading rfc3339_validator-0.1.4-py2.py3-none-any.whl (3.5 kB)\n",
            "Downloading jsonpointer-3.0.0-py2.py3-none-any.whl (7.6 kB)\n",
            "Downloading fqdn-1.5.1-py3-none-any.whl (9.1 kB)\n",
            "Downloading isoduration-20.11.0-py3-none-any.whl (11 kB)\n",
            "Downloading uri_template-1.3.0-py3-none-any.whl (11 kB)\n",
            "Downloading arrow-1.3.0-py3-none-any.whl (66 kB)\n",
            "\u001b[2K   \u001b[90m━━━━━━━━━━━━━━━━━━━━━━━━━━━━━━━━━━━━━━━━\u001b[0m \u001b[32m66.4/66.4 kB\u001b[0m \u001b[31m6.0 MB/s\u001b[0m eta \u001b[36m0:00:00\u001b[0m\n",
            "\u001b[?25hDownloading types_python_dateutil-2.9.0.20240906-py3-none-any.whl (9.7 kB)\n",
            "Building wheels for collected packages: timesfm, rouge-score, ml-collections\n",
            "  Building wheel for timesfm (pyproject.toml) ... \u001b[?25l\u001b[?25hdone\n",
            "  Created wheel for timesfm: filename=timesfm-1.0.1-py3-none-any.whl size=37907 sha256=8b3d266047d88dcff338785eedf9b83f9cabfc2fdca4993186720a6c3a41302e\n",
            "  Stored in directory: /tmp/pip-ephem-wheel-cache-ima_p4fr/wheels/24/29/85/d84b62c638ef5415e7967946be92ea6e2cb4da6f369a3e83dd\n",
            "  Building wheel for rouge-score (setup.py) ... \u001b[?25l\u001b[?25hdone\n",
            "  Created wheel for rouge-score: filename=rouge_score-0.1.2-py3-none-any.whl size=24935 sha256=daf33d4f3f38943fab88c6a4d28994b139efe8ccc76e29579ffe03b8bc79c1a1\n",
            "  Stored in directory: /root/.cache/pip/wheels/5f/dd/89/461065a73be61a532ff8599a28e9beef17985c9e9c31e541b4\n",
            "  Building wheel for ml-collections (setup.py) ... \u001b[?25l\u001b[?25hdone\n",
            "  Created wheel for ml-collections: filename=ml_collections-0.1.1-py3-none-any.whl size=94507 sha256=1e37dfdc05fc9d7261433d05ccf5c50a1be784c1618752f58c0893557520318d\n",
            "  Stored in directory: /root/.cache/pip/wheels/7b/89/c9/a9b87790789e94aadcfc393c283e3ecd5ab916aed0a31be8fe\n",
            "Successfully built timesfm rouge-score ml-collections\n",
            "Installing collected packages: tensorboard-plugin-wit, keras, jax-cuda12-pjrt, flatbuffers, uri-template, types-python-dateutil, typeguard, tf-keras, tensorflow-estimator, tensorboard-data-server, smmap, setproctitle, sentry-sdk, rfc3986-validator, rfc3339-validator, python-json-logger, pyglove, protobuf, portalocker, pfzy, overrides, optax-shampoo, nvidia-nvjitlink-cu12, nvidia-cuda-runtime-cu12, nvidia-cuda-nvrtc-cu12, nvidia-cuda-nvcc-cu12, nvidia-cuda-cupti-cu12, nvidia-cublas-cu12, model-pruning-google-research, ml-collections, mesh-tensorflow, libcst, keras-preprocessing, jsonpointer, json5, jedi, jax-cuda12-plugin, jax-bitempered-loss, h11, graphviz, graph-compression-google-research, gast, fqdn, einshape, einops, docker-pycreds, comm, colorama, async-lru, tensorstore, sacrebleu, rouge-score, nvidia-cusparse-cu12, nvidia-cufft-cu12, nvidia-cudnn-cu12, jupyter-server-terminals, jupyter-client, jaxtyping, InquirerPy, httpcore, googleapis-common-protos, gitdb, fiddle, arrow, utilsforecast, tensorflow-metadata, orbax-checkpoint, nvidia-cusolver-cu12, isoduration, ipykernel, httpx, google-auth-oauthlib, gitpython, wandb, tfds-nightly, tensorflow-datasets, tensorboard, tensorflow, jupyter-events, flax, tensorflow-text, clu, seqio-nightly, jupyter-server, t5, jupyterlab-server, jupyter-lsp, jupyterlab, jupyter-http-over-ws, jupyter, lingvo, praxis, paxml, timesfm\n",
            "  Attempting uninstall: keras\n",
            "    Found existing installation: keras 3.4.1\n",
            "    Uninstalling keras-3.4.1:\n",
            "      Successfully uninstalled keras-3.4.1\n",
            "  Attempting uninstall: flatbuffers\n",
            "    Found existing installation: flatbuffers 24.3.25\n",
            "    Uninstalling flatbuffers-24.3.25:\n",
            "      Successfully uninstalled flatbuffers-24.3.25\n",
            "  Attempting uninstall: typeguard\n",
            "    Found existing installation: typeguard 4.3.0\n",
            "    Uninstalling typeguard-4.3.0:\n",
            "      Successfully uninstalled typeguard-4.3.0\n",
            "  Attempting uninstall: tf-keras\n",
            "    Found existing installation: tf_keras 2.17.0\n",
            "    Uninstalling tf_keras-2.17.0:\n",
            "      Successfully uninstalled tf_keras-2.17.0\n",
            "  Attempting uninstall: tensorboard-data-server\n",
            "    Found existing installation: tensorboard-data-server 0.7.2\n",
            "    Uninstalling tensorboard-data-server-0.7.2:\n",
            "      Successfully uninstalled tensorboard-data-server-0.7.2\n",
            "  Attempting uninstall: protobuf\n",
            "    Found existing installation: protobuf 3.20.3\n",
            "    Uninstalling protobuf-3.20.3:\n",
            "      Successfully uninstalled protobuf-3.20.3\n",
            "  Attempting uninstall: graphviz\n",
            "    Found existing installation: graphviz 0.20.3\n",
            "    Uninstalling graphviz-0.20.3:\n",
            "      Successfully uninstalled graphviz-0.20.3\n",
            "  Attempting uninstall: gast\n",
            "    Found existing installation: gast 0.6.0\n",
            "    Uninstalling gast-0.6.0:\n",
            "      Successfully uninstalled gast-0.6.0\n",
            "  Attempting uninstall: einops\n",
            "    Found existing installation: einops 0.8.0\n",
            "    Uninstalling einops-0.8.0:\n",
            "      Successfully uninstalled einops-0.8.0\n",
            "  Attempting uninstall: tensorstore\n",
            "    Found existing installation: tensorstore 0.1.64\n",
            "    Uninstalling tensorstore-0.1.64:\n",
            "      Successfully uninstalled tensorstore-0.1.64\n",
            "  Attempting uninstall: jupyter-client\n",
            "    Found existing installation: jupyter-client 6.1.12\n",
            "    Uninstalling jupyter-client-6.1.12:\n",
            "      Successfully uninstalled jupyter-client-6.1.12\n",
            "  Attempting uninstall: googleapis-common-protos\n",
            "    Found existing installation: googleapis-common-protos 1.65.0\n",
            "    Uninstalling googleapis-common-protos-1.65.0:\n",
            "      Successfully uninstalled googleapis-common-protos-1.65.0\n",
            "  Attempting uninstall: tensorflow-metadata\n",
            "    Found existing installation: tensorflow-metadata 1.15.0\n",
            "    Uninstalling tensorflow-metadata-1.15.0:\n",
            "      Successfully uninstalled tensorflow-metadata-1.15.0\n",
            "  Attempting uninstall: orbax-checkpoint\n",
            "    Found existing installation: orbax-checkpoint 0.6.1\n",
            "    Uninstalling orbax-checkpoint-0.6.1:\n",
            "      Successfully uninstalled orbax-checkpoint-0.6.1\n",
            "  Attempting uninstall: ipykernel\n",
            "    Found existing installation: ipykernel 5.5.6\n",
            "    Uninstalling ipykernel-5.5.6:\n",
            "      Successfully uninstalled ipykernel-5.5.6\n",
            "  Attempting uninstall: google-auth-oauthlib\n",
            "    Found existing installation: google-auth-oauthlib 1.2.1\n",
            "    Uninstalling google-auth-oauthlib-1.2.1:\n",
            "      Successfully uninstalled google-auth-oauthlib-1.2.1\n",
            "  Attempting uninstall: tensorflow-datasets\n",
            "    Found existing installation: tensorflow-datasets 4.9.6\n",
            "    Uninstalling tensorflow-datasets-4.9.6:\n",
            "      Successfully uninstalled tensorflow-datasets-4.9.6\n",
            "  Attempting uninstall: tensorboard\n",
            "    Found existing installation: tensorboard 2.17.0\n",
            "    Uninstalling tensorboard-2.17.0:\n",
            "      Successfully uninstalled tensorboard-2.17.0\n",
            "  Attempting uninstall: tensorflow\n",
            "    Found existing installation: tensorflow 2.17.0\n",
            "    Uninstalling tensorflow-2.17.0:\n",
            "      Successfully uninstalled tensorflow-2.17.0\n",
            "  Attempting uninstall: flax\n",
            "    Found existing installation: flax 0.8.4\n",
            "    Uninstalling flax-0.8.4:\n",
            "      Successfully uninstalled flax-0.8.4\n",
            "  Attempting uninstall: jupyter-server\n",
            "    Found existing installation: jupyter-server 1.24.0\n",
            "    Uninstalling jupyter-server-1.24.0:\n",
            "      Successfully uninstalled jupyter-server-1.24.0\n",
            "\u001b[31mERROR: pip's dependency resolver does not currently take into account all the packages that are installed. This behaviour is the source of the following dependency conflicts.\n",
            "cudf-cu12 24.4.1 requires protobuf<5,>=3.20, but you have protobuf 3.19.6 which is incompatible.\n",
            "google-cloud-aiplatform 1.64.0 requires protobuf!=4.21.0,!=4.21.1,!=4.21.2,!=4.21.3,!=4.21.4,!=4.21.5,<6.0.0dev,>=3.20.2, but you have protobuf 3.19.6 which is incompatible.\n",
            "google-cloud-bigquery-connection 1.15.5 requires protobuf!=4.21.0,!=4.21.1,!=4.21.2,!=4.21.3,!=4.21.4,!=4.21.5,<6.0.0dev,>=3.20.2, but you have protobuf 3.19.6 which is incompatible.\n",
            "google-cloud-bigtable 2.26.0 requires protobuf!=4.21.0,!=4.21.1,!=4.21.2,!=4.21.3,!=4.21.4,!=4.21.5,<6.0.0dev,>=3.20.2, but you have protobuf 3.19.6 which is incompatible.\n",
            "google-cloud-functions 1.16.5 requires protobuf!=4.21.0,!=4.21.1,!=4.21.2,!=4.21.3,!=4.21.4,!=4.21.5,<6.0.0dev,>=3.20.2, but you have protobuf 3.19.6 which is incompatible.\n",
            "google-cloud-iam 2.15.2 requires protobuf!=4.21.0,!=4.21.1,!=4.21.2,!=4.21.3,!=4.21.4,!=4.21.5,<6.0.0dev,>=3.20.2, but you have protobuf 3.19.6 which is incompatible.\n",
            "google-cloud-language 2.13.4 requires protobuf!=4.21.0,!=4.21.1,!=4.21.2,!=4.21.3,!=4.21.4,!=4.21.5,<6.0.0dev,>=3.20.2, but you have protobuf 3.19.6 which is incompatible.\n",
            "google-cloud-pubsub 2.23.0 requires protobuf!=4.21.0,!=4.21.1,!=4.21.2,!=4.21.3,!=4.21.4,!=4.21.5,<6.0.0dev,>=3.20.2, but you have protobuf 3.19.6 which is incompatible.\n",
            "google-cloud-resource-manager 1.12.5 requires protobuf!=4.21.0,!=4.21.1,!=4.21.2,!=4.21.3,!=4.21.4,!=4.21.5,<6.0.0dev,>=3.20.2, but you have protobuf 3.19.6 which is incompatible.\n",
            "google-cloud-translate 3.15.5 requires protobuf!=4.21.0,!=4.21.1,!=4.21.2,!=4.21.3,!=4.21.4,!=4.21.5,<6.0.0dev,>=3.20.2, but you have protobuf 3.19.6 which is incompatible.\n",
            "google-colab 1.0.0 requires ipykernel==5.5.6, but you have ipykernel 6.29.5 which is incompatible.\n",
            "grpc-google-iam-v1 0.13.1 requires protobuf!=4.21.1,!=4.21.2,!=4.21.3,!=4.21.4,!=4.21.5,<6.0.0dev,>=3.20.2, but you have protobuf 3.19.6 which is incompatible.\n",
            "inflect 7.3.1 requires typeguard>=4.0.1, but you have typeguard 2.13.3 which is incompatible.\n",
            "pandas-gbq 0.23.1 requires google-auth-oauthlib>=0.7.0, but you have google-auth-oauthlib 0.4.6 which is incompatible.\u001b[0m\u001b[31m\n",
            "\u001b[0mSuccessfully installed InquirerPy-0.3.4 arrow-1.3.0 async-lru-2.0.4 clu-0.0.11 colorama-0.4.6 comm-0.2.2 docker-pycreds-0.4.0 einops-0.7.0 einshape-1.0 fiddle-0.3.0 flatbuffers-1.12 flax-0.8.2 fqdn-1.5.1 gast-0.4.0 gitdb-4.0.11 gitpython-3.1.43 google-auth-oauthlib-0.4.6 googleapis-common-protos-1.63.1 graph-compression-google-research-0.0.4 graphviz-0.20.1 h11-0.14.0 httpcore-1.0.5 httpx-0.27.2 ipykernel-6.29.5 isoduration-20.11.0 jax-bitempered-loss-0.0.2 jax-cuda12-pjrt-0.4.26 jax-cuda12-plugin-0.4.26 jaxtyping-0.2.28 jedi-0.19.1 json5-0.9.25 jsonpointer-3.0.0 jupyter-1.1.1 jupyter-client-7.4.9 jupyter-events-0.10.0 jupyter-http-over-ws-0.0.8 jupyter-lsp-2.2.5 jupyter-server-2.14.2 jupyter-server-terminals-0.5.3 jupyterlab-4.2.5 jupyterlab-server-2.27.3 keras-2.9.0 keras-preprocessing-1.1.2 libcst-1.4.0 lingvo-0.12.7 mesh-tensorflow-0.1.21 ml-collections-0.1.1 model-pruning-google-research-0.0.5 nvidia-cublas-cu12-12.6.1.4 nvidia-cuda-cupti-cu12-12.6.68 nvidia-cuda-nvcc-cu12-12.6.68 nvidia-cuda-nvrtc-cu12-12.6.68 nvidia-cuda-runtime-cu12-12.6.68 nvidia-cudnn-cu12-8.9.7.29 nvidia-cufft-cu12-11.2.6.59 nvidia-cusolver-cu12-11.6.4.69 nvidia-cusparse-cu12-12.5.3.3 nvidia-nvjitlink-cu12-12.6.68 optax-shampoo-0.0.6 orbax-checkpoint-0.5.9 overrides-7.7.0 paxml-1.4.0 pfzy-0.3.4 portalocker-2.10.1 praxis-1.4.0 protobuf-3.19.6 pyglove-0.4.4 python-json-logger-2.0.7 rfc3339-validator-0.1.4 rfc3986-validator-0.1.1 rouge-score-0.1.2 sacrebleu-2.4.3 sentry-sdk-2.13.0 seqio-nightly-0.0.17.dev20231010 setproctitle-1.3.3 smmap-5.0.1 t5-0.9.4 tensorboard-2.9.1 tensorboard-data-server-0.6.1 tensorboard-plugin-wit-1.8.1 tensorflow-2.9.3 tensorflow-datasets-4.8.3 tensorflow-estimator-2.9.0 tensorflow-metadata-1.12.0 tensorflow-text-2.9.0 tensorstore-0.1.55 tf-keras-2.15.0 tfds-nightly-4.8.3.dev202303280045 timesfm-1.0.1 typeguard-2.13.3 types-python-dateutil-2.9.0.20240906 uri-template-1.3.0 utilsforecast-0.2.4 wandb-0.17.9\n"
          ]
        },
        {
          "output_type": "display_data",
          "data": {
            "application/vnd.colab-display-data+json": {
              "pip_warning": {
                "packages": [
                  "google"
                ]
              },
              "id": "63d04bddd9244d19830ac26a0449e27a"
            }
          },
          "metadata": {}
        }
      ],
      "source": [
        "pip install git+https://github.com/google-research/timesfm\n"
      ]
    },
    {
      "cell_type": "code",
      "execution_count": 1,
      "metadata": {
        "colab": {
          "base_uri": "https://localhost:8080/"
        },
        "id": "XmWer0Nv_rjo",
        "outputId": "dd36d2b5-feb5-41e8-be61-ea3c980d342a"
      },
      "outputs": [
        {
          "output_type": "stream",
          "name": "stdout",
          "text": [
            "Requirement already satisfied: yfinance in /usr/local/lib/python3.10/dist-packages (0.2.43)\n",
            "Requirement already satisfied: pandas>=1.3.0 in /usr/local/lib/python3.10/dist-packages (from yfinance) (2.1.4)\n",
            "Requirement already satisfied: numpy>=1.16.5 in /usr/local/lib/python3.10/dist-packages (from yfinance) (1.26.4)\n",
            "Requirement already satisfied: requests>=2.31 in /usr/local/lib/python3.10/dist-packages (from yfinance) (2.32.3)\n",
            "Requirement already satisfied: multitasking>=0.0.7 in /usr/local/lib/python3.10/dist-packages (from yfinance) (0.0.11)\n",
            "Requirement already satisfied: lxml>=4.9.1 in /usr/local/lib/python3.10/dist-packages (from yfinance) (4.9.4)\n",
            "Requirement already satisfied: platformdirs>=2.0.0 in /usr/local/lib/python3.10/dist-packages (from yfinance) (4.2.2)\n",
            "Requirement already satisfied: pytz>=2022.5 in /usr/local/lib/python3.10/dist-packages (from yfinance) (2024.1)\n",
            "Requirement already satisfied: frozendict>=2.3.4 in /usr/local/lib/python3.10/dist-packages (from yfinance) (2.4.4)\n",
            "Requirement already satisfied: peewee>=3.16.2 in /usr/local/lib/python3.10/dist-packages (from yfinance) (3.17.6)\n",
            "Requirement already satisfied: beautifulsoup4>=4.11.1 in /usr/local/lib/python3.10/dist-packages (from yfinance) (4.12.3)\n",
            "Requirement already satisfied: html5lib>=1.1 in /usr/local/lib/python3.10/dist-packages (from yfinance) (1.1)\n",
            "Requirement already satisfied: soupsieve>1.2 in /usr/local/lib/python3.10/dist-packages (from beautifulsoup4>=4.11.1->yfinance) (2.6)\n",
            "Requirement already satisfied: six>=1.9 in /usr/local/lib/python3.10/dist-packages (from html5lib>=1.1->yfinance) (1.16.0)\n",
            "Requirement already satisfied: webencodings in /usr/local/lib/python3.10/dist-packages (from html5lib>=1.1->yfinance) (0.5.1)\n",
            "Requirement already satisfied: python-dateutil>=2.8.2 in /usr/local/lib/python3.10/dist-packages (from pandas>=1.3.0->yfinance) (2.8.2)\n",
            "Requirement already satisfied: tzdata>=2022.1 in /usr/local/lib/python3.10/dist-packages (from pandas>=1.3.0->yfinance) (2024.1)\n",
            "Requirement already satisfied: charset-normalizer<4,>=2 in /usr/local/lib/python3.10/dist-packages (from requests>=2.31->yfinance) (3.3.2)\n",
            "Requirement already satisfied: idna<4,>=2.5 in /usr/local/lib/python3.10/dist-packages (from requests>=2.31->yfinance) (3.8)\n",
            "Requirement already satisfied: urllib3<3,>=1.21.1 in /usr/local/lib/python3.10/dist-packages (from requests>=2.31->yfinance) (2.0.7)\n",
            "Requirement already satisfied: certifi>=2017.4.17 in /usr/local/lib/python3.10/dist-packages (from requests>=2.31->yfinance) (2024.8.30)\n",
            "Requirement already satisfied: utilsforecast in /usr/local/lib/python3.10/dist-packages (0.2.4)\n",
            "Requirement already satisfied: numpy in /usr/local/lib/python3.10/dist-packages (from utilsforecast) (1.26.4)\n",
            "Requirement already satisfied: packaging in /usr/local/lib/python3.10/dist-packages (from utilsforecast) (24.1)\n",
            "Requirement already satisfied: pandas>=1.1.1 in /usr/local/lib/python3.10/dist-packages (from utilsforecast) (2.1.4)\n",
            "Requirement already satisfied: python-dateutil>=2.8.2 in /usr/local/lib/python3.10/dist-packages (from pandas>=1.1.1->utilsforecast) (2.8.2)\n",
            "Requirement already satisfied: pytz>=2020.1 in /usr/local/lib/python3.10/dist-packages (from pandas>=1.1.1->utilsforecast) (2024.1)\n",
            "Requirement already satisfied: tzdata>=2022.1 in /usr/local/lib/python3.10/dist-packages (from pandas>=1.1.1->utilsforecast) (2024.1)\n",
            "Requirement already satisfied: six>=1.5 in /usr/local/lib/python3.10/dist-packages (from python-dateutil>=2.8.2->pandas>=1.1.1->utilsforecast) (1.16.0)\n"
          ]
        }
      ],
      "source": [
        "!pip install yfinance\n",
        "!pip install utilsforecast\n"
      ]
    },
    {
      "cell_type": "code",
      "execution_count": 9,
      "metadata": {
        "id": "b021SYfS_87L"
      },
      "outputs": [],
      "source": [
        "import os\n",
        "os.environ['XLA_PYTHON_CLIENT_PREALLOCATE'] = 'false'\n",
        "os.environ['JAX_PMAP_USE_TENSORSTORE'] = 'false'"
      ]
    },
    {
      "cell_type": "code",
      "execution_count": 10,
      "metadata": {
        "id": "zOXko2V9Lv-q"
      },
      "outputs": [],
      "source": [
        "import timesfm\n",
        "import gc\n",
        "import numpy as np\n",
        "import pandas as pd\n",
        "from timesfm import patched_decoder\n",
        "from timesfm import data_loader\n",
        "import yfinance as yf"
      ]
    },
    {
      "cell_type": "code",
      "execution_count": 11,
      "metadata": {
        "id": "7SXbhtQ6Lv-r"
      },
      "outputs": [],
      "source": [
        "from tqdm import tqdm\n",
        "import dataclasses\n",
        "import IPython\n",
        "import IPython.display\n",
        "import matplotlib as mpl\n",
        "import matplotlib.pyplot as plt\n",
        "mpl.rcParams['figure.figsize'] = (8, 6)\n",
        "mpl.rcParams['axes.grid'] = False"
      ]
    },
    {
      "cell_type": "code",
      "execution_count": 12,
      "metadata": {
        "colab": {
          "base_uri": "https://localhost:8080/",
          "height": 399,
          "referenced_widgets": [
            "2ea3268f0cdd4b7d99695f323ce7e8ac",
            "764d1581b15146eba89e0d48a4fe5081",
            "0be1a8a5fd914d5ab8ed66d44a2c1798",
            "a9a6e782451e4c7d952b479fe3b71653",
            "0c71a30f08cb411390f5777d720ecb3d",
            "1cf9cf7c676c482cae53d8d340721332",
            "4a0a76c08e92447f8452ddd49c6cf268",
            "61fd1cbc4b674cb3a57d028ba95c8d92",
            "32edf15819cb4dc291259aa31c79af48",
            "b723448b21ac47608e46574d7dce5b03",
            "b1eeb2349e974e5eb49671efb0b5d009"
          ]
        },
        "id": "FIveKYrIABNr",
        "outputId": "61b8b998-6533-4492-d86a-7c5d66892f11"
      },
      "outputs": [
        {
          "output_type": "stream",
          "name": "stderr",
          "text": [
            "/usr/local/lib/python3.10/dist-packages/huggingface_hub/utils/_token.py:89: UserWarning: \n",
            "The secret `HF_TOKEN` does not exist in your Colab secrets.\n",
            "To authenticate with the Hugging Face Hub, create a token in your settings tab (https://huggingface.co/settings/tokens), set it as secret in your Google Colab and restart your session.\n",
            "You will be able to reuse this secret in all of your notebooks.\n",
            "Please note that authentication is recommended but still optional to access public models or datasets.\n",
            "  warnings.warn(\n"
          ]
        },
        {
          "output_type": "display_data",
          "data": {
            "text/plain": [
              "Fetching 5 files:   0%|          | 0/5 [00:00<?, ?it/s]"
            ],
            "application/vnd.jupyter.widget-view+json": {
              "version_major": 2,
              "version_minor": 0,
              "model_id": "2ea3268f0cdd4b7d99695f323ce7e8ac"
            }
          },
          "metadata": {}
        },
        {
          "output_type": "stream",
          "name": "stdout",
          "text": [
            "Constructing model weights.\n"
          ]
        },
        {
          "output_type": "stream",
          "name": "stderr",
          "text": [
            "WARNING:absl:No registered CheckpointArgs found for handler type: <class 'paxml.checkpoints.FlaxCheckpointHandler'>\n",
            "WARNING:absl:Configured `CheckpointManager` using deprecated legacy API. Please follow the instructions at https://orbax.readthedocs.io/en/latest/api_refactor.html to migrate by May 1st, 2024.\n",
            "WARNING:absl:train_state_unpadded_shape_dtype_struct is not provided. We assume `train_state` is unpadded.\n"
          ]
        },
        {
          "output_type": "stream",
          "name": "stdout",
          "text": [
            "Constructed model weights in 4.43 seconds.\n",
            "Restoring checkpoint from /root/.cache/huggingface/hub/models--google--timesfm-1.0-200m/snapshots/8775f7531211ac864b739fe776b0b255c277e2be/checkpoints.\n"
          ]
        },
        {
          "output_type": "stream",
          "name": "stderr",
          "text": [
            "ERROR:absl:For checkpoint version > 1.0, we require users to provide\n",
            "          `train_state_unpadded_shape_dtype_struct` during checkpoint\n",
            "          saving/restoring, to avoid potential silent bugs when loading\n",
            "          checkpoints to incompatible unpadded shapes of TrainState.\n"
          ]
        },
        {
          "output_type": "stream",
          "name": "stdout",
          "text": [
            "Restored checkpoint in 4.91 seconds.\n",
            "Jitting decoding.\n",
            "Jitted decoding in 22.77 seconds.\n"
          ]
        }
      ],
      "source": [
        "# Loading TimesFM pretrained checkpoint\n",
        "tfm = timesfm.TimesFm(\n",
        "    context_len=64,\n",
        "    horizon_len=1,\n",
        "    input_patch_len=32,\n",
        "    output_patch_len=128,\n",
        "    num_layers=20,\n",
        "    model_dims=1280,\n",
        "    backend=\"gpu\",\n",
        ")\n",
        "tfm.load_from_checkpoint(repo_id=\"google/timesfm-1.0-200m\")\n",
        "\n"
      ]
    },
    {
      "cell_type": "code",
      "execution_count": 13,
      "metadata": {
        "colab": {
          "base_uri": "https://localhost:8080/"
        },
        "id": "yVJy1ftLL69e",
        "outputId": "6e98c62f-a10d-4b4a-eb29-cfb7fa07ee90"
      },
      "outputs": [
        {
          "output_type": "stream",
          "name": "stderr",
          "text": [
            "\r[*********************100%***********************]  1 of 1 completed\n"
          ]
        },
        {
          "output_type": "stream",
          "name": "stdout",
          "text": [
            "Number of records: 10603\n"
          ]
        }
      ],
      "source": [
        "import yfinance as yf\n",
        "import pandas as pd\n",
        "import numpy as np\n",
        "\n",
        "# انتخاب نماد سهام (مثال: AAPL برای اپل)\n",
        "ticker = 'AAPL'\n",
        "\n",
        "# بارگذاری داده‌های بورسی روزانه\n",
        "data = yf.download(ticker, start='1900-01-01', end='2023-01-01', interval='1d')\n",
        "data = data.dropna()\n",
        "data.reset_index(inplace=True)  # تبدیل شاخص به ستون\n",
        "\n",
        "# تغییر نام ستون‌ها\n",
        "data.rename(columns={'Date': 'date', 'Close': 'y'}, inplace=True)\n",
        "\n",
        "# انتخاب ستون‌های مناسب\n",
        "ts_cols = [\"Open\", \"High\", \"Low\", \"y\", \"Volume\"]\n",
        "\n",
        "# محاسبه ویژگی‌های اضافی\n",
        "data['MA_10'] = data['y'].rolling(window=10).mean()\n",
        "data['MA_50'] = data['y'].rolling(window=50).mean()\n",
        "data['RSI'] = 100 - (100 / (1 + data['y'].pct_change().rolling(window=14).apply(lambda x: (x[x > 0].mean() / -x[x < 0].mean()) if x[x < 0].mean() != 0 else np.inf)))\n",
        "\n",
        "\n",
        "\n",
        "# انتخاب ستون‌های نهایی\n",
        "final_cols = [\"date\", \"Open\", \"High\", \"Low\", \"y\", \"Volume\", \"MA_10\", \"MA_50\", \"RSI\"]\n",
        "data = data[final_cols]\n",
        "\n",
        "# ذخیره‌سازی داده‌ها در یک فایل CSV\n",
        "data_path = 'stock_data.csv'\n",
        "data.to_csv(data_path, index=False)\n",
        "\n",
        "print(f\"Number of records: {len(data)}\")\n"
      ]
    },
    {
      "cell_type": "code",
      "execution_count": 14,
      "metadata": {
        "colab": {
          "base_uri": "https://localhost:8080/",
          "height": 424
        },
        "id": "saqw36LNEh5j",
        "outputId": "142c25b4-fdf7-4532-f87f-e7b9b6909942"
      },
      "outputs": [
        {
          "output_type": "execute_result",
          "data": {
            "text/plain": [
              "            date        Open        High         Low           y     Volume  \\\n",
              "0     1980-12-12    0.128348    0.128906    0.128348    0.128348  469033600   \n",
              "1     1980-12-15    0.122210    0.122210    0.121652    0.121652  175884800   \n",
              "2     1980-12-16    0.113281    0.113281    0.112723    0.112723  105728000   \n",
              "3     1980-12-17    0.115513    0.116071    0.115513    0.115513   86441600   \n",
              "4     1980-12-18    0.118862    0.119420    0.118862    0.118862   73449600   \n",
              "...          ...         ...         ...         ...         ...        ...   \n",
              "10598 2022-12-23  130.919998  132.419998  129.639999  131.860001   63814900   \n",
              "10599 2022-12-27  131.380005  131.410004  128.720001  130.029999   69007800   \n",
              "10600 2022-12-28  129.669998  131.029999  125.870003  126.040001   85438400   \n",
              "10601 2022-12-29  127.989998  130.479996  127.730003  129.610001   75703700   \n",
              "10602 2022-12-30  128.410004  129.949997  127.430000  129.929993   77034200   \n",
              "\n",
              "            MA_10       MA_50        RSI  \n",
              "0             NaN         NaN        NaN  \n",
              "1             NaN         NaN        NaN  \n",
              "2             NaN         NaN        NaN  \n",
              "3             NaN         NaN        NaN  \n",
              "4             NaN         NaN        NaN  \n",
              "...           ...         ...        ...  \n",
              "10598  136.839000  144.131800  47.618672  \n",
              "10599  135.392999  143.964799  49.449664  \n",
              "10600  133.449999  143.637399  46.803015  \n",
              "10601  132.089999  143.354599  52.847661  \n",
              "10602  131.432998  143.075999  45.969890  \n",
              "\n",
              "[10603 rows x 9 columns]"
            ],
            "text/html": [
              "\n",
              "  <div id=\"df-0a1731ae-41da-4bb7-ab88-98c25a3e4258\" class=\"colab-df-container\">\n",
              "    <div>\n",
              "<style scoped>\n",
              "    .dataframe tbody tr th:only-of-type {\n",
              "        vertical-align: middle;\n",
              "    }\n",
              "\n",
              "    .dataframe tbody tr th {\n",
              "        vertical-align: top;\n",
              "    }\n",
              "\n",
              "    .dataframe thead th {\n",
              "        text-align: right;\n",
              "    }\n",
              "</style>\n",
              "<table border=\"1\" class=\"dataframe\">\n",
              "  <thead>\n",
              "    <tr style=\"text-align: right;\">\n",
              "      <th></th>\n",
              "      <th>date</th>\n",
              "      <th>Open</th>\n",
              "      <th>High</th>\n",
              "      <th>Low</th>\n",
              "      <th>y</th>\n",
              "      <th>Volume</th>\n",
              "      <th>MA_10</th>\n",
              "      <th>MA_50</th>\n",
              "      <th>RSI</th>\n",
              "    </tr>\n",
              "  </thead>\n",
              "  <tbody>\n",
              "    <tr>\n",
              "      <th>0</th>\n",
              "      <td>1980-12-12</td>\n",
              "      <td>0.128348</td>\n",
              "      <td>0.128906</td>\n",
              "      <td>0.128348</td>\n",
              "      <td>0.128348</td>\n",
              "      <td>469033600</td>\n",
              "      <td>NaN</td>\n",
              "      <td>NaN</td>\n",
              "      <td>NaN</td>\n",
              "    </tr>\n",
              "    <tr>\n",
              "      <th>1</th>\n",
              "      <td>1980-12-15</td>\n",
              "      <td>0.122210</td>\n",
              "      <td>0.122210</td>\n",
              "      <td>0.121652</td>\n",
              "      <td>0.121652</td>\n",
              "      <td>175884800</td>\n",
              "      <td>NaN</td>\n",
              "      <td>NaN</td>\n",
              "      <td>NaN</td>\n",
              "    </tr>\n",
              "    <tr>\n",
              "      <th>2</th>\n",
              "      <td>1980-12-16</td>\n",
              "      <td>0.113281</td>\n",
              "      <td>0.113281</td>\n",
              "      <td>0.112723</td>\n",
              "      <td>0.112723</td>\n",
              "      <td>105728000</td>\n",
              "      <td>NaN</td>\n",
              "      <td>NaN</td>\n",
              "      <td>NaN</td>\n",
              "    </tr>\n",
              "    <tr>\n",
              "      <th>3</th>\n",
              "      <td>1980-12-17</td>\n",
              "      <td>0.115513</td>\n",
              "      <td>0.116071</td>\n",
              "      <td>0.115513</td>\n",
              "      <td>0.115513</td>\n",
              "      <td>86441600</td>\n",
              "      <td>NaN</td>\n",
              "      <td>NaN</td>\n",
              "      <td>NaN</td>\n",
              "    </tr>\n",
              "    <tr>\n",
              "      <th>4</th>\n",
              "      <td>1980-12-18</td>\n",
              "      <td>0.118862</td>\n",
              "      <td>0.119420</td>\n",
              "      <td>0.118862</td>\n",
              "      <td>0.118862</td>\n",
              "      <td>73449600</td>\n",
              "      <td>NaN</td>\n",
              "      <td>NaN</td>\n",
              "      <td>NaN</td>\n",
              "    </tr>\n",
              "    <tr>\n",
              "      <th>...</th>\n",
              "      <td>...</td>\n",
              "      <td>...</td>\n",
              "      <td>...</td>\n",
              "      <td>...</td>\n",
              "      <td>...</td>\n",
              "      <td>...</td>\n",
              "      <td>...</td>\n",
              "      <td>...</td>\n",
              "      <td>...</td>\n",
              "    </tr>\n",
              "    <tr>\n",
              "      <th>10598</th>\n",
              "      <td>2022-12-23</td>\n",
              "      <td>130.919998</td>\n",
              "      <td>132.419998</td>\n",
              "      <td>129.639999</td>\n",
              "      <td>131.860001</td>\n",
              "      <td>63814900</td>\n",
              "      <td>136.839000</td>\n",
              "      <td>144.131800</td>\n",
              "      <td>47.618672</td>\n",
              "    </tr>\n",
              "    <tr>\n",
              "      <th>10599</th>\n",
              "      <td>2022-12-27</td>\n",
              "      <td>131.380005</td>\n",
              "      <td>131.410004</td>\n",
              "      <td>128.720001</td>\n",
              "      <td>130.029999</td>\n",
              "      <td>69007800</td>\n",
              "      <td>135.392999</td>\n",
              "      <td>143.964799</td>\n",
              "      <td>49.449664</td>\n",
              "    </tr>\n",
              "    <tr>\n",
              "      <th>10600</th>\n",
              "      <td>2022-12-28</td>\n",
              "      <td>129.669998</td>\n",
              "      <td>131.029999</td>\n",
              "      <td>125.870003</td>\n",
              "      <td>126.040001</td>\n",
              "      <td>85438400</td>\n",
              "      <td>133.449999</td>\n",
              "      <td>143.637399</td>\n",
              "      <td>46.803015</td>\n",
              "    </tr>\n",
              "    <tr>\n",
              "      <th>10601</th>\n",
              "      <td>2022-12-29</td>\n",
              "      <td>127.989998</td>\n",
              "      <td>130.479996</td>\n",
              "      <td>127.730003</td>\n",
              "      <td>129.610001</td>\n",
              "      <td>75703700</td>\n",
              "      <td>132.089999</td>\n",
              "      <td>143.354599</td>\n",
              "      <td>52.847661</td>\n",
              "    </tr>\n",
              "    <tr>\n",
              "      <th>10602</th>\n",
              "      <td>2022-12-30</td>\n",
              "      <td>128.410004</td>\n",
              "      <td>129.949997</td>\n",
              "      <td>127.430000</td>\n",
              "      <td>129.929993</td>\n",
              "      <td>77034200</td>\n",
              "      <td>131.432998</td>\n",
              "      <td>143.075999</td>\n",
              "      <td>45.969890</td>\n",
              "    </tr>\n",
              "  </tbody>\n",
              "</table>\n",
              "<p>10603 rows × 9 columns</p>\n",
              "</div>\n",
              "    <div class=\"colab-df-buttons\">\n",
              "\n",
              "  <div class=\"colab-df-container\">\n",
              "    <button class=\"colab-df-convert\" onclick=\"convertToInteractive('df-0a1731ae-41da-4bb7-ab88-98c25a3e4258')\"\n",
              "            title=\"Convert this dataframe to an interactive table.\"\n",
              "            style=\"display:none;\">\n",
              "\n",
              "  <svg xmlns=\"http://www.w3.org/2000/svg\" height=\"24px\" viewBox=\"0 -960 960 960\">\n",
              "    <path d=\"M120-120v-720h720v720H120Zm60-500h600v-160H180v160Zm220 220h160v-160H400v160Zm0 220h160v-160H400v160ZM180-400h160v-160H180v160Zm440 0h160v-160H620v160ZM180-180h160v-160H180v160Zm440 0h160v-160H620v160Z\"/>\n",
              "  </svg>\n",
              "    </button>\n",
              "\n",
              "  <style>\n",
              "    .colab-df-container {\n",
              "      display:flex;\n",
              "      gap: 12px;\n",
              "    }\n",
              "\n",
              "    .colab-df-convert {\n",
              "      background-color: #E8F0FE;\n",
              "      border: none;\n",
              "      border-radius: 50%;\n",
              "      cursor: pointer;\n",
              "      display: none;\n",
              "      fill: #1967D2;\n",
              "      height: 32px;\n",
              "      padding: 0 0 0 0;\n",
              "      width: 32px;\n",
              "    }\n",
              "\n",
              "    .colab-df-convert:hover {\n",
              "      background-color: #E2EBFA;\n",
              "      box-shadow: 0px 1px 2px rgba(60, 64, 67, 0.3), 0px 1px 3px 1px rgba(60, 64, 67, 0.15);\n",
              "      fill: #174EA6;\n",
              "    }\n",
              "\n",
              "    .colab-df-buttons div {\n",
              "      margin-bottom: 4px;\n",
              "    }\n",
              "\n",
              "    [theme=dark] .colab-df-convert {\n",
              "      background-color: #3B4455;\n",
              "      fill: #D2E3FC;\n",
              "    }\n",
              "\n",
              "    [theme=dark] .colab-df-convert:hover {\n",
              "      background-color: #434B5C;\n",
              "      box-shadow: 0px 1px 3px 1px rgba(0, 0, 0, 0.15);\n",
              "      filter: drop-shadow(0px 1px 2px rgba(0, 0, 0, 0.3));\n",
              "      fill: #FFFFFF;\n",
              "    }\n",
              "  </style>\n",
              "\n",
              "    <script>\n",
              "      const buttonEl =\n",
              "        document.querySelector('#df-0a1731ae-41da-4bb7-ab88-98c25a3e4258 button.colab-df-convert');\n",
              "      buttonEl.style.display =\n",
              "        google.colab.kernel.accessAllowed ? 'block' : 'none';\n",
              "\n",
              "      async function convertToInteractive(key) {\n",
              "        const element = document.querySelector('#df-0a1731ae-41da-4bb7-ab88-98c25a3e4258');\n",
              "        const dataTable =\n",
              "          await google.colab.kernel.invokeFunction('convertToInteractive',\n",
              "                                                    [key], {});\n",
              "        if (!dataTable) return;\n",
              "\n",
              "        const docLinkHtml = 'Like what you see? Visit the ' +\n",
              "          '<a target=\"_blank\" href=https://colab.research.google.com/notebooks/data_table.ipynb>data table notebook</a>'\n",
              "          + ' to learn more about interactive tables.';\n",
              "        element.innerHTML = '';\n",
              "        dataTable['output_type'] = 'display_data';\n",
              "        await google.colab.output.renderOutput(dataTable, element);\n",
              "        const docLink = document.createElement('div');\n",
              "        docLink.innerHTML = docLinkHtml;\n",
              "        element.appendChild(docLink);\n",
              "      }\n",
              "    </script>\n",
              "  </div>\n",
              "\n",
              "\n",
              "<div id=\"df-631d71c7-cf57-4d58-ad43-042a86ac618f\">\n",
              "  <button class=\"colab-df-quickchart\" onclick=\"quickchart('df-631d71c7-cf57-4d58-ad43-042a86ac618f')\"\n",
              "            title=\"Suggest charts\"\n",
              "            style=\"display:none;\">\n",
              "\n",
              "<svg xmlns=\"http://www.w3.org/2000/svg\" height=\"24px\"viewBox=\"0 0 24 24\"\n",
              "     width=\"24px\">\n",
              "    <g>\n",
              "        <path d=\"M19 3H5c-1.1 0-2 .9-2 2v14c0 1.1.9 2 2 2h14c1.1 0 2-.9 2-2V5c0-1.1-.9-2-2-2zM9 17H7v-7h2v7zm4 0h-2V7h2v10zm4 0h-2v-4h2v4z\"/>\n",
              "    </g>\n",
              "</svg>\n",
              "  </button>\n",
              "\n",
              "<style>\n",
              "  .colab-df-quickchart {\n",
              "      --bg-color: #E8F0FE;\n",
              "      --fill-color: #1967D2;\n",
              "      --hover-bg-color: #E2EBFA;\n",
              "      --hover-fill-color: #174EA6;\n",
              "      --disabled-fill-color: #AAA;\n",
              "      --disabled-bg-color: #DDD;\n",
              "  }\n",
              "\n",
              "  [theme=dark] .colab-df-quickchart {\n",
              "      --bg-color: #3B4455;\n",
              "      --fill-color: #D2E3FC;\n",
              "      --hover-bg-color: #434B5C;\n",
              "      --hover-fill-color: #FFFFFF;\n",
              "      --disabled-bg-color: #3B4455;\n",
              "      --disabled-fill-color: #666;\n",
              "  }\n",
              "\n",
              "  .colab-df-quickchart {\n",
              "    background-color: var(--bg-color);\n",
              "    border: none;\n",
              "    border-radius: 50%;\n",
              "    cursor: pointer;\n",
              "    display: none;\n",
              "    fill: var(--fill-color);\n",
              "    height: 32px;\n",
              "    padding: 0;\n",
              "    width: 32px;\n",
              "  }\n",
              "\n",
              "  .colab-df-quickchart:hover {\n",
              "    background-color: var(--hover-bg-color);\n",
              "    box-shadow: 0 1px 2px rgba(60, 64, 67, 0.3), 0 1px 3px 1px rgba(60, 64, 67, 0.15);\n",
              "    fill: var(--button-hover-fill-color);\n",
              "  }\n",
              "\n",
              "  .colab-df-quickchart-complete:disabled,\n",
              "  .colab-df-quickchart-complete:disabled:hover {\n",
              "    background-color: var(--disabled-bg-color);\n",
              "    fill: var(--disabled-fill-color);\n",
              "    box-shadow: none;\n",
              "  }\n",
              "\n",
              "  .colab-df-spinner {\n",
              "    border: 2px solid var(--fill-color);\n",
              "    border-color: transparent;\n",
              "    border-bottom-color: var(--fill-color);\n",
              "    animation:\n",
              "      spin 1s steps(1) infinite;\n",
              "  }\n",
              "\n",
              "  @keyframes spin {\n",
              "    0% {\n",
              "      border-color: transparent;\n",
              "      border-bottom-color: var(--fill-color);\n",
              "      border-left-color: var(--fill-color);\n",
              "    }\n",
              "    20% {\n",
              "      border-color: transparent;\n",
              "      border-left-color: var(--fill-color);\n",
              "      border-top-color: var(--fill-color);\n",
              "    }\n",
              "    30% {\n",
              "      border-color: transparent;\n",
              "      border-left-color: var(--fill-color);\n",
              "      border-top-color: var(--fill-color);\n",
              "      border-right-color: var(--fill-color);\n",
              "    }\n",
              "    40% {\n",
              "      border-color: transparent;\n",
              "      border-right-color: var(--fill-color);\n",
              "      border-top-color: var(--fill-color);\n",
              "    }\n",
              "    60% {\n",
              "      border-color: transparent;\n",
              "      border-right-color: var(--fill-color);\n",
              "    }\n",
              "    80% {\n",
              "      border-color: transparent;\n",
              "      border-right-color: var(--fill-color);\n",
              "      border-bottom-color: var(--fill-color);\n",
              "    }\n",
              "    90% {\n",
              "      border-color: transparent;\n",
              "      border-bottom-color: var(--fill-color);\n",
              "    }\n",
              "  }\n",
              "</style>\n",
              "\n",
              "  <script>\n",
              "    async function quickchart(key) {\n",
              "      const quickchartButtonEl =\n",
              "        document.querySelector('#' + key + ' button');\n",
              "      quickchartButtonEl.disabled = true;  // To prevent multiple clicks.\n",
              "      quickchartButtonEl.classList.add('colab-df-spinner');\n",
              "      try {\n",
              "        const charts = await google.colab.kernel.invokeFunction(\n",
              "            'suggestCharts', [key], {});\n",
              "      } catch (error) {\n",
              "        console.error('Error during call to suggestCharts:', error);\n",
              "      }\n",
              "      quickchartButtonEl.classList.remove('colab-df-spinner');\n",
              "      quickchartButtonEl.classList.add('colab-df-quickchart-complete');\n",
              "    }\n",
              "    (() => {\n",
              "      let quickchartButtonEl =\n",
              "        document.querySelector('#df-631d71c7-cf57-4d58-ad43-042a86ac618f button');\n",
              "      quickchartButtonEl.style.display =\n",
              "        google.colab.kernel.accessAllowed ? 'block' : 'none';\n",
              "    })();\n",
              "  </script>\n",
              "</div>\n",
              "    </div>\n",
              "  </div>\n"
            ],
            "application/vnd.google.colaboratory.intrinsic+json": {
              "type": "dataframe",
              "variable_name": "data",
              "summary": "{\n  \"name\": \"data\",\n  \"rows\": 10603,\n  \"fields\": [\n    {\n      \"column\": \"date\",\n      \"properties\": {\n        \"dtype\": \"date\",\n        \"min\": \"1980-12-12 00:00:00\",\n        \"max\": \"2022-12-30 00:00:00\",\n        \"num_unique_values\": 10603,\n        \"samples\": [\n          \"1982-02-26 00:00:00\",\n          \"2010-09-07 00:00:00\",\n          \"2011-08-30 00:00:00\"\n        ],\n        \"semantic_type\": \"\",\n        \"description\": \"\"\n      }\n    },\n    {\n      \"column\": \"Open\",\n      \"properties\": {\n        \"dtype\": \"number\",\n        \"std\": 35.13039821732433,\n        \"min\": 0.049665000289678574,\n        \"max\": 182.6300048828125,\n        \"num_unique_values\": 5944,\n        \"samples\": [\n          0.36714300513267517,\n          158.92999267578125,\n          149.07000732421875\n        ],\n        \"semantic_type\": \"\",\n        \"description\": \"\"\n      }\n    },\n    {\n      \"column\": \"High\",\n      \"properties\": {\n        \"dtype\": \"number\",\n        \"std\": 35.555103426757086,\n        \"min\": 0.049665000289678574,\n        \"max\": 182.94000244140625,\n        \"num_unique_values\": 5879,\n        \"samples\": [\n          119.62999725341797,\n          95.2300033569336,\n          0.18861599266529083\n        ],\n        \"semantic_type\": \"\",\n        \"description\": \"\"\n      }\n    },\n    {\n      \"column\": \"Low\",\n      \"properties\": {\n        \"dtype\": \"number\",\n        \"std\": 34.71378242408879,\n        \"min\": 0.04910700023174286,\n        \"max\": 179.1199951171875,\n        \"num_unique_values\": 5863,\n        \"samples\": [\n          4.32857084274292,\n          23.837499618530273,\n          0.8387500047683716\n        ],\n        \"semantic_type\": \"\",\n        \"description\": \"\"\n      }\n    },\n    {\n      \"column\": \"y\",\n      \"properties\": {\n        \"dtype\": \"number\",\n        \"std\": 35.1495399389416,\n        \"min\": 0.04910700023174286,\n        \"max\": 182.00999450683594,\n        \"num_unique_values\": 6049,\n        \"samples\": [\n          21.04857063293457,\n          6.184286117553711,\n          29.412500381469727\n        ],\n        \"semantic_type\": \"\",\n        \"description\": \"\"\n      }\n    },\n    {\n      \"column\": \"Volume\",\n      \"properties\": {\n        \"dtype\": \"number\",\n        \"std\": 337850328,\n        \"min\": 0,\n        \"max\": 7421640800,\n        \"num_unique_values\": 10039,\n        \"samples\": [\n          614336800,\n          80192000,\n          200888000\n        ],\n        \"semantic_type\": \"\",\n        \"description\": \"\"\n      }\n    },\n    {\n      \"column\": \"MA_10\",\n      \"properties\": {\n        \"dtype\": \"number\",\n        \"std\": 35.071781950602855,\n        \"min\": 0.05323660001158714,\n        \"max\": 178.33199920654297,\n        \"num_unique_values\": 10290,\n        \"samples\": [\n          0.3703125029802322,\n          7.201357126235962,\n          2.6134998083114622\n        ],\n        \"semantic_type\": \"\",\n        \"description\": \"\"\n      }\n    },\n    {\n      \"column\": \"MA_50\",\n      \"properties\": {\n        \"dtype\": \"number\",\n        \"std\": 34.64877901808339,\n        \"min\": 0.05794659957289696,\n        \"max\": 172.66379974365233,\n        \"num_unique_values\": 10490,\n        \"samples\": [\n          19.439492835998536,\n          9.062164287567139,\n          2.676685719490051\n        ],\n        \"semantic_type\": \"\",\n        \"description\": \"\"\n      }\n    },\n    {\n      \"column\": \"RSI\",\n      \"properties\": {\n        \"dtype\": \"number\",\n        \"std\": 11.519546497113529,\n        \"min\": 10.396398847000683,\n        \"max\": 89.81969591658722,\n        \"num_unique_values\": 10553,\n        \"samples\": [\n          56.24582419355232,\n          47.65753106398641,\n          50.065248028967154\n        ],\n        \"semantic_type\": \"\",\n        \"description\": \"\"\n      }\n    }\n  ]\n}"
            }
          },
          "metadata": {},
          "execution_count": 14
        }
      ],
      "source": [
        "data"
      ]
    },
    {
      "cell_type": "code",
      "execution_count": 15,
      "metadata": {
        "id": "zMtldVchChUY"
      },
      "outputs": [],
      "source": [
        "freq = 'D'\n",
        "context_len = 64\n",
        "pred_len = 1\n",
        "batch_size = 14\n",
        "\n",
        "# Define train, validation, and test boundaries\n",
        "train_boundary = int(len(data) * 0.8)\n",
        "val_boundary = int(len(data) * 0.95)"
      ]
    },
    {
      "cell_type": "code",
      "execution_count": 16,
      "metadata": {
        "colab": {
          "base_uri": "https://localhost:8080/"
        },
        "id": "lpXtqcMrE4nU",
        "outputId": "7a5c6157-e97e-43c7-a1c1-3e386c54965e"
      },
      "outputs": [
        {
          "output_type": "execute_result",
          "data": {
            "text/plain": [
              "8482"
            ]
          },
          "metadata": {},
          "execution_count": 16
        }
      ],
      "source": [
        "train_boundary"
      ]
    },
    {
      "cell_type": "code",
      "execution_count": 17,
      "metadata": {
        "colab": {
          "base_uri": "https://localhost:8080/"
        },
        "id": "kh09wt08Cjg_",
        "outputId": "c7a1afc4-62e8-4ef3-c828-23f222a4322f"
      },
      "outputs": [
        {
          "output_type": "stream",
          "name": "stderr",
          "text": [
            "2024-09-06 13:51:26.974523: W tensorflow/stream_executor/platform/default/dso_loader.cc:64] Could not load dynamic library 'libcudart.so.11.0'; dlerror: libcudart.so.11.0: cannot open shared object file: No such file or directory; LD_LIBRARY_PATH: /usr/lib64-nvidia\n",
            "2024-09-06 13:51:26.974737: W tensorflow/stream_executor/platform/default/dso_loader.cc:64] Could not load dynamic library 'libcublas.so.11'; dlerror: libcublas.so.11: cannot open shared object file: No such file or directory; LD_LIBRARY_PATH: /usr/lib64-nvidia\n",
            "2024-09-06 13:51:26.974890: W tensorflow/stream_executor/platform/default/dso_loader.cc:64] Could not load dynamic library 'libcublasLt.so.11'; dlerror: libcublasLt.so.11: cannot open shared object file: No such file or directory; LD_LIBRARY_PATH: /usr/lib64-nvidia\n",
            "2024-09-06 13:51:26.975021: W tensorflow/stream_executor/platform/default/dso_loader.cc:64] Could not load dynamic library 'libcufft.so.10'; dlerror: libcufft.so.10: cannot open shared object file: No such file or directory; LD_LIBRARY_PATH: /usr/lib64-nvidia\n",
            "2024-09-06 13:51:27.029773: W tensorflow/stream_executor/platform/default/dso_loader.cc:64] Could not load dynamic library 'libcusparse.so.11'; dlerror: libcusparse.so.11: cannot open shared object file: No such file or directory; LD_LIBRARY_PATH: /usr/lib64-nvidia\n",
            "2024-09-06 13:51:27.029881: W tensorflow/core/common_runtime/gpu/gpu_device.cc:1850] Cannot dlopen some GPU libraries. Please make sure the missing libraries mentioned above are installed properly if you would like to use GPU. Follow the guide at https://www.tensorflow.org/install/gpu for how to download and setup the required libraries for your platform.\n",
            "Skipping registering GPU devices...\n"
          ]
        }
      ],
      "source": [
        "ts_cols = [col for col in data.columns if col != \"date\"]\n",
        "\n",
        "\n",
        "num_ts = len(ts_cols)\n",
        "# Create TimeSeriesdata loader\n",
        "dtl = data_loader.TimeSeriesdata(\n",
        "      data_path=data_path,\n",
        "      datetime_col=\"date\",\n",
        "      num_cov_cols=None,\n",
        "      cat_cov_cols=None,\n",
        "      ts_cols=ts_cols,\n",
        "      train_range=[0, train_boundary],\n",
        "      val_range=[train_boundary, val_boundary],\n",
        "      test_range=[val_boundary, len(data)],\n",
        "      hist_len=context_len,\n",
        "      pred_len=pred_len,\n",
        "      batch_size=num_ts,  # Change as per requirement\n",
        "      freq=freq,\n",
        "      normalize=True,\n",
        "      epoch_len=None,\n",
        "      holiday=False,\n",
        "      permute=True,\n",
        "  )\n",
        "train_batches = dtl.tf_dataset(mode=\"train\", shift=1).batch(batch_size)\n",
        "val_batches = dtl.tf_dataset(mode=\"val\", shift=pred_len)\n",
        "test_batches = dtl.tf_dataset(mode=\"test\", shift=pred_len)"
      ]
    },
    {
      "cell_type": "code",
      "execution_count": 18,
      "metadata": {
        "colab": {
          "base_uri": "https://localhost:8080/"
        },
        "id": "ABzh_VutCkkn",
        "outputId": "96440cdb-21f9-44c3-f118-a211770a4d53"
      },
      "outputs": [
        {
          "output_type": "stream",
          "name": "stderr",
          "text": [
            "1203it [00:06, 191.11it/s]"
          ]
        },
        {
          "output_type": "stream",
          "name": "stdout",
          "text": [
            "(6, 8, 64)\n"
          ]
        },
        {
          "output_type": "stream",
          "name": "stderr",
          "text": [
            "\n"
          ]
        }
      ],
      "source": [
        "for tbatch in tqdm(train_batches.as_numpy_iterator()):\n",
        "    pass\n",
        "print(tbatch[0].shape)"
      ]
    },
    {
      "cell_type": "markdown",
      "metadata": {
        "id": "eIBPb071Lv-w"
      },
      "source": [
        "# MAE on the test split for the pretrained TimesFM model"
      ]
    },
    {
      "cell_type": "code",
      "execution_count": 19,
      "metadata": {
        "colab": {
          "base_uri": "https://localhost:8080/"
        },
        "id": "ukVMJKv8Lv-x",
        "outputId": "9151e74a-a8cf-4c4c-cbf8-1c99f776f344"
      },
      "outputs": [
        {
          "output_type": "stream",
          "name": "stderr",
          "text": [
            "531it [00:09, 54.59it/s]\n"
          ]
        },
        {
          "output_type": "stream",
          "name": "stdout",
          "text": [
            "MAE: 0.26755690574645996\n"
          ]
        }
      ],
      "source": [
        "mae_losses = []\n",
        "for batch in tqdm(test_batches.as_numpy_iterator()):\n",
        "    past = batch[0]\n",
        "\n",
        "    actuals = batch[3]\n",
        "\n",
        "    _, forecasts = tfm.forecast(list(past), [0] * past.shape[0])\n",
        "    forecasts = forecasts[:, 0 : actuals.shape[1], 5]\n",
        "\n",
        "    mae_losses.append(np.abs(forecasts - actuals).mean())\n",
        "\n",
        "print(f\"MAE: {np.mean(mae_losses)}\")"
      ]
    },
    {
      "cell_type": "markdown",
      "metadata": {
        "id": "K7CumC-_HO0W"
      },
      "source": [
        "# Fine-tuning the model"
      ]
    },
    {
      "cell_type": "code",
      "execution_count": 20,
      "metadata": {
        "id": "wi-S2j1NLv-x"
      },
      "outputs": [],
      "source": [
        "import jax\n",
        "from jax import numpy as jnp\n",
        "from praxis import pax_fiddle\n",
        "from praxis import py_utils\n",
        "from praxis import pytypes\n",
        "from praxis import base_model\n",
        "from praxis import optimizers\n",
        "from praxis import schedules\n",
        "from praxis import base_hyperparams\n",
        "from praxis import base_layer\n",
        "from paxml import tasks_lib\n",
        "from paxml import trainer_lib\n",
        "from paxml import checkpoints\n",
        "from paxml import learners\n",
        "from paxml import partitioning\n",
        "from paxml import checkpoint_types"
      ]
    },
    {
      "cell_type": "code",
      "execution_count": 21,
      "metadata": {
        "id": "2ZGLjnuhLv-x"
      },
      "outputs": [],
      "source": [
        "NestedMap = py_utils.NestedMap\n",
        "WeightInit = base_layer.WeightInit\n",
        "WeightHParams = base_layer.WeightHParams\n",
        "InstantiableParams = py_utils.InstantiableParams\n",
        "JTensor = pytypes.JTensor\n",
        "NpTensor = pytypes.NpTensor\n",
        "WeightedScalars = pytypes.WeightedScalars\n",
        "instantiate = base_hyperparams.instantiate\n",
        "LayerTpl = pax_fiddle.Config[base_layer.BaseLayer]\n",
        "AuxLossStruct = base_layer.AuxLossStruct\n",
        "\n",
        "AUX_LOSS = base_layer.AUX_LOSS\n",
        "template_field = base_layer.template_field\n",
        "\n",
        "# Standard prng key names\n",
        "PARAMS = base_layer.PARAMS\n",
        "RANDOM = base_layer.RANDOM\n",
        "\n",
        "key = jax.random.PRNGKey(seed=1234)"
      ]
    },
    {
      "cell_type": "code",
      "execution_count": 22,
      "metadata": {
        "id": "cd1NHVrRLv-0"
      },
      "outputs": [],
      "source": [
        "model = pax_fiddle.Config(\n",
        "    patched_decoder.PatchedDecoderFinetuneModel,\n",
        "    name='patched_decoder_finetune',\n",
        "    core_layer_tpl=tfm.model_p,\n",
        ")"
      ]
    },
    {
      "cell_type": "code",
      "execution_count": 23,
      "metadata": {
        "id": "-JmTP2ItLv-0"
      },
      "outputs": [],
      "source": [
        "\n",
        "@pax_fiddle.auto_config\n",
        "def build_learner() -> learners.Learner:\n",
        "  return pax_fiddle.Config(\n",
        "      learners.Learner,\n",
        "      name='learner',\n",
        "      loss_name='avg_qloss',\n",
        "      optimizer=optimizers.Adam(\n",
        "          epsilon=1e-7,\n",
        "          clip_threshold=1e2,\n",
        "          learning_rate=1e-3,\n",
        "          lr_schedule=pax_fiddle.Config(\n",
        "              schedules.Cosine,\n",
        "              initial_value=1e-3,\n",
        "              final_value=1e-4,\n",
        "              total_steps=40000,\n",
        "          ),\n",
        "          ema_decay=0.9999,\n",
        "      ),\n",
        "      # Linear probing i.e we hold the transformer layers fixed.\n",
        "      bprop_variable_exclusion=['.*/stacked_transformer_layer/.*'],\n",
        "  )"
      ]
    },
    {
      "cell_type": "code",
      "execution_count": 24,
      "metadata": {
        "id": "BwmRar8GLv-1"
      },
      "outputs": [],
      "source": [
        "\n",
        "task_p = tasks_lib.SingleTask(\n",
        "    name='ts-learn',\n",
        "    model=model,\n",
        "    train=tasks_lib.SingleTask.Train(\n",
        "        learner=build_learner(),\n",
        "    ),\n",
        ")"
      ]
    },
    {
      "cell_type": "code",
      "execution_count": 25,
      "metadata": {
        "colab": {
          "base_uri": "https://localhost:8080/"
        },
        "id": "0HGp8DzGLv-1",
        "outputId": "30e01ee2-f059-4fcd-ef2d-c781ebef762f"
      },
      "outputs": [
        {
          "output_type": "stream",
          "name": "stdout",
          "text": [
            "num_devices: 1\n",
            "device kind: Tesla T4\n"
          ]
        }
      ],
      "source": [
        "task_p.model.ici_mesh_shape = [1, 1, 1]\n",
        "task_p.model.mesh_axis_names = ['replica', 'data', 'mdl']\n",
        "\n",
        "DEVICES = np.array(jax.devices()).reshape([1, 1, 1])\n",
        "MESH = jax.sharding.Mesh(DEVICES, ['replica', 'data', 'mdl'])\n",
        "\n",
        "num_devices = jax.local_device_count()\n",
        "print(f'num_devices: {num_devices}')\n",
        "print(f'device kind: {jax.local_devices()[0].device_kind}')"
      ]
    },
    {
      "cell_type": "code",
      "execution_count": 26,
      "metadata": {
        "id": "PCuOfttnLv-1"
      },
      "outputs": [],
      "source": [
        "jax_task = task_p\n",
        "key, init_key = jax.random.split(key)\n",
        "\n",
        "# To correctly prepare a batch of data for model initialization (now that shape\n",
        "# inference is merged), we take one devices*batch_size tensor tuple of data,\n",
        "# slice out just one batch, then run the prepare_input_batch function over it.\n",
        "\n",
        "\n",
        "def process_train_batch(batch):\n",
        "    past_ts = batch[0].reshape(len(batch[2]) * num_ts, -1)\n",
        "    actual_ts = batch[3].reshape(len(batch[2]) * num_ts, -1)\n",
        "    return NestedMap(input_ts=past_ts, actual_ts=actual_ts)\n",
        "\n",
        "\n",
        "def process_eval_batch(batch):\n",
        "    past_ts = batch[0]\n",
        "    actual_ts = batch[3]\n",
        "    return NestedMap(input_ts=past_ts, actual_ts=actual_ts)\n",
        "\n",
        "\n",
        "jax_model_states, _ = trainer_lib.initialize_model_state(\n",
        "    jax_task,\n",
        "    init_key,\n",
        "    process_train_batch(tbatch),\n",
        "    checkpoint_type=checkpoint_types.CheckpointType.GDA,\n",
        ")"
      ]
    },
    {
      "cell_type": "code",
      "execution_count": 27,
      "metadata": {
        "colab": {
          "base_uri": "https://localhost:8080/"
        },
        "id": "JNSyx49ILv-2",
        "outputId": "c92b91ff-f43b-45ef-9956-576fcbe74c9c"
      },
      "outputs": [
        {
          "output_type": "execute_result",
          "data": {
            "text/plain": [
              "0"
            ]
          },
          "metadata": {},
          "execution_count": 27
        }
      ],
      "source": [
        "jax_model_states.mdl_vars['params']['core_layer'] = tfm._train_state.mdl_vars['params']\n",
        "jax_vars = jax_model_states.mdl_vars\n",
        "gc.collect()"
      ]
    },
    {
      "cell_type": "code",
      "execution_count": 28,
      "metadata": {
        "id": "M1wI6BR9Lv-2"
      },
      "outputs": [],
      "source": [
        "jax_task = task_p\n",
        "\n",
        "\n",
        "def train_step(states, prng_key, inputs):\n",
        "  return trainer_lib.train_step_single_learner(\n",
        "      jax_task, states, prng_key, inputs\n",
        "  )\n",
        "\n",
        "\n",
        "def eval_step(states, prng_key, inputs):\n",
        "  states = states.to_eval_state()\n",
        "  return trainer_lib.eval_step_single_learner(\n",
        "      jax_task, states, prng_key, inputs\n",
        "  )\n",
        "\n",
        "key, train_key, eval_key = jax.random.split(key, 3)\n",
        "train_prng_seed = jax.random.split(train_key, num=jax.local_device_count())\n",
        "eval_prng_seed = jax.random.split(eval_key, num=jax.local_device_count())\n",
        "\n",
        "p_train_step = jax.pmap(train_step, axis_name='batch')\n",
        "p_eval_step = jax.pmap(eval_step, axis_name='batch')"
      ]
    },
    {
      "cell_type": "code",
      "execution_count": 29,
      "metadata": {
        "id": "Gp79Rq9TLv-2"
      },
      "outputs": [],
      "source": [
        "replicated_jax_states = trainer_lib.replicate_model_state(jax_model_states)\n",
        "replicated_jax_vars = replicated_jax_states.mdl_vars"
      ]
    },
    {
      "cell_type": "code",
      "execution_count": 30,
      "metadata": {
        "id": "hUUXA3rLLv-2"
      },
      "outputs": [],
      "source": [
        "best_eval_loss = 1e7\n",
        "step_count = 0\n",
        "patience = 0\n",
        "NUM_EPOCHS = 50\n",
        "PATIENCE = 5\n",
        "TRAIN_STEPS_PER_EVAL = 1000\n",
        "CHECKPOINT_DIR='/content'"
      ]
    },
    {
      "cell_type": "code",
      "execution_count": 31,
      "metadata": {
        "id": "WHCWNE6oLv-3"
      },
      "outputs": [],
      "source": [
        "def reshape_batch_for_pmap(batch, num_devices):\n",
        "  def _reshape(input_tensor):\n",
        "    bsize = input_tensor.shape[0]\n",
        "    residual_shape = list(input_tensor.shape[1:])\n",
        "    nbsize = bsize // num_devices\n",
        "    return jnp.reshape(input_tensor, [num_devices, nbsize] + residual_shape)\n",
        "\n",
        "  return jax.tree.map(_reshape, batch)"
      ]
    },
    {
      "cell_type": "code",
      "execution_count": 26,
      "metadata": {
        "colab": {
          "base_uri": "https://localhost:8080/"
        },
        "id": "vfTp0M2sLv-3",
        "outputId": "8d3fd196-23df-44c5-d3c1-219b9c812dfd"
      },
      "outputs": [
        {
          "metadata": {
            "tags": null
          },
          "name": "stdout",
          "output_type": "stream",
          "text": [
            "__________________Epoch: 0__________________\n",
            "Train loss at end of epoch 0: 0.6627394556999207\n",
            "Starting eval.\n"
          ]
        },
        {
          "metadata": {
            "tags": null
          },
          "name": "stderr",
          "output_type": "stream",
          "text": [
            "1590it [00:29, 53.78it/s]\n"
          ]
        },
        {
          "metadata": {
            "tags": null
          },
          "name": "stdout",
          "output_type": "stream",
          "text": [
            "Eval loss at end of epoch 0: 0.9170012474060059\n"
          ]
        },
        {
          "metadata": {
            "tags": null
          },
          "name": "stderr",
          "output_type": "stream",
          "text": [
            "WARNING:absl:No registered CheckpointArgs found for handler type: <class 'paxml.checkpoints.FlaxCheckpointHandler'>\n",
            "WARNING:absl:Configured `CheckpointManager` using deprecated legacy API. Please follow the instructions at https://orbax.readthedocs.io/en/latest/api_refactor.html to migrate by May 1st, 2024.\n",
            "WARNING:absl:train_state_unpadded_shape_dtype_struct is not provided. Saving the\n",
            "        shapes of train_state  as the unpadded shapes.\n"
          ]
        },
        {
          "metadata": {
            "tags": null
          },
          "name": "stdout",
          "output_type": "stream",
          "text": [
            "Saving checkpoint.\n"
          ]
        },
        {
          "metadata": {
            "tags": null
          },
          "name": "stderr",
          "output_type": "stream",
          "text": [
            "WARNING:absl:SaveArgs.aggregate is deprecated, please use custom TypeHandler (https://orbax.readthedocs.io/en/latest/custom_handlers.html#typehandler) or contact Orbax team to migrate before May 1st, 2024. If your Pytree has empty ([], {}, None) values then use PyTreeCheckpointHandler(..., write_tree_metadata=True, ...) or use StandardCheckpointHandler to avoid TypeHandler Registry error. Please note that PyTreeCheckpointHandler.write_tree_metadata default value is already set to True.\n"
          ]
        },
        {
          "metadata": {
            "tags": null
          },
          "name": "stdout",
          "output_type": "stream",
          "text": [
            "__________________Epoch: 1__________________\n",
            "Train loss at end of epoch 1: 0.6530908942222595\n",
            "Starting eval.\n"
          ]
        },
        {
          "metadata": {
            "tags": null
          },
          "name": "stderr",
          "output_type": "stream",
          "text": [
            "1590it [00:18, 86.58it/s]\n"
          ]
        },
        {
          "metadata": {
            "tags": null
          },
          "name": "stdout",
          "output_type": "stream",
          "text": [
            "Eval loss at end of epoch 1: 0.9150508046150208\n"
          ]
        },
        {
          "metadata": {
            "tags": null
          },
          "name": "stderr",
          "output_type": "stream",
          "text": [
            "WARNING:absl:No registered CheckpointArgs found for handler type: <class 'paxml.checkpoints.FlaxCheckpointHandler'>\n",
            "WARNING:absl:Configured `CheckpointManager` using deprecated legacy API. Please follow the instructions at https://orbax.readthedocs.io/en/latest/api_refactor.html to migrate by May 1st, 2024.\n",
            "WARNING:absl:train_state_unpadded_shape_dtype_struct is not provided. Saving the\n",
            "        shapes of train_state  as the unpadded shapes.\n"
          ]
        },
        {
          "metadata": {
            "tags": null
          },
          "name": "stdout",
          "output_type": "stream",
          "text": [
            "Saving checkpoint.\n",
            "__________________Epoch: 2__________________\n",
            "Train loss at end of epoch 2: 0.6470980644226074\n",
            "Starting eval.\n"
          ]
        },
        {
          "metadata": {
            "tags": null
          },
          "name": "stderr",
          "output_type": "stream",
          "text": [
            "1590it [00:18, 85.83it/s]\n"
          ]
        },
        {
          "metadata": {
            "tags": null
          },
          "name": "stdout",
          "output_type": "stream",
          "text": [
            "Eval loss at end of epoch 2: 0.9110803008079529\n"
          ]
        },
        {
          "metadata": {
            "tags": null
          },
          "name": "stderr",
          "output_type": "stream",
          "text": [
            "WARNING:absl:No registered CheckpointArgs found for handler type: <class 'paxml.checkpoints.FlaxCheckpointHandler'>\n",
            "WARNING:absl:Configured `CheckpointManager` using deprecated legacy API. Please follow the instructions at https://orbax.readthedocs.io/en/latest/api_refactor.html to migrate by May 1st, 2024.\n",
            "WARNING:absl:train_state_unpadded_shape_dtype_struct is not provided. Saving the\n",
            "        shapes of train_state  as the unpadded shapes.\n"
          ]
        },
        {
          "metadata": {
            "tags": null
          },
          "name": "stdout",
          "output_type": "stream",
          "text": [
            "Saving checkpoint.\n",
            "__________________Epoch: 3__________________\n",
            "Train loss at end of epoch 3: 0.642483115196228\n",
            "Starting eval.\n"
          ]
        },
        {
          "metadata": {
            "tags": null
          },
          "name": "stderr",
          "output_type": "stream",
          "text": [
            "1590it [00:18, 85.78it/s]\n"
          ]
        },
        {
          "metadata": {
            "tags": null
          },
          "name": "stdout",
          "output_type": "stream",
          "text": [
            "Eval loss at end of epoch 3: 0.908987283706665\n"
          ]
        },
        {
          "metadata": {
            "tags": null
          },
          "name": "stderr",
          "output_type": "stream",
          "text": [
            "WARNING:absl:No registered CheckpointArgs found for handler type: <class 'paxml.checkpoints.FlaxCheckpointHandler'>\n",
            "WARNING:absl:Configured `CheckpointManager` using deprecated legacy API. Please follow the instructions at https://orbax.readthedocs.io/en/latest/api_refactor.html to migrate by May 1st, 2024.\n",
            "WARNING:absl:train_state_unpadded_shape_dtype_struct is not provided. Saving the\n",
            "        shapes of train_state  as the unpadded shapes.\n"
          ]
        },
        {
          "metadata": {
            "tags": null
          },
          "name": "stdout",
          "output_type": "stream",
          "text": [
            "Saving checkpoint.\n",
            "__________________Epoch: 4__________________\n",
            "Train loss at end of epoch 4: 0.638214111328125\n",
            "Starting eval.\n"
          ]
        },
        {
          "metadata": {
            "tags": null
          },
          "name": "stderr",
          "output_type": "stream",
          "text": [
            "1590it [00:18, 86.03it/s]\n"
          ]
        },
        {
          "metadata": {
            "tags": null
          },
          "name": "stdout",
          "output_type": "stream",
          "text": [
            "Eval loss at end of epoch 4: 0.9049853086471558\n"
          ]
        },
        {
          "metadata": {
            "tags": null
          },
          "name": "stderr",
          "output_type": "stream",
          "text": [
            "WARNING:absl:No registered CheckpointArgs found for handler type: <class 'paxml.checkpoints.FlaxCheckpointHandler'>\n",
            "WARNING:absl:Configured `CheckpointManager` using deprecated legacy API. Please follow the instructions at https://orbax.readthedocs.io/en/latest/api_refactor.html to migrate by May 1st, 2024.\n",
            "WARNING:absl:train_state_unpadded_shape_dtype_struct is not provided. Saving the\n",
            "        shapes of train_state  as the unpadded shapes.\n"
          ]
        },
        {
          "metadata": {
            "tags": null
          },
          "name": "stdout",
          "output_type": "stream",
          "text": [
            "Saving checkpoint.\n",
            "__________________Epoch: 5__________________\n",
            "Train loss at end of epoch 5: 0.6345760822296143\n",
            "Starting eval.\n"
          ]
        },
        {
          "metadata": {
            "tags": null
          },
          "name": "stderr",
          "output_type": "stream",
          "text": [
            "1590it [00:18, 85.67it/s]\n"
          ]
        },
        {
          "metadata": {
            "tags": null
          },
          "name": "stdout",
          "output_type": "stream",
          "text": [
            "Eval loss at end of epoch 5: 0.9040012955665588\n"
          ]
        },
        {
          "metadata": {
            "tags": null
          },
          "name": "stderr",
          "output_type": "stream",
          "text": [
            "WARNING:absl:No registered CheckpointArgs found for handler type: <class 'paxml.checkpoints.FlaxCheckpointHandler'>\n",
            "WARNING:absl:Configured `CheckpointManager` using deprecated legacy API. Please follow the instructions at https://orbax.readthedocs.io/en/latest/api_refactor.html to migrate by May 1st, 2024.\n",
            "WARNING:absl:train_state_unpadded_shape_dtype_struct is not provided. Saving the\n",
            "        shapes of train_state  as the unpadded shapes.\n"
          ]
        },
        {
          "metadata": {
            "tags": null
          },
          "name": "stdout",
          "output_type": "stream",
          "text": [
            "Saving checkpoint.\n",
            "__________________Epoch: 6__________________\n",
            "Train loss at end of epoch 6: 0.631140947341919\n",
            "Starting eval.\n"
          ]
        },
        {
          "metadata": {
            "tags": null
          },
          "name": "stderr",
          "output_type": "stream",
          "text": [
            "1590it [00:18, 86.07it/s]\n"
          ]
        },
        {
          "metadata": {
            "tags": null
          },
          "name": "stdout",
          "output_type": "stream",
          "text": [
            "Eval loss at end of epoch 6: 0.9016358852386475\n"
          ]
        },
        {
          "metadata": {
            "tags": null
          },
          "name": "stderr",
          "output_type": "stream",
          "text": [
            "WARNING:absl:No registered CheckpointArgs found for handler type: <class 'paxml.checkpoints.FlaxCheckpointHandler'>\n",
            "WARNING:absl:Configured `CheckpointManager` using deprecated legacy API. Please follow the instructions at https://orbax.readthedocs.io/en/latest/api_refactor.html to migrate by May 1st, 2024.\n",
            "WARNING:absl:train_state_unpadded_shape_dtype_struct is not provided. Saving the\n",
            "        shapes of train_state  as the unpadded shapes.\n"
          ]
        },
        {
          "metadata": {
            "tags": null
          },
          "name": "stdout",
          "output_type": "stream",
          "text": [
            "Saving checkpoint.\n",
            "__________________Epoch: 7__________________\n",
            "Train loss at end of epoch 7: 0.6281787753105164\n",
            "Starting eval.\n"
          ]
        },
        {
          "metadata": {
            "tags": null
          },
          "name": "stderr",
          "output_type": "stream",
          "text": [
            "1590it [00:18, 85.77it/s]\n"
          ]
        },
        {
          "metadata": {
            "tags": null
          },
          "name": "stdout",
          "output_type": "stream",
          "text": [
            "Eval loss at end of epoch 7: 0.9024407863616943\n",
            "patience: 1\n",
            "__________________Epoch: 8__________________\n",
            "Train loss at end of epoch 8: 0.6256198883056641\n",
            "Starting eval.\n"
          ]
        },
        {
          "metadata": {
            "tags": null
          },
          "name": "stderr",
          "output_type": "stream",
          "text": [
            "1590it [00:18, 86.16it/s]\n"
          ]
        },
        {
          "metadata": {
            "tags": null
          },
          "name": "stdout",
          "output_type": "stream",
          "text": [
            "Eval loss at end of epoch 8: 0.9019018411636353\n",
            "patience: 2\n",
            "__________________Epoch: 9__________________\n",
            "Train loss at end of epoch 9: 0.6232335567474365\n",
            "Starting eval.\n"
          ]
        },
        {
          "metadata": {
            "tags": null
          },
          "name": "stderr",
          "output_type": "stream",
          "text": [
            "1590it [00:18, 86.17it/s]\n"
          ]
        },
        {
          "metadata": {
            "tags": null
          },
          "name": "stdout",
          "output_type": "stream",
          "text": [
            "Eval loss at end of epoch 9: 0.8989587426185608\n"
          ]
        },
        {
          "metadata": {
            "tags": null
          },
          "name": "stderr",
          "output_type": "stream",
          "text": [
            "WARNING:absl:No registered CheckpointArgs found for handler type: <class 'paxml.checkpoints.FlaxCheckpointHandler'>\n",
            "WARNING:absl:Configured `CheckpointManager` using deprecated legacy API. Please follow the instructions at https://orbax.readthedocs.io/en/latest/api_refactor.html to migrate by May 1st, 2024.\n",
            "WARNING:absl:train_state_unpadded_shape_dtype_struct is not provided. Saving the\n",
            "        shapes of train_state  as the unpadded shapes.\n"
          ]
        },
        {
          "metadata": {
            "tags": null
          },
          "name": "stdout",
          "output_type": "stream",
          "text": [
            "Saving checkpoint.\n",
            "__________________Epoch: 10__________________\n",
            "Train loss at end of epoch 10: 0.6212853193283081\n",
            "Starting eval.\n"
          ]
        },
        {
          "metadata": {
            "tags": null
          },
          "name": "stderr",
          "output_type": "stream",
          "text": [
            "1590it [00:18, 85.63it/s]\n"
          ]
        },
        {
          "metadata": {
            "tags": null
          },
          "name": "stdout",
          "output_type": "stream",
          "text": [
            "Eval loss at end of epoch 10: 0.9009656310081482\n",
            "patience: 1\n",
            "__________________Epoch: 11__________________\n",
            "Train loss at end of epoch 11: 0.6191400289535522\n",
            "Starting eval.\n"
          ]
        },
        {
          "metadata": {
            "tags": null
          },
          "name": "stderr",
          "output_type": "stream",
          "text": [
            "1590it [00:18, 86.14it/s]\n"
          ]
        },
        {
          "metadata": {
            "tags": null
          },
          "name": "stdout",
          "output_type": "stream",
          "text": [
            "Eval loss at end of epoch 11: 0.8978790640830994\n"
          ]
        },
        {
          "metadata": {
            "tags": null
          },
          "name": "stderr",
          "output_type": "stream",
          "text": [
            "WARNING:absl:No registered CheckpointArgs found for handler type: <class 'paxml.checkpoints.FlaxCheckpointHandler'>\n",
            "WARNING:absl:Configured `CheckpointManager` using deprecated legacy API. Please follow the instructions at https://orbax.readthedocs.io/en/latest/api_refactor.html to migrate by May 1st, 2024.\n",
            "WARNING:absl:train_state_unpadded_shape_dtype_struct is not provided. Saving the\n",
            "        shapes of train_state  as the unpadded shapes.\n"
          ]
        },
        {
          "metadata": {
            "tags": null
          },
          "name": "stdout",
          "output_type": "stream",
          "text": [
            "Saving checkpoint.\n",
            "__________________Epoch: 12__________________\n",
            "Train loss at end of epoch 12: 0.6173264980316162\n",
            "Starting eval.\n"
          ]
        },
        {
          "metadata": {
            "tags": null
          },
          "name": "stderr",
          "output_type": "stream",
          "text": [
            "1590it [00:18, 85.62it/s]\n"
          ]
        },
        {
          "metadata": {
            "tags": null
          },
          "name": "stdout",
          "output_type": "stream",
          "text": [
            "Eval loss at end of epoch 12: 0.8983559012413025\n",
            "patience: 1\n",
            "__________________Epoch: 13__________________\n",
            "Train loss at end of epoch 13: 0.6154539585113525\n",
            "Starting eval.\n"
          ]
        },
        {
          "metadata": {
            "tags": null
          },
          "name": "stderr",
          "output_type": "stream",
          "text": [
            "1590it [00:18, 86.08it/s]\n"
          ]
        },
        {
          "metadata": {
            "tags": null
          },
          "name": "stdout",
          "output_type": "stream",
          "text": [
            "Eval loss at end of epoch 13: 0.8962083458900452\n"
          ]
        },
        {
          "metadata": {
            "tags": null
          },
          "name": "stderr",
          "output_type": "stream",
          "text": [
            "WARNING:absl:No registered CheckpointArgs found for handler type: <class 'paxml.checkpoints.FlaxCheckpointHandler'>\n",
            "WARNING:absl:Configured `CheckpointManager` using deprecated legacy API. Please follow the instructions at https://orbax.readthedocs.io/en/latest/api_refactor.html to migrate by May 1st, 2024.\n",
            "WARNING:absl:train_state_unpadded_shape_dtype_struct is not provided. Saving the\n",
            "        shapes of train_state  as the unpadded shapes.\n"
          ]
        },
        {
          "metadata": {
            "tags": null
          },
          "name": "stdout",
          "output_type": "stream",
          "text": [
            "Saving checkpoint.\n",
            "__________________Epoch: 14__________________\n",
            "Train loss at end of epoch 14: 0.6140897274017334\n",
            "Starting eval.\n"
          ]
        },
        {
          "metadata": {
            "tags": null
          },
          "name": "stderr",
          "output_type": "stream",
          "text": [
            "1590it [00:18, 85.85it/s]\n"
          ]
        },
        {
          "metadata": {
            "tags": null
          },
          "name": "stdout",
          "output_type": "stream",
          "text": [
            "Eval loss at end of epoch 14: 0.8960017561912537\n"
          ]
        },
        {
          "metadata": {
            "tags": null
          },
          "name": "stderr",
          "output_type": "stream",
          "text": [
            "WARNING:absl:No registered CheckpointArgs found for handler type: <class 'paxml.checkpoints.FlaxCheckpointHandler'>\n",
            "WARNING:absl:Configured `CheckpointManager` using deprecated legacy API. Please follow the instructions at https://orbax.readthedocs.io/en/latest/api_refactor.html to migrate by May 1st, 2024.\n",
            "WARNING:absl:train_state_unpadded_shape_dtype_struct is not provided. Saving the\n",
            "        shapes of train_state  as the unpadded shapes.\n"
          ]
        },
        {
          "metadata": {
            "tags": null
          },
          "name": "stdout",
          "output_type": "stream",
          "text": [
            "Saving checkpoint.\n",
            "__________________Epoch: 15__________________\n",
            "Train loss at end of epoch 15: 0.6126047372817993\n",
            "Starting eval.\n"
          ]
        },
        {
          "metadata": {
            "tags": null
          },
          "name": "stderr",
          "output_type": "stream",
          "text": [
            "1590it [00:18, 86.09it/s]\n"
          ]
        },
        {
          "metadata": {
            "tags": null
          },
          "name": "stdout",
          "output_type": "stream",
          "text": [
            "Eval loss at end of epoch 15: 0.8969571590423584\n",
            "patience: 1\n",
            "__________________Epoch: 16__________________\n",
            "Train loss at end of epoch 16: 0.6112188696861267\n",
            "Starting eval.\n"
          ]
        },
        {
          "metadata": {
            "tags": null
          },
          "name": "stderr",
          "output_type": "stream",
          "text": [
            "1590it [00:18, 85.99it/s]\n"
          ]
        },
        {
          "metadata": {
            "tags": null
          },
          "name": "stdout",
          "output_type": "stream",
          "text": [
            "Eval loss at end of epoch 16: 0.8956021070480347\n"
          ]
        },
        {
          "metadata": {
            "tags": null
          },
          "name": "stderr",
          "output_type": "stream",
          "text": [
            "WARNING:absl:No registered CheckpointArgs found for handler type: <class 'paxml.checkpoints.FlaxCheckpointHandler'>\n",
            "WARNING:absl:Configured `CheckpointManager` using deprecated legacy API. Please follow the instructions at https://orbax.readthedocs.io/en/latest/api_refactor.html to migrate by May 1st, 2024.\n",
            "WARNING:absl:train_state_unpadded_shape_dtype_struct is not provided. Saving the\n",
            "        shapes of train_state  as the unpadded shapes.\n"
          ]
        },
        {
          "metadata": {
            "tags": null
          },
          "name": "stdout",
          "output_type": "stream",
          "text": [
            "Saving checkpoint.\n",
            "__________________Epoch: 17__________________\n",
            "Train loss at end of epoch 17: 0.6102374196052551\n",
            "Starting eval.\n"
          ]
        },
        {
          "metadata": {
            "tags": null
          },
          "name": "stderr",
          "output_type": "stream",
          "text": [
            "1590it [00:18, 86.60it/s]\n"
          ]
        },
        {
          "metadata": {
            "tags": null
          },
          "name": "stdout",
          "output_type": "stream",
          "text": [
            "Eval loss at end of epoch 17: 0.894580602645874\n"
          ]
        },
        {
          "metadata": {
            "tags": null
          },
          "name": "stderr",
          "output_type": "stream",
          "text": [
            "WARNING:absl:No registered CheckpointArgs found for handler type: <class 'paxml.checkpoints.FlaxCheckpointHandler'>\n",
            "WARNING:absl:Configured `CheckpointManager` using deprecated legacy API. Please follow the instructions at https://orbax.readthedocs.io/en/latest/api_refactor.html to migrate by May 1st, 2024.\n",
            "WARNING:absl:train_state_unpadded_shape_dtype_struct is not provided. Saving the\n",
            "        shapes of train_state  as the unpadded shapes.\n"
          ]
        },
        {
          "metadata": {
            "tags": null
          },
          "name": "stdout",
          "output_type": "stream",
          "text": [
            "Saving checkpoint.\n",
            "__________________Epoch: 18__________________\n",
            "Train loss at end of epoch 18: 0.6093206405639648\n",
            "Starting eval.\n"
          ]
        },
        {
          "metadata": {
            "tags": null
          },
          "name": "stderr",
          "output_type": "stream",
          "text": [
            "1590it [00:18, 86.75it/s]\n"
          ]
        },
        {
          "metadata": {
            "tags": null
          },
          "name": "stdout",
          "output_type": "stream",
          "text": [
            "Eval loss at end of epoch 18: 0.8931756019592285\n"
          ]
        },
        {
          "metadata": {
            "tags": null
          },
          "name": "stderr",
          "output_type": "stream",
          "text": [
            "WARNING:absl:No registered CheckpointArgs found for handler type: <class 'paxml.checkpoints.FlaxCheckpointHandler'>\n",
            "WARNING:absl:Configured `CheckpointManager` using deprecated legacy API. Please follow the instructions at https://orbax.readthedocs.io/en/latest/api_refactor.html to migrate by May 1st, 2024.\n",
            "WARNING:absl:train_state_unpadded_shape_dtype_struct is not provided. Saving the\n",
            "        shapes of train_state  as the unpadded shapes.\n"
          ]
        },
        {
          "metadata": {
            "tags": null
          },
          "name": "stdout",
          "output_type": "stream",
          "text": [
            "Saving checkpoint.\n",
            "__________________Epoch: 19__________________\n",
            "Train loss at end of epoch 19: 0.6082495450973511\n",
            "Starting eval.\n"
          ]
        },
        {
          "metadata": {
            "tags": null
          },
          "name": "stderr",
          "output_type": "stream",
          "text": [
            "1590it [00:18, 86.92it/s]\n"
          ]
        },
        {
          "metadata": {
            "tags": null
          },
          "name": "stdout",
          "output_type": "stream",
          "text": [
            "Eval loss at end of epoch 19: 0.8947973251342773\n",
            "patience: 1\n",
            "__________________Epoch: 20__________________\n",
            "Train loss at end of epoch 20: 0.6076185703277588\n",
            "Starting eval.\n"
          ]
        },
        {
          "metadata": {
            "tags": null
          },
          "name": "stderr",
          "output_type": "stream",
          "text": [
            "1590it [00:18, 85.74it/s]\n"
          ]
        },
        {
          "metadata": {
            "tags": null
          },
          "name": "stdout",
          "output_type": "stream",
          "text": [
            "Eval loss at end of epoch 20: 0.8939400911331177\n",
            "patience: 2\n",
            "__________________Epoch: 21__________________\n",
            "Train loss at end of epoch 21: 0.6065753102302551\n",
            "Starting eval.\n"
          ]
        },
        {
          "metadata": {
            "tags": null
          },
          "name": "stderr",
          "output_type": "stream",
          "text": [
            "1590it [00:18, 85.82it/s]\n"
          ]
        },
        {
          "metadata": {
            "tags": null
          },
          "name": "stdout",
          "output_type": "stream",
          "text": [
            "Eval loss at end of epoch 21: 0.894340991973877\n",
            "patience: 3\n",
            "__________________Epoch: 22__________________\n",
            "Train loss at end of epoch 22: 0.6060364246368408\n",
            "Starting eval.\n"
          ]
        },
        {
          "metadata": {
            "tags": null
          },
          "name": "stderr",
          "output_type": "stream",
          "text": [
            "1590it [00:18, 86.07it/s]\n"
          ]
        },
        {
          "metadata": {
            "tags": null
          },
          "name": "stdout",
          "output_type": "stream",
          "text": [
            "Eval loss at end of epoch 22: 0.8942325115203857\n",
            "patience: 4\n",
            "__________________Epoch: 23__________________\n",
            "Train loss at end of epoch 23: 0.6059967279434204\n",
            "Starting eval.\n"
          ]
        },
        {
          "metadata": {
            "tags": null
          },
          "name": "stderr",
          "output_type": "stream",
          "text": [
            "1590it [00:18, 86.13it/s]\n"
          ]
        },
        {
          "metadata": {
            "tags": null
          },
          "name": "stdout",
          "output_type": "stream",
          "text": [
            "Eval loss at end of epoch 23: 0.8928378224372864\n"
          ]
        },
        {
          "metadata": {
            "tags": null
          },
          "name": "stderr",
          "output_type": "stream",
          "text": [
            "WARNING:absl:No registered CheckpointArgs found for handler type: <class 'paxml.checkpoints.FlaxCheckpointHandler'>\n",
            "WARNING:absl:Configured `CheckpointManager` using deprecated legacy API. Please follow the instructions at https://orbax.readthedocs.io/en/latest/api_refactor.html to migrate by May 1st, 2024.\n",
            "WARNING:absl:train_state_unpadded_shape_dtype_struct is not provided. Saving the\n",
            "        shapes of train_state  as the unpadded shapes.\n"
          ]
        },
        {
          "metadata": {
            "tags": null
          },
          "name": "stdout",
          "output_type": "stream",
          "text": [
            "Saving checkpoint.\n",
            "__________________Epoch: 24__________________\n",
            "Train loss at end of epoch 24: 0.6048529148101807\n",
            "Starting eval.\n"
          ]
        },
        {
          "metadata": {
            "tags": null
          },
          "name": "stderr",
          "output_type": "stream",
          "text": [
            "1590it [00:18, 85.84it/s]\n"
          ]
        },
        {
          "metadata": {
            "tags": null
          },
          "name": "stdout",
          "output_type": "stream",
          "text": [
            "Eval loss at end of epoch 24: 0.8929406404495239\n",
            "patience: 1\n",
            "__________________Epoch: 25__________________\n",
            "Train loss at end of epoch 25: 0.6044148802757263\n",
            "Starting eval.\n"
          ]
        },
        {
          "metadata": {
            "tags": null
          },
          "name": "stderr",
          "output_type": "stream",
          "text": [
            "1590it [00:18, 86.08it/s]\n"
          ]
        },
        {
          "metadata": {
            "tags": null
          },
          "name": "stdout",
          "output_type": "stream",
          "text": [
            "Eval loss at end of epoch 25: 0.8934078216552734\n",
            "patience: 2\n",
            "__________________Epoch: 26__________________\n",
            "Train loss at end of epoch 26: 0.604062020778656\n",
            "Starting eval.\n"
          ]
        },
        {
          "metadata": {
            "tags": null
          },
          "name": "stderr",
          "output_type": "stream",
          "text": [
            "1590it [00:18, 85.92it/s]\n"
          ]
        },
        {
          "metadata": {
            "tags": null
          },
          "name": "stdout",
          "output_type": "stream",
          "text": [
            "Eval loss at end of epoch 26: 0.8930171132087708\n",
            "patience: 3\n",
            "__________________Epoch: 27__________________\n",
            "Train loss at end of epoch 27: 0.6037424206733704\n",
            "Starting eval.\n"
          ]
        },
        {
          "metadata": {
            "tags": null
          },
          "name": "stderr",
          "output_type": "stream",
          "text": [
            "1590it [00:18, 86.15it/s]\n"
          ]
        },
        {
          "metadata": {
            "tags": null
          },
          "name": "stdout",
          "output_type": "stream",
          "text": [
            "Eval loss at end of epoch 27: 0.8928220868110657\n"
          ]
        },
        {
          "metadata": {
            "tags": null
          },
          "name": "stderr",
          "output_type": "stream",
          "text": [
            "WARNING:absl:No registered CheckpointArgs found for handler type: <class 'paxml.checkpoints.FlaxCheckpointHandler'>\n",
            "WARNING:absl:Configured `CheckpointManager` using deprecated legacy API. Please follow the instructions at https://orbax.readthedocs.io/en/latest/api_refactor.html to migrate by May 1st, 2024.\n",
            "WARNING:absl:train_state_unpadded_shape_dtype_struct is not provided. Saving the\n",
            "        shapes of train_state  as the unpadded shapes.\n"
          ]
        },
        {
          "metadata": {
            "tags": null
          },
          "name": "stdout",
          "output_type": "stream",
          "text": [
            "Saving checkpoint.\n",
            "__________________Epoch: 28__________________\n",
            "Train loss at end of epoch 28: 0.6032571792602539\n",
            "Starting eval.\n"
          ]
        },
        {
          "metadata": {
            "tags": null
          },
          "name": "stderr",
          "output_type": "stream",
          "text": [
            "1590it [00:18, 86.01it/s]\n"
          ]
        },
        {
          "metadata": {
            "tags": null
          },
          "name": "stdout",
          "output_type": "stream",
          "text": [
            "Eval loss at end of epoch 28: 0.8931389451026917\n",
            "patience: 1\n",
            "__________________Epoch: 29__________________\n",
            "Train loss at end of epoch 29: 0.6047928333282471\n",
            "Starting eval.\n"
          ]
        },
        {
          "metadata": {
            "tags": null
          },
          "name": "stderr",
          "output_type": "stream",
          "text": [
            "1590it [00:18, 86.21it/s]\n"
          ]
        },
        {
          "metadata": {
            "tags": null
          },
          "name": "stdout",
          "output_type": "stream",
          "text": [
            "Eval loss at end of epoch 29: 0.8932026624679565\n",
            "patience: 2\n",
            "__________________Epoch: 30__________________\n",
            "Train loss at end of epoch 30: 0.6031167507171631\n",
            "Starting eval.\n"
          ]
        },
        {
          "metadata": {
            "tags": null
          },
          "name": "stderr",
          "output_type": "stream",
          "text": [
            "1590it [00:18, 86.12it/s]\n"
          ]
        },
        {
          "metadata": {
            "tags": null
          },
          "name": "stdout",
          "output_type": "stream",
          "text": [
            "Eval loss at end of epoch 30: 0.8929535746574402\n",
            "patience: 3\n",
            "__________________Epoch: 31__________________\n",
            "Train loss at end of epoch 31: 0.6028358340263367\n",
            "Starting eval.\n"
          ]
        },
        {
          "metadata": {
            "tags": null
          },
          "name": "stderr",
          "output_type": "stream",
          "text": [
            "1590it [00:18, 86.15it/s]\n"
          ]
        },
        {
          "metadata": {
            "tags": null
          },
          "name": "stdout",
          "output_type": "stream",
          "text": [
            "Eval loss at end of epoch 31: 0.8931615948677063\n",
            "patience: 4\n",
            "__________________Epoch: 32__________________\n",
            "Train loss at end of epoch 32: 0.6028908491134644\n",
            "Starting eval.\n"
          ]
        },
        {
          "metadata": {
            "tags": null
          },
          "name": "stderr",
          "output_type": "stream",
          "text": [
            "1590it [00:18, 86.65it/s]\n"
          ]
        },
        {
          "metadata": {
            "tags": null
          },
          "name": "stdout",
          "output_type": "stream",
          "text": [
            "Eval loss at end of epoch 32: 0.8926123380661011\n"
          ]
        },
        {
          "metadata": {
            "tags": null
          },
          "name": "stderr",
          "output_type": "stream",
          "text": [
            "WARNING:absl:No registered CheckpointArgs found for handler type: <class 'paxml.checkpoints.FlaxCheckpointHandler'>\n",
            "WARNING:absl:Configured `CheckpointManager` using deprecated legacy API. Please follow the instructions at https://orbax.readthedocs.io/en/latest/api_refactor.html to migrate by May 1st, 2024.\n",
            "WARNING:absl:train_state_unpadded_shape_dtype_struct is not provided. Saving the\n",
            "        shapes of train_state  as the unpadded shapes.\n"
          ]
        },
        {
          "metadata": {
            "tags": null
          },
          "name": "stdout",
          "output_type": "stream",
          "text": [
            "Saving checkpoint.\n",
            "__________________Epoch: 33__________________\n",
            "Train loss at end of epoch 33: 0.6023377776145935\n",
            "Starting eval.\n"
          ]
        },
        {
          "metadata": {
            "tags": null
          },
          "name": "stderr",
          "output_type": "stream",
          "text": [
            "1590it [00:18, 86.89it/s]\n"
          ]
        },
        {
          "metadata": {
            "tags": null
          },
          "name": "stdout",
          "output_type": "stream",
          "text": [
            "Eval loss at end of epoch 33: 0.8925942182540894\n"
          ]
        },
        {
          "metadata": {
            "tags": null
          },
          "name": "stderr",
          "output_type": "stream",
          "text": [
            "WARNING:absl:No registered CheckpointArgs found for handler type: <class 'paxml.checkpoints.FlaxCheckpointHandler'>\n",
            "WARNING:absl:Configured `CheckpointManager` using deprecated legacy API. Please follow the instructions at https://orbax.readthedocs.io/en/latest/api_refactor.html to migrate by May 1st, 2024.\n",
            "WARNING:absl:train_state_unpadded_shape_dtype_struct is not provided. Saving the\n",
            "        shapes of train_state  as the unpadded shapes.\n"
          ]
        },
        {
          "metadata": {
            "tags": null
          },
          "name": "stdout",
          "output_type": "stream",
          "text": [
            "Saving checkpoint.\n",
            "__________________Epoch: 34__________________\n",
            "Train loss at end of epoch 34: 0.6021466851234436\n",
            "Starting eval.\n"
          ]
        },
        {
          "metadata": {
            "tags": null
          },
          "name": "stderr",
          "output_type": "stream",
          "text": [
            "1590it [00:18, 86.35it/s]\n"
          ]
        },
        {
          "metadata": {
            "tags": null
          },
          "name": "stdout",
          "output_type": "stream",
          "text": [
            "Eval loss at end of epoch 34: 0.8926544189453125\n",
            "patience: 1\n",
            "__________________Epoch: 35__________________\n",
            "Train loss at end of epoch 35: 0.6020686030387878\n",
            "Starting eval.\n"
          ]
        },
        {
          "metadata": {
            "tags": null
          },
          "name": "stderr",
          "output_type": "stream",
          "text": [
            "1590it [00:18, 86.19it/s]\n"
          ]
        },
        {
          "metadata": {
            "tags": null
          },
          "name": "stdout",
          "output_type": "stream",
          "text": [
            "Eval loss at end of epoch 35: 0.8927330374717712\n",
            "patience: 2\n",
            "__________________Epoch: 36__________________\n",
            "Train loss at end of epoch 36: 0.6017741560935974\n",
            "Starting eval.\n"
          ]
        },
        {
          "metadata": {
            "tags": null
          },
          "name": "stderr",
          "output_type": "stream",
          "text": [
            "1590it [00:18, 86.16it/s]\n"
          ]
        },
        {
          "metadata": {
            "tags": null
          },
          "name": "stdout",
          "output_type": "stream",
          "text": [
            "Eval loss at end of epoch 36: 0.8928847312927246\n",
            "patience: 3\n",
            "__________________Epoch: 37__________________\n",
            "Train loss at end of epoch 37: 0.601613461971283\n",
            "Starting eval.\n"
          ]
        },
        {
          "metadata": {
            "tags": null
          },
          "name": "stderr",
          "output_type": "stream",
          "text": [
            "1590it [00:18, 86.31it/s]\n"
          ]
        },
        {
          "metadata": {
            "tags": null
          },
          "name": "stdout",
          "output_type": "stream",
          "text": [
            "Eval loss at end of epoch 37: 0.8929401636123657\n",
            "patience: 4\n",
            "__________________Epoch: 38__________________\n",
            "Train loss at end of epoch 38: 0.6015048623085022\n",
            "Starting eval.\n"
          ]
        },
        {
          "metadata": {
            "tags": null
          },
          "name": "stderr",
          "output_type": "stream",
          "text": [
            "1590it [00:18, 86.56it/s]\n"
          ]
        },
        {
          "metadata": {
            "tags": null
          },
          "name": "stdout",
          "output_type": "stream",
          "text": [
            "Eval loss at end of epoch 38: 0.8925250768661499\n"
          ]
        },
        {
          "metadata": {
            "tags": null
          },
          "name": "stderr",
          "output_type": "stream",
          "text": [
            "WARNING:absl:No registered CheckpointArgs found for handler type: <class 'paxml.checkpoints.FlaxCheckpointHandler'>\n",
            "WARNING:absl:Configured `CheckpointManager` using deprecated legacy API. Please follow the instructions at https://orbax.readthedocs.io/en/latest/api_refactor.html to migrate by May 1st, 2024.\n",
            "WARNING:absl:train_state_unpadded_shape_dtype_struct is not provided. Saving the\n",
            "        shapes of train_state  as the unpadded shapes.\n"
          ]
        },
        {
          "metadata": {
            "tags": null
          },
          "name": "stdout",
          "output_type": "stream",
          "text": [
            "Saving checkpoint.\n",
            "__________________Epoch: 39__________________\n",
            "Train loss at end of epoch 39: 0.6014341115951538\n",
            "Starting eval.\n"
          ]
        },
        {
          "metadata": {
            "tags": null
          },
          "name": "stderr",
          "output_type": "stream",
          "text": [
            "1590it [00:18, 85.88it/s]\n"
          ]
        },
        {
          "metadata": {
            "tags": null
          },
          "name": "stdout",
          "output_type": "stream",
          "text": [
            "Eval loss at end of epoch 39: 0.8924368619918823\n"
          ]
        },
        {
          "metadata": {
            "tags": null
          },
          "name": "stderr",
          "output_type": "stream",
          "text": [
            "WARNING:absl:No registered CheckpointArgs found for handler type: <class 'paxml.checkpoints.FlaxCheckpointHandler'>\n",
            "WARNING:absl:Configured `CheckpointManager` using deprecated legacy API. Please follow the instructions at https://orbax.readthedocs.io/en/latest/api_refactor.html to migrate by May 1st, 2024.\n",
            "WARNING:absl:train_state_unpadded_shape_dtype_struct is not provided. Saving the\n",
            "        shapes of train_state  as the unpadded shapes.\n"
          ]
        },
        {
          "metadata": {
            "tags": null
          },
          "name": "stdout",
          "output_type": "stream",
          "text": [
            "Saving checkpoint.\n",
            "__________________Epoch: 40__________________\n",
            "Train loss at end of epoch 40: 0.6011731028556824\n",
            "Starting eval.\n"
          ]
        },
        {
          "metadata": {
            "tags": null
          },
          "name": "stderr",
          "output_type": "stream",
          "text": [
            "1590it [00:18, 85.93it/s]\n"
          ]
        },
        {
          "output_type": "stream",
          "name": "stdout",
          "text": [
            "Eval loss at end of epoch 40: 0.8927993774414062\n",
            "patience: 1\n",
            "__________________Epoch: 41__________________\n",
            "Train loss at end of epoch 41: 0.6011864542961121\n",
            "Starting eval.\n"
          ]
        },
        {
          "output_type": "stream",
          "name": "stderr",
          "text": [
            "1590it [00:18, 86.48it/s]\n"
          ]
        },
        {
          "output_type": "stream",
          "name": "stdout",
          "text": [
            "Eval loss at end of epoch 41: 0.8926325440406799\n",
            "patience: 2\n",
            "__________________Epoch: 42__________________\n",
            "Train loss at end of epoch 42: 0.600888729095459\n",
            "Starting eval.\n"
          ]
        },
        {
          "output_type": "stream",
          "name": "stderr",
          "text": [
            "1590it [00:18, 86.01it/s]\n"
          ]
        },
        {
          "output_type": "stream",
          "name": "stdout",
          "text": [
            "Eval loss at end of epoch 42: 0.8927860856056213\n",
            "patience: 3\n",
            "__________________Epoch: 43__________________\n",
            "Train loss at end of epoch 43: 0.6007497310638428\n",
            "Starting eval.\n"
          ]
        },
        {
          "output_type": "stream",
          "name": "stderr",
          "text": [
            "1590it [00:18, 86.23it/s]\n"
          ]
        },
        {
          "output_type": "stream",
          "name": "stdout",
          "text": [
            "Eval loss at end of epoch 43: 0.8925654292106628\n",
            "patience: 4\n",
            "__________________Epoch: 44__________________\n",
            "Train loss at end of epoch 44: 0.6005206108093262\n",
            "Starting eval.\n"
          ]
        },
        {
          "output_type": "stream",
          "name": "stderr",
          "text": [
            "1590it [00:18, 86.25it/s]\n"
          ]
        },
        {
          "output_type": "stream",
          "name": "stdout",
          "text": [
            "Eval loss at end of epoch 44: 0.8922963738441467\n"
          ]
        },
        {
          "output_type": "stream",
          "name": "stderr",
          "text": [
            "WARNING:absl:No registered CheckpointArgs found for handler type: <class 'paxml.checkpoints.FlaxCheckpointHandler'>\n",
            "WARNING:absl:Configured `CheckpointManager` using deprecated legacy API. Please follow the instructions at https://orbax.readthedocs.io/en/latest/api_refactor.html to migrate by May 1st, 2024.\n",
            "WARNING:absl:train_state_unpadded_shape_dtype_struct is not provided. Saving the\n",
            "        shapes of train_state  as the unpadded shapes.\n"
          ]
        },
        {
          "output_type": "stream",
          "name": "stdout",
          "text": [
            "Saving checkpoint.\n",
            "__________________Epoch: 45__________________\n",
            "Train loss at end of epoch 45: 0.6009593605995178\n",
            "Starting eval.\n"
          ]
        },
        {
          "output_type": "stream",
          "name": "stderr",
          "text": [
            "1590it [00:18, 85.41it/s]\n"
          ]
        },
        {
          "output_type": "stream",
          "name": "stdout",
          "text": [
            "Eval loss at end of epoch 45: 0.8923969268798828\n",
            "patience: 1\n",
            "__________________Epoch: 46__________________\n",
            "Train loss at end of epoch 46: 0.6005135774612427\n",
            "Starting eval.\n"
          ]
        },
        {
          "output_type": "stream",
          "name": "stderr",
          "text": [
            "1590it [00:18, 86.63it/s]\n"
          ]
        },
        {
          "output_type": "stream",
          "name": "stdout",
          "text": [
            "Eval loss at end of epoch 46: 0.8922326564788818\n"
          ]
        },
        {
          "output_type": "stream",
          "name": "stderr",
          "text": [
            "WARNING:absl:No registered CheckpointArgs found for handler type: <class 'paxml.checkpoints.FlaxCheckpointHandler'>\n",
            "WARNING:absl:Configured `CheckpointManager` using deprecated legacy API. Please follow the instructions at https://orbax.readthedocs.io/en/latest/api_refactor.html to migrate by May 1st, 2024.\n",
            "WARNING:absl:train_state_unpadded_shape_dtype_struct is not provided. Saving the\n",
            "        shapes of train_state  as the unpadded shapes.\n"
          ]
        },
        {
          "output_type": "stream",
          "name": "stdout",
          "text": [
            "Saving checkpoint.\n",
            "__________________Epoch: 47__________________\n",
            "Train loss at end of epoch 47: 0.6000668406486511\n",
            "Starting eval.\n"
          ]
        },
        {
          "output_type": "stream",
          "name": "stderr",
          "text": [
            "1590it [00:18, 86.42it/s]\n"
          ]
        },
        {
          "output_type": "stream",
          "name": "stdout",
          "text": [
            "Eval loss at end of epoch 47: 0.892340362071991\n",
            "patience: 1\n",
            "__________________Epoch: 48__________________\n",
            "Train loss at end of epoch 48: 0.5998568534851074\n",
            "Starting eval.\n"
          ]
        },
        {
          "output_type": "stream",
          "name": "stderr",
          "text": [
            "1590it [00:18, 86.69it/s]\n"
          ]
        },
        {
          "output_type": "stream",
          "name": "stdout",
          "text": [
            "Eval loss at end of epoch 48: 0.8923819065093994\n",
            "patience: 2\n",
            "__________________Epoch: 49__________________\n",
            "Train loss at end of epoch 49: 0.5998380780220032\n",
            "Starting eval.\n"
          ]
        },
        {
          "output_type": "stream",
          "name": "stderr",
          "text": [
            "1590it [00:18, 86.51it/s]\n"
          ]
        },
        {
          "output_type": "stream",
          "name": "stdout",
          "text": [
            "Eval loss at end of epoch 49: 0.8924046158790588\n",
            "patience: 3\n"
          ]
        }
      ],
      "source": [
        "for epoch in range(NUM_EPOCHS):\n",
        "    print(f\"__________________Epoch: {epoch}__________________\", flush=True)\n",
        "\n",
        "    # Train phase\n",
        "    train_its = train_batches.as_numpy_iterator()\n",
        "    if patience >= PATIENCE:\n",
        "        print(\"Early stopping.\", flush=True)\n",
        "        break\n",
        "\n",
        "    train_losses = []  # Initialize train losses for the epoch\n",
        "    for batch in train_its:\n",
        "        if patience >= PATIENCE:\n",
        "            print(\"Early stopping.\", flush=True)\n",
        "            break\n",
        "\n",
        "        tbatch = process_train_batch(batch)\n",
        "        tbatch = reshape_batch_for_pmap(tbatch, num_devices)\n",
        "        replicated_jax_states, step_fun_out = p_train_step(\n",
        "            replicated_jax_states, train_prng_seed, tbatch\n",
        "        )\n",
        "        train_losses.append(step_fun_out.loss[0])\n",
        "\n",
        "        # Increment step count\n",
        "        step_count += 1\n",
        "\n",
        "    # Calculate and print average train loss for the epoch\n",
        "    avg_train_loss = np.mean(train_losses)\n",
        "    print(f\"Train loss at end of epoch {epoch}: {avg_train_loss}\", flush=True)\n",
        "\n",
        "    # Eval phase at the end of the epoch\n",
        "    print(\"Starting eval.\", flush=True)\n",
        "    val_its = val_batches.as_numpy_iterator()\n",
        "    eval_losses = []  # Initialize eval losses for the epoch\n",
        "\n",
        "    for ev_batch in tqdm(val_its):\n",
        "        ebatch = process_eval_batch(ev_batch)\n",
        "        ebatch = reshape_batch_for_pmap(ebatch, num_devices)\n",
        "        _, step_fun_out = p_eval_step(replicated_jax_states, eval_prng_seed, ebatch)\n",
        "        eval_losses.append(step_fun_out.loss[0])\n",
        "\n",
        "    # Calculate and print average eval loss for the epoch\n",
        "    mean_loss = np.mean(eval_losses)\n",
        "    print(f\"Eval loss at end of epoch {epoch}: {mean_loss}\", flush=True)\n",
        "\n",
        "    # Check for checkpoint saving and patience logic\n",
        "    if mean_loss < best_eval_loss or np.isnan(mean_loss):\n",
        "        best_eval_loss = mean_loss\n",
        "        print(\"Saving checkpoint.\")\n",
        "        jax_state_for_saving = py_utils.maybe_unreplicate_for_fully_replicated(\n",
        "            replicated_jax_states\n",
        "        )\n",
        "        checkpoints.save_checkpoint(\n",
        "            jax_state_for_saving, CHECKPOINT_DIR, overwrite=True\n",
        "        )\n",
        "        patience = 0  # Reset patience since we improved\n",
        "        del jax_state_for_saving\n",
        "        gc.collect()\n",
        "    else:\n",
        "        patience += 1\n",
        "        print(f\"patience: {patience}\")\n",
        "\n",
        "    # Early stopping check\n",
        "    if patience >= PATIENCE:\n",
        "        print(\"Early stopping.\", flush=True)\n",
        "        break\n"
      ]
    },
    {
      "cell_type": "code",
      "execution_count": 32,
      "metadata": {
        "id": "dCPjpDYSLv-3",
        "colab": {
          "base_uri": "https://localhost:8080/"
        },
        "outputId": "2f4299a9-09ea-4590-8deb-29609ccaab76"
      },
      "outputs": [
        {
          "output_type": "stream",
          "name": "stderr",
          "text": [
            "WARNING:absl:No registered CheckpointArgs found for handler type: <class 'paxml.checkpoints.FlaxCheckpointHandler'>\n",
            "WARNING:absl:Configured `CheckpointManager` using deprecated legacy API. Please follow the instructions at https://orbax.readthedocs.io/en/latest/api_refactor.html to migrate by May 1st, 2024.\n",
            "WARNING:absl:train_state_unpadded_shape_dtype_struct is not provided. We assume `train_state` is unpadded.\n",
            "ERROR:absl:For checkpoint version > 1.0, we require users to provide\n",
            "          `train_state_unpadded_shape_dtype_struct` during checkpoint\n",
            "          saving/restoring, to avoid potential silent bugs when loading\n",
            "          checkpoints to incompatible unpadded shapes of TrainState.\n"
          ]
        },
        {
          "output_type": "stream",
          "name": "stdout",
          "text": [
            "56541\n",
            "Jitting decoding.\n",
            "Jitted decoding in 18.27 seconds.\n"
          ]
        }
      ],
      "source": [
        "train_state = checkpoints.restore_checkpoint(jax_model_states, CHECKPOINT_DIR)\n",
        "print(train_state.step)\n",
        "tfm._train_state.mdl_vars['params'] = train_state.mdl_vars['params']['core_layer']\n",
        "tfm.jit_decode()"
      ]
    },
    {
      "cell_type": "code",
      "execution_count": 33,
      "metadata": {
        "id": "b-v5eQ7mLv-4",
        "colab": {
          "base_uri": "https://localhost:8080/"
        },
        "outputId": "68111ff1-d8eb-4143-ad3f-0a2a302d16ff"
      },
      "outputs": [
        {
          "output_type": "stream",
          "name": "stderr",
          "text": [
            "531it [00:09, 58.22it/s]\n"
          ]
        },
        {
          "output_type": "stream",
          "name": "stdout",
          "text": [
            "MAE: 0.25883543491363525\n"
          ]
        }
      ],
      "source": [
        "mae_losses = []\n",
        "for batch in tqdm(test_batches.as_numpy_iterator()):\n",
        "    past = batch[0]\n",
        "    actuals = batch[3]\n",
        "    _, forecasts = tfm.forecast(list(past), [0] * past.shape[0])\n",
        "    forecasts = forecasts[:, 0 : actuals.shape[1], 5]\n",
        "    mae_losses.append(np.abs(forecasts - actuals).mean())\n",
        "\n",
        "print(f\"MAE: {np.mean(mae_losses)}\")"
      ]
    },
    {
      "cell_type": "code",
      "execution_count": 34,
      "metadata": {
        "id": "73UaEV7HJjzv",
        "colab": {
          "base_uri": "https://localhost:8080/",
          "height": 473
        },
        "outputId": "9d4f48d6-e7f0-40ea-cbfd-e59d2a77acf4"
      },
      "outputs": [
        {
          "output_type": "stream",
          "name": "stderr",
          "text": [
            "\r[*********************100%***********************]  1 of 1 completed\n"
          ]
        },
        {
          "output_type": "execute_result",
          "data": {
            "text/plain": [
              "                 close\n",
              "date                  \n",
              "2023-01-03  125.070000\n",
              "2023-01-04  126.360001\n",
              "2023-01-05  125.019997\n",
              "2023-01-06  129.619995\n",
              "2023-01-09  130.149994\n",
              "...                ...\n",
              "2023-12-22  193.600006\n",
              "2023-12-26  193.050003\n",
              "2023-12-27  193.149994\n",
              "2023-12-28  193.580002\n",
              "2023-12-29  192.529999\n",
              "\n",
              "[250 rows x 1 columns]"
            ],
            "text/html": [
              "\n",
              "  <div id=\"df-997b351e-720d-4bbe-94f0-9fb3b26237c6\" class=\"colab-df-container\">\n",
              "    <div>\n",
              "<style scoped>\n",
              "    .dataframe tbody tr th:only-of-type {\n",
              "        vertical-align: middle;\n",
              "    }\n",
              "\n",
              "    .dataframe tbody tr th {\n",
              "        vertical-align: top;\n",
              "    }\n",
              "\n",
              "    .dataframe thead th {\n",
              "        text-align: right;\n",
              "    }\n",
              "</style>\n",
              "<table border=\"1\" class=\"dataframe\">\n",
              "  <thead>\n",
              "    <tr style=\"text-align: right;\">\n",
              "      <th></th>\n",
              "      <th>close</th>\n",
              "    </tr>\n",
              "    <tr>\n",
              "      <th>date</th>\n",
              "      <th></th>\n",
              "    </tr>\n",
              "  </thead>\n",
              "  <tbody>\n",
              "    <tr>\n",
              "      <th>2023-01-03</th>\n",
              "      <td>125.070000</td>\n",
              "    </tr>\n",
              "    <tr>\n",
              "      <th>2023-01-04</th>\n",
              "      <td>126.360001</td>\n",
              "    </tr>\n",
              "    <tr>\n",
              "      <th>2023-01-05</th>\n",
              "      <td>125.019997</td>\n",
              "    </tr>\n",
              "    <tr>\n",
              "      <th>2023-01-06</th>\n",
              "      <td>129.619995</td>\n",
              "    </tr>\n",
              "    <tr>\n",
              "      <th>2023-01-09</th>\n",
              "      <td>130.149994</td>\n",
              "    </tr>\n",
              "    <tr>\n",
              "      <th>...</th>\n",
              "      <td>...</td>\n",
              "    </tr>\n",
              "    <tr>\n",
              "      <th>2023-12-22</th>\n",
              "      <td>193.600006</td>\n",
              "    </tr>\n",
              "    <tr>\n",
              "      <th>2023-12-26</th>\n",
              "      <td>193.050003</td>\n",
              "    </tr>\n",
              "    <tr>\n",
              "      <th>2023-12-27</th>\n",
              "      <td>193.149994</td>\n",
              "    </tr>\n",
              "    <tr>\n",
              "      <th>2023-12-28</th>\n",
              "      <td>193.580002</td>\n",
              "    </tr>\n",
              "    <tr>\n",
              "      <th>2023-12-29</th>\n",
              "      <td>192.529999</td>\n",
              "    </tr>\n",
              "  </tbody>\n",
              "</table>\n",
              "<p>250 rows × 1 columns</p>\n",
              "</div>\n",
              "    <div class=\"colab-df-buttons\">\n",
              "\n",
              "  <div class=\"colab-df-container\">\n",
              "    <button class=\"colab-df-convert\" onclick=\"convertToInteractive('df-997b351e-720d-4bbe-94f0-9fb3b26237c6')\"\n",
              "            title=\"Convert this dataframe to an interactive table.\"\n",
              "            style=\"display:none;\">\n",
              "\n",
              "  <svg xmlns=\"http://www.w3.org/2000/svg\" height=\"24px\" viewBox=\"0 -960 960 960\">\n",
              "    <path d=\"M120-120v-720h720v720H120Zm60-500h600v-160H180v160Zm220 220h160v-160H400v160Zm0 220h160v-160H400v160ZM180-400h160v-160H180v160Zm440 0h160v-160H620v160ZM180-180h160v-160H180v160Zm440 0h160v-160H620v160Z\"/>\n",
              "  </svg>\n",
              "    </button>\n",
              "\n",
              "  <style>\n",
              "    .colab-df-container {\n",
              "      display:flex;\n",
              "      gap: 12px;\n",
              "    }\n",
              "\n",
              "    .colab-df-convert {\n",
              "      background-color: #E8F0FE;\n",
              "      border: none;\n",
              "      border-radius: 50%;\n",
              "      cursor: pointer;\n",
              "      display: none;\n",
              "      fill: #1967D2;\n",
              "      height: 32px;\n",
              "      padding: 0 0 0 0;\n",
              "      width: 32px;\n",
              "    }\n",
              "\n",
              "    .colab-df-convert:hover {\n",
              "      background-color: #E2EBFA;\n",
              "      box-shadow: 0px 1px 2px rgba(60, 64, 67, 0.3), 0px 1px 3px 1px rgba(60, 64, 67, 0.15);\n",
              "      fill: #174EA6;\n",
              "    }\n",
              "\n",
              "    .colab-df-buttons div {\n",
              "      margin-bottom: 4px;\n",
              "    }\n",
              "\n",
              "    [theme=dark] .colab-df-convert {\n",
              "      background-color: #3B4455;\n",
              "      fill: #D2E3FC;\n",
              "    }\n",
              "\n",
              "    [theme=dark] .colab-df-convert:hover {\n",
              "      background-color: #434B5C;\n",
              "      box-shadow: 0px 1px 3px 1px rgba(0, 0, 0, 0.15);\n",
              "      filter: drop-shadow(0px 1px 2px rgba(0, 0, 0, 0.3));\n",
              "      fill: #FFFFFF;\n",
              "    }\n",
              "  </style>\n",
              "\n",
              "    <script>\n",
              "      const buttonEl =\n",
              "        document.querySelector('#df-997b351e-720d-4bbe-94f0-9fb3b26237c6 button.colab-df-convert');\n",
              "      buttonEl.style.display =\n",
              "        google.colab.kernel.accessAllowed ? 'block' : 'none';\n",
              "\n",
              "      async function convertToInteractive(key) {\n",
              "        const element = document.querySelector('#df-997b351e-720d-4bbe-94f0-9fb3b26237c6');\n",
              "        const dataTable =\n",
              "          await google.colab.kernel.invokeFunction('convertToInteractive',\n",
              "                                                    [key], {});\n",
              "        if (!dataTable) return;\n",
              "\n",
              "        const docLinkHtml = 'Like what you see? Visit the ' +\n",
              "          '<a target=\"_blank\" href=https://colab.research.google.com/notebooks/data_table.ipynb>data table notebook</a>'\n",
              "          + ' to learn more about interactive tables.';\n",
              "        element.innerHTML = '';\n",
              "        dataTable['output_type'] = 'display_data';\n",
              "        await google.colab.output.renderOutput(dataTable, element);\n",
              "        const docLink = document.createElement('div');\n",
              "        docLink.innerHTML = docLinkHtml;\n",
              "        element.appendChild(docLink);\n",
              "      }\n",
              "    </script>\n",
              "  </div>\n",
              "\n",
              "\n",
              "<div id=\"df-afe14fe3-85a9-4ca1-8bff-b8e47c9594f1\">\n",
              "  <button class=\"colab-df-quickchart\" onclick=\"quickchart('df-afe14fe3-85a9-4ca1-8bff-b8e47c9594f1')\"\n",
              "            title=\"Suggest charts\"\n",
              "            style=\"display:none;\">\n",
              "\n",
              "<svg xmlns=\"http://www.w3.org/2000/svg\" height=\"24px\"viewBox=\"0 0 24 24\"\n",
              "     width=\"24px\">\n",
              "    <g>\n",
              "        <path d=\"M19 3H5c-1.1 0-2 .9-2 2v14c0 1.1.9 2 2 2h14c1.1 0 2-.9 2-2V5c0-1.1-.9-2-2-2zM9 17H7v-7h2v7zm4 0h-2V7h2v10zm4 0h-2v-4h2v4z\"/>\n",
              "    </g>\n",
              "</svg>\n",
              "  </button>\n",
              "\n",
              "<style>\n",
              "  .colab-df-quickchart {\n",
              "      --bg-color: #E8F0FE;\n",
              "      --fill-color: #1967D2;\n",
              "      --hover-bg-color: #E2EBFA;\n",
              "      --hover-fill-color: #174EA6;\n",
              "      --disabled-fill-color: #AAA;\n",
              "      --disabled-bg-color: #DDD;\n",
              "  }\n",
              "\n",
              "  [theme=dark] .colab-df-quickchart {\n",
              "      --bg-color: #3B4455;\n",
              "      --fill-color: #D2E3FC;\n",
              "      --hover-bg-color: #434B5C;\n",
              "      --hover-fill-color: #FFFFFF;\n",
              "      --disabled-bg-color: #3B4455;\n",
              "      --disabled-fill-color: #666;\n",
              "  }\n",
              "\n",
              "  .colab-df-quickchart {\n",
              "    background-color: var(--bg-color);\n",
              "    border: none;\n",
              "    border-radius: 50%;\n",
              "    cursor: pointer;\n",
              "    display: none;\n",
              "    fill: var(--fill-color);\n",
              "    height: 32px;\n",
              "    padding: 0;\n",
              "    width: 32px;\n",
              "  }\n",
              "\n",
              "  .colab-df-quickchart:hover {\n",
              "    background-color: var(--hover-bg-color);\n",
              "    box-shadow: 0 1px 2px rgba(60, 64, 67, 0.3), 0 1px 3px 1px rgba(60, 64, 67, 0.15);\n",
              "    fill: var(--button-hover-fill-color);\n",
              "  }\n",
              "\n",
              "  .colab-df-quickchart-complete:disabled,\n",
              "  .colab-df-quickchart-complete:disabled:hover {\n",
              "    background-color: var(--disabled-bg-color);\n",
              "    fill: var(--disabled-fill-color);\n",
              "    box-shadow: none;\n",
              "  }\n",
              "\n",
              "  .colab-df-spinner {\n",
              "    border: 2px solid var(--fill-color);\n",
              "    border-color: transparent;\n",
              "    border-bottom-color: var(--fill-color);\n",
              "    animation:\n",
              "      spin 1s steps(1) infinite;\n",
              "  }\n",
              "\n",
              "  @keyframes spin {\n",
              "    0% {\n",
              "      border-color: transparent;\n",
              "      border-bottom-color: var(--fill-color);\n",
              "      border-left-color: var(--fill-color);\n",
              "    }\n",
              "    20% {\n",
              "      border-color: transparent;\n",
              "      border-left-color: var(--fill-color);\n",
              "      border-top-color: var(--fill-color);\n",
              "    }\n",
              "    30% {\n",
              "      border-color: transparent;\n",
              "      border-left-color: var(--fill-color);\n",
              "      border-top-color: var(--fill-color);\n",
              "      border-right-color: var(--fill-color);\n",
              "    }\n",
              "    40% {\n",
              "      border-color: transparent;\n",
              "      border-right-color: var(--fill-color);\n",
              "      border-top-color: var(--fill-color);\n",
              "    }\n",
              "    60% {\n",
              "      border-color: transparent;\n",
              "      border-right-color: var(--fill-color);\n",
              "    }\n",
              "    80% {\n",
              "      border-color: transparent;\n",
              "      border-right-color: var(--fill-color);\n",
              "      border-bottom-color: var(--fill-color);\n",
              "    }\n",
              "    90% {\n",
              "      border-color: transparent;\n",
              "      border-bottom-color: var(--fill-color);\n",
              "    }\n",
              "  }\n",
              "</style>\n",
              "\n",
              "  <script>\n",
              "    async function quickchart(key) {\n",
              "      const quickchartButtonEl =\n",
              "        document.querySelector('#' + key + ' button');\n",
              "      quickchartButtonEl.disabled = true;  // To prevent multiple clicks.\n",
              "      quickchartButtonEl.classList.add('colab-df-spinner');\n",
              "      try {\n",
              "        const charts = await google.colab.kernel.invokeFunction(\n",
              "            'suggestCharts', [key], {});\n",
              "      } catch (error) {\n",
              "        console.error('Error during call to suggestCharts:', error);\n",
              "      }\n",
              "      quickchartButtonEl.classList.remove('colab-df-spinner');\n",
              "      quickchartButtonEl.classList.add('colab-df-quickchart-complete');\n",
              "    }\n",
              "    (() => {\n",
              "      let quickchartButtonEl =\n",
              "        document.querySelector('#df-afe14fe3-85a9-4ca1-8bff-b8e47c9594f1 button');\n",
              "      quickchartButtonEl.style.display =\n",
              "        google.colab.kernel.accessAllowed ? 'block' : 'none';\n",
              "    })();\n",
              "  </script>\n",
              "</div>\n",
              "    </div>\n",
              "  </div>\n"
            ],
            "application/vnd.google.colaboratory.intrinsic+json": {
              "type": "dataframe",
              "variable_name": "df",
              "summary": "{\n  \"name\": \"df\",\n  \"rows\": 250,\n  \"fields\": [\n    {\n      \"column\": \"date\",\n      \"properties\": {\n        \"dtype\": \"date\",\n        \"min\": \"2023-01-03 00:00:00\",\n        \"max\": \"2023-12-29 00:00:00\",\n        \"num_unique_values\": 250,\n        \"samples\": [\n          \"2023-07-28 00:00:00\",\n          \"2023-01-11 00:00:00\",\n          \"2023-05-23 00:00:00\"\n        ],\n        \"semantic_type\": \"\",\n        \"description\": \"\"\n      }\n    },\n    {\n      \"column\": \"close\",\n      \"properties\": {\n        \"dtype\": \"number\",\n        \"std\": 17.331671976989142,\n        \"min\": 125.0199966430664,\n        \"max\": 198.11000061035156,\n        \"num_unique_values\": 243,\n        \"samples\": [\n          154.64999389648438,\n          133.49000549316406,\n          177.4499969482422\n        ],\n        \"semantic_type\": \"\",\n        \"description\": \"\"\n      }\n    }\n  ]\n}"
            }
          },
          "metadata": {},
          "execution_count": 34
        }
      ],
      "source": [
        "\n",
        "# Download stock data from Yahoo Finance\n",
        "ticker = 'AAPL'  # Example: Apple Inc.\n",
        "data = yf.download(ticker, start=\"2023-01-01\", end=\"2024-01-01\")\n",
        "data = data.dropna()\n",
        "\n",
        "df = data[['Close']].reset_index()\n",
        "df.columns = ['date', 'close']\n",
        "df['date'] = pd.to_datetime(df['date'])\n",
        "df.set_index('date', inplace=True)\n",
        "df"
      ]
    },
    {
      "cell_type": "code",
      "execution_count": 35,
      "metadata": {
        "id": "z7AKT5YaxxdQ"
      },
      "outputs": [],
      "source": [
        "\n",
        "\n",
        "def get_batched_data_fn(batch_size: int = 32, context_len: int = 32, horizon_len: int = 1):\n",
        "    examples = defaultdict(list)\n",
        "    num_examples = 0\n",
        "    for start in range(0, len(df) - (context_len + horizon_len), horizon_len):\n",
        "        num_examples += 1\n",
        "        context_end = start + context_len\n",
        "        examples[\"inputs\"].append(df[\"close\"][start:context_end].tolist())\n",
        "        examples[\"outputs\"].append(df[\"close\"][context_end:context_end + horizon_len].tolist())\n",
        "        examples[\"dates\"].append(df.index[start:context_end + horizon_len].tolist())  # Add dates to examples\n",
        "\n",
        "    def data_fn():\n",
        "        for i in range(1 + (num_examples - 1) // batch_size):\n",
        "            yield {k: v[(i * batch_size): ((i + 1) * batch_size)] for k, v in examples.items()}\n",
        "\n",
        "    return data_fn"
      ]
    },
    {
      "cell_type": "code",
      "execution_count": 36,
      "metadata": {
        "id": "TH2ZB5Inx3Nj"
      },
      "outputs": [],
      "source": [
        "context_len=64\n",
        "input_patch_len=32\n",
        "horizon_len=1\n",
        "batch_size=1"
      ]
    },
    {
      "cell_type": "code",
      "execution_count": 37,
      "metadata": {
        "id": "zPXOwveOx8mT"
      },
      "outputs": [],
      "source": [
        "import os\n",
        "import time\n",
        "import timesfm\n",
        "from collections import defaultdict\n",
        "import yfinance as yf\n",
        "import numpy as np\n",
        "import pandas as pd\n",
        "import matplotlib.pyplot as plt\n",
        "from sklearn.metrics import mean_squared_error, mean_absolute_error\n"
      ]
    },
    {
      "cell_type": "code",
      "execution_count": 38,
      "metadata": {
        "id": "YrcV3BK0xtwj"
      },
      "outputs": [],
      "source": [
        "\n",
        "      input_data = get_batched_data_fn(batch_size=batch_size, context_len=context_len, horizon_len=horizon_len)\n",
        "      metrics = defaultdict(list)\n",
        "      results = []\n",
        "\n",
        "      # Process in smaller sub-batches\n",
        "      for i, example in enumerate(input_data()):\n",
        "          raw_forecast, _ = tfm.forecast(\n",
        "              inputs=example[\"inputs\"], freq=[0] * len(example[\"inputs\"])\n",
        "          )\n",
        "\n",
        "          for j in range(len(example[\"inputs\"])):\n",
        "              result = {\n",
        "                  'input_index': j,\n",
        "                  'train_start_date': str(example[\"dates\"][j][0]),\n",
        "                  'train_end_date': str(example[\"dates\"][j][-2]),\n",
        "                  'predict_date': str(example[\"dates\"][j][-1]),\n",
        "                  'raw_forecast': raw_forecast[j][0],\n",
        "                  'y_actual': example[\"outputs\"][j][0],\n",
        "                  'batch_size': batch_size,\n",
        "                  'context_len': context_len,\n",
        "                  'input_patch_len': input_patch_len\n",
        "              }\n",
        "              results.append(result)"
      ]
    },
    {
      "cell_type": "code",
      "execution_count": 39,
      "metadata": {
        "id": "rG3o4covyi5v",
        "colab": {
          "base_uri": "https://localhost:8080/",
          "height": 617
        },
        "outputId": "a156d5d9-01c4-49fc-9a92-8debcca2f260"
      },
      "outputs": [
        {
          "output_type": "execute_result",
          "data": {
            "text/plain": [
              "     input_index     train_start_date       train_end_date  \\\n",
              "0              0  2023-01-03 00:00:00  2023-04-04 00:00:00   \n",
              "1              0  2023-01-04 00:00:00  2023-04-05 00:00:00   \n",
              "2              0  2023-01-05 00:00:00  2023-04-06 00:00:00   \n",
              "3              0  2023-01-06 00:00:00  2023-04-10 00:00:00   \n",
              "4              0  2023-01-09 00:00:00  2023-04-11 00:00:00   \n",
              "..           ...                  ...                  ...   \n",
              "180            0  2023-09-21 00:00:00  2023-12-20 00:00:00   \n",
              "181            0  2023-09-22 00:00:00  2023-12-21 00:00:00   \n",
              "182            0  2023-09-25 00:00:00  2023-12-22 00:00:00   \n",
              "183            0  2023-09-26 00:00:00  2023-12-26 00:00:00   \n",
              "184            0  2023-09-27 00:00:00  2023-12-27 00:00:00   \n",
              "\n",
              "            predict_date  raw_forecast    y_actual  batch_size  context_len  \\\n",
              "0    2023-04-05 00:00:00    164.827377  163.759995           1           64   \n",
              "1    2023-04-06 00:00:00    162.800888  164.660004           1           64   \n",
              "2    2023-04-10 00:00:00    163.247360  162.029999           1           64   \n",
              "3    2023-04-11 00:00:00    160.658371  160.800003           1           64   \n",
              "4    2023-04-12 00:00:00    160.108795  160.100006           1           64   \n",
              "..                   ...           ...         ...         ...          ...   \n",
              "180  2023-12-21 00:00:00    194.479660  194.679993           1           64   \n",
              "181  2023-12-22 00:00:00    194.107086  193.600006           1           64   \n",
              "182  2023-12-26 00:00:00    192.670990  193.050003           1           64   \n",
              "183  2023-12-27 00:00:00    192.562256  193.149994           1           64   \n",
              "184  2023-12-28 00:00:00    192.470505  193.580002           1           64   \n",
              "\n",
              "     input_patch_len  \n",
              "0                 32  \n",
              "1                 32  \n",
              "2                 32  \n",
              "3                 32  \n",
              "4                 32  \n",
              "..               ...  \n",
              "180               32  \n",
              "181               32  \n",
              "182               32  \n",
              "183               32  \n",
              "184               32  \n",
              "\n",
              "[185 rows x 9 columns]"
            ],
            "text/html": [
              "\n",
              "  <div id=\"df-f7291075-80fb-49ef-ad5d-e64e132a48e1\" class=\"colab-df-container\">\n",
              "    <div>\n",
              "<style scoped>\n",
              "    .dataframe tbody tr th:only-of-type {\n",
              "        vertical-align: middle;\n",
              "    }\n",
              "\n",
              "    .dataframe tbody tr th {\n",
              "        vertical-align: top;\n",
              "    }\n",
              "\n",
              "    .dataframe thead th {\n",
              "        text-align: right;\n",
              "    }\n",
              "</style>\n",
              "<table border=\"1\" class=\"dataframe\">\n",
              "  <thead>\n",
              "    <tr style=\"text-align: right;\">\n",
              "      <th></th>\n",
              "      <th>input_index</th>\n",
              "      <th>train_start_date</th>\n",
              "      <th>train_end_date</th>\n",
              "      <th>predict_date</th>\n",
              "      <th>raw_forecast</th>\n",
              "      <th>y_actual</th>\n",
              "      <th>batch_size</th>\n",
              "      <th>context_len</th>\n",
              "      <th>input_patch_len</th>\n",
              "    </tr>\n",
              "  </thead>\n",
              "  <tbody>\n",
              "    <tr>\n",
              "      <th>0</th>\n",
              "      <td>0</td>\n",
              "      <td>2023-01-03 00:00:00</td>\n",
              "      <td>2023-04-04 00:00:00</td>\n",
              "      <td>2023-04-05 00:00:00</td>\n",
              "      <td>164.827377</td>\n",
              "      <td>163.759995</td>\n",
              "      <td>1</td>\n",
              "      <td>64</td>\n",
              "      <td>32</td>\n",
              "    </tr>\n",
              "    <tr>\n",
              "      <th>1</th>\n",
              "      <td>0</td>\n",
              "      <td>2023-01-04 00:00:00</td>\n",
              "      <td>2023-04-05 00:00:00</td>\n",
              "      <td>2023-04-06 00:00:00</td>\n",
              "      <td>162.800888</td>\n",
              "      <td>164.660004</td>\n",
              "      <td>1</td>\n",
              "      <td>64</td>\n",
              "      <td>32</td>\n",
              "    </tr>\n",
              "    <tr>\n",
              "      <th>2</th>\n",
              "      <td>0</td>\n",
              "      <td>2023-01-05 00:00:00</td>\n",
              "      <td>2023-04-06 00:00:00</td>\n",
              "      <td>2023-04-10 00:00:00</td>\n",
              "      <td>163.247360</td>\n",
              "      <td>162.029999</td>\n",
              "      <td>1</td>\n",
              "      <td>64</td>\n",
              "      <td>32</td>\n",
              "    </tr>\n",
              "    <tr>\n",
              "      <th>3</th>\n",
              "      <td>0</td>\n",
              "      <td>2023-01-06 00:00:00</td>\n",
              "      <td>2023-04-10 00:00:00</td>\n",
              "      <td>2023-04-11 00:00:00</td>\n",
              "      <td>160.658371</td>\n",
              "      <td>160.800003</td>\n",
              "      <td>1</td>\n",
              "      <td>64</td>\n",
              "      <td>32</td>\n",
              "    </tr>\n",
              "    <tr>\n",
              "      <th>4</th>\n",
              "      <td>0</td>\n",
              "      <td>2023-01-09 00:00:00</td>\n",
              "      <td>2023-04-11 00:00:00</td>\n",
              "      <td>2023-04-12 00:00:00</td>\n",
              "      <td>160.108795</td>\n",
              "      <td>160.100006</td>\n",
              "      <td>1</td>\n",
              "      <td>64</td>\n",
              "      <td>32</td>\n",
              "    </tr>\n",
              "    <tr>\n",
              "      <th>...</th>\n",
              "      <td>...</td>\n",
              "      <td>...</td>\n",
              "      <td>...</td>\n",
              "      <td>...</td>\n",
              "      <td>...</td>\n",
              "      <td>...</td>\n",
              "      <td>...</td>\n",
              "      <td>...</td>\n",
              "      <td>...</td>\n",
              "    </tr>\n",
              "    <tr>\n",
              "      <th>180</th>\n",
              "      <td>0</td>\n",
              "      <td>2023-09-21 00:00:00</td>\n",
              "      <td>2023-12-20 00:00:00</td>\n",
              "      <td>2023-12-21 00:00:00</td>\n",
              "      <td>194.479660</td>\n",
              "      <td>194.679993</td>\n",
              "      <td>1</td>\n",
              "      <td>64</td>\n",
              "      <td>32</td>\n",
              "    </tr>\n",
              "    <tr>\n",
              "      <th>181</th>\n",
              "      <td>0</td>\n",
              "      <td>2023-09-22 00:00:00</td>\n",
              "      <td>2023-12-21 00:00:00</td>\n",
              "      <td>2023-12-22 00:00:00</td>\n",
              "      <td>194.107086</td>\n",
              "      <td>193.600006</td>\n",
              "      <td>1</td>\n",
              "      <td>64</td>\n",
              "      <td>32</td>\n",
              "    </tr>\n",
              "    <tr>\n",
              "      <th>182</th>\n",
              "      <td>0</td>\n",
              "      <td>2023-09-25 00:00:00</td>\n",
              "      <td>2023-12-22 00:00:00</td>\n",
              "      <td>2023-12-26 00:00:00</td>\n",
              "      <td>192.670990</td>\n",
              "      <td>193.050003</td>\n",
              "      <td>1</td>\n",
              "      <td>64</td>\n",
              "      <td>32</td>\n",
              "    </tr>\n",
              "    <tr>\n",
              "      <th>183</th>\n",
              "      <td>0</td>\n",
              "      <td>2023-09-26 00:00:00</td>\n",
              "      <td>2023-12-26 00:00:00</td>\n",
              "      <td>2023-12-27 00:00:00</td>\n",
              "      <td>192.562256</td>\n",
              "      <td>193.149994</td>\n",
              "      <td>1</td>\n",
              "      <td>64</td>\n",
              "      <td>32</td>\n",
              "    </tr>\n",
              "    <tr>\n",
              "      <th>184</th>\n",
              "      <td>0</td>\n",
              "      <td>2023-09-27 00:00:00</td>\n",
              "      <td>2023-12-27 00:00:00</td>\n",
              "      <td>2023-12-28 00:00:00</td>\n",
              "      <td>192.470505</td>\n",
              "      <td>193.580002</td>\n",
              "      <td>1</td>\n",
              "      <td>64</td>\n",
              "      <td>32</td>\n",
              "    </tr>\n",
              "  </tbody>\n",
              "</table>\n",
              "<p>185 rows × 9 columns</p>\n",
              "</div>\n",
              "    <div class=\"colab-df-buttons\">\n",
              "\n",
              "  <div class=\"colab-df-container\">\n",
              "    <button class=\"colab-df-convert\" onclick=\"convertToInteractive('df-f7291075-80fb-49ef-ad5d-e64e132a48e1')\"\n",
              "            title=\"Convert this dataframe to an interactive table.\"\n",
              "            style=\"display:none;\">\n",
              "\n",
              "  <svg xmlns=\"http://www.w3.org/2000/svg\" height=\"24px\" viewBox=\"0 -960 960 960\">\n",
              "    <path d=\"M120-120v-720h720v720H120Zm60-500h600v-160H180v160Zm220 220h160v-160H400v160Zm0 220h160v-160H400v160ZM180-400h160v-160H180v160Zm440 0h160v-160H620v160ZM180-180h160v-160H180v160Zm440 0h160v-160H620v160Z\"/>\n",
              "  </svg>\n",
              "    </button>\n",
              "\n",
              "  <style>\n",
              "    .colab-df-container {\n",
              "      display:flex;\n",
              "      gap: 12px;\n",
              "    }\n",
              "\n",
              "    .colab-df-convert {\n",
              "      background-color: #E8F0FE;\n",
              "      border: none;\n",
              "      border-radius: 50%;\n",
              "      cursor: pointer;\n",
              "      display: none;\n",
              "      fill: #1967D2;\n",
              "      height: 32px;\n",
              "      padding: 0 0 0 0;\n",
              "      width: 32px;\n",
              "    }\n",
              "\n",
              "    .colab-df-convert:hover {\n",
              "      background-color: #E2EBFA;\n",
              "      box-shadow: 0px 1px 2px rgba(60, 64, 67, 0.3), 0px 1px 3px 1px rgba(60, 64, 67, 0.15);\n",
              "      fill: #174EA6;\n",
              "    }\n",
              "\n",
              "    .colab-df-buttons div {\n",
              "      margin-bottom: 4px;\n",
              "    }\n",
              "\n",
              "    [theme=dark] .colab-df-convert {\n",
              "      background-color: #3B4455;\n",
              "      fill: #D2E3FC;\n",
              "    }\n",
              "\n",
              "    [theme=dark] .colab-df-convert:hover {\n",
              "      background-color: #434B5C;\n",
              "      box-shadow: 0px 1px 3px 1px rgba(0, 0, 0, 0.15);\n",
              "      filter: drop-shadow(0px 1px 2px rgba(0, 0, 0, 0.3));\n",
              "      fill: #FFFFFF;\n",
              "    }\n",
              "  </style>\n",
              "\n",
              "    <script>\n",
              "      const buttonEl =\n",
              "        document.querySelector('#df-f7291075-80fb-49ef-ad5d-e64e132a48e1 button.colab-df-convert');\n",
              "      buttonEl.style.display =\n",
              "        google.colab.kernel.accessAllowed ? 'block' : 'none';\n",
              "\n",
              "      async function convertToInteractive(key) {\n",
              "        const element = document.querySelector('#df-f7291075-80fb-49ef-ad5d-e64e132a48e1');\n",
              "        const dataTable =\n",
              "          await google.colab.kernel.invokeFunction('convertToInteractive',\n",
              "                                                    [key], {});\n",
              "        if (!dataTable) return;\n",
              "\n",
              "        const docLinkHtml = 'Like what you see? Visit the ' +\n",
              "          '<a target=\"_blank\" href=https://colab.research.google.com/notebooks/data_table.ipynb>data table notebook</a>'\n",
              "          + ' to learn more about interactive tables.';\n",
              "        element.innerHTML = '';\n",
              "        dataTable['output_type'] = 'display_data';\n",
              "        await google.colab.output.renderOutput(dataTable, element);\n",
              "        const docLink = document.createElement('div');\n",
              "        docLink.innerHTML = docLinkHtml;\n",
              "        element.appendChild(docLink);\n",
              "      }\n",
              "    </script>\n",
              "  </div>\n",
              "\n",
              "\n",
              "<div id=\"df-1b468bd5-05f8-407d-ac3a-6a8cd374f011\">\n",
              "  <button class=\"colab-df-quickchart\" onclick=\"quickchart('df-1b468bd5-05f8-407d-ac3a-6a8cd374f011')\"\n",
              "            title=\"Suggest charts\"\n",
              "            style=\"display:none;\">\n",
              "\n",
              "<svg xmlns=\"http://www.w3.org/2000/svg\" height=\"24px\"viewBox=\"0 0 24 24\"\n",
              "     width=\"24px\">\n",
              "    <g>\n",
              "        <path d=\"M19 3H5c-1.1 0-2 .9-2 2v14c0 1.1.9 2 2 2h14c1.1 0 2-.9 2-2V5c0-1.1-.9-2-2-2zM9 17H7v-7h2v7zm4 0h-2V7h2v10zm4 0h-2v-4h2v4z\"/>\n",
              "    </g>\n",
              "</svg>\n",
              "  </button>\n",
              "\n",
              "<style>\n",
              "  .colab-df-quickchart {\n",
              "      --bg-color: #E8F0FE;\n",
              "      --fill-color: #1967D2;\n",
              "      --hover-bg-color: #E2EBFA;\n",
              "      --hover-fill-color: #174EA6;\n",
              "      --disabled-fill-color: #AAA;\n",
              "      --disabled-bg-color: #DDD;\n",
              "  }\n",
              "\n",
              "  [theme=dark] .colab-df-quickchart {\n",
              "      --bg-color: #3B4455;\n",
              "      --fill-color: #D2E3FC;\n",
              "      --hover-bg-color: #434B5C;\n",
              "      --hover-fill-color: #FFFFFF;\n",
              "      --disabled-bg-color: #3B4455;\n",
              "      --disabled-fill-color: #666;\n",
              "  }\n",
              "\n",
              "  .colab-df-quickchart {\n",
              "    background-color: var(--bg-color);\n",
              "    border: none;\n",
              "    border-radius: 50%;\n",
              "    cursor: pointer;\n",
              "    display: none;\n",
              "    fill: var(--fill-color);\n",
              "    height: 32px;\n",
              "    padding: 0;\n",
              "    width: 32px;\n",
              "  }\n",
              "\n",
              "  .colab-df-quickchart:hover {\n",
              "    background-color: var(--hover-bg-color);\n",
              "    box-shadow: 0 1px 2px rgba(60, 64, 67, 0.3), 0 1px 3px 1px rgba(60, 64, 67, 0.15);\n",
              "    fill: var(--button-hover-fill-color);\n",
              "  }\n",
              "\n",
              "  .colab-df-quickchart-complete:disabled,\n",
              "  .colab-df-quickchart-complete:disabled:hover {\n",
              "    background-color: var(--disabled-bg-color);\n",
              "    fill: var(--disabled-fill-color);\n",
              "    box-shadow: none;\n",
              "  }\n",
              "\n",
              "  .colab-df-spinner {\n",
              "    border: 2px solid var(--fill-color);\n",
              "    border-color: transparent;\n",
              "    border-bottom-color: var(--fill-color);\n",
              "    animation:\n",
              "      spin 1s steps(1) infinite;\n",
              "  }\n",
              "\n",
              "  @keyframes spin {\n",
              "    0% {\n",
              "      border-color: transparent;\n",
              "      border-bottom-color: var(--fill-color);\n",
              "      border-left-color: var(--fill-color);\n",
              "    }\n",
              "    20% {\n",
              "      border-color: transparent;\n",
              "      border-left-color: var(--fill-color);\n",
              "      border-top-color: var(--fill-color);\n",
              "    }\n",
              "    30% {\n",
              "      border-color: transparent;\n",
              "      border-left-color: var(--fill-color);\n",
              "      border-top-color: var(--fill-color);\n",
              "      border-right-color: var(--fill-color);\n",
              "    }\n",
              "    40% {\n",
              "      border-color: transparent;\n",
              "      border-right-color: var(--fill-color);\n",
              "      border-top-color: var(--fill-color);\n",
              "    }\n",
              "    60% {\n",
              "      border-color: transparent;\n",
              "      border-right-color: var(--fill-color);\n",
              "    }\n",
              "    80% {\n",
              "      border-color: transparent;\n",
              "      border-right-color: var(--fill-color);\n",
              "      border-bottom-color: var(--fill-color);\n",
              "    }\n",
              "    90% {\n",
              "      border-color: transparent;\n",
              "      border-bottom-color: var(--fill-color);\n",
              "    }\n",
              "  }\n",
              "</style>\n",
              "\n",
              "  <script>\n",
              "    async function quickchart(key) {\n",
              "      const quickchartButtonEl =\n",
              "        document.querySelector('#' + key + ' button');\n",
              "      quickchartButtonEl.disabled = true;  // To prevent multiple clicks.\n",
              "      quickchartButtonEl.classList.add('colab-df-spinner');\n",
              "      try {\n",
              "        const charts = await google.colab.kernel.invokeFunction(\n",
              "            'suggestCharts', [key], {});\n",
              "      } catch (error) {\n",
              "        console.error('Error during call to suggestCharts:', error);\n",
              "      }\n",
              "      quickchartButtonEl.classList.remove('colab-df-spinner');\n",
              "      quickchartButtonEl.classList.add('colab-df-quickchart-complete');\n",
              "    }\n",
              "    (() => {\n",
              "      let quickchartButtonEl =\n",
              "        document.querySelector('#df-1b468bd5-05f8-407d-ac3a-6a8cd374f011 button');\n",
              "      quickchartButtonEl.style.display =\n",
              "        google.colab.kernel.accessAllowed ? 'block' : 'none';\n",
              "    })();\n",
              "  </script>\n",
              "</div>\n",
              "    </div>\n",
              "  </div>\n"
            ],
            "application/vnd.google.colaboratory.intrinsic+json": {
              "type": "dataframe",
              "variable_name": "results_df",
              "summary": "{\n  \"name\": \"results_df\",\n  \"rows\": 185,\n  \"fields\": [\n    {\n      \"column\": \"input_index\",\n      \"properties\": {\n        \"dtype\": \"number\",\n        \"std\": 0,\n        \"min\": 0,\n        \"max\": 0,\n        \"num_unique_values\": 1,\n        \"samples\": [\n          0\n        ],\n        \"semantic_type\": \"\",\n        \"description\": \"\"\n      }\n    },\n    {\n      \"column\": \"train_start_date\",\n      \"properties\": {\n        \"dtype\": \"object\",\n        \"num_unique_values\": 185,\n        \"samples\": [\n          \"2023-01-31 00:00:00\"\n        ],\n        \"semantic_type\": \"\",\n        \"description\": \"\"\n      }\n    },\n    {\n      \"column\": \"train_end_date\",\n      \"properties\": {\n        \"dtype\": \"object\",\n        \"num_unique_values\": 185,\n        \"samples\": [\n          \"2023-05-02 00:00:00\"\n        ],\n        \"semantic_type\": \"\",\n        \"description\": \"\"\n      }\n    },\n    {\n      \"column\": \"predict_date\",\n      \"properties\": {\n        \"dtype\": \"object\",\n        \"num_unique_values\": 185,\n        \"samples\": [\n          \"2023-05-03 00:00:00\"\n        ],\n        \"semantic_type\": \"\",\n        \"description\": \"\"\n      }\n    },\n    {\n      \"column\": \"raw_forecast\",\n      \"properties\": {\n        \"dtype\": \"float32\",\n        \"num_unique_values\": 185,\n        \"samples\": [\n          167.3736114501953\n        ],\n        \"semantic_type\": \"\",\n        \"description\": \"\"\n      }\n    },\n    {\n      \"column\": \"y_actual\",\n      \"properties\": {\n        \"dtype\": \"number\",\n        \"std\": 9.573474207805178,\n        \"min\": 160.10000610351562,\n        \"max\": 198.11000061035156,\n        \"num_unique_values\": 178,\n        \"samples\": [\n          165.7899932861328\n        ],\n        \"semantic_type\": \"\",\n        \"description\": \"\"\n      }\n    },\n    {\n      \"column\": \"batch_size\",\n      \"properties\": {\n        \"dtype\": \"number\",\n        \"std\": 0,\n        \"min\": 1,\n        \"max\": 1,\n        \"num_unique_values\": 1,\n        \"samples\": [\n          1\n        ],\n        \"semantic_type\": \"\",\n        \"description\": \"\"\n      }\n    },\n    {\n      \"column\": \"context_len\",\n      \"properties\": {\n        \"dtype\": \"number\",\n        \"std\": 0,\n        \"min\": 64,\n        \"max\": 64,\n        \"num_unique_values\": 1,\n        \"samples\": [\n          64\n        ],\n        \"semantic_type\": \"\",\n        \"description\": \"\"\n      }\n    },\n    {\n      \"column\": \"input_patch_len\",\n      \"properties\": {\n        \"dtype\": \"number\",\n        \"std\": 0,\n        \"min\": 32,\n        \"max\": 32,\n        \"num_unique_values\": 1,\n        \"samples\": [\n          32\n        ],\n        \"semantic_type\": \"\",\n        \"description\": \"\"\n      }\n    }\n  ]\n}"
            }
          },
          "metadata": {},
          "execution_count": 39
        }
      ],
      "source": [
        " results_df = pd.DataFrame(results)\n",
        " results_df"
      ]
    },
    {
      "cell_type": "code",
      "execution_count": 40,
      "metadata": {
        "id": "vgkoPVwdU3F_",
        "colab": {
          "base_uri": "https://localhost:8080/",
          "height": 558
        },
        "outputId": "a211616e-c119-4a7f-985b-3bfd6eb19e17"
      },
      "outputs": [
        {
          "output_type": "display_data",
          "data": {
            "text/plain": [
              "<Figure size 1400x700 with 1 Axes>"
            ],
            "image/png": "[encoded data removed]"
          },
          "metadata": {}
        }
      ],
      "source": [
        "plt.figure(figsize=(14, 7))\n",
        "plt.plot(results_df['predict_date'], results_df['y_actual'], label='Actual', color='blue', linestyle='--')\n",
        "plt.plot(results_df['predict_date'], results_df['raw_forecast'], label='Model Forecast', color='orange')\n",
        "plt.xlabel('Date')\n",
        "plt.ylabel('Price')\n",
        "plt.title('Actual vs Model Forecast vs Naive Forecast Prices')\n",
        "plt.legend()\n",
        "plt.show()"
      ]
    },
    {
      "cell_type": "code",
      "execution_count": 41,
      "metadata": {
        "id": "u3rGoe4Bym28",
        "colab": {
          "base_uri": "https://localhost:8080/"
        },
        "outputId": "8f6b90dd-89c9-42fa-8744-fef3cec31aa3"
      },
      "outputs": [
        {
          "output_type": "stream",
          "name": "stdout",
          "text": [
            "   context_len       mse  accuracy  direction_accuracy  \\\n",
            "0           64  5.560509   0.51087            0.494565   \n",
            "\n",
            "   actual_direction_accuracy  direction_profit     profit  \n",
            "0                   0.516304           9.24701  14.846346  \n"
          ]
        }
      ],
      "source": [
        "import pandas as pd\n",
        "from sklearn.metrics import mean_squared_error, accuracy_score\n",
        "\n",
        "def calculate_mse(context_results_df):\n",
        "    return mean_squared_error(context_results_df['y_actual'], context_results_df['raw_forecast'])\n",
        "\n",
        "def calculate_accuracy(context_results_df):\n",
        "    correct_predictions = 0\n",
        "    total_predictions = 0\n",
        "    for i in range(1, len(context_results_df)):\n",
        "        actual_today = context_results_df['y_actual'].iloc[i]\n",
        "        predicted_today = context_results_df['raw_forecast'].iloc[i]\n",
        "        actual_yesterday = context_results_df['y_actual'].iloc[i - 1]\n",
        "        actual_movement = actual_today - actual_yesterday\n",
        "        predicted_movement = predicted_today - actual_yesterday\n",
        "        if (actual_movement > 0 and predicted_movement > 0) or (actual_movement < 0 and predicted_movement < 0):\n",
        "            correct_predictions += 1\n",
        "        total_predictions += 1\n",
        "\n",
        "    return correct_predictions / total_predictions if total_predictions > 0 else 0\n",
        "\n",
        "def calculate_profit(context_results_df, initial_capital=100):\n",
        "    capital = initial_capital\n",
        "    position = 0\n",
        "\n",
        "    for i in range(1, len(context_results_df)):\n",
        "        today_price = context_results_df['y_actual'].iloc[i]\n",
        "        yesterday_price = context_results_df['y_actual'].iloc[i - 1]\n",
        "        predicted_today_price = context_results_df['raw_forecast'].iloc[i]\n",
        "\n",
        "        if predicted_today_price > yesterday_price:\n",
        "            if position == 0:\n",
        "                position = capital / yesterday_price\n",
        "                capital = 0\n",
        "        elif predicted_today_price < yesterday_price:\n",
        "            if position > 0:\n",
        "                capital = position * yesterday_price\n",
        "                position = 0\n",
        "\n",
        "    if position > 0:\n",
        "        capital = position * context_results_df.iloc[-1]['y_actual']\n",
        "\n",
        "    return capital - initial_capital\n",
        "\n",
        "def calculate_actual_direction_accuracy(context_results_df):\n",
        "    def get_direction(current_price, next_price):\n",
        "        return 1 if next_price > current_price else 0\n",
        "\n",
        "    real_directions = []\n",
        "    predicted_directions = []\n",
        "\n",
        "    for i in range(1, len(context_results_df)):\n",
        "        real_directions.append(get_direction(context_results_df['y_actual'].iloc[i - 1], context_results_df['y_actual'].iloc[i]))\n",
        "        predicted_directions.append(get_direction(context_results_df['y_actual'].iloc[i - 1], context_results_df['raw_forecast'].iloc[i]))\n",
        "\n",
        "    return accuracy_score(real_directions, predicted_directions)\n",
        "\n",
        "def calculate_direction_accuracy(context_results_df):\n",
        "    def get_direction(current_price, next_price):\n",
        "        return 1 if next_price > current_price else 0\n",
        "\n",
        "    real_directions = []\n",
        "    predicted_directions = []\n",
        "\n",
        "    for i in range(1, len(context_results_df)):\n",
        "        real_directions.append(get_direction(context_results_df['y_actual'].iloc[i - 1], context_results_df['y_actual'].iloc[i]))\n",
        "        predicted_directions.append(get_direction(context_results_df['raw_forecast'].iloc[i - 1], context_results_df['raw_forecast'].iloc[i]))\n",
        "\n",
        "    return accuracy_score(real_directions, predicted_directions)\n",
        "\n",
        "def calculate_direction_profit(context_results_df, initial_capital=100):\n",
        "    capital = initial_capital\n",
        "    position = 0\n",
        "\n",
        "    for i in range(2, len(context_results_df)):\n",
        "        yesterday_price = context_results_df['y_actual'].iloc[i - 1]\n",
        "        yesterday_predicted_today_price = context_results_df['raw_forecast'].iloc[i - 1]\n",
        "        predicted_today_price = context_results_df['raw_forecast'].iloc[i]\n",
        "\n",
        "        if predicted_today_price > yesterday_predicted_today_price:\n",
        "            if position == 0:\n",
        "                position = capital / yesterday_price\n",
        "                capital = 0\n",
        "        elif predicted_today_price < yesterday_predicted_today_price:\n",
        "            if position > 0:\n",
        "                capital = position * yesterday_price\n",
        "                position = 0\n",
        "\n",
        "    if position > 0:\n",
        "        capital = position * context_results_df.iloc[-1]['y_actual']\n",
        "\n",
        "    return capital - initial_capital\n",
        "\n",
        "def calculate_results_for_context_len(context_len, results_by_context_len):\n",
        "    # فیلتر کردن داده‌ها برای context_len مشخص شده\n",
        "    context_results_df =results_by_context_len\n",
        "\n",
        "    mse_value = calculate_mse(context_results_df)\n",
        "    accuracy_value = calculate_accuracy(context_results_df)\n",
        "    profit = calculate_profit(context_results_df)\n",
        "    direction_accuracy = calculate_direction_accuracy(context_results_df)\n",
        "    actual_direction_accuracy = calculate_actual_direction_accuracy(context_results_df)\n",
        "    direction_profit = calculate_direction_profit(context_results_df)\n",
        "\n",
        "    # ساخت دیکشنری از نتایج محاسبه شده\n",
        "    result = {\n",
        "        'context_len': context_len,\n",
        "        'mse': mse_value,\n",
        "        'accuracy': accuracy_value,\n",
        "        'direction_accuracy': direction_accuracy,\n",
        "        'actual_direction_accuracy': actual_direction_accuracy,\n",
        "        'direction_profit': direction_profit,\n",
        "        'profit': profit\n",
        "    }\n",
        "\n",
        "    return pd.DataFrame([result])\n",
        "\n",
        "# فراخوانی تابع برای یک context_len خاص\n",
        "context_len = 64  # برای مثال\n",
        "final_result_df = calculate_results_for_context_len(context_len, results_df)\n",
        "print(final_result_df)\n"
      ]
    },
    {
      "cell_type": "code",
      "execution_count": 42,
      "metadata": {
        "id": "9WxmaNwVLwA5"
      },
      "outputs": [],
      "source": [
        "initial_investment = 100\n",
        "initial_price = results_df['y_actual'].iloc[0]\n",
        "final_price = results_df['y_actual'].iloc[-1]\n",
        "# Calculate the number of shares bought initially\n",
        "shares_bought = initial_investment / initial_price\n",
        "# Calculate the final value of the investment\n",
        "final_investment_value = shares_bought * final_price\n",
        "# Calculate the total profit\n",
        "buy_and_hold_profit = final_investment_value - initial_investment"
      ]
    },
    {
      "cell_type": "code",
      "execution_count": 43,
      "metadata": {
        "id": "9GetYy9eL1i8",
        "colab": {
          "base_uri": "https://localhost:8080/"
        },
        "outputId": "fe3679fd-fcd5-417d-c376-eff811e62cfa"
      },
      "outputs": [
        {
          "output_type": "execute_result",
          "data": {
            "text/plain": [
              "18.209580071141218"
            ]
          },
          "metadata": {},
          "execution_count": 43
        }
      ],
      "source": [
        "buy_and_hold_profit"
      ]
    },
    {
      "cell_type": "code",
      "execution_count": 39,
      "metadata": {
        "id": "naqkOk8JL4hk"
      },
      "outputs": [],
      "source": []
    }
  ],
  "metadata": {
    "accelerator": "GPU",
    "colab": {
      "gpuType": "T4",
      "provenance": []
    },
    "kernelspec": {
      "display_name": "Python 3",
      "name": "python3"
    },
    "language_info": {
      "name": "python"
    },
    "widgets": {
      "application/vnd.jupyter.widget-state+json": {
        "2ea3268f0cdd4b7d99695f323ce7e8ac": {
          "model_module": "@jupyter-widgets/controls",
          "model_name": "HBoxModel",
          "model_module_version": "1.5.0",
          "state": {
            "_dom_classes": [],
            "_model_module": "@jupyter-widgets/controls",
            "_model_module_version": "1.5.0",
            "_model_name": "HBoxModel",
            "_view_count": null,
            "_view_module": "@jupyter-widgets/controls",
            "_view_module_version": "1.5.0",
            "_view_name": "HBoxView",
            "box_style": "",
            "children": [
              "IPY_MODEL_764d1581b15146eba89e0d48a4fe5081",
              "IPY_MODEL_0be1a8a5fd914d5ab8ed66d44a2c1798",
              "IPY_MODEL_a9a6e782451e4c7d952b479fe3b71653"
            ],
            "layout": "IPY_MODEL_0c71a30f08cb411390f5777d720ecb3d"
          }
        },
        "764d1581b15146eba89e0d48a4fe5081": {
          "model_module": "@jupyter-widgets/controls",
          "model_name": "HTMLModel",
          "model_module_version": "1.5.0",
          "state": {
            "_dom_classes": [],
            "_model_module": "@jupyter-widgets/controls",
            "_model_module_version": "1.5.0",
            "_model_name": "HTMLModel",
            "_view_count": null,
            "_view_module": "@jupyter-widgets/controls",
            "_view_module_version": "1.5.0",
            "_view_name": "HTMLView",
            "description": "",
            "description_tooltip": null,
            "layout": "IPY_MODEL_1cf9cf7c676c482cae53d8d340721332",
            "placeholder": "​",
            "style": "IPY_MODEL_4a0a76c08e92447f8452ddd49c6cf268",
            "value": "Fetching 5 files: 100%"
          }
        },
        "0be1a8a5fd914d5ab8ed66d44a2c1798": {
          "model_module": "@jupyter-widgets/controls",
          "model_name": "FloatProgressModel",
          "model_module_version": "1.5.0",
          "state": {
            "_dom_classes": [],
            "_model_module": "@jupyter-widgets/controls",
            "_model_module_version": "1.5.0",
            "_model_name": "FloatProgressModel",
            "_view_count": null,
            "_view_module": "@jupyter-widgets/controls",
            "_view_module_version": "1.5.0",
            "_view_name": "ProgressView",
            "bar_style": "success",
            "description": "",
            "description_tooltip": null,
            "layout": "IPY_MODEL_61fd1cbc4b674cb3a57d028ba95c8d92",
            "max": 5,
            "min": 0,
            "orientation": "horizontal",
            "style": "IPY_MODEL_32edf15819cb4dc291259aa31c79af48",
            "value": 5
          }
        },
        "a9a6e782451e4c7d952b479fe3b71653": {
          "model_module": "@jupyter-widgets/controls",
          "model_name": "HTMLModel",
          "model_module_version": "1.5.0",
          "state": {
            "_dom_classes": [],
            "_model_module": "@jupyter-widgets/controls",
            "_model_module_version": "1.5.0",
            "_model_name": "HTMLModel",
            "_view_count": null,
            "_view_module": "@jupyter-widgets/controls",
            "_view_module_version": "1.5.0",
            "_view_name": "HTMLView",
            "description": "",
            "description_tooltip": null,
            "layout": "IPY_MODEL_b723448b21ac47608e46574d7dce5b03",
            "placeholder": "​",
            "style": "IPY_MODEL_b1eeb2349e974e5eb49671efb0b5d009",
            "value": " 5/5 [00:00&lt;00:00, 157.76it/s]"
          }
        },
        "0c71a30f08cb411390f5777d720ecb3d": {
          "model_module": "@jupyter-widgets/base",
          "model_name": "LayoutModel",
          "model_module_version": "1.2.0",
          "state": {
            "_model_module": "@jupyter-widgets/base",
            "_model_module_version": "1.2.0",
            "_model_name": "LayoutModel",
            "_view_count": null,
            "_view_module": "@jupyter-widgets/base",
            "_view_module_version": "1.2.0",
            "_view_name": "LayoutView",
            "align_content": null,
            "align_items": null,
            "align_self": null,
            "border": null,
            "bottom": null,
            "display": null,
            "flex": null,
            "flex_flow": null,
            "grid_area": null,
            "grid_auto_columns": null,
            "grid_auto_flow": null,
            "grid_auto_rows": null,
            "grid_column": null,
            "grid_gap": null,
            "grid_row": null,
            "grid_template_areas": null,
            "grid_template_columns": null,
            "grid_template_rows": null,
            "height": null,
            "justify_content": null,
            "justify_items": null,
            "left": null,
            "margin": null,
            "max_height": null,
            "max_width": null,
            "min_height": null,
            "min_width": null,
            "object_fit": null,
            "object_position": null,
            "order": null,
            "overflow": null,
            "overflow_x": null,
            "overflow_y": null,
            "padding": null,
            "right": null,
            "top": null,
            "visibility": null,
            "width": null
          }
        },
        "1cf9cf7c676c482cae53d8d340721332": {
          "model_module": "@jupyter-widgets/base",
          "model_name": "LayoutModel",
          "model_module_version": "1.2.0",
          "state": {
            "_model_module": "@jupyter-widgets/base",
            "_model_module_version": "1.2.0",
            "_model_name": "LayoutModel",
            "_view_count": null,
            "_view_module": "@jupyter-widgets/base",
            "_view_module_version": "1.2.0",
            "_view_name": "LayoutView",
            "align_content": null,
            "align_items": null,
            "align_self": null,
            "border": null,
            "bottom": null,
            "display": null,
            "flex": null,
            "flex_flow": null,
            "grid_area": null,
            "grid_auto_columns": null,
            "grid_auto_flow": null,
            "grid_auto_rows": null,
            "grid_column": null,
            "grid_gap": null,
            "grid_row": null,
            "grid_template_areas": null,
            "grid_template_columns": null,
            "grid_template_rows": null,
            "height": null,
            "justify_content": null,
            "justify_items": null,
            "left": null,
            "margin": null,
            "max_height": null,
            "max_width": null,
            "min_height": null,
            "min_width": null,
            "object_fit": null,
            "object_position": null,
            "order": null,
            "overflow": null,
            "overflow_x": null,
            "overflow_y": null,
            "padding": null,
            "right": null,
            "top": null,
            "visibility": null,
            "width": null
          }
        },
        "4a0a76c08e92447f8452ddd49c6cf268": {
          "model_module": "@jupyter-widgets/controls",
          "model_name": "DescriptionStyleModel",
          "model_module_version": "1.5.0",
          "state": {
            "_model_module": "@jupyter-widgets/controls",
            "_model_module_version": "1.5.0",
            "_model_name": "DescriptionStyleModel",
            "_view_count": null,
            "_view_module": "@jupyter-widgets/base",
            "_view_module_version": "1.2.0",
            "_view_name": "StyleView",
            "description_width": ""
          }
        },
        "61fd1cbc4b674cb3a57d028ba95c8d92": {
          "model_module": "@jupyter-widgets/base",
          "model_name": "LayoutModel",
          "model_module_version": "1.2.0",
          "state": {
            "_model_module": "@jupyter-widgets/base",
            "_model_module_version": "1.2.0",
            "_model_name": "LayoutModel",
            "_view_count": null,
            "_view_module": "@jupyter-widgets/base",
            "_view_module_version": "1.2.0",
            "_view_name": "LayoutView",
            "align_content": null,
            "align_items": null,
            "align_self": null,
            "border": null,
            "bottom": null,
            "display": null,
            "flex": null,
            "flex_flow": null,
            "grid_area": null,
            "grid_auto_columns": null,
            "grid_auto_flow": null,
            "grid_auto_rows": null,
            "grid_column": null,
            "grid_gap": null,
            "grid_row": null,
            "grid_template_areas": null,
            "grid_template_columns": null,
            "grid_template_rows": null,
            "height": null,
            "justify_content": null,
            "justify_items": null,
            "left": null,
            "margin": null,
            "max_height": null,
            "max_width": null,
            "min_height": null,
            "min_width": null,
            "object_fit": null,
            "object_position": null,
            "order": null,
            "overflow": null,
            "overflow_x": null,
            "overflow_y": null,
            "padding": null,
            "right": null,
            "top": null,
            "visibility": null,
            "width": null
          }
        },
        "32edf15819cb4dc291259aa31c79af48": {
          "model_module": "@jupyter-widgets/controls",
          "model_name": "ProgressStyleModel",
          "model_module_version": "1.5.0",
          "state": {
            "_model_module": "@jupyter-widgets/controls",
            "_model_module_version": "1.5.0",
            "_model_name": "ProgressStyleModel",
            "_view_count": null,
            "_view_module": "@jupyter-widgets/base",
            "_view_module_version": "1.2.0",
            "_view_name": "StyleView",
            "bar_color": null,
            "description_width": ""
          }
        },
        "b723448b21ac47608e46574d7dce5b03": {
          "model_module": "@jupyter-widgets/base",
          "model_name": "LayoutModel",
          "model_module_version": "1.2.0",
          "state": {
            "_model_module": "@jupyter-widgets/base",
            "_model_module_version": "1.2.0",
            "_model_name": "LayoutModel",
            "_view_count": null,
            "_view_module": "@jupyter-widgets/base",
            "_view_module_version": "1.2.0",
            "_view_name": "LayoutView",
            "align_content": null,
            "align_items": null,
            "align_self": null,
            "border": null,
            "bottom": null,
            "display": null,
            "flex": null,
            "flex_flow": null,
            "grid_area": null,
            "grid_auto_columns": null,
            "grid_auto_flow": null,
            "grid_auto_rows": null,
            "grid_column": null,
            "grid_gap": null,
            "grid_row": null,
            "grid_template_areas": null,
            "grid_template_columns": null,
            "grid_template_rows": null,
            "height": null,
            "justify_content": null,
            "justify_items": null,
            "left": null,
            "margin": null,
            "max_height": null,
            "max_width": null,
            "min_height": null,
            "min_width": null,
            "object_fit": null,
            "object_position": null,
            "order": null,
            "overflow": null,
            "overflow_x": null,
            "overflow_y": null,
            "padding": null,
            "right": null,
            "top": null,
            "visibility": null,
            "width": null
          }
        },
        "b1eeb2349e974e5eb49671efb0b5d009": {
          "model_module": "@jupyter-widgets/controls",
          "model_name": "DescriptionStyleModel",
          "model_module_version": "1.5.0",
          "state": {
            "_model_module": "@jupyter-widgets/controls",
            "_model_module_version": "1.5.0",
            "_model_name": "DescriptionStyleModel",
            "_view_count": null,
            "_view_module": "@jupyter-widgets/base",
            "_view_module_version": "1.2.0",
            "_view_name": "StyleView",
            "description_width": ""
          }
        }
      }
    }
  },
  "nbformat": 4,
  "nbformat_minor": 0
}