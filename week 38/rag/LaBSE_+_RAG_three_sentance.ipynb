{
  "cells": [
    {
      "cell_type": "markdown",
      "id": "0ca62d54",
      "metadata": {
        "id": "0ca62d54"
      },
      "source": [
        "## Environment Setup"
      ]
    },
    {
      "cell_type": "code",
      "execution_count": 1,
      "id": "06416ec7",
      "metadata": {
        "id": "06416ec7"
      },
      "outputs": [],
      "source": [
        "import warnings\n",
        "warnings.filterwarnings(\"ignore\")"
      ]
    },
    {
      "cell_type": "code",
      "execution_count": 2,
      "id": "4dafbba0",
      "metadata": {
        "id": "4dafbba0"
      },
      "outputs": [],
      "source": [
        "# downloading packages for running the notebook\n",
        "import sys\n",
        "import subprocess\n",
        "\n"
      ]
    },
    {
      "cell_type": "code",
      "execution_count": 3,
      "id": "e27eb700",
      "metadata": {
        "colab": {
          "base_uri": "https://localhost:8080/"
        },
        "id": "e27eb700",
        "outputId": "264c5d70-4380-4599-da44-17486bf4c059",
        "scrolled": true
      },
      "outputs": [
        {
          "output_type": "stream",
          "name": "stdout",
          "text": [
            "Requirement already satisfied: sentence-transformers in /usr/local/lib/python3.10/dist-packages (3.2.1)\n",
            "Requirement already satisfied: transformers<5.0.0,>=4.41.0 in /usr/local/lib/python3.10/dist-packages (from sentence-transformers) (4.44.2)\n",
            "Requirement already satisfied: tqdm in /usr/local/lib/python3.10/dist-packages (from sentence-transformers) (4.66.6)\n",
            "Requirement already satisfied: torch>=1.11.0 in /usr/local/lib/python3.10/dist-packages (from sentence-transformers) (2.5.0+cu121)\n",
            "Requirement already satisfied: scikit-learn in /usr/local/lib/python3.10/dist-packages (from sentence-transformers) (1.5.2)\n",
            "Requirement already satisfied: scipy in /usr/local/lib/python3.10/dist-packages (from sentence-transformers) (1.13.1)\n",
            "Requirement already satisfied: huggingface-hub>=0.20.0 in /usr/local/lib/python3.10/dist-packages (from sentence-transformers) (0.24.7)\n",
            "Requirement already satisfied: Pillow in /usr/local/lib/python3.10/dist-packages (from sentence-transformers) (10.4.0)\n",
            "Requirement already satisfied: filelock in /usr/local/lib/python3.10/dist-packages (from huggingface-hub>=0.20.0->sentence-transformers) (3.16.1)\n",
            "Requirement already satisfied: fsspec>=2023.5.0 in /usr/local/lib/python3.10/dist-packages (from huggingface-hub>=0.20.0->sentence-transformers) (2024.10.0)\n",
            "Requirement already satisfied: packaging>=20.9 in /usr/local/lib/python3.10/dist-packages (from huggingface-hub>=0.20.0->sentence-transformers) (24.1)\n",
            "Requirement already satisfied: pyyaml>=5.1 in /usr/local/lib/python3.10/dist-packages (from huggingface-hub>=0.20.0->sentence-transformers) (6.0.2)\n",
            "Requirement already satisfied: requests in /usr/local/lib/python3.10/dist-packages (from huggingface-hub>=0.20.0->sentence-transformers) (2.32.3)\n",
            "Requirement already satisfied: typing-extensions>=3.7.4.3 in /usr/local/lib/python3.10/dist-packages (from huggingface-hub>=0.20.0->sentence-transformers) (4.12.2)\n",
            "Requirement already satisfied: networkx in /usr/local/lib/python3.10/dist-packages (from torch>=1.11.0->sentence-transformers) (3.4.2)\n",
            "Requirement already satisfied: jinja2 in /usr/local/lib/python3.10/dist-packages (from torch>=1.11.0->sentence-transformers) (3.1.4)\n",
            "Requirement already satisfied: sympy==1.13.1 in /usr/local/lib/python3.10/dist-packages (from torch>=1.11.0->sentence-transformers) (1.13.1)\n",
            "Requirement already satisfied: mpmath<1.4,>=1.1.0 in /usr/local/lib/python3.10/dist-packages (from sympy==1.13.1->torch>=1.11.0->sentence-transformers) (1.3.0)\n",
            "Requirement already satisfied: numpy>=1.17 in /usr/local/lib/python3.10/dist-packages (from transformers<5.0.0,>=4.41.0->sentence-transformers) (1.26.4)\n",
            "Requirement already satisfied: regex!=2019.12.17 in /usr/local/lib/python3.10/dist-packages (from transformers<5.0.0,>=4.41.0->sentence-transformers) (2024.9.11)\n",
            "Requirement already satisfied: safetensors>=0.4.1 in /usr/local/lib/python3.10/dist-packages (from transformers<5.0.0,>=4.41.0->sentence-transformers) (0.4.5)\n",
            "Requirement already satisfied: tokenizers<0.20,>=0.19 in /usr/local/lib/python3.10/dist-packages (from transformers<5.0.0,>=4.41.0->sentence-transformers) (0.19.1)\n",
            "Requirement already satisfied: joblib>=1.2.0 in /usr/local/lib/python3.10/dist-packages (from scikit-learn->sentence-transformers) (1.4.2)\n",
            "Requirement already satisfied: threadpoolctl>=3.1.0 in /usr/local/lib/python3.10/dist-packages (from scikit-learn->sentence-transformers) (3.5.0)\n",
            "Requirement already satisfied: MarkupSafe>=2.0 in /usr/local/lib/python3.10/dist-packages (from jinja2->torch>=1.11.0->sentence-transformers) (3.0.2)\n",
            "Requirement already satisfied: charset-normalizer<4,>=2 in /usr/local/lib/python3.10/dist-packages (from requests->huggingface-hub>=0.20.0->sentence-transformers) (3.4.0)\n",
            "Requirement already satisfied: idna<4,>=2.5 in /usr/local/lib/python3.10/dist-packages (from requests->huggingface-hub>=0.20.0->sentence-transformers) (3.10)\n",
            "Requirement already satisfied: urllib3<3,>=1.21.1 in /usr/local/lib/python3.10/dist-packages (from requests->huggingface-hub>=0.20.0->sentence-transformers) (2.2.3)\n",
            "Requirement already satisfied: certifi>=2017.4.17 in /usr/local/lib/python3.10/dist-packages (from requests->huggingface-hub>=0.20.0->sentence-transformers) (2024.8.30)\n"
          ]
        }
      ],
      "source": [
        "!pip install sentence-transformers"
      ]
    },
    {
      "cell_type": "code",
      "execution_count": 4,
      "id": "88ec0838",
      "metadata": {
        "colab": {
          "base_uri": "https://localhost:8080/"
        },
        "id": "88ec0838",
        "scrolled": true,
        "outputId": "2bc5a71d-aff9-4367-f2cf-523164739874"
      },
      "outputs": [
        {
          "output_type": "stream",
          "name": "stdout",
          "text": [
            "Collecting evaluate\n",
            "  Downloading evaluate-0.4.3-py3-none-any.whl.metadata (9.2 kB)\n",
            "Collecting datasets>=2.0.0 (from evaluate)\n",
            "  Downloading datasets-3.1.0-py3-none-any.whl.metadata (20 kB)\n",
            "Requirement already satisfied: numpy>=1.17 in /usr/local/lib/python3.10/dist-packages (from evaluate) (1.26.4)\n",
            "Collecting dill (from evaluate)\n",
            "  Downloading dill-0.3.9-py3-none-any.whl.metadata (10 kB)\n",
            "Requirement already satisfied: pandas in /usr/local/lib/python3.10/dist-packages (from evaluate) (2.2.2)\n",
            "Requirement already satisfied: requests>=2.19.0 in /usr/local/lib/python3.10/dist-packages (from evaluate) (2.32.3)\n",
            "Requirement already satisfied: tqdm>=4.62.1 in /usr/local/lib/python3.10/dist-packages (from evaluate) (4.66.6)\n",
            "Collecting xxhash (from evaluate)\n",
            "  Downloading xxhash-3.5.0-cp310-cp310-manylinux_2_17_x86_64.manylinux2014_x86_64.whl.metadata (12 kB)\n",
            "Collecting multiprocess (from evaluate)\n",
            "  Downloading multiprocess-0.70.17-py310-none-any.whl.metadata (7.2 kB)\n",
            "Requirement already satisfied: fsspec>=2021.05.0 in /usr/local/lib/python3.10/dist-packages (from fsspec[http]>=2021.05.0->evaluate) (2024.10.0)\n",
            "Requirement already satisfied: huggingface-hub>=0.7.0 in /usr/local/lib/python3.10/dist-packages (from evaluate) (0.24.7)\n",
            "Requirement already satisfied: packaging in /usr/local/lib/python3.10/dist-packages (from evaluate) (24.1)\n",
            "Requirement already satisfied: filelock in /usr/local/lib/python3.10/dist-packages (from datasets>=2.0.0->evaluate) (3.16.1)\n",
            "Requirement already satisfied: pyarrow>=15.0.0 in /usr/local/lib/python3.10/dist-packages (from datasets>=2.0.0->evaluate) (17.0.0)\n",
            "Collecting dill (from evaluate)\n",
            "  Downloading dill-0.3.8-py3-none-any.whl.metadata (10 kB)\n",
            "Collecting multiprocess (from evaluate)\n",
            "  Downloading multiprocess-0.70.16-py310-none-any.whl.metadata (7.2 kB)\n",
            "Collecting fsspec>=2021.05.0 (from fsspec[http]>=2021.05.0->evaluate)\n",
            "  Downloading fsspec-2024.9.0-py3-none-any.whl.metadata (11 kB)\n",
            "Requirement already satisfied: aiohttp in /usr/local/lib/python3.10/dist-packages (from datasets>=2.0.0->evaluate) (3.10.10)\n",
            "Requirement already satisfied: pyyaml>=5.1 in /usr/local/lib/python3.10/dist-packages (from datasets>=2.0.0->evaluate) (6.0.2)\n",
            "Requirement already satisfied: typing-extensions>=3.7.4.3 in /usr/local/lib/python3.10/dist-packages (from huggingface-hub>=0.7.0->evaluate) (4.12.2)\n",
            "Requirement already satisfied: charset-normalizer<4,>=2 in /usr/local/lib/python3.10/dist-packages (from requests>=2.19.0->evaluate) (3.4.0)\n",
            "Requirement already satisfied: idna<4,>=2.5 in /usr/local/lib/python3.10/dist-packages (from requests>=2.19.0->evaluate) (3.10)\n",
            "Requirement already satisfied: urllib3<3,>=1.21.1 in /usr/local/lib/python3.10/dist-packages (from requests>=2.19.0->evaluate) (2.2.3)\n",
            "Requirement already satisfied: certifi>=2017.4.17 in /usr/local/lib/python3.10/dist-packages (from requests>=2.19.0->evaluate) (2024.8.30)\n",
            "Requirement already satisfied: python-dateutil>=2.8.2 in /usr/local/lib/python3.10/dist-packages (from pandas->evaluate) (2.8.2)\n",
            "Requirement already satisfied: pytz>=2020.1 in /usr/local/lib/python3.10/dist-packages (from pandas->evaluate) (2024.2)\n",
            "Requirement already satisfied: tzdata>=2022.7 in /usr/local/lib/python3.10/dist-packages (from pandas->evaluate) (2024.2)\n",
            "Requirement already satisfied: aiohappyeyeballs>=2.3.0 in /usr/local/lib/python3.10/dist-packages (from aiohttp->datasets>=2.0.0->evaluate) (2.4.3)\n",
            "Requirement already satisfied: aiosignal>=1.1.2 in /usr/local/lib/python3.10/dist-packages (from aiohttp->datasets>=2.0.0->evaluate) (1.3.1)\n",
            "Requirement already satisfied: attrs>=17.3.0 in /usr/local/lib/python3.10/dist-packages (from aiohttp->datasets>=2.0.0->evaluate) (24.2.0)\n",
            "Requirement already satisfied: frozenlist>=1.1.1 in /usr/local/lib/python3.10/dist-packages (from aiohttp->datasets>=2.0.0->evaluate) (1.5.0)\n",
            "Requirement already satisfied: multidict<7.0,>=4.5 in /usr/local/lib/python3.10/dist-packages (from aiohttp->datasets>=2.0.0->evaluate) (6.1.0)\n",
            "Requirement already satisfied: yarl<2.0,>=1.12.0 in /usr/local/lib/python3.10/dist-packages (from aiohttp->datasets>=2.0.0->evaluate) (1.17.0)\n",
            "Requirement already satisfied: async-timeout<5.0,>=4.0 in /usr/local/lib/python3.10/dist-packages (from aiohttp->datasets>=2.0.0->evaluate) (4.0.3)\n",
            "Requirement already satisfied: six>=1.5 in /usr/local/lib/python3.10/dist-packages (from python-dateutil>=2.8.2->pandas->evaluate) (1.16.0)\n",
            "Requirement already satisfied: propcache>=0.2.0 in /usr/local/lib/python3.10/dist-packages (from yarl<2.0,>=1.12.0->aiohttp->datasets>=2.0.0->evaluate) (0.2.0)\n",
            "Downloading evaluate-0.4.3-py3-none-any.whl (84 kB)\n",
            "\u001b[2K   \u001b[90m━━━━━━━━━━━━━━━━━━━━━━━━━━━━━━━━━━━━━━━━\u001b[0m \u001b[32m84.0/84.0 kB\u001b[0m \u001b[31m4.4 MB/s\u001b[0m eta \u001b[36m0:00:00\u001b[0m\n",
            "\u001b[?25hDownloading datasets-3.1.0-py3-none-any.whl (480 kB)\n",
            "\u001b[2K   \u001b[90m━━━━━━━━━━━━━━━━━━━━━━━━━━━━━━━━━━━━━━━━\u001b[0m \u001b[32m480.6/480.6 kB\u001b[0m \u001b[31m16.4 MB/s\u001b[0m eta \u001b[36m0:00:00\u001b[0m\n",
            "\u001b[?25hDownloading dill-0.3.8-py3-none-any.whl (116 kB)\n",
            "\u001b[2K   \u001b[90m━━━━━━━━━━━━━━━━━━━━━━━━━━━━━━━━━━━━━━━━\u001b[0m \u001b[32m116.3/116.3 kB\u001b[0m \u001b[31m10.6 MB/s\u001b[0m eta \u001b[36m0:00:00\u001b[0m\n",
            "\u001b[?25hDownloading fsspec-2024.9.0-py3-none-any.whl (179 kB)\n",
            "\u001b[2K   \u001b[90m━━━━━━━━━━━━━━━━━━━━━━━━━━━━━━━━━━━━━━━━\u001b[0m \u001b[32m179.3/179.3 kB\u001b[0m \u001b[31m14.6 MB/s\u001b[0m eta \u001b[36m0:00:00\u001b[0m\n",
            "\u001b[?25hDownloading multiprocess-0.70.16-py310-none-any.whl (134 kB)\n",
            "\u001b[2K   \u001b[90m━━━━━━━━━━━━━━━━━━━━━━━━━━━━━━━━━━━━━━━━\u001b[0m \u001b[32m134.8/134.8 kB\u001b[0m \u001b[31m11.9 MB/s\u001b[0m eta \u001b[36m0:00:00\u001b[0m\n",
            "\u001b[?25hDownloading xxhash-3.5.0-cp310-cp310-manylinux_2_17_x86_64.manylinux2014_x86_64.whl (194 kB)\n",
            "\u001b[2K   \u001b[90m━━━━━━━━━━━━━━━━━━━━━━━━━━━━━━━━━━━━━━━━\u001b[0m \u001b[32m194.1/194.1 kB\u001b[0m \u001b[31m16.6 MB/s\u001b[0m eta \u001b[36m0:00:00\u001b[0m\n",
            "\u001b[?25hInstalling collected packages: xxhash, fsspec, dill, multiprocess, datasets, evaluate\n",
            "  Attempting uninstall: fsspec\n",
            "    Found existing installation: fsspec 2024.10.0\n",
            "    Uninstalling fsspec-2024.10.0:\n",
            "      Successfully uninstalled fsspec-2024.10.0\n",
            "\u001b[31mERROR: pip's dependency resolver does not currently take into account all the packages that are installed. This behaviour is the source of the following dependency conflicts.\n",
            "gcsfs 2024.10.0 requires fsspec==2024.10.0, but you have fsspec 2024.9.0 which is incompatible.\u001b[0m\u001b[31m\n",
            "\u001b[0mSuccessfully installed datasets-3.1.0 dill-0.3.8 evaluate-0.4.3 fsspec-2024.9.0 multiprocess-0.70.16 xxhash-3.5.0\n"
          ]
        }
      ],
      "source": [
        "!pip install evaluate"
      ]
    },
    {
      "cell_type": "code",
      "execution_count": 4,
      "id": "5d7337da",
      "metadata": {
        "id": "5d7337da",
        "scrolled": true,
        "colab": {
          "base_uri": "https://localhost:8080/"
        },
        "outputId": "3b1002fb-1caa-48fb-867c-cc0e2305a4c3"
      },
      "outputs": [
        {
          "output_type": "stream",
          "name": "stderr",
          "text": [
            "/usr/local/lib/python3.10/dist-packages/huggingface_hub/utils/_token.py:89: UserWarning: \n",
            "The secret `HF_TOKEN` does not exist in your Colab secrets.\n",
            "To authenticate with the Hugging Face Hub, create a token in your settings tab (https://huggingface.co/settings/tokens), set it as secret in your Google Colab and restart your session.\n",
            "You will be able to reuse this secret in all of your notebooks.\n",
            "Please note that authentication is recommended but still optional to access public models or datasets.\n",
            "  warnings.warn(\n",
            "/usr/local/lib/python3.10/dist-packages/transformers/tokenization_utils_base.py:1601: FutureWarning: `clean_up_tokenization_spaces` was not set. It will be set to `True` by default. This behavior will be depracted in transformers v4.45, and will be then set to `False` by default. For more details check this issue: https://github.com/huggingface/transformers/issues/31884\n",
            "  warnings.warn(\n"
          ]
        }
      ],
      "source": [
        "from sentence_transformers import SentenceTransformer\n",
        "\n",
        "m2 = SentenceTransformer('sentence-transformers/LaBSE')"
      ]
    },
    {
      "cell_type": "markdown",
      "id": "f22d658b",
      "metadata": {
        "id": "f22d658b"
      },
      "source": [
        "### OpenAI Setup\n",
        "\n",
        "Add openai key for gpt-3.5 model usage."
      ]
    },
    {
      "cell_type": "code",
      "execution_count": 18,
      "id": "6c521f91",
      "metadata": {
        "id": "6c521f91"
      },
      "outputs": [],
      "source": [
        "import openai\n",
        "\n",
        "api_key = 'aa-m9TQcsmZMErvs4oFI0Si7zcCZCBj1oxTn92Ikperiy7oOfS1'"
      ]
    },
    {
      "cell_type": "markdown",
      "id": "43e38069",
      "metadata": {
        "id": "43e38069"
      },
      "source": [
        "### Dataset Cleaning and Preprocessing Steps"
      ]
    },
    {
      "cell_type": "code",
      "execution_count": 19,
      "id": "f44cc407",
      "metadata": {
        "id": "f44cc407"
      },
      "outputs": [],
      "source": [
        "with open('fa.txt', 'r') as f:\n",
        "    data = f.read()\n",
        "\n",
        "data = data.replace('\\n\\n','\\n')"
      ]
    },
    {
      "cell_type": "code",
      "execution_count": 20,
      "id": "e016f027",
      "metadata": {
        "id": "e016f027"
      },
      "outputs": [],
      "source": [
        "ques_ans = dict()\n"
      ]
    },
    {
      "cell_type": "code",
      "execution_count": 21,
      "id": "f84d6d45",
      "metadata": {
        "id": "f84d6d45"
      },
      "outputs": [],
      "source": [
        "import pandas as pd\n",
        "\n",
        "qa_dict = dict()\n",
        "\n",
        "qa_dict['text'] = []\n",
        "\n",
        "import numpy as np\n",
        "\n",
        "# تنظیم تعداد خطوطی که باید با هم ترکیب شوند\n",
        "lines_per_group = 3\n",
        "grouped_sentences = []\n",
        "\n",
        "# ترکیب خطوط و ایجاد گروه‌ها\n",
        "temp_text = \"\"\n",
        "for i, line in enumerate(data.split(\"\\n\")):\n",
        "    temp_text += line + \" \"\n",
        "    # هر ده خط یک بار به لیست اضافه می‌شود\n",
        "    if (i + 1) % lines_per_group == 0:\n",
        "        grouped_sentences.append(temp_text.strip())\n",
        "        temp_text = \"\"\n",
        "\n",
        "# در صورتی که خطوط باقی‌مانده‌ای وجود داشته باشد، آن‌ها را نیز اضافه کنید\n",
        "if temp_text:\n",
        "    grouped_sentences.append(temp_text.strip())\n",
        "qa_dict['text']=grouped_sentences\n",
        "\n",
        "\n",
        "\n"
      ]
    },
    {
      "cell_type": "code",
      "execution_count": 22,
      "id": "dbe37a34",
      "metadata": {
        "id": "dbe37a34",
        "outputId": "ecb460d0-4ca3-47f9-98ca-35a81b522e43",
        "colab": {
          "base_uri": "https://localhost:8080/"
        }
      },
      "outputs": [
        {
          "output_type": "execute_result",
          "data": {
            "text/plain": [
              "Dataset({\n",
              "    features: ['text'],\n",
              "    num_rows: 22872\n",
              "})"
            ]
          },
          "metadata": {},
          "execution_count": 22
        }
      ],
      "source": [
        "from datasets import Dataset\n",
        "qa_df = pd.DataFrame.from_dict(qa_dict)\n",
        "# You can load a Dataset object this way\n",
        "dataset = Dataset.from_pandas(qa_df)\n",
        "\n",
        "dataset"
      ]
    },
    {
      "cell_type": "markdown",
      "id": "91e10f8b",
      "metadata": {
        "id": "91e10f8b"
      },
      "source": [
        "### Text Preprocessing Functions"
      ]
    },
    {
      "cell_type": "code",
      "execution_count": 23,
      "id": "966180d2",
      "metadata": {
        "id": "966180d2"
      },
      "outputs": [],
      "source": [
        "## Embedding Generation Function\n",
        "\n",
        "import numpy as np\n",
        "def sent_check2(example):\n",
        "\n",
        "    output = np.zeros([768,], dtype=np.float32)\n",
        "    try:\n",
        "        sent_embed = m2.encode(example['text'])\n",
        "        output = sent_embed\n",
        "    except:\n",
        "        print(\"Error\")\n",
        "\n",
        "    example['embeddings'] = output\n",
        "\n",
        "    return example"
      ]
    },
    {
      "cell_type": "code",
      "execution_count": 24,
      "id": "8489c404",
      "metadata": {
        "id": "8489c404",
        "outputId": "3503e89e-7425-47a9-b330-6a6d1890438d",
        "colab": {
          "base_uri": "https://localhost:8080/",
          "height": 49,
          "referenced_widgets": [
            "c0819584faf645e998deb7e6d7a46d3a",
            "50e92fe1d5e64a62930066c9c4200667",
            "6947dac09fc144d38f443998ecacaef1",
            "31b817ff304d4433aacea20bb3a60272",
            "b1951598456d493cba4dbdf59067fbee",
            "9f6f7ce39cff4956af67f65552171858",
            "9bcebbceabb1486aaa60e7e180c40c50",
            "7a2f54391e9d47e3a0deaf509d4f0403",
            "6bccf413f3fe473b924f620a6349a387",
            "d45193f50df3485cae5a6d599fa7f62f",
            "a0a1625042cf4eb3b658e36105e319e7"
          ]
        }
      },
      "outputs": [
        {
          "output_type": "display_data",
          "data": {
            "text/plain": [
              "Map:   0%|          | 0/22872 [00:00<?, ? examples/s]"
            ],
            "application/vnd.jupyter.widget-view+json": {
              "version_major": 2,
              "version_minor": 0,
              "model_id": "c0819584faf645e998deb7e6d7a46d3a"
            }
          },
          "metadata": {}
        }
      ],
      "source": [
        "\n",
        "dataset = dataset.map(sent_check2)"
      ]
    },
    {
      "cell_type": "code",
      "source": [
        "from datasets import Dataset\n",
        "\n",
        "# Assuming your dataset is already created with 'text' and 'embeddings' columns\n",
        "dataset.save_to_disk('./')\n"
      ],
      "metadata": {
        "colab": {
          "base_uri": "https://localhost:8080/",
          "height": 49,
          "referenced_widgets": [
            "6a25a1d1406b4b8e9af51a896e59ecd1",
            "2171400519e44dcba656457e81c6762d",
            "9054219768ca49e69250f2c5b6c6f3de",
            "47e9c0cc48a44f498b0fe154ea796612",
            "28017d3b899d4574b9fb6604c3fecf10",
            "4f782211c64b440caf3c9812cda8873b",
            "f90e31789d4a4491879eba503478a0bd",
            "b63c844544d24fba96303242963e971d",
            "eb456c15f6c14398aa766c28b0b189ec",
            "5eebfd967af54bdebb181024877942ac",
            "39c2e0ba18304369884769ab41bde7cf"
          ]
        },
        "id": "LIfH0beaF0hA",
        "outputId": "177da7fb-ef08-4a9f-8c57-0f6a6e0ffb92"
      },
      "id": "LIfH0beaF0hA",
      "execution_count": 13,
      "outputs": [
        {
          "output_type": "display_data",
          "data": {
            "text/plain": [
              "Saving the dataset (0/1 shards):   0%|          | 0/22872 [00:00<?, ? examples/s]"
            ],
            "application/vnd.jupyter.widget-view+json": {
              "version_major": 2,
              "version_minor": 0,
              "model_id": "6a25a1d1406b4b8e9af51a896e59ecd1"
            }
          },
          "metadata": {}
        }
      ]
    },
    {
      "cell_type": "code",
      "source": [
        "pip install faiss-gpu"
      ],
      "metadata": {
        "colab": {
          "base_uri": "https://localhost:8080/"
        },
        "id": "gPZcp5UJECZD",
        "outputId": "10e766ce-231e-43fa-a879-636ced54fb89"
      },
      "id": "gPZcp5UJECZD",
      "execution_count": 26,
      "outputs": [
        {
          "output_type": "stream",
          "name": "stdout",
          "text": [
            "Requirement already satisfied: faiss-gpu in /usr/local/lib/python3.10/dist-packages (1.7.2)\n"
          ]
        }
      ]
    },
    {
      "cell_type": "code",
      "source": [
        "from datasets import load_from_disk\n",
        "\n",
        "# Load the dataset\n",
        "dataset = load_from_disk('./')\n"
      ],
      "metadata": {
        "id": "ytYiYNbLFg0X"
      },
      "id": "ytYiYNbLFg0X",
      "execution_count": 1,
      "outputs": []
    },
    {
      "cell_type": "code",
      "execution_count": 2,
      "id": "1a7513ad",
      "metadata": {
        "id": "1a7513ad",
        "outputId": "66629bcc-00d8-465d-dfbb-1e689a9e0bc2",
        "colab": {
          "base_uri": "https://localhost:8080/",
          "height": 118,
          "referenced_widgets": [
            "a16576a2599148dd9f1763ccb6d4f08b",
            "a548207134b64eb3be55def47004ccd2",
            "ad5b4a98b9de40d5864882380a7050d1",
            "ab5c4fab70f0401aba8e39cb4e683809",
            "de0bf279866b4f048032d782cfd5e27a",
            "7ebcb4b43e244d93a9743000b10a0e3f",
            "425ec1bfb7724cec9ddffe81fbfc0928",
            "6b1e05ac17844a5f8100deea64465253",
            "40952f70cee449019bc23c3bca88eb39",
            "14f663b2b2714e2ba1400763018fe8aa",
            "eabc84d6d85a4084a246a5b08ab2b4be"
          ]
        }
      },
      "outputs": [
        {
          "output_type": "display_data",
          "data": {
            "text/plain": [
              "  0%|          | 0/23 [00:00<?, ?it/s]"
            ],
            "application/vnd.jupyter.widget-view+json": {
              "version_major": 2,
              "version_minor": 0,
              "model_id": "a16576a2599148dd9f1763ccb6d4f08b"
            }
          },
          "metadata": {}
        },
        {
          "output_type": "execute_result",
          "data": {
            "text/plain": [
              "Dataset({\n",
              "    features: ['text', 'embeddings'],\n",
              "    num_rows: 22872\n",
              "})"
            ]
          },
          "metadata": {},
          "execution_count": 2
        }
      ],
      "source": [
        "dataset.add_faiss_index(column='embeddings')"
      ]
    },
    {
      "cell_type": "code",
      "source": [
        "question = \"افردادی که اموال خود را در راه خدا انفاق میکنند شبیه چه هستند؟\"\n",
        "\n",
        "question_embedding = m2.encode(question)\n",
        "scores, retrieved_examples = dataset.get_nearest_examples('embeddings', question_embedding, k=10)\n",
        "print(scores)\n",
        "for exp in retrieved_examples['text']:  # Accessing the first result set\n",
        "\n",
        "    print(exp)\n",
        "\n",
        "    print(\"*****************************\")"
      ],
      "metadata": {
        "id": "DqXmR213kVHH",
        "outputId": "4d26555c-0d8e-4509-8659-6c3ffa08867f",
        "colab": {
          "base_uri": "https://localhost:8080/"
        }
      },
      "id": "DqXmR213kVHH",
      "execution_count": 35,
      "outputs": [
        {
          "output_type": "stream",
          "name": "stdout",
          "text": [
            "[0.8905533  0.90861076 0.92659897 0.93502325 0.9378055  0.9396076\n",
            " 0.94623244 0.95348036 0.9626346  0.9631235 ]\n",
            "آنان كه بخل مى‌ورزند و مردم را به بخل وا مى‌دارند و مالى را كه خدا به آنها داده است پنهان مى‌كنند. و ما براى كافران عذابى خواركننده مهيا ساخته‌ايم. و نيز كسانى را كه اموال خويش براى خودنمايى انفاق مى‌كنند و به خدا و روز قيامت ايمان نمى‌آورند. و هر كه شيطان قرين او باشد، قرينى بد دارد. چه زيان داردشان اگر به خدا و روز قيامت ايمان آورند و از آنچه خدا به آنها روزى داده است انفاق كنند؟ خدا به كارشان داناست.\n",
            "*****************************\n",
            "آیا در آنچه خداوند آفریده است نمی‌نگرند که سایه‌هایشان از راست و چپ می‌گسترد و فروتنانه به درگاه خداوند سجده می‌کنند؟ هر آن جنبنده‌ای که در آسمانها و آنچه در زمین است، و فرشتگان به درگاه خدا سجده می‌برند و گردنکشی نمی‌کنند از پروردگارشان، که بر آنان محیط است، می‌ترسند و آنچه دستور یافته‌اند، انجام می‌دهند\n",
            "*****************************\n",
            "آيا آب دادن به حاجيان و آباد كردن مسجد الحرام را مانند [كار] كسى قرار داده‌ايد كه به خدا و روز واپسين ايمان آورده و در راه خدا جهاد كرده است؟ [اين دو] نزد خدا يكسان نيستند، و خداوند بيدادگران را هدايت نمى‌كند آنها كه ايمان آوردند و هجرت نمودند و با مال و جان خود در راه خدا جهاد كردند، نزد خدا منزلتى والاتر دارند و هم آنان كامروايانند پروردگارشان آنها را به رحمت و رضوان خويش و بهشتى كه در آن نعمت‌هاى دايم دارند، نويد مى‌دهد\n",
            "*****************************\n",
            "و كسانى كه اموال خود را براى نشان دادن به مردم انفاق مى‌كنند و به خدا و قيامت اعتقاد ندارند [همنشين شيطانند]. و كسى كه شيطان همدم وى باشد بد همدمى است و اگر به خدا و روز واپسين ايمان مى‌آوردند و از آنچه خدا روزيشان كرده انفاق مى‌كردند چه زيانى برايشان داشت؟ و خداوند به كارشان آگاه است خدا به اندازه‌ى سنگينى ذره‌اى ستم نكند، و اگر كار نيكى باشد دو چندانش كند و از نزد خود پاداش بزرگى دهد\n",
            "*****************************\n",
            "آيا به چيزهايى كه خدا آفريده است نمى‌نگرند كه براى سجده به درگاه او سايه‌هايشان از راست و چپ حركت دارند و در برابر او خاشعند؟ هر چه در آسمانها و زمين است از جنبندگان و فرشتگان خدا را سجده مى‌كنند و تكبر نمى‌ورزند. از پروردگارشان كه فراز آنهاست مى‌ترسند و به هر چه مأمور شده‌اند همان مى‌كنند.\n",
            "*****************************\n",
            "چه زیانی به آنها می‌رسید اگر به خدا و روز قیامت ایمان آورده و از بهره‌ای که خدا به آنان داده چیزی انفاق می‌کردند؟! و خدا به (احوال و نیّات) آنان دانا است. خداوند به مقدار ذرّه‌ای به کسی ستم نکند، و اگر عمل نیکی باشد زیاد گرداند و (به نیکان) جانب خود مزدی بزرگ عطا کند. پس چگونه است (حال آنان) آن‌گاه که از هر طایفه‌ای گواهی آریم و تو را بر این امّت به گواهی خواهیم؟\n",
            "*****************************\n",
            "آیا ننگریستند بدانچه بیافرید خدا از چیزی که سایه‌افکن گردد سایه‌های آن از راست و چپ سجده‌کنان برای خدا حالی که آنانند فروتنان‌ و برای خدا سجده کنند آنچه در آسمانها و آنچه در زمین است از جنبنده فرشتگان و ایشان سرنپیچند بترسند پروردگار خویش را از فراز خویش و کنند آنچه فرمان داده شوند\n",
            "*****************************\n",
            "پس کدامین نعمتهای پروردگارتان را انکار می‌کنید؟! آنها همچون یاقوت و مرجانند! پس کدامین نعمتهای پروردگارتان را انکار می‌کنید؟!\n",
            "*****************************\n",
            "آيا آب دادن حاجيان و آبادكردن مسجد الحرام را با [ايمان و عمل‌] آن كس كه به خداى و روز واپسين ايمان آورده و در راه خدا جهاد كرده برابر مى داريد؟ نزد خدا هرگز برابر و يكسان نيستند، و خدا گروه ستمكاران را راه ننمايد. آنان كه ايمان آوردند و هجرت كردند و در راه خدا با مالها و جانهاى خويش جهاد كردند نزد خداوند پايه‌اى بزرگتر دارند، و اينانند رستگاران و كامگاران. پروردگارشان آنان را به مهر و بخشايش و خشنوديى از سوى خويش و بهشت‌هايى كه در آنها نعمتهاى پايدار دارند مژده مى‌دهد\n",
            "*****************************\n",
            "آیا سیراب ساختن حاجیان و آباد کردن مسجدالحرام را همانند کسی پنداشته‌اید که به خدا و روز بازپسین ایمان آورده و در راه خدا جهاد کرده‌؟ (اینان) نزد خدا یکسان نیستند. و خدا بیدادگران را هدایت نمی‌کند. کسانی که ایمان آورده و هجرت کرده و در راه خدا با مال و جانشان به جهاد پرداخته‌اند، درجه‌ی آنان نزد خدا بزرگ‌تر است و اینان، (هم)ایشان، به سلامت رستگارانند. پروردگارشان آنان را از (جانب ویژه‌ی) خود، به رحمت و خشنودی و باغ‌هایی (در بهشت) که در آنها نعمت‌هایی پایدار دارند، مژده می‌دهد.\n",
            "*****************************\n"
          ]
        }
      ]
    },
    {
      "cell_type": "code",
      "execution_count": 11,
      "id": "4c771a46",
      "metadata": {
        "id": "4c771a46"
      },
      "outputs": [],
      "source": [
        "question = \"هنگامی که اصحاب موسی به یک نوع طعام اعتراض کردند موسی به آنها چه گفت؟\"\n",
        "\n",
        "question_embedding = m2.encode(question)\n",
        "scores, retrieved_examples = dataset.get_nearest_examples('embeddings', question_embedding, k=10)"
      ]
    },
    {
      "cell_type": "code",
      "source": [
        "# Assuming hits is a list of dictionaries with 'corpus_id' as a key\n",
        "for exp in retrieved_examples['text']:  # Accessing the first result set\n",
        "\n",
        "    print(exp)\n",
        "\n",
        "    print(\"*****************************\")\n",
        "\n"
      ],
      "metadata": {
        "colab": {
          "base_uri": "https://localhost:8080/"
        },
        "id": "DHO7dZuAG56c",
        "outputId": "781e0ae2-4843-4aa2-ed49-2bfbed980937"
      },
      "id": "DHO7dZuAG56c",
      "execution_count": 32,
      "outputs": [
        {
          "output_type": "stream",
          "name": "stdout",
          "text": [
            "(به خاطر بیاور) هنگامی را که پروردگارت موسی را ندا داد که به سراغ قوم ستمگر برو... قوم فرعون، آیا آنان (از مخالفت فرمان پروردگار) پرهیز نمی‌کنند؟! (موسی) عرض کرد: «پروردگارا! از آن بیم دارم که مرا تکذیب کنند،\n",
            "*****************************\n",
            "گفتند: ما همچنان بر پرستش آن خواهيم بود تا موسى به نزد ما بازگردد موسى گفت: اى هارون! وقتى ديدى آنها گمراه شدند چه چيز مانع تو شد كه از من پيروى نكنى؟ آيا امر مرا نافرمانى كردى\n",
            "*****************************\n",
            "[هنگامی که موسی بازگشت، به هارون] گفت: ای هارون! وقتی دیدی آنان گمراه شدند چه چیز تو را مانع شد، از اینکه مرا [در برخورد شدید با گمراهان] پیروی کنی؟ آیا از فرمان من سرپیچی کردی؟ گفت: ای پسر مادرم! نه ریش مرا بگیر و نه سرم را، من ترسیدم که بگویی: میان بنی اسرائیل تفرقه و جدایی انداختی و سفارش مرا [در حفظ وحدت بنی اسرائیل] رعایت نکردی.\n",
            "*****************************\n",
            "[موسى‌] گفت: «اى هارون، وقتى ديدى آنها گمراه شدند چه چيز مانع تو شد، كه از من پيروى كنى؟ آيا از فرمانم سر باز زدى؟» گفت: «اى پسر مادرم، نه ريش مرا بگير و نه [موى‌] سرم را، من ترسيدم بگويى: ميان بنى‌اسرائيل تفرقه انداختى و سخنم را مراعات نكردى.»\n",
            "*****************************\n",
            "گفتند: «ما هرگز در پرستشی ماندگار از آن دست برنخواهیم داشت، تا موسی سوی ما بازگردد.» (موسی) گفت: «هارون! چون دیدی آنها گمراه شدند چه چیز مانع تو شد،» «که از من پیروی نکنی‌؟ آیا از فرمانم سر باز زدی‌؟»\n",
            "*****************************\n",
            "بعد از آنها، موسی و هارون را با آیات خود به سوی فرعون و اطرافیانش فرستادیم؛ اما آنها تکبّر کردند (و زیر بار حق نرفتند؛ چرا که) آنها گروهی مجرم بودند! و هنگامی که حق از نزد ما بسراغ آنها آمد، گفتند: «این، سحری است آشکار!» موسی گفت: «آیا درباره حقّ، هنگامی که به سوی شما آمد، (چنین) می‌گویید؟! آیا این سحر است؟! در حالی که ساحران (هرگز) رستگار (و پیروز) نمی‌شوند!\n",
            "*****************************\n",
            "هنگامی که خواند پروردگار تو موسی را که برو به نزد گروه ستمگران‌ قوم فرعون چرا پرهیزکاری نکنند گفت پروردگارا ترسم تکذیبم کنند\n",
            "*****************************\n",
            "موسی گفت: «ای قوم من! اگر شما به خدا ایمان آورده‌اید، بر او توکّل کنید اگر تسلیم فرمان او هستید!» گفتند: «تنها بر خدا توکل داریم؛ پروردگارا! ما را مورد شکنجه گروه ستمگر قرار مده! و ما را با رحمتت از (دست) قوم کافر رهایی بخش!\n",
            "*****************************\n",
            "(موسی) گفت: «بعد از این اگر درباره چیزی از تو سؤال کردم، دیگر با من همراهی نکن؛ (زیرا) از سوی من معذور خواهی بود!» باز به راه خود ادامه دادند تا به مردم قریه‌ای رسیدند؛ از آنان خواستند که به ایشان غذا دهند؛ ولی آنان از مهمان کردنشان خودداری نمودند؛ (با این حال) در آن جا دیواری یافتند که می‌خواست فروریزد؛ و (آن مرد عالم) آن را برپا داشت. (موسی) گفت: «(لااقل) می‌خواستی در مقابل این کار مزدی بگیری!» او گفت: «اینک زمان جدایی من و تو فرا رسیده؛ اما بزودی راز آنچه را که نتوانستی در برابر آن صبر کنی، به تو خبر می‌دهم.\n",
            "*****************************\n",
            "و اگر تو را تكذيب كنند، پيش از آنها قوم نوح و عاد و ثمود [پيامبرانشان را] تكذيب كردند، و قوم ابراهيم و قوم لوط، و مردم مدين نيز و موسى نيز تكذيب شد، و كافران را مهلت دادم آنگاه [به كيفر] بگرفتمشان، پس [بنگر كه‌] انكار- ناپسنديدن و كيفر- من چگونه بود.\n",
            "*****************************\n"
          ]
        }
      ]
    },
    {
      "cell_type": "code",
      "source": [
        "scores"
      ],
      "metadata": {
        "colab": {
          "base_uri": "https://localhost:8080/"
        },
        "id": "ld8fr1MPd5c2",
        "outputId": "50f22817-a17a-48a6-ef68-19be53bed0f9"
      },
      "id": "ld8fr1MPd5c2",
      "execution_count": 7,
      "outputs": [
        {
          "output_type": "execute_result",
          "data": {
            "text/plain": [
              "array([0.8863036 , 0.9180075 , 0.93875974, 0.9597673 , 0.9651403 ,\n",
              "       0.9710073 , 0.9719907 , 0.9732956 , 0.98156464, 0.9855365 ],\n",
              "      dtype=float32)"
            ]
          },
          "metadata": {},
          "execution_count": 7
        }
      ]
    },
    {
      "cell_type": "code",
      "source": [
        "\n",
        "import torch\n",
        "from sentence_transformers import util\n",
        "\n",
        "# Ensure that question_embedding is a tensor\n",
        "question_embedding_tensor = torch.tensor([question_embedding])\n",
        "\n",
        "# Convert dataset['embeddings'] to a tensor if it's a list\n",
        "embeddings_tensor = torch.tensor(dataset['embeddings'])\n",
        "hits = util.semantic_search(question_embedding, embeddings_tensor)\n",
        "hits"
      ],
      "metadata": {
        "colab": {
          "base_uri": "https://localhost:8080/"
        },
        "id": "-1BU6MgFgBap",
        "outputId": "c14ca487-8644-46db-b5f6-c36dd138af77"
      },
      "id": "-1BU6MgFgBap",
      "execution_count": 25,
      "outputs": [
        {
          "output_type": "stream",
          "name": "stderr",
          "text": [
            "<ipython-input-25-52f49fedcaed>:5: UserWarning: Creating a tensor from a list of numpy.ndarrays is extremely slow. Please consider converting the list to a single numpy.ndarray with numpy.array() before converting to a tensor. (Triggered internally at ../torch/csrc/utils/tensor_new.cpp:278.)\n",
            "  question_embedding_tensor = torch.tensor([question_embedding])\n"
          ]
        },
        {
          "output_type": "execute_result",
          "data": {
            "text/plain": [
              "[[{'corpus_id': 15531, 'score': 0.5766130685806274},\n",
              "  {'corpus_id': 17442, 'score': 0.5402070879936218},\n",
              "  {'corpus_id': 7049, 'score': 0.5390711426734924},\n",
              "  {'corpus_id': 13285, 'score': 0.5205036997795105},\n",
              "  {'corpus_id': 4970, 'score': 0.519374668598175},\n",
              "  {'corpus_id': 15030, 'score': 0.5182271003723145},\n",
              "  {'corpus_id': 9295, 'score': 0.516907811164856},\n",
              "  {'corpus_id': 15033, 'score': 0.5148196816444397},\n",
              "  {'corpus_id': 15289, 'score': 0.5141289830207825},\n",
              "  {'corpus_id': 11272, 'score': 0.5137339234352112}]]"
            ]
          },
          "metadata": {},
          "execution_count": 25
        }
      ]
    },
    {
      "cell_type": "code",
      "source": [
        "# Assuming hits is a list of dictionaries with 'corpus_id' as a key\n",
        "for hit in hits[0]:  # Accessing the first result set\n",
        "    corpus_id = hit['corpus_id']\n",
        "    print(dataset[\"text\"][corpus_id])\n",
        "    print(hit['score'])\n",
        "    print(\"*****************************\")\n",
        "\n"
      ],
      "metadata": {
        "colab": {
          "base_uri": "https://localhost:8080/"
        },
        "id": "_hGymFk-hCDd",
        "outputId": "518f0fae-1326-48d6-b9bd-56810b63ac84"
      },
      "id": "_hGymFk-hCDd",
      "execution_count": 30,
      "outputs": [
        {
          "output_type": "stream",
          "name": "stdout",
          "text": [
            "(به خاطر بیاور) هنگامی را که پروردگارت موسی را ندا داد که به سراغ قوم ستمگر برو... قوم فرعون، آیا آنان (از مخالفت فرمان پروردگار) پرهیز نمی‌کنند؟! (موسی) عرض کرد: «پروردگارا! از آن بیم دارم که مرا تکذیب کنند،\n",
            "0.5766130685806274\n",
            "*****************************\n",
            "گفتند: ما همچنان بر پرستش آن خواهيم بود تا موسى به نزد ما بازگردد موسى گفت: اى هارون! وقتى ديدى آنها گمراه شدند چه چيز مانع تو شد كه از من پيروى نكنى؟ آيا امر مرا نافرمانى كردى\n",
            "0.5402070879936218\n",
            "*****************************\n",
            "[هنگامی که موسی بازگشت، به هارون] گفت: ای هارون! وقتی دیدی آنان گمراه شدند چه چیز تو را مانع شد، از اینکه مرا [در برخورد شدید با گمراهان] پیروی کنی؟ آیا از فرمان من سرپیچی کردی؟ گفت: ای پسر مادرم! نه ریش مرا بگیر و نه سرم را، من ترسیدم که بگویی: میان بنی اسرائیل تفرقه و جدایی انداختی و سفارش مرا [در حفظ وحدت بنی اسرائیل] رعایت نکردی.\n",
            "0.5390711426734924\n",
            "*****************************\n",
            "[موسى‌] گفت: «اى هارون، وقتى ديدى آنها گمراه شدند چه چيز مانع تو شد، كه از من پيروى كنى؟ آيا از فرمانم سر باز زدى؟» گفت: «اى پسر مادرم، نه ريش مرا بگير و نه [موى‌] سرم را، من ترسيدم بگويى: ميان بنى‌اسرائيل تفرقه انداختى و سخنم را مراعات نكردى.»\n",
            "0.5205036997795105\n",
            "*****************************\n",
            "گفتند: «ما هرگز در پرستشی ماندگار از آن دست برنخواهیم داشت، تا موسی سوی ما بازگردد.» (موسی) گفت: «هارون! چون دیدی آنها گمراه شدند چه چیز مانع تو شد،» «که از من پیروی نکنی‌؟ آیا از فرمانم سر باز زدی‌؟»\n",
            "0.519374668598175\n",
            "*****************************\n",
            "بعد از آنها، موسی و هارون را با آیات خود به سوی فرعون و اطرافیانش فرستادیم؛ اما آنها تکبّر کردند (و زیر بار حق نرفتند؛ چرا که) آنها گروهی مجرم بودند! و هنگامی که حق از نزد ما بسراغ آنها آمد، گفتند: «این، سحری است آشکار!» موسی گفت: «آیا درباره حقّ، هنگامی که به سوی شما آمد، (چنین) می‌گویید؟! آیا این سحر است؟! در حالی که ساحران (هرگز) رستگار (و پیروز) نمی‌شوند!\n",
            "0.5182271003723145\n",
            "*****************************\n",
            "هنگامی که خواند پروردگار تو موسی را که برو به نزد گروه ستمگران‌ قوم فرعون چرا پرهیزکاری نکنند گفت پروردگارا ترسم تکذیبم کنند\n",
            "0.516907811164856\n",
            "*****************************\n",
            "موسی گفت: «ای قوم من! اگر شما به خدا ایمان آورده‌اید، بر او توکّل کنید اگر تسلیم فرمان او هستید!» گفتند: «تنها بر خدا توکل داریم؛ پروردگارا! ما را مورد شکنجه گروه ستمگر قرار مده! و ما را با رحمتت از (دست) قوم کافر رهایی بخش!\n",
            "0.5148196816444397\n",
            "*****************************\n",
            "(موسی) گفت: «بعد از این اگر درباره چیزی از تو سؤال کردم، دیگر با من همراهی نکن؛ (زیرا) از سوی من معذور خواهی بود!» باز به راه خود ادامه دادند تا به مردم قریه‌ای رسیدند؛ از آنان خواستند که به ایشان غذا دهند؛ ولی آنان از مهمان کردنشان خودداری نمودند؛ (با این حال) در آن جا دیواری یافتند که می‌خواست فروریزد؛ و (آن مرد عالم) آن را برپا داشت. (موسی) گفت: «(لااقل) می‌خواستی در مقابل این کار مزدی بگیری!» او گفت: «اینک زمان جدایی من و تو فرا رسیده؛ اما بزودی راز آنچه را که نتوانستی در برابر آن صبر کنی، به تو خبر می‌دهم.\n",
            "0.5141289830207825\n",
            "*****************************\n",
            "و اگر تو را تكذيب كنند، پيش از آنها قوم نوح و عاد و ثمود [پيامبرانشان را] تكذيب كردند، و قوم ابراهيم و قوم لوط، و مردم مدين نيز و موسى نيز تكذيب شد، و كافران را مهلت دادم آنگاه [به كيفر] بگرفتمشان، پس [بنگر كه‌] انكار- ناپسنديدن و كيفر- من چگونه بود.\n",
            "0.5137339234352112\n",
            "*****************************\n"
          ]
        }
      ]
    },
    {
      "cell_type": "code",
      "execution_count": null,
      "id": "93cf4f21",
      "metadata": {
        "id": "93cf4f21"
      },
      "outputs": [],
      "source": [
        "\n",
        "updated_message = [\n",
        "        {\"role\": \"system\", \"content\": \"I want you to act as a question answering bot which uses the context mentioned and answer in a concise manner in persian and doesn't make stuff up.\"\n",
        "                                      \"You will answer question based on the context - {}\"\n",
        "                                     },\n",
        "        {\"role\": \"user\", \"content\": \"Now I want you to answer this question {}.\"},\n",
        "    ]\n",
        "\n",
        "updated_message[0]['content'] = updated_message[0]['content'].format(retrieved_examples['text'])\n",
        "updated_message[1]['content'] = updated_message[1]['content'].format(question)\n",
        "\n",
        "completion = openai.ChatCompletion.create(model=\"gpt-3.5-turbo\", messages=updated_message,\n",
        "                                                      timeout=240, max_tokens=400, n=1, stop=None, temperature=0)"
      ]
    },
    {
      "cell_type": "code",
      "execution_count": null,
      "id": "8ff87bb5",
      "metadata": {
        "id": "8ff87bb5",
        "outputId": "705afcd4-dfd4-4281-f154-a9529a39a56b"
      },
      "outputs": [
        {
          "data": {
            "text/plain": [
              "'To apply for a new PAN card as an NRI, follow these steps:\\n1. Visit the ABC app.\\n2. Navigate to Services > NRI Pan Card > Apply New PAN.\\n3. Select the required form of PAN card and proceed with the payment.\\n4. Our team will contact you to request the necessary documents, including your passport (any country) or OCI card, passport size photograph, and overseas address proof with zip code (such as Indian NRO/NRE account statement, overseas bank statement, or utility bill).'"
            ]
          },
          "execution_count": 21,
          "metadata": {},
          "output_type": "execute_result"
        }
      ],
      "source": [
        "completion['choices'][0]['message']['content']"
      ]
    }
  ],
  "metadata": {
    "colab": {
      "provenance": [],
      "gpuType": "T4"
    },
    "kernelspec": {
      "display_name": "Python 3",
      "name": "python3"
    },
    "language_info": {
      "codemirror_mode": {
        "name": "ipython",
        "version": 3
      },
      "file_extension": ".py",
      "mimetype": "text/x-python",
      "name": "python",
      "nbconvert_exporter": "python",
      "pygments_lexer": "ipython3",
      "version": "3.11.5"
    },
    "accelerator": "GPU",
    "widgets": {
      "application/vnd.jupyter.widget-state+json": {
        "c0819584faf645e998deb7e6d7a46d3a": {
          "model_module": "@jupyter-widgets/controls",
          "model_name": "HBoxModel",
          "model_module_version": "1.5.0",
          "state": {
            "_dom_classes": [],
            "_model_module": "@jupyter-widgets/controls",
            "_model_module_version": "1.5.0",
            "_model_name": "HBoxModel",
            "_view_count": null,
            "_view_module": "@jupyter-widgets/controls",
            "_view_module_version": "1.5.0",
            "_view_name": "HBoxView",
            "box_style": "",
            "children": [
              "IPY_MODEL_50e92fe1d5e64a62930066c9c4200667",
              "IPY_MODEL_6947dac09fc144d38f443998ecacaef1",
              "IPY_MODEL_31b817ff304d4433aacea20bb3a60272"
            ],
            "layout": "IPY_MODEL_b1951598456d493cba4dbdf59067fbee"
          }
        },
        "50e92fe1d5e64a62930066c9c4200667": {
          "model_module": "@jupyter-widgets/controls",
          "model_name": "HTMLModel",
          "model_module_version": "1.5.0",
          "state": {
            "_dom_classes": [],
            "_model_module": "@jupyter-widgets/controls",
            "_model_module_version": "1.5.0",
            "_model_name": "HTMLModel",
            "_view_count": null,
            "_view_module": "@jupyter-widgets/controls",
            "_view_module_version": "1.5.0",
            "_view_name": "HTMLView",
            "description": "",
            "description_tooltip": null,
            "layout": "IPY_MODEL_9f6f7ce39cff4956af67f65552171858",
            "placeholder": "​",
            "style": "IPY_MODEL_9bcebbceabb1486aaa60e7e180c40c50",
            "value": "Map: 100%"
          }
        },
        "6947dac09fc144d38f443998ecacaef1": {
          "model_module": "@jupyter-widgets/controls",
          "model_name": "FloatProgressModel",
          "model_module_version": "1.5.0",
          "state": {
            "_dom_classes": [],
            "_model_module": "@jupyter-widgets/controls",
            "_model_module_version": "1.5.0",
            "_model_name": "FloatProgressModel",
            "_view_count": null,
            "_view_module": "@jupyter-widgets/controls",
            "_view_module_version": "1.5.0",
            "_view_name": "ProgressView",
            "bar_style": "success",
            "description": "",
            "description_tooltip": null,
            "layout": "IPY_MODEL_7a2f54391e9d47e3a0deaf509d4f0403",
            "max": 22872,
            "min": 0,
            "orientation": "horizontal",
            "style": "IPY_MODEL_6bccf413f3fe473b924f620a6349a387",
            "value": 22872
          }
        },
        "31b817ff304d4433aacea20bb3a60272": {
          "model_module": "@jupyter-widgets/controls",
          "model_name": "HTMLModel",
          "model_module_version": "1.5.0",
          "state": {
            "_dom_classes": [],
            "_model_module": "@jupyter-widgets/controls",
            "_model_module_version": "1.5.0",
            "_model_name": "HTMLModel",
            "_view_count": null,
            "_view_module": "@jupyter-widgets/controls",
            "_view_module_version": "1.5.0",
            "_view_name": "HTMLView",
            "description": "",
            "description_tooltip": null,
            "layout": "IPY_MODEL_d45193f50df3485cae5a6d599fa7f62f",
            "placeholder": "​",
            "style": "IPY_MODEL_a0a1625042cf4eb3b658e36105e319e7",
            "value": " 22872/22872 [05:37&lt;00:00, 86.46 examples/s]"
          }
        },
        "b1951598456d493cba4dbdf59067fbee": {
          "model_module": "@jupyter-widgets/base",
          "model_name": "LayoutModel",
          "model_module_version": "1.2.0",
          "state": {
            "_model_module": "@jupyter-widgets/base",
            "_model_module_version": "1.2.0",
            "_model_name": "LayoutModel",
            "_view_count": null,
            "_view_module": "@jupyter-widgets/base",
            "_view_module_version": "1.2.0",
            "_view_name": "LayoutView",
            "align_content": null,
            "align_items": null,
            "align_self": null,
            "border": null,
            "bottom": null,
            "display": null,
            "flex": null,
            "flex_flow": null,
            "grid_area": null,
            "grid_auto_columns": null,
            "grid_auto_flow": null,
            "grid_auto_rows": null,
            "grid_column": null,
            "grid_gap": null,
            "grid_row": null,
            "grid_template_areas": null,
            "grid_template_columns": null,
            "grid_template_rows": null,
            "height": null,
            "justify_content": null,
            "justify_items": null,
            "left": null,
            "margin": null,
            "max_height": null,
            "max_width": null,
            "min_height": null,
            "min_width": null,
            "object_fit": null,
            "object_position": null,
            "order": null,
            "overflow": null,
            "overflow_x": null,
            "overflow_y": null,
            "padding": null,
            "right": null,
            "top": null,
            "visibility": null,
            "width": null
          }
        },
        "9f6f7ce39cff4956af67f65552171858": {
          "model_module": "@jupyter-widgets/base",
          "model_name": "LayoutModel",
          "model_module_version": "1.2.0",
          "state": {
            "_model_module": "@jupyter-widgets/base",
            "_model_module_version": "1.2.0",
            "_model_name": "LayoutModel",
            "_view_count": null,
            "_view_module": "@jupyter-widgets/base",
            "_view_module_version": "1.2.0",
            "_view_name": "LayoutView",
            "align_content": null,
            "align_items": null,
            "align_self": null,
            "border": null,
            "bottom": null,
            "display": null,
            "flex": null,
            "flex_flow": null,
            "grid_area": null,
            "grid_auto_columns": null,
            "grid_auto_flow": null,
            "grid_auto_rows": null,
            "grid_column": null,
            "grid_gap": null,
            "grid_row": null,
            "grid_template_areas": null,
            "grid_template_columns": null,
            "grid_template_rows": null,
            "height": null,
            "justify_content": null,
            "justify_items": null,
            "left": null,
            "margin": null,
            "max_height": null,
            "max_width": null,
            "min_height": null,
            "min_width": null,
            "object_fit": null,
            "object_position": null,
            "order": null,
            "overflow": null,
            "overflow_x": null,
            "overflow_y": null,
            "padding": null,
            "right": null,
            "top": null,
            "visibility": null,
            "width": null
          }
        },
        "9bcebbceabb1486aaa60e7e180c40c50": {
          "model_module": "@jupyter-widgets/controls",
          "model_name": "DescriptionStyleModel",
          "model_module_version": "1.5.0",
          "state": {
            "_model_module": "@jupyter-widgets/controls",
            "_model_module_version": "1.5.0",
            "_model_name": "DescriptionStyleModel",
            "_view_count": null,
            "_view_module": "@jupyter-widgets/base",
            "_view_module_version": "1.2.0",
            "_view_name": "StyleView",
            "description_width": ""
          }
        },
        "7a2f54391e9d47e3a0deaf509d4f0403": {
          "model_module": "@jupyter-widgets/base",
          "model_name": "LayoutModel",
          "model_module_version": "1.2.0",
          "state": {
            "_model_module": "@jupyter-widgets/base",
            "_model_module_version": "1.2.0",
            "_model_name": "LayoutModel",
            "_view_count": null,
            "_view_module": "@jupyter-widgets/base",
            "_view_module_version": "1.2.0",
            "_view_name": "LayoutView",
            "align_content": null,
            "align_items": null,
            "align_self": null,
            "border": null,
            "bottom": null,
            "display": null,
            "flex": null,
            "flex_flow": null,
            "grid_area": null,
            "grid_auto_columns": null,
            "grid_auto_flow": null,
            "grid_auto_rows": null,
            "grid_column": null,
            "grid_gap": null,
            "grid_row": null,
            "grid_template_areas": null,
            "grid_template_columns": null,
            "grid_template_rows": null,
            "height": null,
            "justify_content": null,
            "justify_items": null,
            "left": null,
            "margin": null,
            "max_height": null,
            "max_width": null,
            "min_height": null,
            "min_width": null,
            "object_fit": null,
            "object_position": null,
            "order": null,
            "overflow": null,
            "overflow_x": null,
            "overflow_y": null,
            "padding": null,
            "right": null,
            "top": null,
            "visibility": null,
            "width": null
          }
        },
        "6bccf413f3fe473b924f620a6349a387": {
          "model_module": "@jupyter-widgets/controls",
          "model_name": "ProgressStyleModel",
          "model_module_version": "1.5.0",
          "state": {
            "_model_module": "@jupyter-widgets/controls",
            "_model_module_version": "1.5.0",
            "_model_name": "ProgressStyleModel",
            "_view_count": null,
            "_view_module": "@jupyter-widgets/base",
            "_view_module_version": "1.2.0",
            "_view_name": "StyleView",
            "bar_color": null,
            "description_width": ""
          }
        },
        "d45193f50df3485cae5a6d599fa7f62f": {
          "model_module": "@jupyter-widgets/base",
          "model_name": "LayoutModel",
          "model_module_version": "1.2.0",
          "state": {
            "_model_module": "@jupyter-widgets/base",
            "_model_module_version": "1.2.0",
            "_model_name": "LayoutModel",
            "_view_count": null,
            "_view_module": "@jupyter-widgets/base",
            "_view_module_version": "1.2.0",
            "_view_name": "LayoutView",
            "align_content": null,
            "align_items": null,
            "align_self": null,
            "border": null,
            "bottom": null,
            "display": null,
            "flex": null,
            "flex_flow": null,
            "grid_area": null,
            "grid_auto_columns": null,
            "grid_auto_flow": null,
            "grid_auto_rows": null,
            "grid_column": null,
            "grid_gap": null,
            "grid_row": null,
            "grid_template_areas": null,
            "grid_template_columns": null,
            "grid_template_rows": null,
            "height": null,
            "justify_content": null,
            "justify_items": null,
            "left": null,
            "margin": null,
            "max_height": null,
            "max_width": null,
            "min_height": null,
            "min_width": null,
            "object_fit": null,
            "object_position": null,
            "order": null,
            "overflow": null,
            "overflow_x": null,
            "overflow_y": null,
            "padding": null,
            "right": null,
            "top": null,
            "visibility": null,
            "width": null
          }
        },
        "a0a1625042cf4eb3b658e36105e319e7": {
          "model_module": "@jupyter-widgets/controls",
          "model_name": "DescriptionStyleModel",
          "model_module_version": "1.5.0",
          "state": {
            "_model_module": "@jupyter-widgets/controls",
            "_model_module_version": "1.5.0",
            "_model_name": "DescriptionStyleModel",
            "_view_count": null,
            "_view_module": "@jupyter-widgets/base",
            "_view_module_version": "1.2.0",
            "_view_name": "StyleView",
            "description_width": ""
          }
        },
        "6a25a1d1406b4b8e9af51a896e59ecd1": {
          "model_module": "@jupyter-widgets/controls",
          "model_name": "HBoxModel",
          "model_module_version": "1.5.0",
          "state": {
            "_dom_classes": [],
            "_model_module": "@jupyter-widgets/controls",
            "_model_module_version": "1.5.0",
            "_model_name": "HBoxModel",
            "_view_count": null,
            "_view_module": "@jupyter-widgets/controls",
            "_view_module_version": "1.5.0",
            "_view_name": "HBoxView",
            "box_style": "",
            "children": [
              "IPY_MODEL_2171400519e44dcba656457e81c6762d",
              "IPY_MODEL_9054219768ca49e69250f2c5b6c6f3de",
              "IPY_MODEL_47e9c0cc48a44f498b0fe154ea796612"
            ],
            "layout": "IPY_MODEL_28017d3b899d4574b9fb6604c3fecf10"
          }
        },
        "2171400519e44dcba656457e81c6762d": {
          "model_module": "@jupyter-widgets/controls",
          "model_name": "HTMLModel",
          "model_module_version": "1.5.0",
          "state": {
            "_dom_classes": [],
            "_model_module": "@jupyter-widgets/controls",
            "_model_module_version": "1.5.0",
            "_model_name": "HTMLModel",
            "_view_count": null,
            "_view_module": "@jupyter-widgets/controls",
            "_view_module_version": "1.5.0",
            "_view_name": "HTMLView",
            "description": "",
            "description_tooltip": null,
            "layout": "IPY_MODEL_4f782211c64b440caf3c9812cda8873b",
            "placeholder": "​",
            "style": "IPY_MODEL_f90e31789d4a4491879eba503478a0bd",
            "value": "Saving the dataset (1/1 shards): 100%"
          }
        },
        "9054219768ca49e69250f2c5b6c6f3de": {
          "model_module": "@jupyter-widgets/controls",
          "model_name": "FloatProgressModel",
          "model_module_version": "1.5.0",
          "state": {
            "_dom_classes": [],
            "_model_module": "@jupyter-widgets/controls",
            "_model_module_version": "1.5.0",
            "_model_name": "FloatProgressModel",
            "_view_count": null,
            "_view_module": "@jupyter-widgets/controls",
            "_view_module_version": "1.5.0",
            "_view_name": "ProgressView",
            "bar_style": "success",
            "description": "",
            "description_tooltip": null,
            "layout": "IPY_MODEL_b63c844544d24fba96303242963e971d",
            "max": 22872,
            "min": 0,
            "orientation": "horizontal",
            "style": "IPY_MODEL_eb456c15f6c14398aa766c28b0b189ec",
            "value": 22872
          }
        },
        "47e9c0cc48a44f498b0fe154ea796612": {
          "model_module": "@jupyter-widgets/controls",
          "model_name": "HTMLModel",
          "model_module_version": "1.5.0",
          "state": {
            "_dom_classes": [],
            "_model_module": "@jupyter-widgets/controls",
            "_model_module_version": "1.5.0",
            "_model_name": "HTMLModel",
            "_view_count": null,
            "_view_module": "@jupyter-widgets/controls",
            "_view_module_version": "1.5.0",
            "_view_name": "HTMLView",
            "description": "",
            "description_tooltip": null,
            "layout": "IPY_MODEL_5eebfd967af54bdebb181024877942ac",
            "placeholder": "​",
            "style": "IPY_MODEL_39c2e0ba18304369884769ab41bde7cf",
            "value": " 22872/22872 [00:00&lt;00:00, 195621.74 examples/s]"
          }
        },
        "28017d3b899d4574b9fb6604c3fecf10": {
          "model_module": "@jupyter-widgets/base",
          "model_name": "LayoutModel",
          "model_module_version": "1.2.0",
          "state": {
            "_model_module": "@jupyter-widgets/base",
            "_model_module_version": "1.2.0",
            "_model_name": "LayoutModel",
            "_view_count": null,
            "_view_module": "@jupyter-widgets/base",
            "_view_module_version": "1.2.0",
            "_view_name": "LayoutView",
            "align_content": null,
            "align_items": null,
            "align_self": null,
            "border": null,
            "bottom": null,
            "display": null,
            "flex": null,
            "flex_flow": null,
            "grid_area": null,
            "grid_auto_columns": null,
            "grid_auto_flow": null,
            "grid_auto_rows": null,
            "grid_column": null,
            "grid_gap": null,
            "grid_row": null,
            "grid_template_areas": null,
            "grid_template_columns": null,
            "grid_template_rows": null,
            "height": null,
            "justify_content": null,
            "justify_items": null,
            "left": null,
            "margin": null,
            "max_height": null,
            "max_width": null,
            "min_height": null,
            "min_width": null,
            "object_fit": null,
            "object_position": null,
            "order": null,
            "overflow": null,
            "overflow_x": null,
            "overflow_y": null,
            "padding": null,
            "right": null,
            "top": null,
            "visibility": null,
            "width": null
          }
        },
        "4f782211c64b440caf3c9812cda8873b": {
          "model_module": "@jupyter-widgets/base",
          "model_name": "LayoutModel",
          "model_module_version": "1.2.0",
          "state": {
            "_model_module": "@jupyter-widgets/base",
            "_model_module_version": "1.2.0",
            "_model_name": "LayoutModel",
            "_view_count": null,
            "_view_module": "@jupyter-widgets/base",
            "_view_module_version": "1.2.0",
            "_view_name": "LayoutView",
            "align_content": null,
            "align_items": null,
            "align_self": null,
            "border": null,
            "bottom": null,
            "display": null,
            "flex": null,
            "flex_flow": null,
            "grid_area": null,
            "grid_auto_columns": null,
            "grid_auto_flow": null,
            "grid_auto_rows": null,
            "grid_column": null,
            "grid_gap": null,
            "grid_row": null,
            "grid_template_areas": null,
            "grid_template_columns": null,
            "grid_template_rows": null,
            "height": null,
            "justify_content": null,
            "justify_items": null,
            "left": null,
            "margin": null,
            "max_height": null,
            "max_width": null,
            "min_height": null,
            "min_width": null,
            "object_fit": null,
            "object_position": null,
            "order": null,
            "overflow": null,
            "overflow_x": null,
            "overflow_y": null,
            "padding": null,
            "right": null,
            "top": null,
            "visibility": null,
            "width": null
          }
        },
        "f90e31789d4a4491879eba503478a0bd": {
          "model_module": "@jupyter-widgets/controls",
          "model_name": "DescriptionStyleModel",
          "model_module_version": "1.5.0",
          "state": {
            "_model_module": "@jupyter-widgets/controls",
            "_model_module_version": "1.5.0",
            "_model_name": "DescriptionStyleModel",
            "_view_count": null,
            "_view_module": "@jupyter-widgets/base",
            "_view_module_version": "1.2.0",
            "_view_name": "StyleView",
            "description_width": ""
          }
        },
        "b63c844544d24fba96303242963e971d": {
          "model_module": "@jupyter-widgets/base",
          "model_name": "LayoutModel",
          "model_module_version": "1.2.0",
          "state": {
            "_model_module": "@jupyter-widgets/base",
            "_model_module_version": "1.2.0",
            "_model_name": "LayoutModel",
            "_view_count": null,
            "_view_module": "@jupyter-widgets/base",
            "_view_module_version": "1.2.0",
            "_view_name": "LayoutView",
            "align_content": null,
            "align_items": null,
            "align_self": null,
            "border": null,
            "bottom": null,
            "display": null,
            "flex": null,
            "flex_flow": null,
            "grid_area": null,
            "grid_auto_columns": null,
            "grid_auto_flow": null,
            "grid_auto_rows": null,
            "grid_column": null,
            "grid_gap": null,
            "grid_row": null,
            "grid_template_areas": null,
            "grid_template_columns": null,
            "grid_template_rows": null,
            "height": null,
            "justify_content": null,
            "justify_items": null,
            "left": null,
            "margin": null,
            "max_height": null,
            "max_width": null,
            "min_height": null,
            "min_width": null,
            "object_fit": null,
            "object_position": null,
            "order": null,
            "overflow": null,
            "overflow_x": null,
            "overflow_y": null,
            "padding": null,
            "right": null,
            "top": null,
            "visibility": null,
            "width": null
          }
        },
        "eb456c15f6c14398aa766c28b0b189ec": {
          "model_module": "@jupyter-widgets/controls",
          "model_name": "ProgressStyleModel",
          "model_module_version": "1.5.0",
          "state": {
            "_model_module": "@jupyter-widgets/controls",
            "_model_module_version": "1.5.0",
            "_model_name": "ProgressStyleModel",
            "_view_count": null,
            "_view_module": "@jupyter-widgets/base",
            "_view_module_version": "1.2.0",
            "_view_name": "StyleView",
            "bar_color": null,
            "description_width": ""
          }
        },
        "5eebfd967af54bdebb181024877942ac": {
          "model_module": "@jupyter-widgets/base",
          "model_name": "LayoutModel",
          "model_module_version": "1.2.0",
          "state": {
            "_model_module": "@jupyter-widgets/base",
            "_model_module_version": "1.2.0",
            "_model_name": "LayoutModel",
            "_view_count": null,
            "_view_module": "@jupyter-widgets/base",
            "_view_module_version": "1.2.0",
            "_view_name": "LayoutView",
            "align_content": null,
            "align_items": null,
            "align_self": null,
            "border": null,
            "bottom": null,
            "display": null,
            "flex": null,
            "flex_flow": null,
            "grid_area": null,
            "grid_auto_columns": null,
            "grid_auto_flow": null,
            "grid_auto_rows": null,
            "grid_column": null,
            "grid_gap": null,
            "grid_row": null,
            "grid_template_areas": null,
            "grid_template_columns": null,
            "grid_template_rows": null,
            "height": null,
            "justify_content": null,
            "justify_items": null,
            "left": null,
            "margin": null,
            "max_height": null,
            "max_width": null,
            "min_height": null,
            "min_width": null,
            "object_fit": null,
            "object_position": null,
            "order": null,
            "overflow": null,
            "overflow_x": null,
            "overflow_y": null,
            "padding": null,
            "right": null,
            "top": null,
            "visibility": null,
            "width": null
          }
        },
        "39c2e0ba18304369884769ab41bde7cf": {
          "model_module": "@jupyter-widgets/controls",
          "model_name": "DescriptionStyleModel",
          "model_module_version": "1.5.0",
          "state": {
            "_model_module": "@jupyter-widgets/controls",
            "_model_module_version": "1.5.0",
            "_model_name": "DescriptionStyleModel",
            "_view_count": null,
            "_view_module": "@jupyter-widgets/base",
            "_view_module_version": "1.2.0",
            "_view_name": "StyleView",
            "description_width": ""
          }
        },
        "a16576a2599148dd9f1763ccb6d4f08b": {
          "model_module": "@jupyter-widgets/controls",
          "model_name": "HBoxModel",
          "model_module_version": "1.5.0",
          "state": {
            "_dom_classes": [],
            "_model_module": "@jupyter-widgets/controls",
            "_model_module_version": "1.5.0",
            "_model_name": "HBoxModel",
            "_view_count": null,
            "_view_module": "@jupyter-widgets/controls",
            "_view_module_version": "1.5.0",
            "_view_name": "HBoxView",
            "box_style": "",
            "children": [
              "IPY_MODEL_a548207134b64eb3be55def47004ccd2",
              "IPY_MODEL_ad5b4a98b9de40d5864882380a7050d1",
              "IPY_MODEL_ab5c4fab70f0401aba8e39cb4e683809"
            ],
            "layout": "IPY_MODEL_de0bf279866b4f048032d782cfd5e27a"
          }
        },
        "a548207134b64eb3be55def47004ccd2": {
          "model_module": "@jupyter-widgets/controls",
          "model_name": "HTMLModel",
          "model_module_version": "1.5.0",
          "state": {
            "_dom_classes": [],
            "_model_module": "@jupyter-widgets/controls",
            "_model_module_version": "1.5.0",
            "_model_name": "HTMLModel",
            "_view_count": null,
            "_view_module": "@jupyter-widgets/controls",
            "_view_module_version": "1.5.0",
            "_view_name": "HTMLView",
            "description": "",
            "description_tooltip": null,
            "layout": "IPY_MODEL_7ebcb4b43e244d93a9743000b10a0e3f",
            "placeholder": "​",
            "style": "IPY_MODEL_425ec1bfb7724cec9ddffe81fbfc0928",
            "value": "100%"
          }
        },
        "ad5b4a98b9de40d5864882380a7050d1": {
          "model_module": "@jupyter-widgets/controls",
          "model_name": "FloatProgressModel",
          "model_module_version": "1.5.0",
          "state": {
            "_dom_classes": [],
            "_model_module": "@jupyter-widgets/controls",
            "_model_module_version": "1.5.0",
            "_model_name": "FloatProgressModel",
            "_view_count": null,
            "_view_module": "@jupyter-widgets/controls",
            "_view_module_version": "1.5.0",
            "_view_name": "ProgressView",
            "bar_style": "success",
            "description": "",
            "description_tooltip": null,
            "layout": "IPY_MODEL_6b1e05ac17844a5f8100deea64465253",
            "max": 23,
            "min": 0,
            "orientation": "horizontal",
            "style": "IPY_MODEL_40952f70cee449019bc23c3bca88eb39",
            "value": 23
          }
        },
        "ab5c4fab70f0401aba8e39cb4e683809": {
          "model_module": "@jupyter-widgets/controls",
          "model_name": "HTMLModel",
          "model_module_version": "1.5.0",
          "state": {
            "_dom_classes": [],
            "_model_module": "@jupyter-widgets/controls",
            "_model_module_version": "1.5.0",
            "_model_name": "HTMLModel",
            "_view_count": null,
            "_view_module": "@jupyter-widgets/controls",
            "_view_module_version": "1.5.0",
            "_view_name": "HTMLView",
            "description": "",
            "description_tooltip": null,
            "layout": "IPY_MODEL_14f663b2b2714e2ba1400763018fe8aa",
            "placeholder": "​",
            "style": "IPY_MODEL_eabc84d6d85a4084a246a5b08ab2b4be",
            "value": " 23/23 [00:00&lt;00:00, 96.46it/s]"
          }
        },
        "de0bf279866b4f048032d782cfd5e27a": {
          "model_module": "@jupyter-widgets/base",
          "model_name": "LayoutModel",
          "model_module_version": "1.2.0",
          "state": {
            "_model_module": "@jupyter-widgets/base",
            "_model_module_version": "1.2.0",
            "_model_name": "LayoutModel",
            "_view_count": null,
            "_view_module": "@jupyter-widgets/base",
            "_view_module_version": "1.2.0",
            "_view_name": "LayoutView",
            "align_content": null,
            "align_items": null,
            "align_self": null,
            "border": null,
            "bottom": null,
            "display": null,
            "flex": null,
            "flex_flow": null,
            "grid_area": null,
            "grid_auto_columns": null,
            "grid_auto_flow": null,
            "grid_auto_rows": null,
            "grid_column": null,
            "grid_gap": null,
            "grid_row": null,
            "grid_template_areas": null,
            "grid_template_columns": null,
            "grid_template_rows": null,
            "height": null,
            "justify_content": null,
            "justify_items": null,
            "left": null,
            "margin": null,
            "max_height": null,
            "max_width": null,
            "min_height": null,
            "min_width": null,
            "object_fit": null,
            "object_position": null,
            "order": null,
            "overflow": null,
            "overflow_x": null,
            "overflow_y": null,
            "padding": null,
            "right": null,
            "top": null,
            "visibility": null,
            "width": null
          }
        },
        "7ebcb4b43e244d93a9743000b10a0e3f": {
          "model_module": "@jupyter-widgets/base",
          "model_name": "LayoutModel",
          "model_module_version": "1.2.0",
          "state": {
            "_model_module": "@jupyter-widgets/base",
            "_model_module_version": "1.2.0",
            "_model_name": "LayoutModel",
            "_view_count": null,
            "_view_module": "@jupyter-widgets/base",
            "_view_module_version": "1.2.0",
            "_view_name": "LayoutView",
            "align_content": null,
            "align_items": null,
            "align_self": null,
            "border": null,
            "bottom": null,
            "display": null,
            "flex": null,
            "flex_flow": null,
            "grid_area": null,
            "grid_auto_columns": null,
            "grid_auto_flow": null,
            "grid_auto_rows": null,
            "grid_column": null,
            "grid_gap": null,
            "grid_row": null,
            "grid_template_areas": null,
            "grid_template_columns": null,
            "grid_template_rows": null,
            "height": null,
            "justify_content": null,
            "justify_items": null,
            "left": null,
            "margin": null,
            "max_height": null,
            "max_width": null,
            "min_height": null,
            "min_width": null,
            "object_fit": null,
            "object_position": null,
            "order": null,
            "overflow": null,
            "overflow_x": null,
            "overflow_y": null,
            "padding": null,
            "right": null,
            "top": null,
            "visibility": null,
            "width": null
          }
        },
        "425ec1bfb7724cec9ddffe81fbfc0928": {
          "model_module": "@jupyter-widgets/controls",
          "model_name": "DescriptionStyleModel",
          "model_module_version": "1.5.0",
          "state": {
            "_model_module": "@jupyter-widgets/controls",
            "_model_module_version": "1.5.0",
            "_model_name": "DescriptionStyleModel",
            "_view_count": null,
            "_view_module": "@jupyter-widgets/base",
            "_view_module_version": "1.2.0",
            "_view_name": "StyleView",
            "description_width": ""
          }
        },
        "6b1e05ac17844a5f8100deea64465253": {
          "model_module": "@jupyter-widgets/base",
          "model_name": "LayoutModel",
          "model_module_version": "1.2.0",
          "state": {
            "_model_module": "@jupyter-widgets/base",
            "_model_module_version": "1.2.0",
            "_model_name": "LayoutModel",
            "_view_count": null,
            "_view_module": "@jupyter-widgets/base",
            "_view_module_version": "1.2.0",
            "_view_name": "LayoutView",
            "align_content": null,
            "align_items": null,
            "align_self": null,
            "border": null,
            "bottom": null,
            "display": null,
            "flex": null,
            "flex_flow": null,
            "grid_area": null,
            "grid_auto_columns": null,
            "grid_auto_flow": null,
            "grid_auto_rows": null,
            "grid_column": null,
            "grid_gap": null,
            "grid_row": null,
            "grid_template_areas": null,
            "grid_template_columns": null,
            "grid_template_rows": null,
            "height": null,
            "justify_content": null,
            "justify_items": null,
            "left": null,
            "margin": null,
            "max_height": null,
            "max_width": null,
            "min_height": null,
            "min_width": null,
            "object_fit": null,
            "object_position": null,
            "order": null,
            "overflow": null,
            "overflow_x": null,
            "overflow_y": null,
            "padding": null,
            "right": null,
            "top": null,
            "visibility": null,
            "width": null
          }
        },
        "40952f70cee449019bc23c3bca88eb39": {
          "model_module": "@jupyter-widgets/controls",
          "model_name": "ProgressStyleModel",
          "model_module_version": "1.5.0",
          "state": {
            "_model_module": "@jupyter-widgets/controls",
            "_model_module_version": "1.5.0",
            "_model_name": "ProgressStyleModel",
            "_view_count": null,
            "_view_module": "@jupyter-widgets/base",
            "_view_module_version": "1.2.0",
            "_view_name": "StyleView",
            "bar_color": null,
            "description_width": ""
          }
        },
        "14f663b2b2714e2ba1400763018fe8aa": {
          "model_module": "@jupyter-widgets/base",
          "model_name": "LayoutModel",
          "model_module_version": "1.2.0",
          "state": {
            "_model_module": "@jupyter-widgets/base",
            "_model_module_version": "1.2.0",
            "_model_name": "LayoutModel",
            "_view_count": null,
            "_view_module": "@jupyter-widgets/base",
            "_view_module_version": "1.2.0",
            "_view_name": "LayoutView",
            "align_content": null,
            "align_items": null,
            "align_self": null,
            "border": null,
            "bottom": null,
            "display": null,
            "flex": null,
            "flex_flow": null,
            "grid_area": null,
            "grid_auto_columns": null,
            "grid_auto_flow": null,
            "grid_auto_rows": null,
            "grid_column": null,
            "grid_gap": null,
            "grid_row": null,
            "grid_template_areas": null,
            "grid_template_columns": null,
            "grid_template_rows": null,
            "height": null,
            "justify_content": null,
            "justify_items": null,
            "left": null,
            "margin": null,
            "max_height": null,
            "max_width": null,
            "min_height": null,
            "min_width": null,
            "object_fit": null,
            "object_position": null,
            "order": null,
            "overflow": null,
            "overflow_x": null,
            "overflow_y": null,
            "padding": null,
            "right": null,
            "top": null,
            "visibility": null,
            "width": null
          }
        },
        "eabc84d6d85a4084a246a5b08ab2b4be": {
          "model_module": "@jupyter-widgets/controls",
          "model_name": "DescriptionStyleModel",
          "model_module_version": "1.5.0",
          "state": {
            "_model_module": "@jupyter-widgets/controls",
            "_model_module_version": "1.5.0",
            "_model_name": "DescriptionStyleModel",
            "_view_count": null,
            "_view_module": "@jupyter-widgets/base",
            "_view_module_version": "1.2.0",
            "_view_name": "StyleView",
            "description_width": ""
          }
        }
      }
    }
  },
  "nbformat": 4,
  "nbformat_minor": 5
}