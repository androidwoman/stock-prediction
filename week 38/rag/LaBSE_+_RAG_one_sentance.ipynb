{
  "cells": [
    {
      "cell_type": "markdown",
      "id": "0ca62d54",
      "metadata": {
        "id": "0ca62d54"
      },
      "source": [
        "## Environment Setup"
      ]
    },
    {
      "cell_type": "code",
      "execution_count": 1,
      "id": "06416ec7",
      "metadata": {
        "id": "06416ec7"
      },
      "outputs": [],
      "source": [
        "import warnings\n",
        "warnings.filterwarnings(\"ignore\")"
      ]
    },
    {
      "cell_type": "code",
      "execution_count": 2,
      "id": "4dafbba0",
      "metadata": {
        "id": "4dafbba0"
      },
      "outputs": [],
      "source": [
        "# downloading packages for running the notebook\n",
        "import sys\n",
        "import subprocess\n",
        "\n"
      ]
    },
    {
      "cell_type": "code",
      "execution_count": 3,
      "id": "e27eb700",
      "metadata": {
        "colab": {
          "base_uri": "https://localhost:8080/"
        },
        "id": "e27eb700",
        "outputId": "264c5d70-4380-4599-da44-17486bf4c059",
        "scrolled": true
      },
      "outputs": [
        {
          "output_type": "stream",
          "name": "stdout",
          "text": [
            "Requirement already satisfied: sentence-transformers in /usr/local/lib/python3.10/dist-packages (3.2.1)\n",
            "Requirement already satisfied: transformers<5.0.0,>=4.41.0 in /usr/local/lib/python3.10/dist-packages (from sentence-transformers) (4.44.2)\n",
            "Requirement already satisfied: tqdm in /usr/local/lib/python3.10/dist-packages (from sentence-transformers) (4.66.6)\n",
            "Requirement already satisfied: torch>=1.11.0 in /usr/local/lib/python3.10/dist-packages (from sentence-transformers) (2.5.0+cu121)\n",
            "Requirement already satisfied: scikit-learn in /usr/local/lib/python3.10/dist-packages (from sentence-transformers) (1.5.2)\n",
            "Requirement already satisfied: scipy in /usr/local/lib/python3.10/dist-packages (from sentence-transformers) (1.13.1)\n",
            "Requirement already satisfied: huggingface-hub>=0.20.0 in /usr/local/lib/python3.10/dist-packages (from sentence-transformers) (0.24.7)\n",
            "Requirement already satisfied: Pillow in /usr/local/lib/python3.10/dist-packages (from sentence-transformers) (10.4.0)\n",
            "Requirement already satisfied: filelock in /usr/local/lib/python3.10/dist-packages (from huggingface-hub>=0.20.0->sentence-transformers) (3.16.1)\n",
            "Requirement already satisfied: fsspec>=2023.5.0 in /usr/local/lib/python3.10/dist-packages (from huggingface-hub>=0.20.0->sentence-transformers) (2024.10.0)\n",
            "Requirement already satisfied: packaging>=20.9 in /usr/local/lib/python3.10/dist-packages (from huggingface-hub>=0.20.0->sentence-transformers) (24.1)\n",
            "Requirement already satisfied: pyyaml>=5.1 in /usr/local/lib/python3.10/dist-packages (from huggingface-hub>=0.20.0->sentence-transformers) (6.0.2)\n",
            "Requirement already satisfied: requests in /usr/local/lib/python3.10/dist-packages (from huggingface-hub>=0.20.0->sentence-transformers) (2.32.3)\n",
            "Requirement already satisfied: typing-extensions>=3.7.4.3 in /usr/local/lib/python3.10/dist-packages (from huggingface-hub>=0.20.0->sentence-transformers) (4.12.2)\n",
            "Requirement already satisfied: networkx in /usr/local/lib/python3.10/dist-packages (from torch>=1.11.0->sentence-transformers) (3.4.2)\n",
            "Requirement already satisfied: jinja2 in /usr/local/lib/python3.10/dist-packages (from torch>=1.11.0->sentence-transformers) (3.1.4)\n",
            "Requirement already satisfied: sympy==1.13.1 in /usr/local/lib/python3.10/dist-packages (from torch>=1.11.0->sentence-transformers) (1.13.1)\n",
            "Requirement already satisfied: mpmath<1.4,>=1.1.0 in /usr/local/lib/python3.10/dist-packages (from sympy==1.13.1->torch>=1.11.0->sentence-transformers) (1.3.0)\n",
            "Requirement already satisfied: numpy>=1.17 in /usr/local/lib/python3.10/dist-packages (from transformers<5.0.0,>=4.41.0->sentence-transformers) (1.26.4)\n",
            "Requirement already satisfied: regex!=2019.12.17 in /usr/local/lib/python3.10/dist-packages (from transformers<5.0.0,>=4.41.0->sentence-transformers) (2024.9.11)\n",
            "Requirement already satisfied: safetensors>=0.4.1 in /usr/local/lib/python3.10/dist-packages (from transformers<5.0.0,>=4.41.0->sentence-transformers) (0.4.5)\n",
            "Requirement already satisfied: tokenizers<0.20,>=0.19 in /usr/local/lib/python3.10/dist-packages (from transformers<5.0.0,>=4.41.0->sentence-transformers) (0.19.1)\n",
            "Requirement already satisfied: joblib>=1.2.0 in /usr/local/lib/python3.10/dist-packages (from scikit-learn->sentence-transformers) (1.4.2)\n",
            "Requirement already satisfied: threadpoolctl>=3.1.0 in /usr/local/lib/python3.10/dist-packages (from scikit-learn->sentence-transformers) (3.5.0)\n",
            "Requirement already satisfied: MarkupSafe>=2.0 in /usr/local/lib/python3.10/dist-packages (from jinja2->torch>=1.11.0->sentence-transformers) (3.0.2)\n",
            "Requirement already satisfied: charset-normalizer<4,>=2 in /usr/local/lib/python3.10/dist-packages (from requests->huggingface-hub>=0.20.0->sentence-transformers) (3.4.0)\n",
            "Requirement already satisfied: idna<4,>=2.5 in /usr/local/lib/python3.10/dist-packages (from requests->huggingface-hub>=0.20.0->sentence-transformers) (3.10)\n",
            "Requirement already satisfied: urllib3<3,>=1.21.1 in /usr/local/lib/python3.10/dist-packages (from requests->huggingface-hub>=0.20.0->sentence-transformers) (2.2.3)\n",
            "Requirement already satisfied: certifi>=2017.4.17 in /usr/local/lib/python3.10/dist-packages (from requests->huggingface-hub>=0.20.0->sentence-transformers) (2024.8.30)\n"
          ]
        }
      ],
      "source": [
        "!pip install sentence-transformers"
      ]
    },
    {
      "cell_type": "code",
      "execution_count": 4,
      "id": "88ec0838",
      "metadata": {
        "colab": {
          "base_uri": "https://localhost:8080/"
        },
        "id": "88ec0838",
        "scrolled": true,
        "outputId": "2bc5a71d-aff9-4367-f2cf-523164739874"
      },
      "outputs": [
        {
          "output_type": "stream",
          "name": "stdout",
          "text": [
            "Collecting evaluate\n",
            "  Downloading evaluate-0.4.3-py3-none-any.whl.metadata (9.2 kB)\n",
            "Collecting datasets>=2.0.0 (from evaluate)\n",
            "  Downloading datasets-3.1.0-py3-none-any.whl.metadata (20 kB)\n",
            "Requirement already satisfied: numpy>=1.17 in /usr/local/lib/python3.10/dist-packages (from evaluate) (1.26.4)\n",
            "Collecting dill (from evaluate)\n",
            "  Downloading dill-0.3.9-py3-none-any.whl.metadata (10 kB)\n",
            "Requirement already satisfied: pandas in /usr/local/lib/python3.10/dist-packages (from evaluate) (2.2.2)\n",
            "Requirement already satisfied: requests>=2.19.0 in /usr/local/lib/python3.10/dist-packages (from evaluate) (2.32.3)\n",
            "Requirement already satisfied: tqdm>=4.62.1 in /usr/local/lib/python3.10/dist-packages (from evaluate) (4.66.6)\n",
            "Collecting xxhash (from evaluate)\n",
            "  Downloading xxhash-3.5.0-cp310-cp310-manylinux_2_17_x86_64.manylinux2014_x86_64.whl.metadata (12 kB)\n",
            "Collecting multiprocess (from evaluate)\n",
            "  Downloading multiprocess-0.70.17-py310-none-any.whl.metadata (7.2 kB)\n",
            "Requirement already satisfied: fsspec>=2021.05.0 in /usr/local/lib/python3.10/dist-packages (from fsspec[http]>=2021.05.0->evaluate) (2024.10.0)\n",
            "Requirement already satisfied: huggingface-hub>=0.7.0 in /usr/local/lib/python3.10/dist-packages (from evaluate) (0.24.7)\n",
            "Requirement already satisfied: packaging in /usr/local/lib/python3.10/dist-packages (from evaluate) (24.1)\n",
            "Requirement already satisfied: filelock in /usr/local/lib/python3.10/dist-packages (from datasets>=2.0.0->evaluate) (3.16.1)\n",
            "Requirement already satisfied: pyarrow>=15.0.0 in /usr/local/lib/python3.10/dist-packages (from datasets>=2.0.0->evaluate) (17.0.0)\n",
            "Collecting dill (from evaluate)\n",
            "  Downloading dill-0.3.8-py3-none-any.whl.metadata (10 kB)\n",
            "Collecting multiprocess (from evaluate)\n",
            "  Downloading multiprocess-0.70.16-py310-none-any.whl.metadata (7.2 kB)\n",
            "Collecting fsspec>=2021.05.0 (from fsspec[http]>=2021.05.0->evaluate)\n",
            "  Downloading fsspec-2024.9.0-py3-none-any.whl.metadata (11 kB)\n",
            "Requirement already satisfied: aiohttp in /usr/local/lib/python3.10/dist-packages (from datasets>=2.0.0->evaluate) (3.10.10)\n",
            "Requirement already satisfied: pyyaml>=5.1 in /usr/local/lib/python3.10/dist-packages (from datasets>=2.0.0->evaluate) (6.0.2)\n",
            "Requirement already satisfied: typing-extensions>=3.7.4.3 in /usr/local/lib/python3.10/dist-packages (from huggingface-hub>=0.7.0->evaluate) (4.12.2)\n",
            "Requirement already satisfied: charset-normalizer<4,>=2 in /usr/local/lib/python3.10/dist-packages (from requests>=2.19.0->evaluate) (3.4.0)\n",
            "Requirement already satisfied: idna<4,>=2.5 in /usr/local/lib/python3.10/dist-packages (from requests>=2.19.0->evaluate) (3.10)\n",
            "Requirement already satisfied: urllib3<3,>=1.21.1 in /usr/local/lib/python3.10/dist-packages (from requests>=2.19.0->evaluate) (2.2.3)\n",
            "Requirement already satisfied: certifi>=2017.4.17 in /usr/local/lib/python3.10/dist-packages (from requests>=2.19.0->evaluate) (2024.8.30)\n",
            "Requirement already satisfied: python-dateutil>=2.8.2 in /usr/local/lib/python3.10/dist-packages (from pandas->evaluate) (2.8.2)\n",
            "Requirement already satisfied: pytz>=2020.1 in /usr/local/lib/python3.10/dist-packages (from pandas->evaluate) (2024.2)\n",
            "Requirement already satisfied: tzdata>=2022.7 in /usr/local/lib/python3.10/dist-packages (from pandas->evaluate) (2024.2)\n",
            "Requirement already satisfied: aiohappyeyeballs>=2.3.0 in /usr/local/lib/python3.10/dist-packages (from aiohttp->datasets>=2.0.0->evaluate) (2.4.3)\n",
            "Requirement already satisfied: aiosignal>=1.1.2 in /usr/local/lib/python3.10/dist-packages (from aiohttp->datasets>=2.0.0->evaluate) (1.3.1)\n",
            "Requirement already satisfied: attrs>=17.3.0 in /usr/local/lib/python3.10/dist-packages (from aiohttp->datasets>=2.0.0->evaluate) (24.2.0)\n",
            "Requirement already satisfied: frozenlist>=1.1.1 in /usr/local/lib/python3.10/dist-packages (from aiohttp->datasets>=2.0.0->evaluate) (1.5.0)\n",
            "Requirement already satisfied: multidict<7.0,>=4.5 in /usr/local/lib/python3.10/dist-packages (from aiohttp->datasets>=2.0.0->evaluate) (6.1.0)\n",
            "Requirement already satisfied: yarl<2.0,>=1.12.0 in /usr/local/lib/python3.10/dist-packages (from aiohttp->datasets>=2.0.0->evaluate) (1.17.0)\n",
            "Requirement already satisfied: async-timeout<5.0,>=4.0 in /usr/local/lib/python3.10/dist-packages (from aiohttp->datasets>=2.0.0->evaluate) (4.0.3)\n",
            "Requirement already satisfied: six>=1.5 in /usr/local/lib/python3.10/dist-packages (from python-dateutil>=2.8.2->pandas->evaluate) (1.16.0)\n",
            "Requirement already satisfied: propcache>=0.2.0 in /usr/local/lib/python3.10/dist-packages (from yarl<2.0,>=1.12.0->aiohttp->datasets>=2.0.0->evaluate) (0.2.0)\n",
            "Downloading evaluate-0.4.3-py3-none-any.whl (84 kB)\n",
            "\u001b[2K   \u001b[90m━━━━━━━━━━━━━━━━━━━━━━━━━━━━━━━━━━━━━━━━\u001b[0m \u001b[32m84.0/84.0 kB\u001b[0m \u001b[31m4.4 MB/s\u001b[0m eta \u001b[36m0:00:00\u001b[0m\n",
            "\u001b[?25hDownloading datasets-3.1.0-py3-none-any.whl (480 kB)\n",
            "\u001b[2K   \u001b[90m━━━━━━━━━━━━━━━━━━━━━━━━━━━━━━━━━━━━━━━━\u001b[0m \u001b[32m480.6/480.6 kB\u001b[0m \u001b[31m16.4 MB/s\u001b[0m eta \u001b[36m0:00:00\u001b[0m\n",
            "\u001b[?25hDownloading dill-0.3.8-py3-none-any.whl (116 kB)\n",
            "\u001b[2K   \u001b[90m━━━━━━━━━━━━━━━━━━━━━━━━━━━━━━━━━━━━━━━━\u001b[0m \u001b[32m116.3/116.3 kB\u001b[0m \u001b[31m10.6 MB/s\u001b[0m eta \u001b[36m0:00:00\u001b[0m\n",
            "\u001b[?25hDownloading fsspec-2024.9.0-py3-none-any.whl (179 kB)\n",
            "\u001b[2K   \u001b[90m━━━━━━━━━━━━━━━━━━━━━━━━━━━━━━━━━━━━━━━━\u001b[0m \u001b[32m179.3/179.3 kB\u001b[0m \u001b[31m14.6 MB/s\u001b[0m eta \u001b[36m0:00:00\u001b[0m\n",
            "\u001b[?25hDownloading multiprocess-0.70.16-py310-none-any.whl (134 kB)\n",
            "\u001b[2K   \u001b[90m━━━━━━━━━━━━━━━━━━━━━━━━━━━━━━━━━━━━━━━━\u001b[0m \u001b[32m134.8/134.8 kB\u001b[0m \u001b[31m11.9 MB/s\u001b[0m eta \u001b[36m0:00:00\u001b[0m\n",
            "\u001b[?25hDownloading xxhash-3.5.0-cp310-cp310-manylinux_2_17_x86_64.manylinux2014_x86_64.whl (194 kB)\n",
            "\u001b[2K   \u001b[90m━━━━━━━━━━━━━━━━━━━━━━━━━━━━━━━━━━━━━━━━\u001b[0m \u001b[32m194.1/194.1 kB\u001b[0m \u001b[31m16.6 MB/s\u001b[0m eta \u001b[36m0:00:00\u001b[0m\n",
            "\u001b[?25hInstalling collected packages: xxhash, fsspec, dill, multiprocess, datasets, evaluate\n",
            "  Attempting uninstall: fsspec\n",
            "    Found existing installation: fsspec 2024.10.0\n",
            "    Uninstalling fsspec-2024.10.0:\n",
            "      Successfully uninstalled fsspec-2024.10.0\n",
            "\u001b[31mERROR: pip's dependency resolver does not currently take into account all the packages that are installed. This behaviour is the source of the following dependency conflicts.\n",
            "gcsfs 2024.10.0 requires fsspec==2024.10.0, but you have fsspec 2024.9.0 which is incompatible.\u001b[0m\u001b[31m\n",
            "\u001b[0mSuccessfully installed datasets-3.1.0 dill-0.3.8 evaluate-0.4.3 fsspec-2024.9.0 multiprocess-0.70.16 xxhash-3.5.0\n"
          ]
        }
      ],
      "source": [
        "!pip install evaluate"
      ]
    },
    {
      "cell_type": "code",
      "execution_count": 3,
      "id": "5d7337da",
      "metadata": {
        "id": "5d7337da",
        "scrolled": true,
        "colab": {
          "base_uri": "https://localhost:8080/"
        },
        "outputId": "dfde232e-9591-4c01-9a2c-ca47de3b77e4"
      },
      "outputs": [
        {
          "output_type": "stream",
          "name": "stderr",
          "text": [
            "/usr/local/lib/python3.10/dist-packages/huggingface_hub/utils/_token.py:89: UserWarning: \n",
            "The secret `HF_TOKEN` does not exist in your Colab secrets.\n",
            "To authenticate with the Hugging Face Hub, create a token in your settings tab (https://huggingface.co/settings/tokens), set it as secret in your Google Colab and restart your session.\n",
            "You will be able to reuse this secret in all of your notebooks.\n",
            "Please note that authentication is recommended but still optional to access public models or datasets.\n",
            "  warnings.warn(\n",
            "/usr/local/lib/python3.10/dist-packages/transformers/tokenization_utils_base.py:1601: FutureWarning: `clean_up_tokenization_spaces` was not set. It will be set to `True` by default. This behavior will be depracted in transformers v4.45, and will be then set to `False` by default. For more details check this issue: https://github.com/huggingface/transformers/issues/31884\n",
            "  warnings.warn(\n"
          ]
        }
      ],
      "source": [
        "from sentence_transformers import SentenceTransformer\n",
        "\n",
        "m2 = SentenceTransformer('sentence-transformers/LaBSE')"
      ]
    },
    {
      "cell_type": "markdown",
      "id": "f22d658b",
      "metadata": {
        "id": "f22d658b"
      },
      "source": [
        "### OpenAI Setup\n",
        "\n",
        "Add openai key for gpt-3.5 model usage."
      ]
    },
    {
      "cell_type": "code",
      "execution_count": 2,
      "id": "6c521f91",
      "metadata": {
        "id": "6c521f91"
      },
      "outputs": [],
      "source": [
        "import openai\n",
        "\n",
        "api_key = 'aa-m9TQcsmZMErvs4oFI0Si7zcCZCBj1oxTn92Ikperiy7oOfS1'"
      ]
    },
    {
      "cell_type": "markdown",
      "id": "43e38069",
      "metadata": {
        "id": "43e38069"
      },
      "source": [
        "### Dataset Cleaning and Preprocessing Steps"
      ]
    },
    {
      "cell_type": "code",
      "execution_count": 3,
      "id": "f44cc407",
      "metadata": {
        "id": "f44cc407"
      },
      "outputs": [],
      "source": [
        "with open('fa.txt', 'r') as f:\n",
        "    data = f.read()\n",
        "\n",
        "data = data.replace('\\n\\n','\\n')"
      ]
    },
    {
      "cell_type": "code",
      "execution_count": 4,
      "id": "e016f027",
      "metadata": {
        "id": "e016f027"
      },
      "outputs": [],
      "source": [
        "ques_ans = dict()\n"
      ]
    },
    {
      "cell_type": "code",
      "execution_count": 5,
      "id": "f84d6d45",
      "metadata": {
        "id": "f84d6d45"
      },
      "outputs": [],
      "source": [
        "import pandas as pd\n",
        "\n",
        "qa_dict = dict()\n",
        "\n",
        "qa_dict['text'] = []\n",
        "\n",
        "import numpy as np\n",
        "\n",
        "# تنظیم تعداد خطوطی که باید با هم ترکیب شوند\n",
        "lines_per_group = 1\n",
        "grouped_sentences = []\n",
        "\n",
        "# ترکیب خطوط و ایجاد گروه‌ها\n",
        "temp_text = \"\"\n",
        "for i, line in enumerate(data.split(\"\\n\")):\n",
        "    temp_text += line + \" \"\n",
        "    # هر ده خط یک بار به لیست اضافه می‌شود\n",
        "    if (i + 1) % lines_per_group == 0:\n",
        "        grouped_sentences.append(temp_text.strip())\n",
        "        temp_text = \"\"\n",
        "\n",
        "# در صورتی که خطوط باقی‌مانده‌ای وجود داشته باشد، آن‌ها را نیز اضافه کنید\n",
        "if temp_text:\n",
        "    grouped_sentences.append(temp_text.strip())\n",
        "qa_dict['text']=grouped_sentences\n",
        "\n",
        "\n",
        "\n"
      ]
    },
    {
      "cell_type": "code",
      "execution_count": 6,
      "id": "dbe37a34",
      "metadata": {
        "id": "dbe37a34",
        "outputId": "f34d7163-8244-4551-d17d-0f93ac926034",
        "colab": {
          "base_uri": "https://localhost:8080/"
        }
      },
      "outputs": [
        {
          "output_type": "execute_result",
          "data": {
            "text/plain": [
              "Dataset({\n",
              "    features: ['text'],\n",
              "    num_rows: 68615\n",
              "})"
            ]
          },
          "metadata": {},
          "execution_count": 6
        }
      ],
      "source": [
        "from datasets import Dataset\n",
        "qa_df = pd.DataFrame.from_dict(qa_dict)\n",
        "# You can load a Dataset object this way\n",
        "dataset = Dataset.from_pandas(qa_df)\n",
        "\n",
        "dataset"
      ]
    },
    {
      "cell_type": "markdown",
      "id": "91e10f8b",
      "metadata": {
        "id": "91e10f8b"
      },
      "source": [
        "### Text Preprocessing Functions"
      ]
    },
    {
      "cell_type": "code",
      "execution_count": 7,
      "id": "966180d2",
      "metadata": {
        "id": "966180d2"
      },
      "outputs": [],
      "source": [
        "## Embedding Generation Function\n",
        "\n",
        "import numpy as np\n",
        "def sent_check2(example):\n",
        "\n",
        "    output = np.zeros([768,], dtype=np.float32)\n",
        "    try:\n",
        "        sent_embed = m2.encode(example['text'])\n",
        "        output = sent_embed\n",
        "    except:\n",
        "        print(\"Error\")\n",
        "\n",
        "    example['embeddings'] = output\n",
        "\n",
        "    return example"
      ]
    },
    {
      "cell_type": "code",
      "execution_count": 8,
      "id": "8489c404",
      "metadata": {
        "id": "8489c404",
        "outputId": "cc4fb4c6-e0d8-4ad0-c3de-bf7efbbdff7d",
        "colab": {
          "base_uri": "https://localhost:8080/",
          "height": 49,
          "referenced_widgets": [
            "1d9033e936004e06a52af96e1ec3365b",
            "6f847d7299274188a03075e4ec58dfea",
            "35070a982a434d0abd3cbc3ff92e6fd6",
            "efd57b2064bd4ac6859056faf50cfc53",
            "feafc6bc6c5743b78f682f16f72cf629",
            "c8c291acf5d749cb9abd6fa810417dbf",
            "003922f4f6144fbc9d5329b02cf6bf48",
            "c1617304d24d43d1a4bf308abb0a3c8e",
            "e04d9d374a8249299f0f4a8c4eff929c",
            "0679be0e4ea0443f9789ea5276620fee",
            "0e8f705994854302a5d602f61baed0ce"
          ]
        }
      },
      "outputs": [
        {
          "data": {
            "application/vnd.jupyter.widget-view+json": {
              "model_id": "1d9033e936004e06a52af96e1ec3365b",
              "version_major": 2,
              "version_minor": 0
            },
            "text/plain": [
              "Map:   0%|          | 0/68615 [00:00<?, ? examples/s]"
            ]
          },
          "metadata": {},
          "output_type": "display_data"
        }
      ],
      "source": [
        "\n",
        "dataset = dataset.map(sent_check2)"
      ]
    },
    {
      "cell_type": "code",
      "source": [
        "from datasets import Dataset\n",
        "\n",
        "# Assuming your dataset is already created with 'text' and 'embeddings' columns\n",
        "dataset.save_to_disk('./')\n"
      ],
      "metadata": {
        "colab": {
          "base_uri": "https://localhost:8080/",
          "height": 49,
          "referenced_widgets": [
            "d1cab9220641428ab84da4fd62139b6c",
            "2be1128e69d04391a2a8a91b9ff59bad",
            "f5413cd635a64008bdfb9e27400ca7bb",
            "b550d63e03c94a9facaa312328e4c519",
            "d90f0a710d634be695467bcc222d9864",
            "0a1216157ba144a68ffff787b2094b1a",
            "ae65f2df906d4696a9f770fd6d94fe2c",
            "a62896f85d254cc7b06d523573c03a23",
            "49fe1a5d72d043129d48747ed48cb7fa",
            "90b59f50c73642baad1c72320c82c6b9",
            "9fcdbc948e2248b3b011461fea37502f"
          ]
        },
        "id": "LIfH0beaF0hA",
        "outputId": "1277551b-359a-4d28-aa8b-deb7580a1ed5"
      },
      "id": "LIfH0beaF0hA",
      "execution_count": 9,
      "outputs": [
        {
          "output_type": "display_data",
          "data": {
            "text/plain": [
              "Saving the dataset (0/1 shards):   0%|          | 0/68615 [00:00<?, ? examples/s]"
            ],
            "application/vnd.jupyter.widget-view+json": {
              "version_major": 2,
              "version_minor": 0,
              "model_id": "d1cab9220641428ab84da4fd62139b6c"
            }
          },
          "metadata": {}
        }
      ]
    },
    {
      "cell_type": "code",
      "source": [
        "pip install faiss-gpu"
      ],
      "metadata": {
        "colab": {
          "base_uri": "https://localhost:8080/"
        },
        "id": "gPZcp5UJECZD",
        "outputId": "a60cb4f4-1338-4f00-bc28-476c126bd3ab"
      },
      "id": "gPZcp5UJECZD",
      "execution_count": 10,
      "outputs": [
        {
          "output_type": "stream",
          "name": "stdout",
          "text": [
            "Requirement already satisfied: faiss-gpu in /usr/local/lib/python3.10/dist-packages (1.7.2)\n"
          ]
        }
      ]
    },
    {
      "cell_type": "code",
      "source": [
        "from datasets import load_from_disk\n",
        "\n",
        "# Load the dataset\n",
        "dataset = load_from_disk('./')\n"
      ],
      "metadata": {
        "id": "ytYiYNbLFg0X"
      },
      "id": "ytYiYNbLFg0X",
      "execution_count": 1,
      "outputs": []
    },
    {
      "cell_type": "code",
      "execution_count": 5,
      "id": "1a7513ad",
      "metadata": {
        "id": "1a7513ad",
        "outputId": "783669f8-5908-40fb-b1e4-21fd66cced69",
        "colab": {
          "base_uri": "https://localhost:8080/",
          "height": 118,
          "referenced_widgets": [
            "c9ea0bcf26bb4a5f82da9249623bab0f",
            "3ff6bc8be40743da9307ac1ee6b6b9d8",
            "827de329f2d54392aedf505c73616096",
            "d4b71c6c025049d59fad73c51ae3e829",
            "033ad768ed9a4da982cb8a0b336fcb8e",
            "32492021df104bff9ffd6a2cc1a81dc3",
            "0b4ce452fc33491a9e365856ca668064",
            "bc76fd9ea62a45dc90afb2f70dd64091",
            "5cdb340192bc410ca27e50a1ae2dcc0e",
            "686ab4f2b58b4732b8f843d0bff3f393",
            "e10166015a1249dfaf3a41b64342a455"
          ]
        }
      },
      "outputs": [
        {
          "output_type": "display_data",
          "data": {
            "text/plain": [
              "  0%|          | 0/69 [00:00<?, ?it/s]"
            ],
            "application/vnd.jupyter.widget-view+json": {
              "version_major": 2,
              "version_minor": 0,
              "model_id": "c9ea0bcf26bb4a5f82da9249623bab0f"
            }
          },
          "metadata": {}
        },
        {
          "output_type": "execute_result",
          "data": {
            "text/plain": [
              "Dataset({\n",
              "    features: ['text', 'embeddings'],\n",
              "    num_rows: 68615\n",
              "})"
            ]
          },
          "metadata": {},
          "execution_count": 5
        }
      ],
      "source": [
        "dataset.add_faiss_index(column='embeddings')"
      ]
    },
    {
      "cell_type": "code",
      "source": [
        "question = \"افردادی که اموال خود را در راه خدا انفاق میکنند شبیه چه هستند؟\"\n",
        "\n",
        "question_embedding = m2.encode(question)\n",
        "scores, retrieved_examples = dataset.get_nearest_examples('embeddings', question_embedding, k=20)\n",
        "print(scores)\n",
        "for exp in retrieved_examples['text']:  # Accessing the first result set\n",
        "\n",
        "    print(exp)\n",
        "\n",
        "    print(\"*****************************\")"
      ],
      "metadata": {
        "colab": {
          "base_uri": "https://localhost:8080/"
        },
        "id": "DqXmR213kVHH",
        "outputId": "c47b2d9c-f131-40bb-af7e-a8f2127f8564"
      },
      "id": "DqXmR213kVHH",
      "execution_count": 6,
      "outputs": [
        {
          "output_type": "stream",
          "name": "stdout",
          "text": [
            "[0.8048256  0.8139429  0.81682247 0.81761307 0.8293012  0.83510286\n",
            " 0.8451639  0.8495815  0.85269547 0.85575455 0.8636742  0.868536\n",
            " 0.873457   0.87373126 0.8769057  0.8774164  0.8798264  0.88191986\n",
            " 0.887477   0.887477  ]\n",
            "همان کس که مال خود را (در راه خدا) می‌بخشد تا پاک شود.\n",
            "*****************************\n",
            "از تو مى‌پرسند كه چه انفاق كنند؟ بگو آنچه از مال خود انفاق مى‌كنيد، براى پدر و مادر و خويشاوندان و يتيمان و مسكينان و رهگذران باشد، و هر كار نيكى كه كنيد خدا به آن آگاه است.\n",
            "*****************************\n",
            "از تو مى‌پرسند چه چيز انفاق كنند؟ بگو: آنچه از مال انفاق مى‌كنيد براى پدر و مادر و خويشان و يتيمان و نيازمندان درمانده و در راه‌ماندگان باشد، و هر كار نيكى كه كنيد خدا به آن داناست.\n",
            "*****************************\n",
            "از تو سؤال کنند که چه انفاق کنند؟ بگو: هر چه از مال خود انفاق کنید درباره پدر و مادر و خویشان و یتیمان و فقیران و در راه ماندگان رواست، و آنچه نیکویی کنید خداوند بر آن آگاه است.\n",
            "*****************************\n",
            "آيا نديده‌اى آنهايى كه در آيات خدا مجادله مى‌كنند چگونه منحرف مى‌شوند؟\n",
            "*****************************\n",
            "پرسندت چه را انفاق کنند بگو آنچه انفاق کنید از مال پس برای والدین و نزدیکان و یتیمان و بینوایان و درماندگان راه است و آنچه نیکی کنید همانا خداوند است بدان دانا\n",
            "*****************************\n",
            "مزد كسانى كه اموال خود را در راه خدا انفاق مى‌كنند و پس از انفاق منّتى نمى‌نهند و آزارى نمى‌رسانند با پروردگارشان است. نه بيمناك مى‌شوند و نه اندوهگين.\n",
            "*****************************\n",
            "چه زيان داردشان اگر به خدا و روز قيامت ايمان آورند و از آنچه خدا به آنها روزى داده است انفاق كنند؟ خدا به كارشان داناست.\n",
            "*****************************\n",
            "كسانى كه مالهاى خود را در راه خدا انفاق كنند و از پى انفاقى كه كرده‌اند منتى ننهند و نرنجانند، مزد آنان نزد پروردگارشان است، نه بيمى بر آنهاست و نه اندوهگين شوند.\n",
            "*****************************\n",
            "پس به کدام نعمتهای پروردگار خویش می‌ستیزی‌\n",
            "*****************************\n",
            "آنان که انفاق می‌کنند مال خود را هنگام گشایش و تنگدستی و خشم فروخورندگان و گذشت کنندگان از مردم و خدا دوست دارد نکوکاران را\n",
            "*****************************\n",
            "آیا ندیدی کسانی را که در آیات خدا مجادله می‌کنند، چگونه از راه حقّ منحرف می شوند؟!\n",
            "*****************************\n",
            "چه زیانی به آنها می‌رسید اگر به خدا و روز قیامت ایمان آورده و از بهره‌ای که خدا به آنان داده چیزی انفاق می‌کردند؟! و خدا به (احوال و نیّات) آنان دانا است.\n",
            "*****************************\n",
            "از تو می پرسند: چه چیز انفاق کنند؟ بگو: هر مال و مایه سودمندی که انفاق می کنید باید برای پدر و مادر و نزدیکان و یتیمان و نیازمندان و در راه مانده گان باشد، و هر کار نیکی انجام دهید، خدا به آن داناست.\n",
            "*****************************\n",
            "آیا چنین می‌انگارند که آنچه از مال و فرزندان که بدان مددشان می‌کنیم؟\n",
            "*****************************\n",
            "آيا به چيزهايى كه خدا آفريده است، ننگريسته‌اند كه [چگونه‌] سايه‌هايشان از راست و [از جوانب‌] چپ مى‌گردد، و براى خدا در حال فروتنى سر بر خاك مى‌سايند؟\n",
            "*****************************\n",
            "و برای چه در راه خدا انفاق نکنید در صورتی که (شما با ملک و مالتان روز مرگ فانی شوید و) وارث تمام (اهل) آسمانها و زمین خداست؟! آن مسلمانانی که پیش از فتح (مکه زمان ضعف اسلام) در راه دین انفاق و جهاد کردند با دیگران مساوی نیستند، آنها اجر و مقامشان بسیار عظیم‌تر از کسانی است که بعد از فتح (و قدرت اسلام) انفاق و جهاد کردند و لیکن خدا به همه وعده نیکوترین پاداش را (که بهشت ابد است) داده و خدا به هر چه کنید آگاه است.\n",
            "*****************************\n",
            "آیا و فراسوی چیزهایی که خدا آفریده است، ننگریسته‌اند که (چگونه) سایه‌هایشان از (جانب) راست و (از جوانب) چپ‌ها(شان) خوار و بی‌مقدار برای خدا سجده‌کنانند ؟\n",
            "*****************************\n",
            "(الا ای جنّ و انس) کدامین نعمتهای خدایتان را انکار می‌کنید؟\n",
            "*****************************\n",
            "(الا ای جنّ و انس) کدامین نعمتهای خدایتان را انکار می‌کنید؟\n",
            "*****************************\n"
          ]
        }
      ]
    },
    {
      "cell_type": "code",
      "execution_count": 9,
      "id": "4c771a46",
      "metadata": {
        "id": "4c771a46"
      },
      "outputs": [],
      "source": [
        "question = \"هنگامی که اصحاب موسی به یک نوع طعام اعتراض کردند موسی به آنها چه گفت؟\"\n",
        "\n",
        "question_embedding = m2.encode(question)\n",
        "scores, retrieved_examples = dataset.get_nearest_examples('embeddings', question_embedding, k=20)"
      ]
    },
    {
      "cell_type": "code",
      "source": [
        "# Assuming hits is a list of dictionaries with 'corpus_id' as a key\n",
        "for exp in retrieved_examples['text']:  # Accessing the first result set\n",
        "\n",
        "    print(exp)\n",
        "\n",
        "    print(\"*****************************\")\n",
        "\n"
      ],
      "metadata": {
        "colab": {
          "base_uri": "https://localhost:8080/"
        },
        "id": "DHO7dZuAG56c",
        "outputId": "7a6b25e6-acfb-4f3d-c0ef-2923017eccb7"
      },
      "id": "DHO7dZuAG56c",
      "execution_count": 10,
      "outputs": [
        {
          "output_type": "stream",
          "name": "stdout",
          "text": [
            "هنگامی که ساحران (به میدان مبارزه) آمدند، موسی به آنها گفت: «آنچه (از وسایل سحر) را می‌توانید بیفکنید، بیفکنید!»\n",
            "*****************************\n",
            "«موسی! چه چیز تورا از (برابر) قومت (سوی طور) شتابان کرد؟»\n",
            "*****************************\n",
            "هنگامی که به پدرش وقومش گفت: چه چیز را می پرستید؟\n",
            "*****************************\n",
            "موسی به آنان گفت: «آنچه را شما افکنندگانید بیفکنید.»\n",
            "*****************************\n",
            "موسى گفت: اى هارون! وقتى ديدى آنها گمراه شدند چه چيز مانع تو شد\n",
            "*****************************\n",
            "پس چون جادوگران آمدند، موسی به آنان گفت: «آنچه را شما اندازنده‌اید بیندازید.»\n",
            "*****************************\n",
            "و چون جادوگران آمدند، موسى به آنان گفت: «آنچه را مى‌اندازيد بيندازيد.»\n",
            "*****************************\n",
            "آنگاه كه به پدرش و قومش گفت: اين تنديسها كه به پرستش آنها دل نهاده‌ايد چيستند؟\n",
            "*****************************\n",
            "آن‌گاه موسی گفت: ای سامری این فتنه چه بود که تو برپا کردی؟\n",
            "*****************************\n",
            "اى موسى، چه چيز تو را واداشت تا بر قومت پيشى گيرى؟\n",
            "*****************************\n",
            "موسى به آنان گفت: آنچه را خواهيد افكند، بيفكنيد.\n",
            "*****************************\n",
            "موسى به آنان گفت: «آنچه را شما مى‌اندازيد بيندازيد.»\n",
            "*****************************\n",
            "(یاد آر) وقتی که موسی به قوم خود گفت: ای قوم، برای چه مرا رنج و آزار می‌دهید (و تهمت سحر و کذب و عیبهای دیگر بر من می‌بندید) در صورتی که بر شما معلوم است که من رسول خدا به سوی شما هستم؟ باز چون (از حق) روی گردانیدند خدا هم دلهای بی‌نورشان را (از سعادت و اقبال به حق) بگردانید و خدا هرگز مردم نابکار فاسق را هدایت نخواهد کرد.\n",
            "*****************************\n",
            "و هنگامی که بیامدشان حقّ از نزد ما گفتند چرا داده نشد مانند آنچه داده شد موسی آیا کفر نورزیدند بدانچه داده شد موسی از پیش گفتند دو جادویند پشتیبان همدیگر و گفتند هرآینه مائیم به هر کدام کافران‌\n",
            "*****************************\n",
            "(آنها هیچ یک از این پندها را نپذیرفتند، و موسی) به پیشگاه پروردگارش عرضه داشت: اینها قومی مجرمند!\n",
            "*****************************\n",
            "و چون جادوگران آمدند، موسى به آنها گفت: آنچه قرار است بيفكنيد، بيفكنيد\n",
            "*****************************\n",
            "و [گفتیم‌] ای موسی چه چیز باعث شد که بر قومت پیشی بگیری؟\n",
            "*****************************\n",
            "و چون از جانب ما حق به سوی آنان آمد گفتند چرا او [محمد -ص-] را نظیر آنچه به موسی داده بودند، نداده‌اند؟ آیا آنچه پیشتر به موسی داده شده بود، انکار نکردند؟ گفتند این دو [تورات و قرآن‌] جادوهایی هستند که از همدیگر پشتیبانی می‌کنند، و گفتند ما همه آنها را منکریم‌\n",
            "*****************************\n",
            "موسى به آنها گفت: هر چه مى‌خواهيد بيفكنيد، بيفكنيد.\n",
            "*****************************\n",
            "و روزی را که (خدا) آنان را ندا در دهد، پس فرماید: «فرستادگان(مان) را چه پاسخ دادید؟»\n",
            "*****************************\n"
          ]
        }
      ]
    },
    {
      "cell_type": "code",
      "source": [
        "scores"
      ],
      "metadata": {
        "colab": {
          "base_uri": "https://localhost:8080/"
        },
        "id": "ld8fr1MPd5c2",
        "outputId": "e0a0d670-a2b9-4fc7-8555-b1b5d9c3ab63"
      },
      "id": "ld8fr1MPd5c2",
      "execution_count": 11,
      "outputs": [
        {
          "output_type": "execute_result",
          "data": {
            "text/plain": [
              "array([0.73792523, 0.7889748 , 0.7910744 , 0.8060277 , 0.82429916,\n",
              "       0.8273556 , 0.83299756, 0.8330201 , 0.8357699 , 0.83618456,\n",
              "       0.83803177, 0.8382557 , 0.84735835, 0.85079306, 0.8530512 ,\n",
              "       0.8546027 , 0.855188  , 0.85580665, 0.85757035, 0.85888124],\n",
              "      dtype=float32)"
            ]
          },
          "metadata": {},
          "execution_count": 11
        }
      ]
    },
    {
      "cell_type": "code",
      "source": [
        "\n",
        "import torch\n",
        "from sentence_transformers import util\n",
        "\n",
        "# Ensure that question_embedding is a tensor\n",
        "question_embedding_tensor = torch.tensor([question_embedding])\n",
        "\n",
        "# Convert dataset['embeddings'] to a tensor if it's a list\n",
        "embeddings_tensor = torch.tensor(dataset['embeddings'])\n",
        "hits = util.semantic_search(question_embedding, embeddings_tensor)\n",
        "hits"
      ],
      "metadata": {
        "colab": {
          "base_uri": "https://localhost:8080/"
        },
        "id": "-1BU6MgFgBap",
        "outputId": "998404c8-bffa-4f70-a331-e549706833e7"
      },
      "id": "-1BU6MgFgBap",
      "execution_count": 12,
      "outputs": [
        {
          "output_type": "stream",
          "name": "stderr",
          "text": [
            "<ipython-input-12-52f49fedcaed>:5: UserWarning: Creating a tensor from a list of numpy.ndarrays is extremely slow. Please consider converting the list to a single numpy.ndarray with numpy.array() before converting to a tensor. (Triggered internally at ../torch/csrc/utils/tensor_new.cpp:278.)\n",
            "  question_embedding_tensor = torch.tensor([question_embedding])\n"
          ]
        },
        {
          "output_type": "execute_result",
          "data": {
            "text/plain": [
              "[[{'corpus_id': 45095, 'score': 0.6310373544692993},\n",
              "  {'corpus_id': 14902, 'score': 0.6055123805999756},\n",
              "  {'corpus_id': 21709, 'score': 0.6044628620147705},\n",
              "  {'corpus_id': 15446, 'score': 0.5969861149787903},\n",
              "  {'corpus_id': 52327, 'score': 0.5878505706787109},\n",
              "  {'corpus_id': 13915, 'score': 0.5863223075866699},\n",
              "  {'corpus_id': 38859, 'score': 0.583501398563385},\n",
              "  {'corpus_id': 8770, 'score': 0.5834899544715881},\n",
              "  {'corpus_id': 2442, 'score': 0.5821152329444885},\n",
              "  {'corpus_id': 8666, 'score': 0.5819077491760254}]]"
            ]
          },
          "metadata": {},
          "execution_count": 12
        }
      ]
    },
    {
      "cell_type": "code",
      "source": [
        "# Assuming hits is a list of dictionaries with 'corpus_id' as a key\n",
        "for hit in hits[0]:  # Accessing the first result set\n",
        "    corpus_id = hit['corpus_id']\n",
        "    print(dataset[\"text\"][corpus_id])\n",
        "    print(hit['score'])\n",
        "    print(\"*****************************\")\n",
        "\n"
      ],
      "metadata": {
        "colab": {
          "base_uri": "https://localhost:8080/"
        },
        "id": "_hGymFk-hCDd",
        "outputId": "00aaa80d-2106-4328-96cf-5d23f90bc196"
      },
      "id": "_hGymFk-hCDd",
      "execution_count": 13,
      "outputs": [
        {
          "output_type": "stream",
          "name": "stdout",
          "text": [
            "هنگامی که ساحران (به میدان مبارزه) آمدند، موسی به آنها گفت: «آنچه (از وسایل سحر) را می‌توانید بیفکنید، بیفکنید!»\n",
            "0.6310373544692993\n",
            "*****************************\n",
            "«موسی! چه چیز تورا از (برابر) قومت (سوی طور) شتابان کرد؟»\n",
            "0.6055123805999756\n",
            "*****************************\n",
            "هنگامی که به پدرش وقومش گفت: چه چیز را می پرستید؟\n",
            "0.6044628620147705\n",
            "*****************************\n",
            "موسی به آنان گفت: «آنچه را شما افکنندگانید بیفکنید.»\n",
            "0.5969861149787903\n",
            "*****************************\n",
            "موسى گفت: اى هارون! وقتى ديدى آنها گمراه شدند چه چيز مانع تو شد\n",
            "0.5878505706787109\n",
            "*****************************\n",
            "پس چون جادوگران آمدند، موسی به آنان گفت: «آنچه را شما اندازنده‌اید بیندازید.»\n",
            "0.5863223075866699\n",
            "*****************************\n",
            "و چون جادوگران آمدند، موسى به آنان گفت: «آنچه را مى‌اندازيد بيندازيد.»\n",
            "0.583501398563385\n",
            "*****************************\n",
            "آنگاه كه به پدرش و قومش گفت: اين تنديسها كه به پرستش آنها دل نهاده‌ايد چيستند؟\n",
            "0.5834899544715881\n",
            "*****************************\n",
            "آن‌گاه موسی گفت: ای سامری این فتنه چه بود که تو برپا کردی؟\n",
            "0.5821152329444885\n",
            "*****************************\n",
            "اى موسى، چه چيز تو را واداشت تا بر قومت پيشى گيرى؟\n",
            "0.5819077491760254\n",
            "*****************************\n"
          ]
        }
      ]
    },
    {
      "cell_type": "code",
      "execution_count": null,
      "id": "93cf4f21",
      "metadata": {
        "id": "93cf4f21"
      },
      "outputs": [],
      "source": [
        "\n",
        "updated_message = [\n",
        "        {\"role\": \"system\", \"content\": \"I want you to act as a question answering bot which uses the context mentioned and answer in a concise manner in persian and doesn't make stuff up.\"\n",
        "                                      \"You will answer question based on the context - {}\"\n",
        "                                     },\n",
        "        {\"role\": \"user\", \"content\": \"Now I want you to answer this question {}.\"},\n",
        "    ]\n",
        "\n",
        "updated_message[0]['content'] = updated_message[0]['content'].format(retrieved_examples['text'])\n",
        "updated_message[1]['content'] = updated_message[1]['content'].format(question)\n",
        "\n",
        "completion = openai.ChatCompletion.create(model=\"gpt-3.5-turbo\", messages=updated_message,\n",
        "                                                      timeout=240, max_tokens=400, n=1, stop=None, temperature=0)"
      ]
    },
    {
      "cell_type": "code",
      "execution_count": null,
      "id": "8ff87bb5",
      "metadata": {
        "id": "8ff87bb5"
      },
      "outputs": [],
      "source": [
        "completion['choices'][0]['message']['content']"
      ]
    }
  ],
  "metadata": {
    "colab": {
      "provenance": [],
      "gpuType": "T4"
    },
    "kernelspec": {
      "display_name": "Python 3",
      "name": "python3"
    },
    "language_info": {
      "codemirror_mode": {
        "name": "ipython",
        "version": 3
      },
      "file_extension": ".py",
      "mimetype": "text/x-python",
      "name": "python",
      "nbconvert_exporter": "python",
      "pygments_lexer": "ipython3",
      "version": "3.11.5"
    },
    "accelerator": "GPU",
    "widgets": {
      "application/vnd.jupyter.widget-state+json": {
        "1d9033e936004e06a52af96e1ec3365b": {
          "model_module": "@jupyter-widgets/controls",
          "model_name": "HBoxModel",
          "model_module_version": "1.5.0",
          "state": {
            "_dom_classes": [],
            "_model_module": "@jupyter-widgets/controls",
            "_model_module_version": "1.5.0",
            "_model_name": "HBoxModel",
            "_view_count": null,
            "_view_module": "@jupyter-widgets/controls",
            "_view_module_version": "1.5.0",
            "_view_name": "HBoxView",
            "box_style": "",
            "children": [
              "IPY_MODEL_6f847d7299274188a03075e4ec58dfea",
              "IPY_MODEL_35070a982a434d0abd3cbc3ff92e6fd6",
              "IPY_MODEL_efd57b2064bd4ac6859056faf50cfc53"
            ],
            "layout": "IPY_MODEL_feafc6bc6c5743b78f682f16f72cf629"
          }
        },
        "6f847d7299274188a03075e4ec58dfea": {
          "model_module": "@jupyter-widgets/controls",
          "model_name": "HTMLModel",
          "model_module_version": "1.5.0",
          "state": {
            "_dom_classes": [],
            "_model_module": "@jupyter-widgets/controls",
            "_model_module_version": "1.5.0",
            "_model_name": "HTMLModel",
            "_view_count": null,
            "_view_module": "@jupyter-widgets/controls",
            "_view_module_version": "1.5.0",
            "_view_name": "HTMLView",
            "description": "",
            "description_tooltip": null,
            "layout": "IPY_MODEL_c8c291acf5d749cb9abd6fa810417dbf",
            "placeholder": "​",
            "style": "IPY_MODEL_003922f4f6144fbc9d5329b02cf6bf48",
            "value": "Map: 100%"
          }
        },
        "35070a982a434d0abd3cbc3ff92e6fd6": {
          "model_module": "@jupyter-widgets/controls",
          "model_name": "FloatProgressModel",
          "model_module_version": "1.5.0",
          "state": {
            "_dom_classes": [],
            "_model_module": "@jupyter-widgets/controls",
            "_model_module_version": "1.5.0",
            "_model_name": "FloatProgressModel",
            "_view_count": null,
            "_view_module": "@jupyter-widgets/controls",
            "_view_module_version": "1.5.0",
            "_view_name": "ProgressView",
            "bar_style": "success",
            "description": "",
            "description_tooltip": null,
            "layout": "IPY_MODEL_c1617304d24d43d1a4bf308abb0a3c8e",
            "max": 68615,
            "min": 0,
            "orientation": "horizontal",
            "style": "IPY_MODEL_e04d9d374a8249299f0f4a8c4eff929c",
            "value": 68615
          }
        },
        "efd57b2064bd4ac6859056faf50cfc53": {
          "model_module": "@jupyter-widgets/controls",
          "model_name": "HTMLModel",
          "model_module_version": "1.5.0",
          "state": {
            "_dom_classes": [],
            "_model_module": "@jupyter-widgets/controls",
            "_model_module_version": "1.5.0",
            "_model_name": "HTMLModel",
            "_view_count": null,
            "_view_module": "@jupyter-widgets/controls",
            "_view_module_version": "1.5.0",
            "_view_name": "HTMLView",
            "description": "",
            "description_tooltip": null,
            "layout": "IPY_MODEL_0679be0e4ea0443f9789ea5276620fee",
            "placeholder": "​",
            "style": "IPY_MODEL_0e8f705994854302a5d602f61baed0ce",
            "value": " 68615/68615 [14:48&lt;00:00, 90.21 examples/s]"
          }
        },
        "feafc6bc6c5743b78f682f16f72cf629": {
          "model_module": "@jupyter-widgets/base",
          "model_name": "LayoutModel",
          "model_module_version": "1.2.0",
          "state": {
            "_model_module": "@jupyter-widgets/base",
            "_model_module_version": "1.2.0",
            "_model_name": "LayoutModel",
            "_view_count": null,
            "_view_module": "@jupyter-widgets/base",
            "_view_module_version": "1.2.0",
            "_view_name": "LayoutView",
            "align_content": null,
            "align_items": null,
            "align_self": null,
            "border": null,
            "bottom": null,
            "display": null,
            "flex": null,
            "flex_flow": null,
            "grid_area": null,
            "grid_auto_columns": null,
            "grid_auto_flow": null,
            "grid_auto_rows": null,
            "grid_column": null,
            "grid_gap": null,
            "grid_row": null,
            "grid_template_areas": null,
            "grid_template_columns": null,
            "grid_template_rows": null,
            "height": null,
            "justify_content": null,
            "justify_items": null,
            "left": null,
            "margin": null,
            "max_height": null,
            "max_width": null,
            "min_height": null,
            "min_width": null,
            "object_fit": null,
            "object_position": null,
            "order": null,
            "overflow": null,
            "overflow_x": null,
            "overflow_y": null,
            "padding": null,
            "right": null,
            "top": null,
            "visibility": null,
            "width": null
          }
        },
        "c8c291acf5d749cb9abd6fa810417dbf": {
          "model_module": "@jupyter-widgets/base",
          "model_name": "LayoutModel",
          "model_module_version": "1.2.0",
          "state": {
            "_model_module": "@jupyter-widgets/base",
            "_model_module_version": "1.2.0",
            "_model_name": "LayoutModel",
            "_view_count": null,
            "_view_module": "@jupyter-widgets/base",
            "_view_module_version": "1.2.0",
            "_view_name": "LayoutView",
            "align_content": null,
            "align_items": null,
            "align_self": null,
            "border": null,
            "bottom": null,
            "display": null,
            "flex": null,
            "flex_flow": null,
            "grid_area": null,
            "grid_auto_columns": null,
            "grid_auto_flow": null,
            "grid_auto_rows": null,
            "grid_column": null,
            "grid_gap": null,
            "grid_row": null,
            "grid_template_areas": null,
            "grid_template_columns": null,
            "grid_template_rows": null,
            "height": null,
            "justify_content": null,
            "justify_items": null,
            "left": null,
            "margin": null,
            "max_height": null,
            "max_width": null,
            "min_height": null,
            "min_width": null,
            "object_fit": null,
            "object_position": null,
            "order": null,
            "overflow": null,
            "overflow_x": null,
            "overflow_y": null,
            "padding": null,
            "right": null,
            "top": null,
            "visibility": null,
            "width": null
          }
        },
        "003922f4f6144fbc9d5329b02cf6bf48": {
          "model_module": "@jupyter-widgets/controls",
          "model_name": "DescriptionStyleModel",
          "model_module_version": "1.5.0",
          "state": {
            "_model_module": "@jupyter-widgets/controls",
            "_model_module_version": "1.5.0",
            "_model_name": "DescriptionStyleModel",
            "_view_count": null,
            "_view_module": "@jupyter-widgets/base",
            "_view_module_version": "1.2.0",
            "_view_name": "StyleView",
            "description_width": ""
          }
        },
        "c1617304d24d43d1a4bf308abb0a3c8e": {
          "model_module": "@jupyter-widgets/base",
          "model_name": "LayoutModel",
          "model_module_version": "1.2.0",
          "state": {
            "_model_module": "@jupyter-widgets/base",
            "_model_module_version": "1.2.0",
            "_model_name": "LayoutModel",
            "_view_count": null,
            "_view_module": "@jupyter-widgets/base",
            "_view_module_version": "1.2.0",
            "_view_name": "LayoutView",
            "align_content": null,
            "align_items": null,
            "align_self": null,
            "border": null,
            "bottom": null,
            "display": null,
            "flex": null,
            "flex_flow": null,
            "grid_area": null,
            "grid_auto_columns": null,
            "grid_auto_flow": null,
            "grid_auto_rows": null,
            "grid_column": null,
            "grid_gap": null,
            "grid_row": null,
            "grid_template_areas": null,
            "grid_template_columns": null,
            "grid_template_rows": null,
            "height": null,
            "justify_content": null,
            "justify_items": null,
            "left": null,
            "margin": null,
            "max_height": null,
            "max_width": null,
            "min_height": null,
            "min_width": null,
            "object_fit": null,
            "object_position": null,
            "order": null,
            "overflow": null,
            "overflow_x": null,
            "overflow_y": null,
            "padding": null,
            "right": null,
            "top": null,
            "visibility": null,
            "width": null
          }
        },
        "e04d9d374a8249299f0f4a8c4eff929c": {
          "model_module": "@jupyter-widgets/controls",
          "model_name": "ProgressStyleModel",
          "model_module_version": "1.5.0",
          "state": {
            "_model_module": "@jupyter-widgets/controls",
            "_model_module_version": "1.5.0",
            "_model_name": "ProgressStyleModel",
            "_view_count": null,
            "_view_module": "@jupyter-widgets/base",
            "_view_module_version": "1.2.0",
            "_view_name": "StyleView",
            "bar_color": null,
            "description_width": ""
          }
        },
        "0679be0e4ea0443f9789ea5276620fee": {
          "model_module": "@jupyter-widgets/base",
          "model_name": "LayoutModel",
          "model_module_version": "1.2.0",
          "state": {
            "_model_module": "@jupyter-widgets/base",
            "_model_module_version": "1.2.0",
            "_model_name": "LayoutModel",
            "_view_count": null,
            "_view_module": "@jupyter-widgets/base",
            "_view_module_version": "1.2.0",
            "_view_name": "LayoutView",
            "align_content": null,
            "align_items": null,
            "align_self": null,
            "border": null,
            "bottom": null,
            "display": null,
            "flex": null,
            "flex_flow": null,
            "grid_area": null,
            "grid_auto_columns": null,
            "grid_auto_flow": null,
            "grid_auto_rows": null,
            "grid_column": null,
            "grid_gap": null,
            "grid_row": null,
            "grid_template_areas": null,
            "grid_template_columns": null,
            "grid_template_rows": null,
            "height": null,
            "justify_content": null,
            "justify_items": null,
            "left": null,
            "margin": null,
            "max_height": null,
            "max_width": null,
            "min_height": null,
            "min_width": null,
            "object_fit": null,
            "object_position": null,
            "order": null,
            "overflow": null,
            "overflow_x": null,
            "overflow_y": null,
            "padding": null,
            "right": null,
            "top": null,
            "visibility": null,
            "width": null
          }
        },
        "0e8f705994854302a5d602f61baed0ce": {
          "model_module": "@jupyter-widgets/controls",
          "model_name": "DescriptionStyleModel",
          "model_module_version": "1.5.0",
          "state": {
            "_model_module": "@jupyter-widgets/controls",
            "_model_module_version": "1.5.0",
            "_model_name": "DescriptionStyleModel",
            "_view_count": null,
            "_view_module": "@jupyter-widgets/base",
            "_view_module_version": "1.2.0",
            "_view_name": "StyleView",
            "description_width": ""
          }
        },
        "d1cab9220641428ab84da4fd62139b6c": {
          "model_module": "@jupyter-widgets/controls",
          "model_name": "HBoxModel",
          "model_module_version": "1.5.0",
          "state": {
            "_dom_classes": [],
            "_model_module": "@jupyter-widgets/controls",
            "_model_module_version": "1.5.0",
            "_model_name": "HBoxModel",
            "_view_count": null,
            "_view_module": "@jupyter-widgets/controls",
            "_view_module_version": "1.5.0",
            "_view_name": "HBoxView",
            "box_style": "",
            "children": [
              "IPY_MODEL_2be1128e69d04391a2a8a91b9ff59bad",
              "IPY_MODEL_f5413cd635a64008bdfb9e27400ca7bb",
              "IPY_MODEL_b550d63e03c94a9facaa312328e4c519"
            ],
            "layout": "IPY_MODEL_d90f0a710d634be695467bcc222d9864"
          }
        },
        "2be1128e69d04391a2a8a91b9ff59bad": {
          "model_module": "@jupyter-widgets/controls",
          "model_name": "HTMLModel",
          "model_module_version": "1.5.0",
          "state": {
            "_dom_classes": [],
            "_model_module": "@jupyter-widgets/controls",
            "_model_module_version": "1.5.0",
            "_model_name": "HTMLModel",
            "_view_count": null,
            "_view_module": "@jupyter-widgets/controls",
            "_view_module_version": "1.5.0",
            "_view_name": "HTMLView",
            "description": "",
            "description_tooltip": null,
            "layout": "IPY_MODEL_0a1216157ba144a68ffff787b2094b1a",
            "placeholder": "​",
            "style": "IPY_MODEL_ae65f2df906d4696a9f770fd6d94fe2c",
            "value": "Saving the dataset (1/1 shards): 100%"
          }
        },
        "f5413cd635a64008bdfb9e27400ca7bb": {
          "model_module": "@jupyter-widgets/controls",
          "model_name": "FloatProgressModel",
          "model_module_version": "1.5.0",
          "state": {
            "_dom_classes": [],
            "_model_module": "@jupyter-widgets/controls",
            "_model_module_version": "1.5.0",
            "_model_name": "FloatProgressModel",
            "_view_count": null,
            "_view_module": "@jupyter-widgets/controls",
            "_view_module_version": "1.5.0",
            "_view_name": "ProgressView",
            "bar_style": "success",
            "description": "",
            "description_tooltip": null,
            "layout": "IPY_MODEL_a62896f85d254cc7b06d523573c03a23",
            "max": 68615,
            "min": 0,
            "orientation": "horizontal",
            "style": "IPY_MODEL_49fe1a5d72d043129d48747ed48cb7fa",
            "value": 68615
          }
        },
        "b550d63e03c94a9facaa312328e4c519": {
          "model_module": "@jupyter-widgets/controls",
          "model_name": "HTMLModel",
          "model_module_version": "1.5.0",
          "state": {
            "_dom_classes": [],
            "_model_module": "@jupyter-widgets/controls",
            "_model_module_version": "1.5.0",
            "_model_name": "HTMLModel",
            "_view_count": null,
            "_view_module": "@jupyter-widgets/controls",
            "_view_module_version": "1.5.0",
            "_view_name": "HTMLView",
            "description": "",
            "description_tooltip": null,
            "layout": "IPY_MODEL_90b59f50c73642baad1c72320c82c6b9",
            "placeholder": "​",
            "style": "IPY_MODEL_9fcdbc948e2248b3b011461fea37502f",
            "value": " 68615/68615 [00:00&lt;00:00, 175936.50 examples/s]"
          }
        },
        "d90f0a710d634be695467bcc222d9864": {
          "model_module": "@jupyter-widgets/base",
          "model_name": "LayoutModel",
          "model_module_version": "1.2.0",
          "state": {
            "_model_module": "@jupyter-widgets/base",
            "_model_module_version": "1.2.0",
            "_model_name": "LayoutModel",
            "_view_count": null,
            "_view_module": "@jupyter-widgets/base",
            "_view_module_version": "1.2.0",
            "_view_name": "LayoutView",
            "align_content": null,
            "align_items": null,
            "align_self": null,
            "border": null,
            "bottom": null,
            "display": null,
            "flex": null,
            "flex_flow": null,
            "grid_area": null,
            "grid_auto_columns": null,
            "grid_auto_flow": null,
            "grid_auto_rows": null,
            "grid_column": null,
            "grid_gap": null,
            "grid_row": null,
            "grid_template_areas": null,
            "grid_template_columns": null,
            "grid_template_rows": null,
            "height": null,
            "justify_content": null,
            "justify_items": null,
            "left": null,
            "margin": null,
            "max_height": null,
            "max_width": null,
            "min_height": null,
            "min_width": null,
            "object_fit": null,
            "object_position": null,
            "order": null,
            "overflow": null,
            "overflow_x": null,
            "overflow_y": null,
            "padding": null,
            "right": null,
            "top": null,
            "visibility": null,
            "width": null
          }
        },
        "0a1216157ba144a68ffff787b2094b1a": {
          "model_module": "@jupyter-widgets/base",
          "model_name": "LayoutModel",
          "model_module_version": "1.2.0",
          "state": {
            "_model_module": "@jupyter-widgets/base",
            "_model_module_version": "1.2.0",
            "_model_name": "LayoutModel",
            "_view_count": null,
            "_view_module": "@jupyter-widgets/base",
            "_view_module_version": "1.2.0",
            "_view_name": "LayoutView",
            "align_content": null,
            "align_items": null,
            "align_self": null,
            "border": null,
            "bottom": null,
            "display": null,
            "flex": null,
            "flex_flow": null,
            "grid_area": null,
            "grid_auto_columns": null,
            "grid_auto_flow": null,
            "grid_auto_rows": null,
            "grid_column": null,
            "grid_gap": null,
            "grid_row": null,
            "grid_template_areas": null,
            "grid_template_columns": null,
            "grid_template_rows": null,
            "height": null,
            "justify_content": null,
            "justify_items": null,
            "left": null,
            "margin": null,
            "max_height": null,
            "max_width": null,
            "min_height": null,
            "min_width": null,
            "object_fit": null,
            "object_position": null,
            "order": null,
            "overflow": null,
            "overflow_x": null,
            "overflow_y": null,
            "padding": null,
            "right": null,
            "top": null,
            "visibility": null,
            "width": null
          }
        },
        "ae65f2df906d4696a9f770fd6d94fe2c": {
          "model_module": "@jupyter-widgets/controls",
          "model_name": "DescriptionStyleModel",
          "model_module_version": "1.5.0",
          "state": {
            "_model_module": "@jupyter-widgets/controls",
            "_model_module_version": "1.5.0",
            "_model_name": "DescriptionStyleModel",
            "_view_count": null,
            "_view_module": "@jupyter-widgets/base",
            "_view_module_version": "1.2.0",
            "_view_name": "StyleView",
            "description_width": ""
          }
        },
        "a62896f85d254cc7b06d523573c03a23": {
          "model_module": "@jupyter-widgets/base",
          "model_name": "LayoutModel",
          "model_module_version": "1.2.0",
          "state": {
            "_model_module": "@jupyter-widgets/base",
            "_model_module_version": "1.2.0",
            "_model_name": "LayoutModel",
            "_view_count": null,
            "_view_module": "@jupyter-widgets/base",
            "_view_module_version": "1.2.0",
            "_view_name": "LayoutView",
            "align_content": null,
            "align_items": null,
            "align_self": null,
            "border": null,
            "bottom": null,
            "display": null,
            "flex": null,
            "flex_flow": null,
            "grid_area": null,
            "grid_auto_columns": null,
            "grid_auto_flow": null,
            "grid_auto_rows": null,
            "grid_column": null,
            "grid_gap": null,
            "grid_row": null,
            "grid_template_areas": null,
            "grid_template_columns": null,
            "grid_template_rows": null,
            "height": null,
            "justify_content": null,
            "justify_items": null,
            "left": null,
            "margin": null,
            "max_height": null,
            "max_width": null,
            "min_height": null,
            "min_width": null,
            "object_fit": null,
            "object_position": null,
            "order": null,
            "overflow": null,
            "overflow_x": null,
            "overflow_y": null,
            "padding": null,
            "right": null,
            "top": null,
            "visibility": null,
            "width": null
          }
        },
        "49fe1a5d72d043129d48747ed48cb7fa": {
          "model_module": "@jupyter-widgets/controls",
          "model_name": "ProgressStyleModel",
          "model_module_version": "1.5.0",
          "state": {
            "_model_module": "@jupyter-widgets/controls",
            "_model_module_version": "1.5.0",
            "_model_name": "ProgressStyleModel",
            "_view_count": null,
            "_view_module": "@jupyter-widgets/base",
            "_view_module_version": "1.2.0",
            "_view_name": "StyleView",
            "bar_color": null,
            "description_width": ""
          }
        },
        "90b59f50c73642baad1c72320c82c6b9": {
          "model_module": "@jupyter-widgets/base",
          "model_name": "LayoutModel",
          "model_module_version": "1.2.0",
          "state": {
            "_model_module": "@jupyter-widgets/base",
            "_model_module_version": "1.2.0",
            "_model_name": "LayoutModel",
            "_view_count": null,
            "_view_module": "@jupyter-widgets/base",
            "_view_module_version": "1.2.0",
            "_view_name": "LayoutView",
            "align_content": null,
            "align_items": null,
            "align_self": null,
            "border": null,
            "bottom": null,
            "display": null,
            "flex": null,
            "flex_flow": null,
            "grid_area": null,
            "grid_auto_columns": null,
            "grid_auto_flow": null,
            "grid_auto_rows": null,
            "grid_column": null,
            "grid_gap": null,
            "grid_row": null,
            "grid_template_areas": null,
            "grid_template_columns": null,
            "grid_template_rows": null,
            "height": null,
            "justify_content": null,
            "justify_items": null,
            "left": null,
            "margin": null,
            "max_height": null,
            "max_width": null,
            "min_height": null,
            "min_width": null,
            "object_fit": null,
            "object_position": null,
            "order": null,
            "overflow": null,
            "overflow_x": null,
            "overflow_y": null,
            "padding": null,
            "right": null,
            "top": null,
            "visibility": null,
            "width": null
          }
        },
        "9fcdbc948e2248b3b011461fea37502f": {
          "model_module": "@jupyter-widgets/controls",
          "model_name": "DescriptionStyleModel",
          "model_module_version": "1.5.0",
          "state": {
            "_model_module": "@jupyter-widgets/controls",
            "_model_module_version": "1.5.0",
            "_model_name": "DescriptionStyleModel",
            "_view_count": null,
            "_view_module": "@jupyter-widgets/base",
            "_view_module_version": "1.2.0",
            "_view_name": "StyleView",
            "description_width": ""
          }
        },
        "c9ea0bcf26bb4a5f82da9249623bab0f": {
          "model_module": "@jupyter-widgets/controls",
          "model_name": "HBoxModel",
          "model_module_version": "1.5.0",
          "state": {
            "_dom_classes": [],
            "_model_module": "@jupyter-widgets/controls",
            "_model_module_version": "1.5.0",
            "_model_name": "HBoxModel",
            "_view_count": null,
            "_view_module": "@jupyter-widgets/controls",
            "_view_module_version": "1.5.0",
            "_view_name": "HBoxView",
            "box_style": "",
            "children": [
              "IPY_MODEL_3ff6bc8be40743da9307ac1ee6b6b9d8",
              "IPY_MODEL_827de329f2d54392aedf505c73616096",
              "IPY_MODEL_d4b71c6c025049d59fad73c51ae3e829"
            ],
            "layout": "IPY_MODEL_033ad768ed9a4da982cb8a0b336fcb8e"
          }
        },
        "3ff6bc8be40743da9307ac1ee6b6b9d8": {
          "model_module": "@jupyter-widgets/controls",
          "model_name": "HTMLModel",
          "model_module_version": "1.5.0",
          "state": {
            "_dom_classes": [],
            "_model_module": "@jupyter-widgets/controls",
            "_model_module_version": "1.5.0",
            "_model_name": "HTMLModel",
            "_view_count": null,
            "_view_module": "@jupyter-widgets/controls",
            "_view_module_version": "1.5.0",
            "_view_name": "HTMLView",
            "description": "",
            "description_tooltip": null,
            "layout": "IPY_MODEL_32492021df104bff9ffd6a2cc1a81dc3",
            "placeholder": "​",
            "style": "IPY_MODEL_0b4ce452fc33491a9e365856ca668064",
            "value": "100%"
          }
        },
        "827de329f2d54392aedf505c73616096": {
          "model_module": "@jupyter-widgets/controls",
          "model_name": "FloatProgressModel",
          "model_module_version": "1.5.0",
          "state": {
            "_dom_classes": [],
            "_model_module": "@jupyter-widgets/controls",
            "_model_module_version": "1.5.0",
            "_model_name": "FloatProgressModel",
            "_view_count": null,
            "_view_module": "@jupyter-widgets/controls",
            "_view_module_version": "1.5.0",
            "_view_name": "ProgressView",
            "bar_style": "success",
            "description": "",
            "description_tooltip": null,
            "layout": "IPY_MODEL_bc76fd9ea62a45dc90afb2f70dd64091",
            "max": 69,
            "min": 0,
            "orientation": "horizontal",
            "style": "IPY_MODEL_5cdb340192bc410ca27e50a1ae2dcc0e",
            "value": 69
          }
        },
        "d4b71c6c025049d59fad73c51ae3e829": {
          "model_module": "@jupyter-widgets/controls",
          "model_name": "HTMLModel",
          "model_module_version": "1.5.0",
          "state": {
            "_dom_classes": [],
            "_model_module": "@jupyter-widgets/controls",
            "_model_module_version": "1.5.0",
            "_model_name": "HTMLModel",
            "_view_count": null,
            "_view_module": "@jupyter-widgets/controls",
            "_view_module_version": "1.5.0",
            "_view_name": "HTMLView",
            "description": "",
            "description_tooltip": null,
            "layout": "IPY_MODEL_686ab4f2b58b4732b8f843d0bff3f393",
            "placeholder": "​",
            "style": "IPY_MODEL_e10166015a1249dfaf3a41b64342a455",
            "value": " 69/69 [00:00&lt;00:00, 156.48it/s]"
          }
        },
        "033ad768ed9a4da982cb8a0b336fcb8e": {
          "model_module": "@jupyter-widgets/base",
          "model_name": "LayoutModel",
          "model_module_version": "1.2.0",
          "state": {
            "_model_module": "@jupyter-widgets/base",
            "_model_module_version": "1.2.0",
            "_model_name": "LayoutModel",
            "_view_count": null,
            "_view_module": "@jupyter-widgets/base",
            "_view_module_version": "1.2.0",
            "_view_name": "LayoutView",
            "align_content": null,
            "align_items": null,
            "align_self": null,
            "border": null,
            "bottom": null,
            "display": null,
            "flex": null,
            "flex_flow": null,
            "grid_area": null,
            "grid_auto_columns": null,
            "grid_auto_flow": null,
            "grid_auto_rows": null,
            "grid_column": null,
            "grid_gap": null,
            "grid_row": null,
            "grid_template_areas": null,
            "grid_template_columns": null,
            "grid_template_rows": null,
            "height": null,
            "justify_content": null,
            "justify_items": null,
            "left": null,
            "margin": null,
            "max_height": null,
            "max_width": null,
            "min_height": null,
            "min_width": null,
            "object_fit": null,
            "object_position": null,
            "order": null,
            "overflow": null,
            "overflow_x": null,
            "overflow_y": null,
            "padding": null,
            "right": null,
            "top": null,
            "visibility": null,
            "width": null
          }
        },
        "32492021df104bff9ffd6a2cc1a81dc3": {
          "model_module": "@jupyter-widgets/base",
          "model_name": "LayoutModel",
          "model_module_version": "1.2.0",
          "state": {
            "_model_module": "@jupyter-widgets/base",
            "_model_module_version": "1.2.0",
            "_model_name": "LayoutModel",
            "_view_count": null,
            "_view_module": "@jupyter-widgets/base",
            "_view_module_version": "1.2.0",
            "_view_name": "LayoutView",
            "align_content": null,
            "align_items": null,
            "align_self": null,
            "border": null,
            "bottom": null,
            "display": null,
            "flex": null,
            "flex_flow": null,
            "grid_area": null,
            "grid_auto_columns": null,
            "grid_auto_flow": null,
            "grid_auto_rows": null,
            "grid_column": null,
            "grid_gap": null,
            "grid_row": null,
            "grid_template_areas": null,
            "grid_template_columns": null,
            "grid_template_rows": null,
            "height": null,
            "justify_content": null,
            "justify_items": null,
            "left": null,
            "margin": null,
            "max_height": null,
            "max_width": null,
            "min_height": null,
            "min_width": null,
            "object_fit": null,
            "object_position": null,
            "order": null,
            "overflow": null,
            "overflow_x": null,
            "overflow_y": null,
            "padding": null,
            "right": null,
            "top": null,
            "visibility": null,
            "width": null
          }
        },
        "0b4ce452fc33491a9e365856ca668064": {
          "model_module": "@jupyter-widgets/controls",
          "model_name": "DescriptionStyleModel",
          "model_module_version": "1.5.0",
          "state": {
            "_model_module": "@jupyter-widgets/controls",
            "_model_module_version": "1.5.0",
            "_model_name": "DescriptionStyleModel",
            "_view_count": null,
            "_view_module": "@jupyter-widgets/base",
            "_view_module_version": "1.2.0",
            "_view_name": "StyleView",
            "description_width": ""
          }
        },
        "bc76fd9ea62a45dc90afb2f70dd64091": {
          "model_module": "@jupyter-widgets/base",
          "model_name": "LayoutModel",
          "model_module_version": "1.2.0",
          "state": {
            "_model_module": "@jupyter-widgets/base",
            "_model_module_version": "1.2.0",
            "_model_name": "LayoutModel",
            "_view_count": null,
            "_view_module": "@jupyter-widgets/base",
            "_view_module_version": "1.2.0",
            "_view_name": "LayoutView",
            "align_content": null,
            "align_items": null,
            "align_self": null,
            "border": null,
            "bottom": null,
            "display": null,
            "flex": null,
            "flex_flow": null,
            "grid_area": null,
            "grid_auto_columns": null,
            "grid_auto_flow": null,
            "grid_auto_rows": null,
            "grid_column": null,
            "grid_gap": null,
            "grid_row": null,
            "grid_template_areas": null,
            "grid_template_columns": null,
            "grid_template_rows": null,
            "height": null,
            "justify_content": null,
            "justify_items": null,
            "left": null,
            "margin": null,
            "max_height": null,
            "max_width": null,
            "min_height": null,
            "min_width": null,
            "object_fit": null,
            "object_position": null,
            "order": null,
            "overflow": null,
            "overflow_x": null,
            "overflow_y": null,
            "padding": null,
            "right": null,
            "top": null,
            "visibility": null,
            "width": null
          }
        },
        "5cdb340192bc410ca27e50a1ae2dcc0e": {
          "model_module": "@jupyter-widgets/controls",
          "model_name": "ProgressStyleModel",
          "model_module_version": "1.5.0",
          "state": {
            "_model_module": "@jupyter-widgets/controls",
            "_model_module_version": "1.5.0",
            "_model_name": "ProgressStyleModel",
            "_view_count": null,
            "_view_module": "@jupyter-widgets/base",
            "_view_module_version": "1.2.0",
            "_view_name": "StyleView",
            "bar_color": null,
            "description_width": ""
          }
        },
        "686ab4f2b58b4732b8f843d0bff3f393": {
          "model_module": "@jupyter-widgets/base",
          "model_name": "LayoutModel",
          "model_module_version": "1.2.0",
          "state": {
            "_model_module": "@jupyter-widgets/base",
            "_model_module_version": "1.2.0",
            "_model_name": "LayoutModel",
            "_view_count": null,
            "_view_module": "@jupyter-widgets/base",
            "_view_module_version": "1.2.0",
            "_view_name": "LayoutView",
            "align_content": null,
            "align_items": null,
            "align_self": null,
            "border": null,
            "bottom": null,
            "display": null,
            "flex": null,
            "flex_flow": null,
            "grid_area": null,
            "grid_auto_columns": null,
            "grid_auto_flow": null,
            "grid_auto_rows": null,
            "grid_column": null,
            "grid_gap": null,
            "grid_row": null,
            "grid_template_areas": null,
            "grid_template_columns": null,
            "grid_template_rows": null,
            "height": null,
            "justify_content": null,
            "justify_items": null,
            "left": null,
            "margin": null,
            "max_height": null,
            "max_width": null,
            "min_height": null,
            "min_width": null,
            "object_fit": null,
            "object_position": null,
            "order": null,
            "overflow": null,
            "overflow_x": null,
            "overflow_y": null,
            "padding": null,
            "right": null,
            "top": null,
            "visibility": null,
            "width": null
          }
        },
        "e10166015a1249dfaf3a41b64342a455": {
          "model_module": "@jupyter-widgets/controls",
          "model_name": "DescriptionStyleModel",
          "model_module_version": "1.5.0",
          "state": {
            "_model_module": "@jupyter-widgets/controls",
            "_model_module_version": "1.5.0",
            "_model_name": "DescriptionStyleModel",
            "_view_count": null,
            "_view_module": "@jupyter-widgets/base",
            "_view_module_version": "1.2.0",
            "_view_name": "StyleView",
            "description_width": ""
          }
        }
      }
    }
  },
  "nbformat": 4,
  "nbformat_minor": 5
}